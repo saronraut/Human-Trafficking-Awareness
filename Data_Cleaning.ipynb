{
 "cells": [
  {
   "cell_type": "code",
   "execution_count": 1,
   "metadata": {},
   "outputs": [],
   "source": [
    "# import directories\n",
    "%matplotlib notebook\n",
    "import os\n",
    "import csv\n",
    "import pandas as pd\n",
    "\n",
    "# create path for data file\n",
    "data_csv = os.path.join('data','human_trafficking.csv')\n",
    "country_csv = os.path.join('data','CountryCodes.csv')\n",
    "\n",
    "# use read_csv function from pandas directory to create a data frame\n",
    "data_df=pd.read_csv(data_csv, low_memory = False)\n",
    "country_df = pd.read_csv(country_csv)"
   ]
  },
  {
   "cell_type": "markdown",
   "metadata": {},
   "source": [
    "Clean Country Code CSV\n",
    " 1. shift rows that had commas in Country name\n",
    " 2. update Country name of shifted rows\n",
    " 3. drop empty column"
   ]
  },
  {
   "cell_type": "code",
   "execution_count": 2,
   "metadata": {},
   "outputs": [],
   "source": [
    "country_df['Unnamed: 16'] = country_df['Unnamed: 16'].fillna('0')"
   ]
  },
  {
   "cell_type": "code",
   "execution_count": 3,
   "metadata": {},
   "outputs": [],
   "source": [
    "country_df.loc[country_df['Unnamed: 16'] != '0', ['Country or Area', 'M49 Code',\n",
    "       'ISO-alpha2 Code', 'ISO-alpha3 Code', 'Least Developed Countries (LDC)',\n",
    "       'Land Locked Developing Countries (LLDC)',\n",
    "       'Small Island Developing States (SIDS)',\n",
    "       'Developed / Developing Countries', 'Unnamed: 16']] = country_df.loc[country_df['Unnamed: 16'] != '0', ['Country or Area', 'M49 Code',\n",
    "       'ISO-alpha2 Code', 'ISO-alpha3 Code', 'Least Developed Countries (LDC)',\n",
    "       'Land Locked Developing Countries (LLDC)',\n",
    "       'Small Island Developing States (SIDS)',\n",
    "       'Developed / Developing Countries', 'Unnamed: 16']].shift(periods=-1, axis=\"columns\")"
   ]
  },
  {
   "cell_type": "code",
   "execution_count": 4,
   "metadata": {},
   "outputs": [],
   "source": [
    "country_df.loc[country_df['ISO-alpha2 Code'] =='BQ', ['Country or Area']] = 'Bonarie; Sint Eustatius and Saba'\n",
    "country_df.loc[country_df['ISO-alpha2 Code'] =='HK', ['Country or Area']] = 'Hong Kong'\n",
    "country_df.loc[country_df['ISO-alpha2 Code'] =='MO', ['Country or Area']] = 'Macao'\n",
    "country_df.loc[country_df['Unnamed: 16'] != '0', :]\n",
    "\n",
    "country_df = country_df.drop(columns = 'Unnamed: 16')"
   ]
  },
  {
   "cell_type": "code",
   "execution_count": 5,
   "metadata": {},
   "outputs": [],
   "source": [
    "# reduce columns in country data frame\n",
    "country_df = country_df[['Region Name', 'Sub-region Name', 'Intermediate Region Name', 'Country or Area','ISO-alpha2 Code', 'ISO-alpha3 Code']]\n",
    "country_df = country_df.rename(columns = {'ISO-alpha2 Code': 'ISO Code'})"
   ]
  },
  {
   "cell_type": "code",
   "execution_count": 6,
   "metadata": {},
   "outputs": [],
   "source": [
    "# file path for clean country csv data\n",
    "cleanCountry_csv = os.path.join('Cleandata','CleanCountryCodes.csv')\n",
    "\n",
    "# write to csv\n",
    "country_df.to_csv(cleanCountry_csv, index=False, header=True)"
   ]
  },
  {
   "cell_type": "markdown",
   "metadata": {},
   "source": [
    "Clean Trafficking Data"
   ]
  },
  {
   "cell_type": "code",
   "execution_count": 7,
   "metadata": {},
   "outputs": [],
   "source": [
    "# data_df.groupby('yearOfRegistration').count()"
   ]
  },
  {
   "cell_type": "code",
   "execution_count": 8,
   "metadata": {},
   "outputs": [],
   "source": [
    "# because there are only 28 records for the year 2019, remove records\n",
    "data_df = data_df.loc[data_df['yearOfRegistration'] < 2019, :]"
   ]
  },
  {
   "cell_type": "code",
   "execution_count": 9,
   "metadata": {},
   "outputs": [],
   "source": [
    "# -99 is used when data is missing\n",
    "# for all the columns that use -99 as a string, replace the value with unknown\n",
    "data_df = data_df.replace('-99', 'unknown')\n",
    "\n",
    "# citizenship column also uses '00' which is not a valid country code\n",
    "data_df['citizenship'] = data_df['citizenship'].replace('00', 'unknown')\n",
    "\n",
    "# for all the columns that use -99 as a int, replace the value with unknown\n",
    "data_df = data_df.replace(-99, 0)"
   ]
  },
  {
   "cell_type": "code",
   "execution_count": 10,
   "metadata": {},
   "outputs": [],
   "source": [
    "# groom typeOfLabourConcatenated values\n",
    "# for those with a value & 'Not specified', remove 'Not specified'\n",
    "data_df['typeOfLabourConcatenated'] = data_df['typeOfLabourConcatenated'].replace('Other;Not specified', 'Other')\n",
    "data_df['typeOfLabourConcatenated'] = data_df['typeOfLabourConcatenated'].replace('Domestic work;Not specified', 'Domestic work')\n",
    "data_df['typeOfLabourConcatenated'] = data_df['typeOfLabourConcatenated'].replace('Construction;Not specified', 'Construction')\n",
    "data_df['typeOfLabourConcatenated'] = data_df['typeOfLabourConcatenated'].replace('Agriculture;Not specified', 'Agriculture')\n",
    "data_df['typeOfLabourConcatenated'] = data_df['typeOfLabourConcatenated'].replace('Domestic work;Other', 'Domestic work')\n",
    "\n",
    "# change 'Not specified' to 'unknown'\n",
    "data_df['typeOfLabourConcatenated'] = data_df['typeOfLabourConcatenated'].replace('Not specified', 'unknown')"
   ]
  },
  {
   "cell_type": "code",
   "execution_count": 11,
   "metadata": {},
   "outputs": [],
   "source": [
    "# groom typeOfExploitConcatenated values\n",
    "# replace Forced labour;Other with Forced labour\n",
    "data_df['typeOfExploitConcatenated'] = data_df['typeOfExploitConcatenated'].replace('Forced labour;Other', 'Forced labour')\n",
    "data_df['typeOfExploitConcatenated'] = data_df['typeOfExploitConcatenated'].replace('Forced labour;Sexual exploitation;Combined sexual and labour exploitation', 'Forced labour and Sexual exploitation')"
   ]
  },
  {
   "cell_type": "code",
   "execution_count": 12,
   "metadata": {},
   "outputs": [],
   "source": [
    "# merge country/region information for citizenship\n",
    "data_df = data_df.merge(country_df, how ='left', left_on='citizenship', right_on='ISO Code')\n",
    "\n",
    "# rename added columns\n",
    "data_df = data_df.rename(columns = {'Region Name': 'Citizenship Region',\n",
    "                                    'Sub-region Name': 'Citizenship Sub-Region',\n",
    "                                    'Intermediate Region Name': 'Citizenship Intermediate Region',\n",
    "                                    'Country or Area': 'Citizenship Country',\n",
    "                                    'ISO Code': 'Citizenship ISO Code',\n",
    "                                    'ISO-alpha3 Code': 'Citizenship ISO3 Code'})"
   ]
  },
  {
   "cell_type": "code",
   "execution_count": 13,
   "metadata": {},
   "outputs": [],
   "source": [
    "# merge country/region information for country of exploit\n",
    "data_df = data_df.merge(country_df, how ='left', left_on='CountryOfExploitation', right_on='ISO Code')\n",
    "\n",
    "data_df = data_df.rename(columns = {'Region Name': 'Exploit Region',\n",
    "                                    'Sub-region Name': 'Exploit Sub-Region',\n",
    "                                    'Intermediate Region Name': 'Exploit Intermediate Region',\n",
    "                                    'Country or Area': 'Exploit Country',\n",
    "                                    'ISO Code': 'Exploit ISO Code',\n",
    "                                    'ISO-alpha3 Code': 'Exploit ISO3 Code'})"
   ]
  },
  {
   "cell_type": "code",
   "execution_count": 14,
   "metadata": {},
   "outputs": [],
   "source": [
    "# where citizenship country is unknown - mark citizenship country data unknow\n",
    "data_df.loc[data_df['citizenship']=='unknown', ['Citizenship Region', 'Citizenship Sub-Region', \n",
    "                                                'Citizenship Intermediate Region',\n",
    "                                                'Citizenship Country']] = 'unknown'\n",
    "\n",
    "# where country of exploit is unknown - mark exploit country data unknow\n",
    "data_df.loc[data_df['CountryOfExploitation']=='unknown', ['Exploit Region', 'Exploit Sub-Region', \n",
    "                                                'Exploit Intermediate Region',\n",
    "                                                'Exploit Country']] = 'unknown'"
   ]
  },
  {
   "cell_type": "code",
   "execution_count": 15,
   "metadata": {},
   "outputs": [],
   "source": [
    "# remove extra data columns\n",
    "data_df = data_df.drop(columns = ['Citizenship ISO Code', 'Exploit ISO Code'])"
   ]
  },
  {
   "cell_type": "code",
   "execution_count": 16,
   "metadata": {},
   "outputs": [],
   "source": [
    "# export full cleaned data set w/merge\n",
    "cleanData_csv = os.path.join('Cleandata','CleanFullDataSet.csv')\n",
    "\n",
    "# write to csv\n",
    "data_df.to_csv(cleanData_csv, index=False, header=True)"
   ]
  },
  {
   "cell_type": "code",
   "execution_count": 17,
   "metadata": {},
   "outputs": [],
   "source": [
    "# create subsets of data for export\n",
    "labor_df = data_df[['yearOfRegistration', 'Datasource', 'gender', 'ageBroad',\n",
    "                    'majorityStatus', 'majorityStatusAtExploit', 'majorityEntry',\n",
    "                    'citizenship','Citizenship Region', 'Citizenship Sub-Region',\n",
    "                    'Citizenship Intermediate Region', 'Citizenship Country',\n",
    "                    'CountryOfExploitation', 'Exploit Region', 'Exploit Sub-Region',\n",
    "                    'Exploit Intermediate Region', 'Exploit Country',\n",
    "                    'typeOfLabourConcatenated','isForcedLabour', 'isSexualExploit',\n",
    "                    'isOtherExploit', 'isSexAndLabour',\n",
    "                    'isForcedMarriage', 'isForcedMilitary', 'isOrganRemoval',\n",
    "                    'isSlaveryAndPractices', 'typeOfExploitConcatenated',\n",
    "                    'typeOfLabourAgriculture', 'typeOfLabourAquafarming',\n",
    "                    'typeOfLabourBegging', 'typeOfLabourConstruction',\n",
    "                    'typeOfLabourDomesticWork', 'typeOfLabourHospitality',\n",
    "                    'typeOfLabourIllicitActivities', 'typeOfLabourManufacturing',\n",
    "                    'typeOfLabourMiningOrDrilling', 'typeOfLabourPeddling',\n",
    "                    'typeOfLabourTransportation', 'typeOfLabourOther','typeOfLabourNotSpecified']]\n"
   ]
  },
  {
   "cell_type": "code",
   "execution_count": 18,
   "metadata": {},
   "outputs": [],
   "source": [
    "sex_df = data_df[['yearOfRegistration', 'Datasource', 'gender', 'ageBroad',\n",
    "                  'majorityStatus', 'majorityStatusAtExploit', 'majorityEntry',\n",
    "                  'citizenship','Citizenship Region', 'Citizenship Sub-Region',\n",
    "                  'Citizenship Intermediate Region', 'Citizenship Country',\n",
    "                  'CountryOfExploitation', 'Exploit Region', 'Exploit Sub-Region',\n",
    "                  'Exploit Intermediate Region', 'Exploit Country','typeOfSexConcatenated',\n",
    "                  'typeOfSexProstitution', 'typeOfSexPornography','typeOfSexRemoteInteractiveServices',\n",
    "                  'typeOfSexPrivateSexualServices']]\n",
    "                  "
   ]
  },
  {
   "cell_type": "code",
   "execution_count": 19,
   "metadata": {},
   "outputs": [],
   "source": [
    "exploit_df = data_df[['yearOfRegistration', 'Datasource', 'gender', 'ageBroad',\n",
    "                      'majorityStatus', 'majorityStatusAtExploit', 'majorityEntry',\n",
    "                      'citizenship','Citizenship Region', 'Citizenship Sub-Region',\n",
    "                      'Citizenship Intermediate Region', 'Citizenship Country',\n",
    "                      'CountryOfExploitation', 'Exploit Region', 'Exploit Sub-Region',\n",
    "                      'Exploit Intermediate Region', 'Exploit Country','typeOfExploitConcatenated',\n",
    "                      'isForcedLabour', 'isSexualExploit', 'isOtherExploit',\n",
    "                      'isSexAndLabour','isForcedMarriage',\n",
    "                      'isForcedMilitary', 'isOrganRemoval','isSlaveryAndPractices']]"
   ]
  },
  {
   "cell_type": "code",
   "execution_count": 20,
   "metadata": {},
   "outputs": [],
   "source": [
    "control_df = data_df[['yearOfRegistration', 'Datasource', 'gender', 'ageBroad',\n",
    "                      'majorityStatus', 'majorityStatusAtExploit', 'majorityEntry',\n",
    "                      'citizenship','Citizenship Region', 'Citizenship Sub-Region',\n",
    "                      'Citizenship Intermediate Region', 'Citizenship Country',\n",
    "                      'CountryOfExploitation', 'Exploit Region', 'Exploit Sub-Region',\n",
    "                      'Exploit Intermediate Region', 'Exploit Country','meansOfControlConcatenated',\n",
    "                      'meansOfControlDebtBondage', 'meansOfControlTakesEarnings', \n",
    "                      'meansOfControlRestrictsFinancialAccess','meansOfControlThreats',\n",
    "                      'meansOfControlPsychologicalAbuse', 'meansOfControlPhysicalAbuse',\n",
    "                      'meansOfControlSexualAbuse', 'meansOfControlFalsePromises',\n",
    "                      'meansOfControlPsychoactiveSubstances', \n",
    "                      'meansOfControlRestrictsMovement', 'meansOfControlRestrictsMedicalCare', \n",
    "                      'meansOfControlExcessiveWorkingHours', 'meansOfControlUsesChildren',\n",
    "                      'meansOfControlThreatOfLawEnforcement','meansOfControlWithholdsNecessities',\n",
    "                      'meansOfControlWithholdsDocuments', 'meansOfControlOther','meansOfControlNotSpecified']]"
   ]
  },
  {
   "cell_type": "code",
   "execution_count": 21,
   "metadata": {},
   "outputs": [],
   "source": [
    "# export clean data sets\n",
    "LaborData_csv = os.path.join('Cleandata','CleanLaborSet.csv')\n",
    "SexData_csv = os.path.join('Cleandata','CleanSexSet.csv')\n",
    "ExploitData_csv = os.path.join('Cleandata','CleanExploitSet.csv')\n",
    "ControlData_csv = os.path.join('Cleandata','CleanControlSet.csv')\n",
    "\n",
    "# write to csv\n",
    "labor_df.to_csv(LaborData_csv, index=False, header=True)\n",
    "sex_df.to_csv(SexData_csv, index=False, header=True)\n",
    "exploit_df.to_csv(ExploitData_csv, index=False, header=True)\n",
    "control_df.to_csv(ControlData_csv, index=False, header=True)"
   ]
  },
  {
   "cell_type": "code",
   "execution_count": null,
   "metadata": {},
   "outputs": [],
   "source": []
  },
  {
   "cell_type": "markdown",
   "metadata": {},
   "source": [
    "Checking Unknown Counts"
   ]
  },
  {
   "cell_type": "code",
   "execution_count": 92,
   "metadata": {},
   "outputs": [],
   "source": [
    "citizenship_unknown = data_df.groupby('Citizenship Country').count()\n",
    "exploit_unknown = data_df.groupby('Exploit Country').count()\n",
    "age_unknown =data_df.groupby('ageBroad').count()"
   ]
  },
  {
   "cell_type": "code",
   "execution_count": 93,
   "metadata": {},
   "outputs": [],
   "source": [
    "citizenship_unknown = citizenship_unknown.reset_index()\n",
    "exploit_unknown = exploit_unknown.reset_index()\n",
    "age_unknown = age_unknown.reset_index()"
   ]
  },
  {
   "cell_type": "code",
   "execution_count": 94,
   "metadata": {},
   "outputs": [],
   "source": [
    "citizenship_unknown = citizenship_unknown.loc[citizenship_unknown['Citizenship Country']=='unknown']\n",
    "exploit_unknown = exploit_unknown.loc[exploit_unknown['Exploit Country']=='unknown']\n",
    "age_unknown = age_unknown.loc[age_unknown['ageBroad']=='unknown']\n"
   ]
  },
  {
   "cell_type": "code",
   "execution_count": 95,
   "metadata": {},
   "outputs": [],
   "source": [
    "citizenship_unknown = citizenship_unknown[['yearOfRegistration']]\n",
    "exploit_unknown = exploit_unknown[['yearOfRegistration']]\n",
    "age_unknown = age_unknown[['yearOfRegistration']]\n",
    "\n",
    "citizenship_unknown = citizenship_unknown.reset_index()\n",
    "exploit_unknown = exploit_unknown.reset_index()\n",
    "age_unknown = age_unknown.reset_index()"
   ]
  },
  {
   "cell_type": "code",
   "execution_count": 96,
   "metadata": {},
   "outputs": [
    {
     "data": {
      "text/plain": [
       "0    9136\n",
       "Name: yearOfRegistration, dtype: int64"
      ]
     },
     "execution_count": 96,
     "metadata": {},
     "output_type": "execute_result"
    }
   ],
   "source": [
    "citizenship_unknown = citizenship_unknown['yearOfRegistration']"
   ]
  },
  {
   "cell_type": "code",
   "execution_count": 97,
   "metadata": {},
   "outputs": [],
   "source": [
    "exploit_unknown= exploit_unknown['yearOfRegistration']"
   ]
  },
  {
   "cell_type": "code",
   "execution_count": 98,
   "metadata": {},
   "outputs": [],
   "source": [
    "age_unknown= age_unknown['yearOfRegistration']"
   ]
  },
  {
   "cell_type": "code",
   "execution_count": 101,
   "metadata": {},
   "outputs": [],
   "source": [
    "unknown_df = pd.DataFrame({'Citizenship': citizenship_unknown,\n",
    "                          'Exploit': exploit_unknown,\n",
    "                          'Age': age_unknown})"
   ]
  },
  {
   "cell_type": "code",
   "execution_count": 102,
   "metadata": {},
   "outputs": [
    {
     "data": {
      "text/html": [
       "<div>\n",
       "<style scoped>\n",
       "    .dataframe tbody tr th:only-of-type {\n",
       "        vertical-align: middle;\n",
       "    }\n",
       "\n",
       "    .dataframe tbody tr th {\n",
       "        vertical-align: top;\n",
       "    }\n",
       "\n",
       "    .dataframe thead th {\n",
       "        text-align: right;\n",
       "    }\n",
       "</style>\n",
       "<table border=\"1\" class=\"dataframe\">\n",
       "  <thead>\n",
       "    <tr style=\"text-align: right;\">\n",
       "      <th></th>\n",
       "      <th>Citizenship</th>\n",
       "      <th>Exploit</th>\n",
       "      <th>Age</th>\n",
       "    </tr>\n",
       "  </thead>\n",
       "  <tbody>\n",
       "    <tr>\n",
       "      <th>0</th>\n",
       "      <td>9136</td>\n",
       "      <td>10175</td>\n",
       "      <td>12348</td>\n",
       "    </tr>\n",
       "  </tbody>\n",
       "</table>\n",
       "</div>"
      ],
      "text/plain": [
       "   Citizenship  Exploit    Age\n",
       "0         9136    10175  12348"
      ]
     },
     "execution_count": 102,
     "metadata": {},
     "output_type": "execute_result"
    }
   ],
   "source": [
    "unknown_df"
   ]
  },
  {
   "cell_type": "code",
   "execution_count": null,
   "metadata": {},
   "outputs": [],
   "source": []
  }
 ],
 "metadata": {
  "kernelspec": {
   "display_name": "Python 3",
   "language": "python",
   "name": "python3"
  },
  "language_info": {
   "codemirror_mode": {
    "name": "ipython",
    "version": 3
   },
   "file_extension": ".py",
   "mimetype": "text/x-python",
   "name": "python",
   "nbconvert_exporter": "python",
   "pygments_lexer": "ipython3",
   "version": "3.8.3"
  }
 },
 "nbformat": 4,
 "nbformat_minor": 4
}
