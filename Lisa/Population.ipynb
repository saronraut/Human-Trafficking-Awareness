{
 "cells": [
  {
   "cell_type": "code",
   "execution_count": 90,
   "metadata": {},
   "outputs": [],
   "source": [
    "# Import Directories\n",
    "import pandas as pd\n",
    "import numpy as np\n",
    "import matplotlib.pyplot as plt\n",
    "import scipy.stats as st\n",
    "% matplotlib inline\n",
    "import os\n",
    "import csv\n",
    "\n",
    "# Create path for data file\n",
    "clean_file = os.path.join('..', 'cleanData', 'CleanFullDataSet.csv')\n",
    "\n",
    "# Use read_csv function \n",
    "clean_data = pd.read_csv(clean_file, low_memory = False)"
   ]
  },
  {
   "cell_type": "code",
   "execution_count": 91,
   "metadata": {},
   "outputs": [
    {
     "data": {
      "text/plain": [
       "Index(['yearOfRegistration', 'Datasource', 'gender', 'ageBroad',\n",
       "       'majorityStatus', 'majorityStatusAtExploit', 'majorityEntry',\n",
       "       'citizenship', 'meansOfControlDebtBondage',\n",
       "       'meansOfControlTakesEarnings', 'meansOfControlRestrictsFinancialAccess',\n",
       "       'meansOfControlThreats', 'meansOfControlPsychologicalAbuse',\n",
       "       'meansOfControlPhysicalAbuse', 'meansOfControlSexualAbuse',\n",
       "       'meansOfControlFalsePromises', 'meansOfControlPsychoactiveSubstances',\n",
       "       'meansOfControlRestrictsMovement', 'meansOfControlRestrictsMedicalCare',\n",
       "       'meansOfControlExcessiveWorkingHours', 'meansOfControlUsesChildren',\n",
       "       'meansOfControlThreatOfLawEnforcement',\n",
       "       'meansOfControlWithholdsNecessities',\n",
       "       'meansOfControlWithholdsDocuments', 'meansOfControlOther',\n",
       "       'meansOfControlNotSpecified', 'meansOfControlConcatenated',\n",
       "       'isForcedLabour', 'isSexualExploit', 'isOtherExploit', 'isSexAndLabour',\n",
       "       'isForcedMarriage', 'isForcedMilitary', 'isOrganRemoval',\n",
       "       'isSlaveryAndPractices', 'typeOfExploitConcatenated',\n",
       "       'typeOfLabourAgriculture', 'typeOfLabourAquafarming',\n",
       "       'typeOfLabourBegging', 'typeOfLabourConstruction',\n",
       "       'typeOfLabourDomesticWork', 'typeOfLabourHospitality',\n",
       "       'typeOfLabourIllicitActivities', 'typeOfLabourManufacturing',\n",
       "       'typeOfLabourMiningOrDrilling', 'typeOfLabourPeddling',\n",
       "       'typeOfLabourTransportation', 'typeOfLabourOther',\n",
       "       'typeOfLabourNotSpecified', 'typeOfLabourConcatenated',\n",
       "       'typeOfSexProstitution', 'typeOfSexPornography',\n",
       "       'typeOfSexRemoteInteractiveServices', 'typeOfSexPrivateSexualServices',\n",
       "       'typeOfSexConcatenated', 'isAbduction', 'RecruiterRelationship',\n",
       "       'CountryOfExploitation', 'recruiterRelationIntimatePartner',\n",
       "       'recruiterRelationFriend', 'recruiterRelationFamily',\n",
       "       'recruiterRelationOther', 'recruiterRelationUnknown',\n",
       "       'Citizenship Region', 'Citizenship Sub-Region',\n",
       "       'Citizenship Intermediate Region', 'Citizenship Country',\n",
       "       'Exploit Region', 'Exploit Sub-Region', 'Exploit Intermediate Region',\n",
       "       'Exploit Country'],\n",
       "      dtype='object')"
      ]
     },
     "execution_count": 91,
     "metadata": {},
     "output_type": "execute_result"
    }
   ],
   "source": [
    "# Check All Columns\n",
    "clean_data.columns"
   ]
  },
  {
   "cell_type": "code",
   "execution_count": 92,
   "metadata": {},
   "outputs": [
    {
     "data": {
      "text/html": [
       "<div>\n",
       "<style scoped>\n",
       "    .dataframe tbody tr th:only-of-type {\n",
       "        vertical-align: middle;\n",
       "    }\n",
       "\n",
       "    .dataframe tbody tr th {\n",
       "        vertical-align: top;\n",
       "    }\n",
       "\n",
       "    .dataframe thead th {\n",
       "        text-align: right;\n",
       "    }\n",
       "</style>\n",
       "<table border=\"1\" class=\"dataframe\">\n",
       "  <thead>\n",
       "    <tr style=\"text-align: right;\">\n",
       "      <th></th>\n",
       "      <th>Citizenship Country</th>\n",
       "      <th>Citizenship Region</th>\n",
       "      <th>Citizenship Sub-Region</th>\n",
       "      <th>Exploit Country</th>\n",
       "      <th>Exploit Region</th>\n",
       "      <th>Exploit Sub-Region</th>\n",
       "      <th>Exploit Intermediate Region</th>\n",
       "    </tr>\n",
       "  </thead>\n",
       "  <tbody>\n",
       "    <tr>\n",
       "      <th>0</th>\n",
       "      <td>Colombia</td>\n",
       "      <td>Americas</td>\n",
       "      <td>Latin America and the Caribbean</td>\n",
       "      <td>unknown</td>\n",
       "      <td>unknown</td>\n",
       "      <td>unknown</td>\n",
       "      <td>unknown</td>\n",
       "    </tr>\n",
       "    <tr>\n",
       "      <th>1</th>\n",
       "      <td>Colombia</td>\n",
       "      <td>Americas</td>\n",
       "      <td>Latin America and the Caribbean</td>\n",
       "      <td>unknown</td>\n",
       "      <td>unknown</td>\n",
       "      <td>unknown</td>\n",
       "      <td>unknown</td>\n",
       "    </tr>\n",
       "    <tr>\n",
       "      <th>2</th>\n",
       "      <td>Colombia</td>\n",
       "      <td>Americas</td>\n",
       "      <td>Latin America and the Caribbean</td>\n",
       "      <td>unknown</td>\n",
       "      <td>unknown</td>\n",
       "      <td>unknown</td>\n",
       "      <td>unknown</td>\n",
       "    </tr>\n",
       "    <tr>\n",
       "      <th>3</th>\n",
       "      <td>Colombia</td>\n",
       "      <td>Americas</td>\n",
       "      <td>Latin America and the Caribbean</td>\n",
       "      <td>unknown</td>\n",
       "      <td>unknown</td>\n",
       "      <td>unknown</td>\n",
       "      <td>unknown</td>\n",
       "    </tr>\n",
       "    <tr>\n",
       "      <th>4</th>\n",
       "      <td>Colombia</td>\n",
       "      <td>Americas</td>\n",
       "      <td>Latin America and the Caribbean</td>\n",
       "      <td>unknown</td>\n",
       "      <td>unknown</td>\n",
       "      <td>unknown</td>\n",
       "      <td>unknown</td>\n",
       "    </tr>\n",
       "  </tbody>\n",
       "</table>\n",
       "</div>"
      ],
      "text/plain": [
       "  Citizenship Country Citizenship Region           Citizenship Sub-Region  \\\n",
       "0            Colombia           Americas  Latin America and the Caribbean   \n",
       "1            Colombia           Americas  Latin America and the Caribbean   \n",
       "2            Colombia           Americas  Latin America and the Caribbean   \n",
       "3            Colombia           Americas  Latin America and the Caribbean   \n",
       "4            Colombia           Americas  Latin America and the Caribbean   \n",
       "\n",
       "  Exploit Country Exploit Region Exploit Sub-Region  \\\n",
       "0         unknown        unknown            unknown   \n",
       "1         unknown        unknown            unknown   \n",
       "2         unknown        unknown            unknown   \n",
       "3         unknown        unknown            unknown   \n",
       "4         unknown        unknown            unknown   \n",
       "\n",
       "  Exploit Intermediate Region  \n",
       "0                     unknown  \n",
       "1                     unknown  \n",
       "2                     unknown  \n",
       "3                     unknown  \n",
       "4                     unknown  "
      ]
     },
     "execution_count": 92,
     "metadata": {},
     "output_type": "execute_result"
    }
   ],
   "source": [
    "# Display Relevant Population Columns\n",
    "exploring_columns_df = pd.DataFrame(clean_data[['Citizenship Country', 'Citizenship Region', 'Citizenship Sub-Region', 'Exploit Country', 'Exploit Region', 'Exploit Sub-Region', 'Exploit Intermediate Region']])\n",
    "exploring_columns_df.head(5)"
   ]
  },
  {
   "cell_type": "code",
   "execution_count": 93,
   "metadata": {},
   "outputs": [
    {
     "data": {
      "text/plain": [
       "Citizenship Country            45\n",
       "Citizenship Region              5\n",
       "Citizenship Sub-Region         10\n",
       "Exploit Country                58\n",
       "Exploit Region                  5\n",
       "Exploit Sub-Region             14\n",
       "Exploit Intermediate Region     6\n",
       "dtype: int64"
      ]
     },
     "execution_count": 93,
     "metadata": {},
     "output_type": "execute_result"
    }
   ],
   "source": [
    "# Checking Relevant Column Totals\n",
    "exploring_columns_df.nunique()"
   ]
  },
  {
   "cell_type": "code",
   "execution_count": 94,
   "metadata": {},
   "outputs": [
    {
     "data": {
      "text/html": [
       "<div>\n",
       "<style scoped>\n",
       "    .dataframe tbody tr th:only-of-type {\n",
       "        vertical-align: middle;\n",
       "    }\n",
       "\n",
       "    .dataframe tbody tr th {\n",
       "        vertical-align: top;\n",
       "    }\n",
       "\n",
       "    .dataframe thead th {\n",
       "        text-align: right;\n",
       "    }\n",
       "</style>\n",
       "<table border=\"1\" class=\"dataframe\">\n",
       "  <thead>\n",
       "    <tr style=\"text-align: right;\">\n",
       "      <th></th>\n",
       "      <th>Citizenship Country</th>\n",
       "      <th>Exploit Country</th>\n",
       "    </tr>\n",
       "  </thead>\n",
       "  <tbody>\n",
       "    <tr>\n",
       "      <th>0</th>\n",
       "      <td>Colombia</td>\n",
       "      <td>unknown</td>\n",
       "    </tr>\n",
       "    <tr>\n",
       "      <th>1</th>\n",
       "      <td>Colombia</td>\n",
       "      <td>unknown</td>\n",
       "    </tr>\n",
       "    <tr>\n",
       "      <th>2</th>\n",
       "      <td>Colombia</td>\n",
       "      <td>unknown</td>\n",
       "    </tr>\n",
       "    <tr>\n",
       "      <th>3</th>\n",
       "      <td>Colombia</td>\n",
       "      <td>unknown</td>\n",
       "    </tr>\n",
       "    <tr>\n",
       "      <th>4</th>\n",
       "      <td>Colombia</td>\n",
       "      <td>unknown</td>\n",
       "    </tr>\n",
       "  </tbody>\n",
       "</table>\n",
       "</div>"
      ],
      "text/plain": [
       "  Citizenship Country Exploit Country\n",
       "0            Colombia         unknown\n",
       "1            Colombia         unknown\n",
       "2            Colombia         unknown\n",
       "3            Colombia         unknown\n",
       "4            Colombia         unknown"
      ]
     },
     "execution_count": 94,
     "metadata": {},
     "output_type": "execute_result"
    }
   ],
   "source": [
    "# Narrow Down Scope\n",
    "countries_df = pd.DataFrame(clean_data[['Citizenship Country', 'Exploit Country']])\n",
    "countries_df.head(5)"
   ]
  },
  {
   "cell_type": "code",
   "execution_count": 95,
   "metadata": {},
   "outputs": [
    {
     "data": {
      "text/plain": [
       "Philippines                         11365\n",
       "unknown                              9136\n",
       "Ukraine                              7761\n",
       "Republic of Moldova                  5901\n",
       "United States of America             3636\n",
       "Cambodia                             1979\n",
       "Indonesia                            1971\n",
       "Belarus                              1463\n",
       "Myanmar                              1250\n",
       "Romania                               655\n",
       "Ghana                                 544\n",
       "Kyrgyzstan                            437\n",
       "Bulgaria                              342\n",
       "Haiti                                 339\n",
       "Uzbekistan                            261\n",
       "Viet Nam                              170\n",
       "Guinea-Bissau                         145\n",
       "Lao People's Democratic Republic      126\n",
       "Colombia                              124\n",
       "Nigeria                               108\n",
       "Afghanistan                            97\n",
       "Madagascar                             94\n",
       "Sri Lanka                              85\n",
       "Sierra Leone                           81\n",
       "Uganda                                 70\n",
       "Senegal                                70\n",
       "Thailand                               55\n",
       "Kazakhstan                             54\n",
       "Democratic Republic of the Congo       53\n",
       "Mali                                   45\n",
       "Tajikistan                             43\n",
       "Burkina Faso                           33\n",
       "Kenya                                  32\n",
       "Côte d’Ivoire                          31\n",
       "Niger                                  31\n",
       "Nepal                                  27\n",
       "Turkmenistan                           26\n",
       "China                                  23\n",
       "Albania                                22\n",
       "Mexico                                 19\n",
       "Bolivia (Plurinational State of)       18\n",
       "Guinea                                 15\n",
       "Eritrea                                13\n",
       "Republic of Korea                      12\n",
       "Bangladesh                             11\n",
       "Name: Citizenship Country, dtype: int64"
      ]
     },
     "execution_count": 95,
     "metadata": {},
     "output_type": "execute_result"
    }
   ],
   "source": [
    "# Showing Breakdown of Total Cases In Citizenship Countries\n",
    "countries_df['Citizenship Country'].value_counts()"
   ]
  },
  {
   "cell_type": "code",
   "execution_count": 125,
   "metadata": {},
   "outputs": [
    {
     "data": {
      "text/html": [
       "<div>\n",
       "<style scoped>\n",
       "    .dataframe tbody tr th:only-of-type {\n",
       "        vertical-align: middle;\n",
       "    }\n",
       "\n",
       "    .dataframe tbody tr th {\n",
       "        vertical-align: top;\n",
       "    }\n",
       "\n",
       "    .dataframe thead th {\n",
       "        text-align: right;\n",
       "    }\n",
       "</style>\n",
       "<table border=\"1\" class=\"dataframe\">\n",
       "  <thead>\n",
       "    <tr style=\"text-align: right;\">\n",
       "      <th></th>\n",
       "      <th>Country</th>\n",
       "      <th>Total Cases</th>\n",
       "    </tr>\n",
       "  </thead>\n",
       "  <tbody>\n",
       "    <tr>\n",
       "      <th>0</th>\n",
       "      <td>Philippines</td>\n",
       "      <td>11365</td>\n",
       "    </tr>\n",
       "    <tr>\n",
       "      <th>1</th>\n",
       "      <td>unknown</td>\n",
       "      <td>9136</td>\n",
       "    </tr>\n",
       "    <tr>\n",
       "      <th>2</th>\n",
       "      <td>Ukraine</td>\n",
       "      <td>7761</td>\n",
       "    </tr>\n",
       "    <tr>\n",
       "      <th>3</th>\n",
       "      <td>Republic of Moldova</td>\n",
       "      <td>5901</td>\n",
       "    </tr>\n",
       "    <tr>\n",
       "      <th>4</th>\n",
       "      <td>United States of America</td>\n",
       "      <td>3636</td>\n",
       "    </tr>\n",
       "  </tbody>\n",
       "</table>\n",
       "</div>"
      ],
      "text/plain": [
       "                    Country  Total Cases\n",
       "0               Philippines        11365\n",
       "1                   unknown         9136\n",
       "2                   Ukraine         7761\n",
       "3       Republic of Moldova         5901\n",
       "4  United States of America         3636"
      ]
     },
     "execution_count": 125,
     "metadata": {},
     "output_type": "execute_result"
    }
   ],
   "source": [
    "# Creating Header Names\n",
    "citizenship_counts = countries_df['Citizenship Country'].value_counts().rename_axis('Country').reset_index(name = 'Total Cases')\n",
    "citizenship_counts.head(5)"
   ]
  },
  {
   "cell_type": "code",
   "execution_count": 97,
   "metadata": {},
   "outputs": [
    {
     "data": {
      "text/plain": [
       "United States of America    12512\n",
       "unknown                     10175\n",
       "Ukraine                      5399\n",
       "Republic of Moldova          4504\n",
       "Russian Federation           2738\n",
       "Philippines                  1988\n",
       "Indonesia                    1777\n",
       "Cambodia                     1000\n",
       "Malaysia                      930\n",
       "Ghana                         544\n",
       "United Arab Emirates          504\n",
       "Belarus                       400\n",
       "Thailand                      391\n",
       "Senegal                       370\n",
       "Bulgaria                      356\n",
       "Haiti                         339\n",
       "Poland                        326\n",
       "Saudi Arabia                  278\n",
       "Romania                       259\n",
       "Serbia                        248\n",
       "Qatar                         239\n",
       "Kazakhstan                    222\n",
       "Kuwait                        209\n",
       "Turkey                        197\n",
       "North Macedonia               194\n",
       "Uzbekistan                    193\n",
       "Bosnia and Herzegovina        127\n",
       "Uganda                        123\n",
       "Japan                         111\n",
       "Jordan                        108\n",
       "Oman                           94\n",
       "Madagascar                     94\n",
       "Trinidad and Tobago            85\n",
       "Afghanistan                    83\n",
       "Sierra Leone                   81\n",
       "China                          79\n",
       "Lebanon                        73\n",
       "Tajikistan                     54\n",
       "India                          46\n",
       "Syrian Arab Republic           41\n",
       "Czechia                        38\n",
       "Singapore                      37\n",
       "South Africa                   36\n",
       "Hong Kong                      31\n",
       "Bangladesh                     26\n",
       "Turkmenistan                   26\n",
       "Austria                        24\n",
       "Italy                          24\n",
       "Bahrain                        22\n",
       "Albania                        22\n",
       "Mauritius                      20\n",
       "Argentina                      18\n",
       "Denmark                        17\n",
       "Viet Nam                       16\n",
       "Ecuador                        13\n",
       "Egypt                          13\n",
       "Cyprus                         11\n",
       "Libya                          11\n",
       "Name: Exploit Country, dtype: int64"
      ]
     },
     "execution_count": 97,
     "metadata": {},
     "output_type": "execute_result"
    }
   ],
   "source": [
    "# Showing Breakdown of Total Cases In Exploit Countries\n",
    "countries_df['Exploit Country'].value_counts()"
   ]
  },
  {
   "cell_type": "code",
   "execution_count": 126,
   "metadata": {
    "scrolled": true
   },
   "outputs": [
    {
     "data": {
      "text/html": [
       "<div>\n",
       "<style scoped>\n",
       "    .dataframe tbody tr th:only-of-type {\n",
       "        vertical-align: middle;\n",
       "    }\n",
       "\n",
       "    .dataframe tbody tr th {\n",
       "        vertical-align: top;\n",
       "    }\n",
       "\n",
       "    .dataframe thead th {\n",
       "        text-align: right;\n",
       "    }\n",
       "</style>\n",
       "<table border=\"1\" class=\"dataframe\">\n",
       "  <thead>\n",
       "    <tr style=\"text-align: right;\">\n",
       "      <th></th>\n",
       "      <th>Country</th>\n",
       "      <th>Total Cases</th>\n",
       "    </tr>\n",
       "  </thead>\n",
       "  <tbody>\n",
       "    <tr>\n",
       "      <th>0</th>\n",
       "      <td>United States of America</td>\n",
       "      <td>12512</td>\n",
       "    </tr>\n",
       "    <tr>\n",
       "      <th>1</th>\n",
       "      <td>unknown</td>\n",
       "      <td>10175</td>\n",
       "    </tr>\n",
       "    <tr>\n",
       "      <th>2</th>\n",
       "      <td>Ukraine</td>\n",
       "      <td>5399</td>\n",
       "    </tr>\n",
       "    <tr>\n",
       "      <th>3</th>\n",
       "      <td>Republic of Moldova</td>\n",
       "      <td>4504</td>\n",
       "    </tr>\n",
       "    <tr>\n",
       "      <th>4</th>\n",
       "      <td>Russian Federation</td>\n",
       "      <td>2738</td>\n",
       "    </tr>\n",
       "  </tbody>\n",
       "</table>\n",
       "</div>"
      ],
      "text/plain": [
       "                    Country  Total Cases\n",
       "0  United States of America        12512\n",
       "1                   unknown        10175\n",
       "2                   Ukraine         5399\n",
       "3       Republic of Moldova         4504\n",
       "4        Russian Federation         2738"
      ]
     },
     "execution_count": 126,
     "metadata": {},
     "output_type": "execute_result"
    }
   ],
   "source": [
    "# Creating Header Names\n",
    "exploit_counts = countries_df['Exploit Country'].value_counts().rename_axis('Country').reset_index(name = 'Total Cases')\n",
    "exploit_counts.head(5)"
   ]
  },
  {
   "cell_type": "code",
   "execution_count": 99,
   "metadata": {},
   "outputs": [],
   "source": [
    "# Data File for Population Density\n",
    "population_file = os.path.join('..', 'data', 'Population_Density.csv')\n",
    "\n",
    "# Read Data File\n",
    "population_density_data = pd.read_csv(population_file, encoding = 'latin-1')\n",
    "\n",
    "# https://worldpopulationreview.com/country-rankings/countries-by-density"
   ]
  },
  {
   "cell_type": "code",
   "execution_count": 100,
   "metadata": {},
   "outputs": [
    {
     "data": {
      "text/plain": [
       "Index(['country', 'density (km^2)', 'pop2020', 'area (km^2)'], dtype='object')"
      ]
     },
     "execution_count": 100,
     "metadata": {},
     "output_type": "execute_result"
    }
   ],
   "source": [
    "# Display Population DataFrame\n",
    "\n",
    "population_density_data.columns"
   ]
  },
  {
   "cell_type": "code",
   "execution_count": 101,
   "metadata": {},
   "outputs": [
    {
     "data": {
      "text/html": [
       "<div>\n",
       "<style scoped>\n",
       "    .dataframe tbody tr th:only-of-type {\n",
       "        vertical-align: middle;\n",
       "    }\n",
       "\n",
       "    .dataframe tbody tr th {\n",
       "        vertical-align: top;\n",
       "    }\n",
       "\n",
       "    .dataframe thead th {\n",
       "        text-align: right;\n",
       "    }\n",
       "</style>\n",
       "<table border=\"1\" class=\"dataframe\">\n",
       "  <thead>\n",
       "    <tr style=\"text-align: right;\">\n",
       "      <th></th>\n",
       "      <th>Country</th>\n",
       "      <th>Density (km²)</th>\n",
       "      <th>Population</th>\n",
       "      <th>Area (km²)</th>\n",
       "    </tr>\n",
       "  </thead>\n",
       "  <tbody>\n",
       "    <tr>\n",
       "      <th>0</th>\n",
       "      <td>Singapore</td>\n",
       "      <td>8239.9183</td>\n",
       "      <td>5850.342</td>\n",
       "      <td>710</td>\n",
       "    </tr>\n",
       "    <tr>\n",
       "      <th>1</th>\n",
       "      <td>Hong Kong</td>\n",
       "      <td>6790.7437</td>\n",
       "      <td>7496.981</td>\n",
       "      <td>1104</td>\n",
       "    </tr>\n",
       "    <tr>\n",
       "      <th>2</th>\n",
       "      <td>Bahrain</td>\n",
       "      <td>2224.2810</td>\n",
       "      <td>1701.575</td>\n",
       "      <td>765</td>\n",
       "    </tr>\n",
       "    <tr>\n",
       "      <th>3</th>\n",
       "      <td>Bangladesh</td>\n",
       "      <td>1116.0086</td>\n",
       "      <td>164689.383</td>\n",
       "      <td>147570</td>\n",
       "    </tr>\n",
       "    <tr>\n",
       "      <th>4</th>\n",
       "      <td>Lebanon</td>\n",
       "      <td>653.0277</td>\n",
       "      <td>6825.445</td>\n",
       "      <td>10452</td>\n",
       "    </tr>\n",
       "  </tbody>\n",
       "</table>\n",
       "</div>"
      ],
      "text/plain": [
       "      Country  Density (km²)  Population  Area (km²)\n",
       "0   Singapore      8239.9183    5850.342         710\n",
       "1   Hong Kong      6790.7437    7496.981        1104\n",
       "2     Bahrain      2224.2810    1701.575         765\n",
       "3  Bangladesh      1116.0086  164689.383      147570\n",
       "4     Lebanon       653.0277    6825.445       10452"
      ]
     },
     "execution_count": 101,
     "metadata": {},
     "output_type": "execute_result"
    }
   ],
   "source": [
    "# Rename Population_Density.csv Columns\n",
    "\n",
    "population_density_data_renamed = population_density_data.rename(columns = {'country' : 'Country', 'density (km^2)' : 'Density (km²)', 'pop2020' : 'Population', 'area (km^2)' : 'Area (km²)'})\n",
    "population_density_data_renamed.head(5)"
   ]
  },
  {
   "cell_type": "code",
   "execution_count": 102,
   "metadata": {},
   "outputs": [
    {
     "data": {
      "text/plain": [
       "Index(['Country', 'Total Cases'], dtype='object')"
      ]
     },
     "execution_count": 102,
     "metadata": {},
     "output_type": "execute_result"
    }
   ],
   "source": [
    "citizenship_counts.columns"
   ]
  },
  {
   "cell_type": "code",
   "execution_count": 103,
   "metadata": {},
   "outputs": [
    {
     "data": {
      "text/plain": [
       "Index(['Country', 'Total Cases'], dtype='object')"
      ]
     },
     "execution_count": 103,
     "metadata": {},
     "output_type": "execute_result"
    }
   ],
   "source": [
    "exploit_counts.columns"
   ]
  },
  {
   "cell_type": "code",
   "execution_count": 124,
   "metadata": {},
   "outputs": [
    {
     "data": {
      "text/html": [
       "<div>\n",
       "<style scoped>\n",
       "    .dataframe tbody tr th:only-of-type {\n",
       "        vertical-align: middle;\n",
       "    }\n",
       "\n",
       "    .dataframe tbody tr th {\n",
       "        vertical-align: top;\n",
       "    }\n",
       "\n",
       "    .dataframe thead th {\n",
       "        text-align: right;\n",
       "    }\n",
       "</style>\n",
       "<table border=\"1\" class=\"dataframe\">\n",
       "  <thead>\n",
       "    <tr style=\"text-align: right;\">\n",
       "      <th></th>\n",
       "      <th>Country</th>\n",
       "      <th>Total Cases</th>\n",
       "      <th>Density (km²)</th>\n",
       "      <th>Population</th>\n",
       "      <th>Area (km²)</th>\n",
       "    </tr>\n",
       "  </thead>\n",
       "  <tbody>\n",
       "    <tr>\n",
       "      <th>0</th>\n",
       "      <td>Philippines</td>\n",
       "      <td>11365</td>\n",
       "      <td>320.0821</td>\n",
       "      <td>109581.078</td>\n",
       "      <td>342353</td>\n",
       "    </tr>\n",
       "    <tr>\n",
       "      <th>1</th>\n",
       "      <td>Ukraine</td>\n",
       "      <td>7761</td>\n",
       "      <td>72.4669</td>\n",
       "      <td>43733.762</td>\n",
       "      <td>603500</td>\n",
       "    </tr>\n",
       "    <tr>\n",
       "      <th>2</th>\n",
       "      <td>Republic of Moldova</td>\n",
       "      <td>5901</td>\n",
       "      <td>119.1858</td>\n",
       "      <td>4033.963</td>\n",
       "      <td>33846</td>\n",
       "    </tr>\n",
       "    <tr>\n",
       "      <th>3</th>\n",
       "      <td>United States of America</td>\n",
       "      <td>3636</td>\n",
       "      <td>35.3160</td>\n",
       "      <td>331002.651</td>\n",
       "      <td>9372610</td>\n",
       "    </tr>\n",
       "    <tr>\n",
       "      <th>4</th>\n",
       "      <td>Cambodia</td>\n",
       "      <td>1979</td>\n",
       "      <td>92.3521</td>\n",
       "      <td>16718.965</td>\n",
       "      <td>181035</td>\n",
       "    </tr>\n",
       "  </tbody>\n",
       "</table>\n",
       "</div>"
      ],
      "text/plain": [
       "                    Country  Total Cases  Density (km²)  Population  \\\n",
       "0               Philippines        11365       320.0821  109581.078   \n",
       "1                   Ukraine         7761        72.4669   43733.762   \n",
       "2       Republic of Moldova         5901       119.1858    4033.963   \n",
       "3  United States of America         3636        35.3160  331002.651   \n",
       "4                  Cambodia         1979        92.3521   16718.965   \n",
       "\n",
       "   Area (km²)  \n",
       "0      342353  \n",
       "1      603500  \n",
       "2       33846  \n",
       "3     9372610  \n",
       "4      181035  "
      ]
     },
     "execution_count": 124,
     "metadata": {},
     "output_type": "execute_result"
    }
   ],
   "source": [
    "# Merge Population & Citizenship Country \n",
    "citizenship_density_merged = pd.merge(citizenship_counts, population_density_data_renamed)\n",
    "citizenship_density_merged.head(5)"
   ]
  },
  {
   "cell_type": "code",
   "execution_count": 106,
   "metadata": {},
   "outputs": [
    {
     "data": {
      "text/html": [
       "<div>\n",
       "<style scoped>\n",
       "    .dataframe tbody tr th:only-of-type {\n",
       "        vertical-align: middle;\n",
       "    }\n",
       "\n",
       "    .dataframe tbody tr th {\n",
       "        vertical-align: top;\n",
       "    }\n",
       "\n",
       "    .dataframe thead th {\n",
       "        text-align: right;\n",
       "    }\n",
       "</style>\n",
       "<table border=\"1\" class=\"dataframe\">\n",
       "  <thead>\n",
       "    <tr style=\"text-align: right;\">\n",
       "      <th></th>\n",
       "      <th>Citizenship Country</th>\n",
       "      <th>Total Cases</th>\n",
       "      <th>Density (km²)</th>\n",
       "      <th>Population</th>\n",
       "      <th>Area (km²)</th>\n",
       "    </tr>\n",
       "  </thead>\n",
       "  <tbody>\n",
       "    <tr>\n",
       "      <th>0</th>\n",
       "      <td>Philippines</td>\n",
       "      <td>11365</td>\n",
       "      <td>320.0821</td>\n",
       "      <td>109581.078</td>\n",
       "      <td>342353</td>\n",
       "    </tr>\n",
       "    <tr>\n",
       "      <th>1</th>\n",
       "      <td>Ukraine</td>\n",
       "      <td>7761</td>\n",
       "      <td>72.4669</td>\n",
       "      <td>43733.762</td>\n",
       "      <td>603500</td>\n",
       "    </tr>\n",
       "    <tr>\n",
       "      <th>2</th>\n",
       "      <td>Republic of Moldova</td>\n",
       "      <td>5901</td>\n",
       "      <td>119.1858</td>\n",
       "      <td>4033.963</td>\n",
       "      <td>33846</td>\n",
       "    </tr>\n",
       "    <tr>\n",
       "      <th>3</th>\n",
       "      <td>United States of America</td>\n",
       "      <td>3636</td>\n",
       "      <td>35.3160</td>\n",
       "      <td>331002.651</td>\n",
       "      <td>9372610</td>\n",
       "    </tr>\n",
       "    <tr>\n",
       "      <th>4</th>\n",
       "      <td>Cambodia</td>\n",
       "      <td>1979</td>\n",
       "      <td>92.3521</td>\n",
       "      <td>16718.965</td>\n",
       "      <td>181035</td>\n",
       "    </tr>\n",
       "  </tbody>\n",
       "</table>\n",
       "</div>"
      ],
      "text/plain": [
       "        Citizenship Country  Total Cases  Density (km²)  Population  \\\n",
       "0               Philippines        11365       320.0821  109581.078   \n",
       "1                   Ukraine         7761        72.4669   43733.762   \n",
       "2       Republic of Moldova         5901       119.1858    4033.963   \n",
       "3  United States of America         3636        35.3160  331002.651   \n",
       "4                  Cambodia         1979        92.3521   16718.965   \n",
       "\n",
       "   Area (km²)  \n",
       "0      342353  \n",
       "1      603500  \n",
       "2       33846  \n",
       "3     9372610  \n",
       "4      181035  "
      ]
     },
     "execution_count": 106,
     "metadata": {},
     "output_type": "execute_result"
    }
   ],
   "source": [
    "# Rename Country Column to Citizenship Country\n",
    "citizenship_density_merged_renamed = citizenship_density_merged.rename(columns = {'Country' : 'Citizenship Country'})\n",
    "citizenship_density_merged_renamed.head(5)"
   ]
  },
  {
   "cell_type": "code",
   "execution_count": 123,
   "metadata": {},
   "outputs": [
    {
     "data": {
      "text/html": [
       "<div>\n",
       "<style scoped>\n",
       "    .dataframe tbody tr th:only-of-type {\n",
       "        vertical-align: middle;\n",
       "    }\n",
       "\n",
       "    .dataframe tbody tr th {\n",
       "        vertical-align: top;\n",
       "    }\n",
       "\n",
       "    .dataframe thead th {\n",
       "        text-align: right;\n",
       "    }\n",
       "</style>\n",
       "<table border=\"1\" class=\"dataframe\">\n",
       "  <thead>\n",
       "    <tr style=\"text-align: right;\">\n",
       "      <th></th>\n",
       "      <th>Country</th>\n",
       "      <th>Total Cases</th>\n",
       "      <th>Density (km²)</th>\n",
       "      <th>Population</th>\n",
       "      <th>Area (km²)</th>\n",
       "    </tr>\n",
       "  </thead>\n",
       "  <tbody>\n",
       "    <tr>\n",
       "      <th>0</th>\n",
       "      <td>United States of America</td>\n",
       "      <td>12512</td>\n",
       "      <td>35.3160</td>\n",
       "      <td>331002.651</td>\n",
       "      <td>9372610</td>\n",
       "    </tr>\n",
       "    <tr>\n",
       "      <th>1</th>\n",
       "      <td>Ukraine</td>\n",
       "      <td>5399</td>\n",
       "      <td>72.4669</td>\n",
       "      <td>43733.762</td>\n",
       "      <td>603500</td>\n",
       "    </tr>\n",
       "    <tr>\n",
       "      <th>2</th>\n",
       "      <td>Republic of Moldova</td>\n",
       "      <td>4504</td>\n",
       "      <td>119.1858</td>\n",
       "      <td>4033.963</td>\n",
       "      <td>33846</td>\n",
       "    </tr>\n",
       "    <tr>\n",
       "      <th>3</th>\n",
       "      <td>Philippines</td>\n",
       "      <td>1988</td>\n",
       "      <td>320.0821</td>\n",
       "      <td>109581.078</td>\n",
       "      <td>342353</td>\n",
       "    </tr>\n",
       "    <tr>\n",
       "      <th>4</th>\n",
       "      <td>Indonesia</td>\n",
       "      <td>1777</td>\n",
       "      <td>143.6144</td>\n",
       "      <td>273523.615</td>\n",
       "      <td>1904569</td>\n",
       "    </tr>\n",
       "  </tbody>\n",
       "</table>\n",
       "</div>"
      ],
      "text/plain": [
       "                    Country  Total Cases  Density (km²)  Population  \\\n",
       "0  United States of America        12512        35.3160  331002.651   \n",
       "1                   Ukraine         5399        72.4669   43733.762   \n",
       "2       Republic of Moldova         4504       119.1858    4033.963   \n",
       "3               Philippines         1988       320.0821  109581.078   \n",
       "4                 Indonesia         1777       143.6144  273523.615   \n",
       "\n",
       "   Area (km²)  \n",
       "0     9372610  \n",
       "1      603500  \n",
       "2       33846  \n",
       "3      342353  \n",
       "4     1904569  "
      ]
     },
     "execution_count": 123,
     "metadata": {},
     "output_type": "execute_result"
    }
   ],
   "source": [
    "# Combine Population & Exploit Country\n",
    "exploit_density_merged = pd.merge(exploit_counts, population_density_data_renamed)\n",
    "exploit_density_merged.head(5)"
   ]
  },
  {
   "cell_type": "code",
   "execution_count": 110,
   "metadata": {},
   "outputs": [
    {
     "data": {
      "text/html": [
       "<div>\n",
       "<style scoped>\n",
       "    .dataframe tbody tr th:only-of-type {\n",
       "        vertical-align: middle;\n",
       "    }\n",
       "\n",
       "    .dataframe tbody tr th {\n",
       "        vertical-align: top;\n",
       "    }\n",
       "\n",
       "    .dataframe thead th {\n",
       "        text-align: right;\n",
       "    }\n",
       "</style>\n",
       "<table border=\"1\" class=\"dataframe\">\n",
       "  <thead>\n",
       "    <tr style=\"text-align: right;\">\n",
       "      <th></th>\n",
       "      <th>Exploit Country</th>\n",
       "      <th>Total Cases</th>\n",
       "      <th>Density (km²)</th>\n",
       "      <th>Population</th>\n",
       "      <th>Area (km²)</th>\n",
       "    </tr>\n",
       "  </thead>\n",
       "  <tbody>\n",
       "    <tr>\n",
       "      <th>0</th>\n",
       "      <td>United States of America</td>\n",
       "      <td>12512</td>\n",
       "      <td>35.3160</td>\n",
       "      <td>331002.651</td>\n",
       "      <td>9372610</td>\n",
       "    </tr>\n",
       "    <tr>\n",
       "      <th>1</th>\n",
       "      <td>Ukraine</td>\n",
       "      <td>5399</td>\n",
       "      <td>72.4669</td>\n",
       "      <td>43733.762</td>\n",
       "      <td>603500</td>\n",
       "    </tr>\n",
       "    <tr>\n",
       "      <th>2</th>\n",
       "      <td>Republic of Moldova</td>\n",
       "      <td>4504</td>\n",
       "      <td>119.1858</td>\n",
       "      <td>4033.963</td>\n",
       "      <td>33846</td>\n",
       "    </tr>\n",
       "    <tr>\n",
       "      <th>3</th>\n",
       "      <td>Philippines</td>\n",
       "      <td>1988</td>\n",
       "      <td>320.0821</td>\n",
       "      <td>109581.078</td>\n",
       "      <td>342353</td>\n",
       "    </tr>\n",
       "    <tr>\n",
       "      <th>4</th>\n",
       "      <td>Indonesia</td>\n",
       "      <td>1777</td>\n",
       "      <td>143.6144</td>\n",
       "      <td>273523.615</td>\n",
       "      <td>1904569</td>\n",
       "    </tr>\n",
       "  </tbody>\n",
       "</table>\n",
       "</div>"
      ],
      "text/plain": [
       "            Exploit Country  Total Cases  Density (km²)  Population  \\\n",
       "0  United States of America        12512        35.3160  331002.651   \n",
       "1                   Ukraine         5399        72.4669   43733.762   \n",
       "2       Republic of Moldova         4504       119.1858    4033.963   \n",
       "3               Philippines         1988       320.0821  109581.078   \n",
       "4                 Indonesia         1777       143.6144  273523.615   \n",
       "\n",
       "   Area (km²)  \n",
       "0     9372610  \n",
       "1      603500  \n",
       "2       33846  \n",
       "3      342353  \n",
       "4     1904569  "
      ]
     },
     "execution_count": 110,
     "metadata": {},
     "output_type": "execute_result"
    }
   ],
   "source": [
    "# Rename Country Column to Citizenship Country\n",
    "exploit_density_merged_renamed = exploit_density_merged.rename(columns = {'Country' : 'Exploit Country'})\n",
    "exploit_density_merged_renamed.head(5)"
   ]
  },
  {
   "cell_type": "code",
   "execution_count": 160,
   "metadata": {},
   "outputs": [],
   "source": [
    "# Plot X-Axis Population Density, Y-Axis Total Number of Cases (Citizenship Country) - Need to refine\n",
    "# citizenship_density_merged_renamed.plot(x ='Total Cases', y='Density (km²)', kind = 'line')\n",
    "\n",
    "# title = fig.suptitle(\"Citizenship Country Density (km²)\", fontsize=14)\n",
    "\n",
    "# ax.set_xlim((0, 70000))\n",
    "# ax.set_xlabel(\"Total Cases\")\n",
    "# ax.set_ylabel(\"Density (km²)\")"
   ]
  },
  {
   "cell_type": "code",
   "execution_count": 183,
   "metadata": {},
   "outputs": [],
   "source": [
    "# Plot X-Axis Population Density, Y-Axis Total Number of Cases (Exploit Country) - Need to refine\n",
    "# exploit_density_merged_renamed.plot(x ='Total Cases', y='Density (km²)', kind = 'line')\n"
   ]
  },
  {
   "cell_type": "code",
   "execution_count": 159,
   "metadata": {},
   "outputs": [],
   "source": [
    "# Bar Plot: Population Density vs Total Cases (Citizenship Country)\n",
    "# exploit_density_merged_renamed.plot(x ='Exploit Country', y='Density (km²)', kind = 'barh')\n"
   ]
  },
  {
   "cell_type": "code",
   "execution_count": null,
   "metadata": {},
   "outputs": [],
   "source": [
    "# Bar Plot: Population Density vs Total Cases (Exploit Country)\n",
    "# citizenship_density_merged_renamed.plot(x ='Citizenship Country', y='Density (km²)', kind = 'barh')\n"
   ]
  },
  {
   "cell_type": "code",
   "execution_count": 151,
   "metadata": {},
   "outputs": [
    {
     "data": {
      "image/png": "[encoded data removed]",
      "text/plain": [
       "<Figure size 432x288 with 1 Axes>"
      ]
     },
     "metadata": {
      "needs_background": "light"
     },
     "output_type": "display_data"
    }
   ],
   "source": [
    "# Citizenship Country Density (km²) Histogram - Need to refine\n",
    "fig = plt.figure(figsize = (6,4))\n",
    "title = fig.suptitle(\"Citizenship Country Density (km²)\", fontsize=14)\n",
    "fig.subplots_adjust(top = 0.85, wspace = 0.3)\n",
    "\n",
    "ax = fig.add_subplot(1,1, 1)\n",
    "ax.set_xlabel(\"Density (km²)\")\n",
    "ax.set_ylabel(\"Frequency\") \n",
    "ax.text(1.2, 800, r'$\\mu$ = '+str(round(citizenship_density_merged_renamed['Density (km²)'])), \n",
    "         fontsize = 12)\n",
    "freq, bins, patches = ax.hist(citizenship_density_merged_renamed['Density (km²)'], color='steelblue', bins=15,\n",
    "                                    edgecolor='black', linewidth=1)"
   ]
  },
  {
   "cell_type": "code",
   "execution_count": 184,
   "metadata": {},
   "outputs": [
    {
     "data": {
      "image/png": "[encoded data removed]",
      "text/plain": [
       "<Figure size 432x288 with 1 Axes>"
      ]
     },
     "metadata": {
      "needs_background": "light"
     },
     "output_type": "display_data"
    }
   ],
   "source": [
    "# Exploit Country Density (km²) Histogram - Need to refine\n",
    "fig = plt.figure(figsize = (6,4))\n",
    "title = fig.suptitle(\"Exploit Country Density (km²)\", fontsize=14)\n",
    "fig.subplots_adjust(top = 0.85, wspace = 0.3)\n",
    "\n",
    "ax = fig.add_subplot(1,1, 1)\n",
    "ax.set_xlabel(\"Population Density (km²)\")\n",
    "ax.set_ylabel(\"Frequency\") \n",
    "ax.text(1.2, 800, r'$\\mu$ = '+str(round(exploit_density_merged_renamed['Density (km²)'])), \n",
    "         fontsize = 12)\n",
    "freq, bins, patches = ax.hist(exploit_density_merged_renamed['Density (km²)'], color='steelblue', bins=15,\n",
    "                                    edgecolor='black', linewidth=1)"
   ]
  },
  {
   "cell_type": "code",
   "execution_count": null,
   "metadata": {},
   "outputs": [],
   "source": [
    "# Some sort of Individual Analysis for Top 3-5 Populace Dense Countries?\n",
    "\n"
   ]
  },
  {
   "cell_type": "code",
   "execution_count": null,
   "metadata": {},
   "outputs": [],
   "source": [
    "# Box Plot?\n",
    "\n",
    "\n",
    "# https://pandas.pydata.org/pandas-docs/stable/user_guide/visualization.html#box-plots"
   ]
  },
  {
   "cell_type": "code",
   "execution_count": 185,
   "metadata": {},
   "outputs": [
    {
     "data": {
      "text/plain": [
       "Text(1.2, 140, 'r value = 0.041')"
      ]
     },
     "execution_count": 185,
     "metadata": {},
     "output_type": "execute_result"
    },
    {
     "data": {
      "image/png": "[encoded data removed]",
      "text/plain": [
       "<Figure size 432x288 with 1 Axes>"
      ]
     },
     "metadata": {
      "needs_background": "light"
     },
     "output_type": "display_data"
    }
   ],
   "source": [
    "# Citizenship Country Scatterplot\n",
    "from scipy.stats import linregress\n",
    "\n",
    "plt.scatter(x_values,y_values)\n",
    "plt.plot(x_values,regress_values,\"r-\")\n",
    "\n",
    "plt.title('Citizenship Country Population Density Vs. Cases')\n",
    "ax.set_xlabel(\"Country Population Density (km²)\")\n",
    "ax.set_ylabel(\"Human Trafficking Cases\")\n",
    "\n",
    "x_values = citizenship_density_merged_renamed['Density (km²)']\n",
    "y_values = citizenship_density_merged_renamed['Total Cases']\n",
    "\n",
    "(slope, intercept, rvalue, pvalue, stderr) = linregress(x_values, y_values)\n",
    "\n",
    "regress_values = x_values * slope + intercept\n",
    "line_eq = \"y = \" + str(round(slope,2)) + \" + \" + str(round(intercept,2))\n",
    "rvalue_note = (f'r value = {round(rvalue,3)}')\n",
    "\n",
    "plt.annotate(line_eq,(0,750),fontsize=12,color=\"red\")\n",
    "plt.annotate(rvalue_note,(1.2,140),fontsize=12,color=\"red\")\n",
    "\n",
    "# Could go well in Data Analysis / Discussion Slides"
   ]
  },
  {
   "cell_type": "code",
   "execution_count": null,
   "metadata": {},
   "outputs": [],
   "source": []
  }
 ],
 "metadata": {
  "kernelspec": {
   "display_name": "Python 3",
   "language": "python",
   "name": "python3"
  },
  "language_info": {
   "codemirror_mode": {
    "name": "ipython",
    "version": 3
   },
   "file_extension": ".py",
   "mimetype": "text/x-python",
   "name": "python",
   "nbconvert_exporter": "python",
   "pygments_lexer": "ipython3",
   "version": "3.8.3"
  }
 },
 "nbformat": 4,
 "nbformat_minor": 4
}
