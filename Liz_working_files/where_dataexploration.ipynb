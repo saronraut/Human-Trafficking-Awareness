{
 "cells": [
  {
   "cell_type": "code",
   "execution_count": 69,
   "metadata": {},
   "outputs": [],
   "source": [
    "%matplotlib notebook\n",
    "import pandas as pd\n",
    "import numpy as np\n",
    "import matplotlib.pyplot as plt\n",
    "import scipy.stats as st\n",
    "from scipy.stats import linregress\n",
    "import pycountry\n",
    "\n",
    "\n",
    "#data file to work with\n",
    "file = '../cleanData/CleanFullDataSet.csv'\n",
    "\n",
    "#read data file\n",
    "clean_data = pd.read_csv(file, low_memory = False)"
   ]
  },
  {
   "cell_type": "code",
   "execution_count": 126,
   "metadata": {
    "scrolled": false
   },
   "outputs": [
    {
     "data": {
      "text/html": [
       "<div>\n",
       "<style scoped>\n",
       "    .dataframe tbody tr th:only-of-type {\n",
       "        vertical-align: middle;\n",
       "    }\n",
       "\n",
       "    .dataframe tbody tr th {\n",
       "        vertical-align: top;\n",
       "    }\n",
       "\n",
       "    .dataframe thead th {\n",
       "        text-align: right;\n",
       "    }\n",
       "</style>\n",
       "<table border=\"1\" class=\"dataframe\">\n",
       "  <thead>\n",
       "    <tr style=\"text-align: right;\">\n",
       "      <th></th>\n",
       "      <th>gender</th>\n",
       "      <th>ageBroad</th>\n",
       "      <th>Citizenship Country</th>\n",
       "      <th>Citizenship Region</th>\n",
       "      <th>Citizenship Intermediate Region</th>\n",
       "      <th>Citizenship Sub-Region</th>\n",
       "    </tr>\n",
       "  </thead>\n",
       "  <tbody>\n",
       "    <tr>\n",
       "      <th>0</th>\n",
       "      <td>Female</td>\n",
       "      <td>18--20</td>\n",
       "      <td>Colombia</td>\n",
       "      <td>Americas</td>\n",
       "      <td>South America</td>\n",
       "      <td>Latin America and the Caribbean</td>\n",
       "    </tr>\n",
       "    <tr>\n",
       "      <th>1</th>\n",
       "      <td>Female</td>\n",
       "      <td>18--20</td>\n",
       "      <td>Colombia</td>\n",
       "      <td>Americas</td>\n",
       "      <td>South America</td>\n",
       "      <td>Latin America and the Caribbean</td>\n",
       "    </tr>\n",
       "    <tr>\n",
       "      <th>2</th>\n",
       "      <td>Female</td>\n",
       "      <td>18--20</td>\n",
       "      <td>Colombia</td>\n",
       "      <td>Americas</td>\n",
       "      <td>South America</td>\n",
       "      <td>Latin America and the Caribbean</td>\n",
       "    </tr>\n",
       "    <tr>\n",
       "      <th>3</th>\n",
       "      <td>Female</td>\n",
       "      <td>18--20</td>\n",
       "      <td>Colombia</td>\n",
       "      <td>Americas</td>\n",
       "      <td>South America</td>\n",
       "      <td>Latin America and the Caribbean</td>\n",
       "    </tr>\n",
       "    <tr>\n",
       "      <th>4</th>\n",
       "      <td>Female</td>\n",
       "      <td>18--20</td>\n",
       "      <td>Colombia</td>\n",
       "      <td>Americas</td>\n",
       "      <td>South America</td>\n",
       "      <td>Latin America and the Caribbean</td>\n",
       "    </tr>\n",
       "  </tbody>\n",
       "</table>\n",
       "</div>"
      ],
      "text/plain": [
       "   gender ageBroad Citizenship Country Citizenship Region  \\\n",
       "0  Female   18--20            Colombia           Americas   \n",
       "1  Female   18--20            Colombia           Americas   \n",
       "2  Female   18--20            Colombia           Americas   \n",
       "3  Female   18--20            Colombia           Americas   \n",
       "4  Female   18--20            Colombia           Americas   \n",
       "\n",
       "  Citizenship Intermediate Region           Citizenship Sub-Region  \n",
       "0                   South America  Latin America and the Caribbean  \n",
       "1                   South America  Latin America and the Caribbean  \n",
       "2                   South America  Latin America and the Caribbean  \n",
       "3                   South America  Latin America and the Caribbean  \n",
       "4                   South America  Latin America and the Caribbean  "
      ]
     },
     "execution_count": 126,
     "metadata": {},
     "output_type": "execute_result"
    }
   ],
   "source": [
    "# display the columns related to citizenship data \n",
    "start_df = pd.DataFrame(clean_data[['gender', 'ageBroad', 'Citizenship Country', 'Citizenship Region', 'Citizenship Intermediate Region', 'Citizenship Sub-Region']])\n",
    "start_df.head()"
   ]
  },
  {
   "cell_type": "code",
   "execution_count": 87,
   "metadata": {},
   "outputs": [
    {
     "data": {
      "text/plain": [
       "gender                             48773\n",
       "ageBroad                           48773\n",
       "Citizenship Country                48773\n",
       "Citizenship Region                 48773\n",
       "Citizenship Intermediate Region    11001\n",
       "Citizenship Sub-Region             48773\n",
       "dtype: int64"
      ]
     },
     "execution_count": 87,
     "metadata": {},
     "output_type": "execute_result"
    }
   ],
   "source": [
    "#check to see if there is any missing info in the columns\n",
    "start_df.count()"
   ]
  },
  {
   "cell_type": "code",
   "execution_count": 127,
   "metadata": {},
   "outputs": [
    {
     "data": {
      "text/plain": [
       "gender                    48773\n",
       "ageBroad                  48773\n",
       "Citizenship Country       48773\n",
       "Citizenship Region        48773\n",
       "Citizenship Sub-Region    48773\n",
       "dtype: int64"
      ]
     },
     "execution_count": 127,
     "metadata": {},
     "output_type": "execute_result"
    }
   ],
   "source": [
    "# create a new data frame that doesn't include the 'Citizenship Intermediate Region' bc it has missing info & isn't of importance to me rn\n",
    "citizen_df = pd.DataFrame(clean_data[['gender', 'ageBroad', 'Citizenship Country', 'Citizenship Region', 'Citizenship Sub-Region']])\n",
    "citizen_df.count()"
   ]
  },
  {
   "cell_type": "code",
   "execution_count": 128,
   "metadata": {},
   "outputs": [
    {
     "data": {
      "text/html": [
       "<div>\n",
       "<style scoped>\n",
       "    .dataframe tbody tr th:only-of-type {\n",
       "        vertical-align: middle;\n",
       "    }\n",
       "\n",
       "    .dataframe tbody tr th {\n",
       "        vertical-align: top;\n",
       "    }\n",
       "\n",
       "    .dataframe thead th {\n",
       "        text-align: right;\n",
       "    }\n",
       "</style>\n",
       "<table border=\"1\" class=\"dataframe\">\n",
       "  <thead>\n",
       "    <tr style=\"text-align: right;\">\n",
       "      <th></th>\n",
       "      <th>gender</th>\n",
       "      <th>ageBroad</th>\n",
       "      <th>Citizenship Country</th>\n",
       "      <th>Citizenship Region</th>\n",
       "      <th>Citizenship Sub-Region</th>\n",
       "    </tr>\n",
       "  </thead>\n",
       "  <tbody>\n",
       "    <tr>\n",
       "      <th>0</th>\n",
       "      <td>Female</td>\n",
       "      <td>18--20</td>\n",
       "      <td>Colombia</td>\n",
       "      <td>Americas</td>\n",
       "      <td>Latin America and the Caribbean</td>\n",
       "    </tr>\n",
       "    <tr>\n",
       "      <th>1</th>\n",
       "      <td>Female</td>\n",
       "      <td>18--20</td>\n",
       "      <td>Colombia</td>\n",
       "      <td>Americas</td>\n",
       "      <td>Latin America and the Caribbean</td>\n",
       "    </tr>\n",
       "    <tr>\n",
       "      <th>2</th>\n",
       "      <td>Female</td>\n",
       "      <td>18--20</td>\n",
       "      <td>Colombia</td>\n",
       "      <td>Americas</td>\n",
       "      <td>Latin America and the Caribbean</td>\n",
       "    </tr>\n",
       "    <tr>\n",
       "      <th>3</th>\n",
       "      <td>Female</td>\n",
       "      <td>18--20</td>\n",
       "      <td>Colombia</td>\n",
       "      <td>Americas</td>\n",
       "      <td>Latin America and the Caribbean</td>\n",
       "    </tr>\n",
       "    <tr>\n",
       "      <th>4</th>\n",
       "      <td>Female</td>\n",
       "      <td>18--20</td>\n",
       "      <td>Colombia</td>\n",
       "      <td>Americas</td>\n",
       "      <td>Latin America and the Caribbean</td>\n",
       "    </tr>\n",
       "  </tbody>\n",
       "</table>\n",
       "</div>"
      ],
      "text/plain": [
       "   gender ageBroad Citizenship Country Citizenship Region  \\\n",
       "0  Female   18--20            Colombia           Americas   \n",
       "1  Female   18--20            Colombia           Americas   \n",
       "2  Female   18--20            Colombia           Americas   \n",
       "3  Female   18--20            Colombia           Americas   \n",
       "4  Female   18--20            Colombia           Americas   \n",
       "\n",
       "            Citizenship Sub-Region  \n",
       "0  Latin America and the Caribbean  \n",
       "1  Latin America and the Caribbean  \n",
       "2  Latin America and the Caribbean  \n",
       "3  Latin America and the Caribbean  \n",
       "4  Latin America and the Caribbean  "
      ]
     },
     "execution_count": 128,
     "metadata": {},
     "output_type": "execute_result"
    }
   ],
   "source": [
    "citizen_df.head()"
   ]
  },
  {
   "cell_type": "code",
   "execution_count": 129,
   "metadata": {},
   "outputs": [
    {
     "data": {
      "text/html": [
       "<div>\n",
       "<style scoped>\n",
       "    .dataframe tbody tr th:only-of-type {\n",
       "        vertical-align: middle;\n",
       "    }\n",
       "\n",
       "    .dataframe tbody tr th {\n",
       "        vertical-align: top;\n",
       "    }\n",
       "\n",
       "    .dataframe thead th {\n",
       "        text-align: right;\n",
       "    }\n",
       "</style>\n",
       "<table border=\"1\" class=\"dataframe\">\n",
       "  <thead>\n",
       "    <tr style=\"text-align: right;\">\n",
       "      <th></th>\n",
       "      <th>Gender</th>\n",
       "      <th>Age Range</th>\n",
       "      <th>Citizenship Country</th>\n",
       "      <th>Citizenship Region</th>\n",
       "      <th>Citizenship Sub-Region</th>\n",
       "    </tr>\n",
       "  </thead>\n",
       "  <tbody>\n",
       "    <tr>\n",
       "      <th>0</th>\n",
       "      <td>Female</td>\n",
       "      <td>18--20</td>\n",
       "      <td>Colombia</td>\n",
       "      <td>Americas</td>\n",
       "      <td>Latin America and the Caribbean</td>\n",
       "    </tr>\n",
       "    <tr>\n",
       "      <th>1</th>\n",
       "      <td>Female</td>\n",
       "      <td>18--20</td>\n",
       "      <td>Colombia</td>\n",
       "      <td>Americas</td>\n",
       "      <td>Latin America and the Caribbean</td>\n",
       "    </tr>\n",
       "    <tr>\n",
       "      <th>2</th>\n",
       "      <td>Female</td>\n",
       "      <td>18--20</td>\n",
       "      <td>Colombia</td>\n",
       "      <td>Americas</td>\n",
       "      <td>Latin America and the Caribbean</td>\n",
       "    </tr>\n",
       "    <tr>\n",
       "      <th>3</th>\n",
       "      <td>Female</td>\n",
       "      <td>18--20</td>\n",
       "      <td>Colombia</td>\n",
       "      <td>Americas</td>\n",
       "      <td>Latin America and the Caribbean</td>\n",
       "    </tr>\n",
       "    <tr>\n",
       "      <th>4</th>\n",
       "      <td>Female</td>\n",
       "      <td>18--20</td>\n",
       "      <td>Colombia</td>\n",
       "      <td>Americas</td>\n",
       "      <td>Latin America and the Caribbean</td>\n",
       "    </tr>\n",
       "  </tbody>\n",
       "</table>\n",
       "</div>"
      ],
      "text/plain": [
       "   Gender Age Range Citizenship Country Citizenship Region  \\\n",
       "0  Female    18--20            Colombia           Americas   \n",
       "1  Female    18--20            Colombia           Americas   \n",
       "2  Female    18--20            Colombia           Americas   \n",
       "3  Female    18--20            Colombia           Americas   \n",
       "4  Female    18--20            Colombia           Americas   \n",
       "\n",
       "            Citizenship Sub-Region  \n",
       "0  Latin America and the Caribbean  \n",
       "1  Latin America and the Caribbean  \n",
       "2  Latin America and the Caribbean  \n",
       "3  Latin America and the Caribbean  \n",
       "4  Latin America and the Caribbean  "
      ]
     },
     "execution_count": 129,
     "metadata": {},
     "output_type": "execute_result"
    }
   ],
   "source": [
    "citizen_df_renamed = citizen_df.rename(columns = {'gender' : 'Gender', 'ageBroad' : 'Age Range',})\n",
    "citizen_df_renamed.head()"
   ]
  },
  {
   "cell_type": "code",
   "execution_count": 130,
   "metadata": {},
   "outputs": [
    {
     "data": {
      "text/plain": [
       "45"
      ]
     },
     "execution_count": 130,
     "metadata": {},
     "output_type": "execute_result"
    }
   ],
   "source": [
    "citizen_df_renamed['Citizenship Country'].nunique()"
   ]
  },
  {
   "cell_type": "code",
   "execution_count": 131,
   "metadata": {},
   "outputs": [
    {
     "data": {
      "text/plain": [
       "Philippines                         11365\n",
       "unknown                              9136\n",
       "Ukraine                              7761\n",
       "Republic of Moldova                  5901\n",
       "United States of America             3636\n",
       "Cambodia                             1979\n",
       "Indonesia                            1971\n",
       "Belarus                              1463\n",
       "Myanmar                              1250\n",
       "Romania                               655\n",
       "Ghana                                 544\n",
       "Kyrgyzstan                            437\n",
       "Bulgaria                              342\n",
       "Haiti                                 339\n",
       "Uzbekistan                            261\n",
       "Viet Nam                              170\n",
       "Guinea-Bissau                         145\n",
       "Lao People's Democratic Republic      126\n",
       "Colombia                              124\n",
       "Nigeria                               108\n",
       "Afghanistan                            97\n",
       "Madagascar                             94\n",
       "Sri Lanka                              85\n",
       "Sierra Leone                           81\n",
       "Senegal                                70\n",
       "Uganda                                 70\n",
       "Thailand                               55\n",
       "Kazakhstan                             54\n",
       "Democratic Republic of the Congo       53\n",
       "Mali                                   45\n",
       "Tajikistan                             43\n",
       "Burkina Faso                           33\n",
       "Kenya                                  32\n",
       "Côte d’Ivoire                          31\n",
       "Niger                                  31\n",
       "Nepal                                  27\n",
       "Turkmenistan                           26\n",
       "China                                  23\n",
       "Albania                                22\n",
       "Mexico                                 19\n",
       "Bolivia (Plurinational State of)       18\n",
       "Guinea                                 15\n",
       "Eritrea                                13\n",
       "Republic of Korea                      12\n",
       "Bangladesh                             11\n",
       "Name: Citizenship Country, dtype: int64"
      ]
     },
     "execution_count": 131,
     "metadata": {},
     "output_type": "execute_result"
    }
   ],
   "source": [
    "citizen_df_renamed['Citizenship Country'].value_counts()"
   ]
  },
  {
   "cell_type": "code",
   "execution_count": 132,
   "metadata": {},
   "outputs": [
    {
     "data": {
      "text/plain": [
       "Asia        17992\n",
       "Europe      16144\n",
       "unknown      9136\n",
       "Americas     4136\n",
       "Africa       1365\n",
       "Name: Citizenship Region, dtype: int64"
      ]
     },
     "execution_count": 132,
     "metadata": {},
     "output_type": "execute_result"
    }
   ],
   "source": [
    "citizen_df_renamed['Citizenship Region'].value_counts()"
   ]
  },
  {
   "cell_type": "code",
   "execution_count": 133,
   "metadata": {},
   "outputs": [],
   "source": [
    "# Print out country column as Pandas Series\n",
    "# print(citizen_df_renamed['Citizenship Country'])"
   ]
  },
  {
   "cell_type": "code",
   "execution_count": 134,
   "metadata": {},
   "outputs": [],
   "source": [
    "# Print out country column as Pandas DataFrame\n",
    "# print(citizen_df_renamed[['Citizenship Country']])"
   ]
  },
  {
   "cell_type": "code",
   "execution_count": 135,
   "metadata": {},
   "outputs": [],
   "source": [
    "# Print out DataFrame with country and gender columns\n",
    "#citizen_df_renamed[['Gender', 'Citizenship Country']].head()"
   ]
  },
  {
   "cell_type": "code",
   "execution_count": 136,
   "metadata": {},
   "outputs": [
    {
     "data": {
      "text/plain": [
       "Asia        17992\n",
       "Europe      16144\n",
       "unknown      9136\n",
       "Americas     4136\n",
       "Africa       1365\n",
       "Name: Citizenship Region, dtype: int64"
      ]
     },
     "execution_count": 136,
     "metadata": {},
     "output_type": "execute_result"
    }
   ],
   "source": [
    "regions = clean_data['Citizenship Region'].value_counts()\n",
    "regions"
   ]
  },
  {
   "cell_type": "code",
   "execution_count": 137,
   "metadata": {},
   "outputs": [
    {
     "data": {
      "text/plain": [
       "Gender                     1\n",
       "Age Range                 10\n",
       "Citizenship Country       15\n",
       "Citizenship Region         1\n",
       "Citizenship Sub-Region     4\n",
       "dtype: int64"
      ]
     },
     "execution_count": 137,
     "metadata": {},
     "output_type": "execute_result"
    }
   ],
   "source": [
    "is_female = citizen_df_renamed['Gender'] == 'Female'\n",
    "is_asia = citizen_df_renamed['Citizenship Region'] == 'Asia'\n",
    "female_asia = pd.DataFrame(citizen_df_renamed[is_female & is_asia])\n",
    "female_asia.nunique()"
   ]
  },
  {
   "cell_type": "code",
   "execution_count": 138,
   "metadata": {},
   "outputs": [
    {
     "data": {
      "text/plain": [
       "Gender                     1\n",
       "Age Range                 10\n",
       "Citizenship Country       10\n",
       "Citizenship Region         1\n",
       "Citizenship Sub-Region     3\n",
       "dtype: int64"
      ]
     },
     "execution_count": 138,
     "metadata": {},
     "output_type": "execute_result"
    }
   ],
   "source": [
    "is_male = citizen_df_renamed['Gender'] == 'Male'\n",
    "is_asia = citizen_df_renamed['Citizenship Region'] == 'Asia'\n",
    "male_asia = pd.DataFrame(citizen_df_renamed[is_male & is_asia])\n",
    "male_asia.nunique()"
   ]
  },
  {
   "cell_type": "code",
   "execution_count": 156,
   "metadata": {},
   "outputs": [
    {
     "data": {
      "text/html": [
       "<div>\n",
       "<style scoped>\n",
       "    .dataframe tbody tr th:only-of-type {\n",
       "        vertical-align: middle;\n",
       "    }\n",
       "\n",
       "    .dataframe tbody tr th {\n",
       "        vertical-align: top;\n",
       "    }\n",
       "\n",
       "    .dataframe thead th {\n",
       "        text-align: right;\n",
       "    }\n",
       "</style>\n",
       "<table border=\"1\" class=\"dataframe\">\n",
       "  <thead>\n",
       "    <tr style=\"text-align: right;\">\n",
       "      <th></th>\n",
       "      <th>Gender</th>\n",
       "      <th>Age Range</th>\n",
       "      <th>Citizenship Sub-Region</th>\n",
       "      <th>Citizenship Country</th>\n",
       "    </tr>\n",
       "  </thead>\n",
       "  <tbody>\n",
       "    <tr>\n",
       "      <th>1977</th>\n",
       "      <td>Female</td>\n",
       "      <td>18--20</td>\n",
       "      <td>Central Asia</td>\n",
       "      <td>Uzbekistan</td>\n",
       "    </tr>\n",
       "    <tr>\n",
       "      <th>1978</th>\n",
       "      <td>Female</td>\n",
       "      <td>18--20</td>\n",
       "      <td>Central Asia</td>\n",
       "      <td>Uzbekistan</td>\n",
       "    </tr>\n",
       "    <tr>\n",
       "      <th>1979</th>\n",
       "      <td>Female</td>\n",
       "      <td>18--20</td>\n",
       "      <td>Central Asia</td>\n",
       "      <td>Uzbekistan</td>\n",
       "    </tr>\n",
       "    <tr>\n",
       "      <th>1980</th>\n",
       "      <td>Female</td>\n",
       "      <td>18--20</td>\n",
       "      <td>Central Asia</td>\n",
       "      <td>Uzbekistan</td>\n",
       "    </tr>\n",
       "    <tr>\n",
       "      <th>1981</th>\n",
       "      <td>Female</td>\n",
       "      <td>18--20</td>\n",
       "      <td>Central Asia</td>\n",
       "      <td>Uzbekistan</td>\n",
       "    </tr>\n",
       "    <tr>\n",
       "      <th>...</th>\n",
       "      <td>...</td>\n",
       "      <td>...</td>\n",
       "      <td>...</td>\n",
       "      <td>...</td>\n",
       "    </tr>\n",
       "    <tr>\n",
       "      <th>46763</th>\n",
       "      <td>Female</td>\n",
       "      <td>30--38</td>\n",
       "      <td>Eastern Asia</td>\n",
       "      <td>China</td>\n",
       "    </tr>\n",
       "    <tr>\n",
       "      <th>46764</th>\n",
       "      <td>Female</td>\n",
       "      <td>30--38</td>\n",
       "      <td>Eastern Asia</td>\n",
       "      <td>China</td>\n",
       "    </tr>\n",
       "    <tr>\n",
       "      <th>46765</th>\n",
       "      <td>Female</td>\n",
       "      <td>30--38</td>\n",
       "      <td>Eastern Asia</td>\n",
       "      <td>China</td>\n",
       "    </tr>\n",
       "    <tr>\n",
       "      <th>46766</th>\n",
       "      <td>Female</td>\n",
       "      <td>30--38</td>\n",
       "      <td>Eastern Asia</td>\n",
       "      <td>China</td>\n",
       "    </tr>\n",
       "    <tr>\n",
       "      <th>46767</th>\n",
       "      <td>Female</td>\n",
       "      <td>30--38</td>\n",
       "      <td>Eastern Asia</td>\n",
       "      <td>China</td>\n",
       "    </tr>\n",
       "  </tbody>\n",
       "</table>\n",
       "<p>17992 rows × 4 columns</p>\n",
       "</div>"
      ],
      "text/plain": [
       "       Gender Age Range Citizenship Sub-Region Citizenship Country\n",
       "1977   Female    18--20           Central Asia          Uzbekistan\n",
       "1978   Female    18--20           Central Asia          Uzbekistan\n",
       "1979   Female    18--20           Central Asia          Uzbekistan\n",
       "1980   Female    18--20           Central Asia          Uzbekistan\n",
       "1981   Female    18--20           Central Asia          Uzbekistan\n",
       "...       ...       ...                    ...                 ...\n",
       "46763  Female    30--38           Eastern Asia               China\n",
       "46764  Female    30--38           Eastern Asia               China\n",
       "46765  Female    30--38           Eastern Asia               China\n",
       "46766  Female    30--38           Eastern Asia               China\n",
       "46767  Female    30--38           Eastern Asia               China\n",
       "\n",
       "[17992 rows x 4 columns]"
      ]
     },
     "execution_count": 156,
     "metadata": {},
     "output_type": "execute_result"
    }
   ],
   "source": [
    "asia_df = citizen_df_renamed.loc[citizen_df_renamed['Citizenship Region'] == 'Asia', ['Gender', 'Age Range', 'Citizenship Sub-Region', 'Citizenship Country']]\n",
    "asia_df"
   ]
  },
  {
   "cell_type": "code",
   "execution_count": null,
   "metadata": {},
   "outputs": [],
   "source": []
  },
  {
   "cell_type": "code",
   "execution_count": 155,
   "metadata": {},
   "outputs": [
    {
     "data": {
      "text/plain": [
       "Gender                    1\n",
       "Age Range                 9\n",
       "Citizenship Country       6\n",
       "Citizenship Region        1\n",
       "Citizenship Sub-Region    2\n",
       "dtype: int64"
      ]
     },
     "execution_count": 155,
     "metadata": {},
     "output_type": "execute_result"
    }
   ],
   "source": [
    "#create a data frame for each region, based on gender\n",
    "is_europe = citizen_df_renamed['Citizenship Region'] == 'Europe'\n",
    "female_europe = pd.DataFrame(citizen_df_renamed[is_female & is_europe])\n",
    "male_europe = pd.DataFrame(citizen_df_renamed[is_male & is_europe])\n",
    "\n",
    "#show unique values in the series\n",
    "female_europe.nunique() "
   ]
  },
  {
   "cell_type": "code",
   "execution_count": 154,
   "metadata": {},
   "outputs": [
    {
     "data": {
      "text/plain": [
       "Gender                    1\n",
       "Age Range                 9\n",
       "Citizenship Country       4\n",
       "Citizenship Region        1\n",
       "Citizenship Sub-Region    1\n",
       "dtype: int64"
      ]
     },
     "execution_count": 154,
     "metadata": {},
     "output_type": "execute_result"
    }
   ],
   "source": [
    "male_europe.nunique()"
   ]
  },
  {
   "cell_type": "code",
   "execution_count": null,
   "metadata": {},
   "outputs": [],
   "source": [
    "is_americas = citizen_df_renamed['Citizenship Region'] == 'Americas'\n",
    "female_americas = pd.DataFrame(citizen_df_renamed[is_female & is_americas])\n",
    "female_americas.nunique()"
   ]
  },
  {
   "cell_type": "code",
   "execution_count": null,
   "metadata": {},
   "outputs": [],
   "source": []
  },
  {
   "cell_type": "code",
   "execution_count": null,
   "metadata": {},
   "outputs": [],
   "source": []
  },
  {
   "cell_type": "code",
   "execution_count": null,
   "metadata": {},
   "outputs": [],
   "source": []
  },
  {
   "cell_type": "code",
   "execution_count": null,
   "metadata": {},
   "outputs": [],
   "source": []
  },
  {
   "cell_type": "code",
   "execution_count": null,
   "metadata": {},
   "outputs": [],
   "source": []
  },
  {
   "cell_type": "code",
   "execution_count": null,
   "metadata": {},
   "outputs": [],
   "source": []
  },
  {
   "cell_type": "code",
   "execution_count": null,
   "metadata": {},
   "outputs": [],
   "source": []
  },
  {
   "cell_type": "code",
   "execution_count": null,
   "metadata": {},
   "outputs": [],
   "source": []
  },
  {
   "cell_type": "code",
   "execution_count": null,
   "metadata": {},
   "outputs": [],
   "source": []
  },
  {
   "cell_type": "code",
   "execution_count": 143,
   "metadata": {},
   "outputs": [
    {
     "data": {
      "text/html": [
       "<div>\n",
       "<style scoped>\n",
       "    .dataframe tbody tr th:only-of-type {\n",
       "        vertical-align: middle;\n",
       "    }\n",
       "\n",
       "    .dataframe tbody tr th {\n",
       "        vertical-align: top;\n",
       "    }\n",
       "\n",
       "    .dataframe thead th {\n",
       "        text-align: right;\n",
       "    }\n",
       "</style>\n",
       "<table border=\"1\" class=\"dataframe\">\n",
       "  <thead>\n",
       "    <tr style=\"text-align: right;\">\n",
       "      <th></th>\n",
       "      <th>Gender</th>\n",
       "      <th>Age Range</th>\n",
       "      <th>Citizenship Sub-Region</th>\n",
       "      <th>Citizenship Country</th>\n",
       "    </tr>\n",
       "  </thead>\n",
       "  <tbody>\n",
       "    <tr>\n",
       "      <th>11</th>\n",
       "      <td>Female</td>\n",
       "      <td>18--20</td>\n",
       "      <td>Eastern Europe</td>\n",
       "      <td>Republic of Moldova</td>\n",
       "    </tr>\n",
       "    <tr>\n",
       "      <th>12</th>\n",
       "      <td>Female</td>\n",
       "      <td>18--20</td>\n",
       "      <td>Eastern Europe</td>\n",
       "      <td>Republic of Moldova</td>\n",
       "    </tr>\n",
       "    <tr>\n",
       "      <th>13</th>\n",
       "      <td>Female</td>\n",
       "      <td>18--20</td>\n",
       "      <td>Eastern Europe</td>\n",
       "      <td>Republic of Moldova</td>\n",
       "    </tr>\n",
       "    <tr>\n",
       "      <th>14</th>\n",
       "      <td>Female</td>\n",
       "      <td>18--20</td>\n",
       "      <td>Eastern Europe</td>\n",
       "      <td>Republic of Moldova</td>\n",
       "    </tr>\n",
       "    <tr>\n",
       "      <th>15</th>\n",
       "      <td>Female</td>\n",
       "      <td>18--20</td>\n",
       "      <td>Eastern Europe</td>\n",
       "      <td>Republic of Moldova</td>\n",
       "    </tr>\n",
       "    <tr>\n",
       "      <th>...</th>\n",
       "      <td>...</td>\n",
       "      <td>...</td>\n",
       "      <td>...</td>\n",
       "      <td>...</td>\n",
       "    </tr>\n",
       "    <tr>\n",
       "      <th>44349</th>\n",
       "      <td>Male</td>\n",
       "      <td>9--17</td>\n",
       "      <td>Eastern Europe</td>\n",
       "      <td>Ukraine</td>\n",
       "    </tr>\n",
       "    <tr>\n",
       "      <th>44350</th>\n",
       "      <td>Male</td>\n",
       "      <td>9--17</td>\n",
       "      <td>Eastern Europe</td>\n",
       "      <td>Ukraine</td>\n",
       "    </tr>\n",
       "    <tr>\n",
       "      <th>44351</th>\n",
       "      <td>Male</td>\n",
       "      <td>9--17</td>\n",
       "      <td>Eastern Europe</td>\n",
       "      <td>Ukraine</td>\n",
       "    </tr>\n",
       "    <tr>\n",
       "      <th>44352</th>\n",
       "      <td>Male</td>\n",
       "      <td>9--17</td>\n",
       "      <td>Eastern Europe</td>\n",
       "      <td>Ukraine</td>\n",
       "    </tr>\n",
       "    <tr>\n",
       "      <th>44353</th>\n",
       "      <td>Male</td>\n",
       "      <td>9--17</td>\n",
       "      <td>Eastern Europe</td>\n",
       "      <td>Ukraine</td>\n",
       "    </tr>\n",
       "  </tbody>\n",
       "</table>\n",
       "<p>16144 rows × 4 columns</p>\n",
       "</div>"
      ],
      "text/plain": [
       "       Gender Age Range Citizenship Sub-Region  Citizenship Country\n",
       "11     Female    18--20         Eastern Europe  Republic of Moldova\n",
       "12     Female    18--20         Eastern Europe  Republic of Moldova\n",
       "13     Female    18--20         Eastern Europe  Republic of Moldova\n",
       "14     Female    18--20         Eastern Europe  Republic of Moldova\n",
       "15     Female    18--20         Eastern Europe  Republic of Moldova\n",
       "...       ...       ...                    ...                  ...\n",
       "44349    Male     9--17         Eastern Europe              Ukraine\n",
       "44350    Male     9--17         Eastern Europe              Ukraine\n",
       "44351    Male     9--17         Eastern Europe              Ukraine\n",
       "44352    Male     9--17         Eastern Europe              Ukraine\n",
       "44353    Male     9--17         Eastern Europe              Ukraine\n",
       "\n",
       "[16144 rows x 4 columns]"
      ]
     },
     "execution_count": 143,
     "metadata": {},
     "output_type": "execute_result"
    }
   ],
   "source": [
    "europe_df = citizen_df_renamed.loc[citizen_df_renamed['Citizenship Region'] == 'Europe', ['Gender', 'Age Range', 'Citizenship Sub-Region', 'Citizenship Country']]\n",
    "europe_df"
   ]
  },
  {
   "cell_type": "code",
   "execution_count": 144,
   "metadata": {},
   "outputs": [
    {
     "data": {
      "text/html": [
       "<div>\n",
       "<style scoped>\n",
       "    .dataframe tbody tr th:only-of-type {\n",
       "        vertical-align: middle;\n",
       "    }\n",
       "\n",
       "    .dataframe tbody tr th {\n",
       "        vertical-align: top;\n",
       "    }\n",
       "\n",
       "    .dataframe thead th {\n",
       "        text-align: right;\n",
       "    }\n",
       "</style>\n",
       "<table border=\"1\" class=\"dataframe\">\n",
       "  <thead>\n",
       "    <tr style=\"text-align: right;\">\n",
       "      <th></th>\n",
       "      <th>Gender</th>\n",
       "      <th>Age Range</th>\n",
       "      <th>Citizenship Sub-Region</th>\n",
       "      <th>Citizenship Country</th>\n",
       "    </tr>\n",
       "  </thead>\n",
       "  <tbody>\n",
       "    <tr>\n",
       "      <th>0</th>\n",
       "      <td>Female</td>\n",
       "      <td>18--20</td>\n",
       "      <td>Latin America and the Caribbean</td>\n",
       "      <td>Colombia</td>\n",
       "    </tr>\n",
       "    <tr>\n",
       "      <th>1</th>\n",
       "      <td>Female</td>\n",
       "      <td>18--20</td>\n",
       "      <td>Latin America and the Caribbean</td>\n",
       "      <td>Colombia</td>\n",
       "    </tr>\n",
       "    <tr>\n",
       "      <th>2</th>\n",
       "      <td>Female</td>\n",
       "      <td>18--20</td>\n",
       "      <td>Latin America and the Caribbean</td>\n",
       "      <td>Colombia</td>\n",
       "    </tr>\n",
       "    <tr>\n",
       "      <th>3</th>\n",
       "      <td>Female</td>\n",
       "      <td>18--20</td>\n",
       "      <td>Latin America and the Caribbean</td>\n",
       "      <td>Colombia</td>\n",
       "    </tr>\n",
       "    <tr>\n",
       "      <th>4</th>\n",
       "      <td>Female</td>\n",
       "      <td>18--20</td>\n",
       "      <td>Latin America and the Caribbean</td>\n",
       "      <td>Colombia</td>\n",
       "    </tr>\n",
       "    <tr>\n",
       "      <th>...</th>\n",
       "      <td>...</td>\n",
       "      <td>...</td>\n",
       "      <td>...</td>\n",
       "      <td>...</td>\n",
       "    </tr>\n",
       "    <tr>\n",
       "      <th>48768</th>\n",
       "      <td>Male</td>\n",
       "      <td>9--17</td>\n",
       "      <td>Northern America</td>\n",
       "      <td>United States of America</td>\n",
       "    </tr>\n",
       "    <tr>\n",
       "      <th>48769</th>\n",
       "      <td>Male</td>\n",
       "      <td>9--17</td>\n",
       "      <td>Northern America</td>\n",
       "      <td>United States of America</td>\n",
       "    </tr>\n",
       "    <tr>\n",
       "      <th>48770</th>\n",
       "      <td>Male</td>\n",
       "      <td>9--17</td>\n",
       "      <td>Northern America</td>\n",
       "      <td>United States of America</td>\n",
       "    </tr>\n",
       "    <tr>\n",
       "      <th>48771</th>\n",
       "      <td>Male</td>\n",
       "      <td>9--17</td>\n",
       "      <td>Northern America</td>\n",
       "      <td>United States of America</td>\n",
       "    </tr>\n",
       "    <tr>\n",
       "      <th>48772</th>\n",
       "      <td>Male</td>\n",
       "      <td>9--17</td>\n",
       "      <td>Northern America</td>\n",
       "      <td>United States of America</td>\n",
       "    </tr>\n",
       "  </tbody>\n",
       "</table>\n",
       "<p>4136 rows × 4 columns</p>\n",
       "</div>"
      ],
      "text/plain": [
       "       Gender Age Range           Citizenship Sub-Region  \\\n",
       "0      Female    18--20  Latin America and the Caribbean   \n",
       "1      Female    18--20  Latin America and the Caribbean   \n",
       "2      Female    18--20  Latin America and the Caribbean   \n",
       "3      Female    18--20  Latin America and the Caribbean   \n",
       "4      Female    18--20  Latin America and the Caribbean   \n",
       "...       ...       ...                              ...   \n",
       "48768    Male     9--17                 Northern America   \n",
       "48769    Male     9--17                 Northern America   \n",
       "48770    Male     9--17                 Northern America   \n",
       "48771    Male     9--17                 Northern America   \n",
       "48772    Male     9--17                 Northern America   \n",
       "\n",
       "            Citizenship Country  \n",
       "0                      Colombia  \n",
       "1                      Colombia  \n",
       "2                      Colombia  \n",
       "3                      Colombia  \n",
       "4                      Colombia  \n",
       "...                         ...  \n",
       "48768  United States of America  \n",
       "48769  United States of America  \n",
       "48770  United States of America  \n",
       "48771  United States of America  \n",
       "48772  United States of America  \n",
       "\n",
       "[4136 rows x 4 columns]"
      ]
     },
     "execution_count": 144,
     "metadata": {},
     "output_type": "execute_result"
    }
   ],
   "source": [
    "americas_df = citizen_df_renamed.loc[citizen_df_renamed['Citizenship Region'] == 'Americas', ['Gender', 'Age Range', 'Citizenship Sub-Region', 'Citizenship Country']]\n",
    "americas_df"
   ]
  },
  {
   "cell_type": "code",
   "execution_count": null,
   "metadata": {},
   "outputs": [],
   "source": []
  },
  {
   "cell_type": "code",
   "execution_count": null,
   "metadata": {},
   "outputs": [],
   "source": []
  },
  {
   "cell_type": "code",
   "execution_count": null,
   "metadata": {},
   "outputs": [],
   "source": []
  },
  {
   "cell_type": "code",
   "execution_count": null,
   "metadata": {},
   "outputs": [],
   "source": []
  },
  {
   "cell_type": "code",
   "execution_count": null,
   "metadata": {},
   "outputs": [],
   "source": []
  },
  {
   "cell_type": "code",
   "execution_count": null,
   "metadata": {},
   "outputs": [],
   "source": [
    "regions = ['Americas', 'Africa', 'Asia', 'Europe', 'unknown']\n",
    "counts_per_region = ['4136', '1365', '17992', '16144', '9136']\n",
    "x_axis = np.arange(len(regions))"
   ]
  },
  {
   "cell_type": "code",
   "execution_count": null,
   "metadata": {},
   "outputs": [],
   "source": [
    "plt.bar(x_axis, counts_per_region, color = 'm', align = 'center')"
   ]
  },
  {
   "cell_type": "code",
   "execution_count": null,
   "metadata": {},
   "outputs": [],
   "source": []
  },
  {
   "cell_type": "code",
   "execution_count": null,
   "metadata": {},
   "outputs": [],
   "source": []
  },
  {
   "cell_type": "code",
   "execution_count": null,
   "metadata": {},
   "outputs": [],
   "source": []
  },
  {
   "cell_type": "code",
   "execution_count": null,
   "metadata": {},
   "outputs": [],
   "source": []
  },
  {
   "cell_type": "code",
   "execution_count": null,
   "metadata": {},
   "outputs": [],
   "source": []
  },
  {
   "cell_type": "code",
   "execution_count": null,
   "metadata": {},
   "outputs": [],
   "source": []
  },
  {
   "cell_type": "code",
   "execution_count": null,
   "metadata": {},
   "outputs": [],
   "source": []
  },
  {
   "cell_type": "code",
   "execution_count": null,
   "metadata": {},
   "outputs": [],
   "source": []
  },
  {
   "cell_type": "code",
   "execution_count": null,
   "metadata": {},
   "outputs": [],
   "source": []
  },
  {
   "cell_type": "code",
   "execution_count": null,
   "metadata": {},
   "outputs": [],
   "source": []
  },
  {
   "cell_type": "code",
   "execution_count": null,
   "metadata": {},
   "outputs": [],
   "source": [
    "pycountry.countries.lookup('CO')"
   ]
  }
 ],
 "metadata": {
  "kernelspec": {
   "display_name": "Python 3",
   "language": "python",
   "name": "python3"
  },
  "language_info": {
   "codemirror_mode": {
    "name": "ipython",
    "version": 3
   },
   "file_extension": ".py",
   "mimetype": "text/x-python",
   "name": "python",
   "nbconvert_exporter": "python",
   "pygments_lexer": "ipython3",
   "version": "3.8.3"
  }
 },
 "nbformat": 4,
 "nbformat_minor": 4
}
