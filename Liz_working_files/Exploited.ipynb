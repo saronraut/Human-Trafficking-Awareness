{
 "cells": [
  {
   "cell_type": "code",
   "execution_count": 57,
   "metadata": {},
   "outputs": [],
   "source": [
    "#%matplotlib notebook\n",
    "import pandas as pd\n",
    "import numpy as np\n",
    "import matplotlib.pyplot as plt\n",
    "import scipy.stats as st\n",
    "from scipy.stats import linregress\n",
    "import pycountry\n",
    "\n",
    "\n",
    "#data file to work with\n",
    "file = '../cleanData/CleanFullDataSet.csv'\n",
    "\n",
    "#read data file\n",
    "clean_data = pd.read_csv(file, low_memory = False)"
   ]
  },
  {
   "cell_type": "code",
   "execution_count": 58,
   "metadata": {},
   "outputs": [
    {
     "data": {
      "text/html": [
       "<div>\n",
       "<style scoped>\n",
       "    .dataframe tbody tr th:only-of-type {\n",
       "        vertical-align: middle;\n",
       "    }\n",
       "\n",
       "    .dataframe tbody tr th {\n",
       "        vertical-align: top;\n",
       "    }\n",
       "\n",
       "    .dataframe thead th {\n",
       "        text-align: right;\n",
       "    }\n",
       "</style>\n",
       "<table border=\"1\" class=\"dataframe\">\n",
       "  <thead>\n",
       "    <tr style=\"text-align: right;\">\n",
       "      <th></th>\n",
       "      <th>gender</th>\n",
       "      <th>ageBroad</th>\n",
       "      <th>Exploit Region</th>\n",
       "      <th>Exploit Country</th>\n",
       "      <th>Exploit Sub-Region</th>\n",
       "    </tr>\n",
       "  </thead>\n",
       "  <tbody>\n",
       "    <tr>\n",
       "      <th>0</th>\n",
       "      <td>Female</td>\n",
       "      <td>18--20</td>\n",
       "      <td>unknown</td>\n",
       "      <td>unknown</td>\n",
       "      <td>unknown</td>\n",
       "    </tr>\n",
       "    <tr>\n",
       "      <th>1</th>\n",
       "      <td>Female</td>\n",
       "      <td>18--20</td>\n",
       "      <td>unknown</td>\n",
       "      <td>unknown</td>\n",
       "      <td>unknown</td>\n",
       "    </tr>\n",
       "  </tbody>\n",
       "</table>\n",
       "</div>"
      ],
      "text/plain": [
       "   gender ageBroad Exploit Region Exploit Country Exploit Sub-Region\n",
       "0  Female   18--20        unknown         unknown            unknown\n",
       "1  Female   18--20        unknown         unknown            unknown"
      ]
     },
     "execution_count": 58,
     "metadata": {},
     "output_type": "execute_result"
    }
   ],
   "source": [
    "# display the columns related to citizenship data \n",
    "start_df = pd.DataFrame(clean_data[['gender', 'ageBroad', 'Exploit Region', 'Exploit Country', 'Exploit Sub-Region']])\n",
    "start_df.head(2)"
   ]
  },
  {
   "cell_type": "code",
   "execution_count": 59,
   "metadata": {},
   "outputs": [
    {
     "data": {
      "text/plain": [
       "gender                48773\n",
       "ageBroad              48773\n",
       "Exploit Region        47896\n",
       "Exploit Country       47896\n",
       "Exploit Sub-Region    47896\n",
       "dtype: int64"
      ]
     },
     "execution_count": 59,
     "metadata": {},
     "output_type": "execute_result"
    }
   ],
   "source": [
    "start_df.count()"
   ]
  },
  {
   "cell_type": "code",
   "execution_count": 60,
   "metadata": {},
   "outputs": [
    {
     "data": {
      "text/html": [
       "<div>\n",
       "<style scoped>\n",
       "    .dataframe tbody tr th:only-of-type {\n",
       "        vertical-align: middle;\n",
       "    }\n",
       "\n",
       "    .dataframe tbody tr th {\n",
       "        vertical-align: top;\n",
       "    }\n",
       "\n",
       "    .dataframe thead th {\n",
       "        text-align: right;\n",
       "    }\n",
       "</style>\n",
       "<table border=\"1\" class=\"dataframe\">\n",
       "  <thead>\n",
       "    <tr style=\"text-align: right;\">\n",
       "      <th></th>\n",
       "      <th>gender</th>\n",
       "      <th>ageBroad</th>\n",
       "      <th>Exploit Region</th>\n",
       "      <th>Exploit Country</th>\n",
       "      <th>Exploit Sub-Region</th>\n",
       "    </tr>\n",
       "  </thead>\n",
       "  <tbody>\n",
       "    <tr>\n",
       "      <th>0</th>\n",
       "      <td>Female</td>\n",
       "      <td>18--20</td>\n",
       "      <td>unknown</td>\n",
       "      <td>unknown</td>\n",
       "      <td>unknown</td>\n",
       "    </tr>\n",
       "    <tr>\n",
       "      <th>1</th>\n",
       "      <td>Female</td>\n",
       "      <td>18--20</td>\n",
       "      <td>unknown</td>\n",
       "      <td>unknown</td>\n",
       "      <td>unknown</td>\n",
       "    </tr>\n",
       "    <tr>\n",
       "      <th>2</th>\n",
       "      <td>Female</td>\n",
       "      <td>18--20</td>\n",
       "      <td>unknown</td>\n",
       "      <td>unknown</td>\n",
       "      <td>unknown</td>\n",
       "    </tr>\n",
       "    <tr>\n",
       "      <th>3</th>\n",
       "      <td>Female</td>\n",
       "      <td>18--20</td>\n",
       "      <td>unknown</td>\n",
       "      <td>unknown</td>\n",
       "      <td>unknown</td>\n",
       "    </tr>\n",
       "    <tr>\n",
       "      <th>4</th>\n",
       "      <td>Female</td>\n",
       "      <td>18--20</td>\n",
       "      <td>unknown</td>\n",
       "      <td>unknown</td>\n",
       "      <td>unknown</td>\n",
       "    </tr>\n",
       "  </tbody>\n",
       "</table>\n",
       "</div>"
      ],
      "text/plain": [
       "   gender ageBroad Exploit Region Exploit Country Exploit Sub-Region\n",
       "0  Female   18--20        unknown         unknown            unknown\n",
       "1  Female   18--20        unknown         unknown            unknown\n",
       "2  Female   18--20        unknown         unknown            unknown\n",
       "3  Female   18--20        unknown         unknown            unknown\n",
       "4  Female   18--20        unknown         unknown            unknown"
      ]
     },
     "execution_count": 60,
     "metadata": {},
     "output_type": "execute_result"
    }
   ],
   "source": [
    "start_df = start_df.dropna(how='any')\n",
    "start_df.head()"
   ]
  },
  {
   "cell_type": "code",
   "execution_count": 61,
   "metadata": {},
   "outputs": [],
   "source": [
    "replace_df = start_df.replace('unknown', np.NaN)"
   ]
  },
  {
   "cell_type": "code",
   "execution_count": 62,
   "metadata": {},
   "outputs": [
    {
     "data": {
      "text/html": [
       "<div>\n",
       "<style scoped>\n",
       "    .dataframe tbody tr th:only-of-type {\n",
       "        vertical-align: middle;\n",
       "    }\n",
       "\n",
       "    .dataframe tbody tr th {\n",
       "        vertical-align: top;\n",
       "    }\n",
       "\n",
       "    .dataframe thead th {\n",
       "        text-align: right;\n",
       "    }\n",
       "</style>\n",
       "<table border=\"1\" class=\"dataframe\">\n",
       "  <thead>\n",
       "    <tr style=\"text-align: right;\">\n",
       "      <th></th>\n",
       "      <th>gender</th>\n",
       "      <th>ageBroad</th>\n",
       "      <th>Exploit Region</th>\n",
       "      <th>Exploit Country</th>\n",
       "      <th>Exploit Sub-Region</th>\n",
       "    </tr>\n",
       "  </thead>\n",
       "  <tbody>\n",
       "    <tr>\n",
       "      <th>104</th>\n",
       "      <td>Female</td>\n",
       "      <td>18--20</td>\n",
       "      <td>Europe</td>\n",
       "      <td>Serbia</td>\n",
       "      <td>Southern Europe</td>\n",
       "    </tr>\n",
       "    <tr>\n",
       "      <th>105</th>\n",
       "      <td>Female</td>\n",
       "      <td>18--20</td>\n",
       "      <td>Europe</td>\n",
       "      <td>Serbia</td>\n",
       "      <td>Southern Europe</td>\n",
       "    </tr>\n",
       "    <tr>\n",
       "      <th>106</th>\n",
       "      <td>Female</td>\n",
       "      <td>18--20</td>\n",
       "      <td>Europe</td>\n",
       "      <td>Serbia</td>\n",
       "      <td>Southern Europe</td>\n",
       "    </tr>\n",
       "    <tr>\n",
       "      <th>107</th>\n",
       "      <td>Female</td>\n",
       "      <td>18--20</td>\n",
       "      <td>Europe</td>\n",
       "      <td>Serbia</td>\n",
       "      <td>Southern Europe</td>\n",
       "    </tr>\n",
       "    <tr>\n",
       "      <th>108</th>\n",
       "      <td>Female</td>\n",
       "      <td>18--20</td>\n",
       "      <td>Europe</td>\n",
       "      <td>Serbia</td>\n",
       "      <td>Southern Europe</td>\n",
       "    </tr>\n",
       "  </tbody>\n",
       "</table>\n",
       "</div>"
      ],
      "text/plain": [
       "     gender ageBroad Exploit Region Exploit Country Exploit Sub-Region\n",
       "104  Female   18--20         Europe          Serbia    Southern Europe\n",
       "105  Female   18--20         Europe          Serbia    Southern Europe\n",
       "106  Female   18--20         Europe          Serbia    Southern Europe\n",
       "107  Female   18--20         Europe          Serbia    Southern Europe\n",
       "108  Female   18--20         Europe          Serbia    Southern Europe"
      ]
     },
     "execution_count": 62,
     "metadata": {},
     "output_type": "execute_result"
    }
   ],
   "source": [
    "drop_df = replace_df.dropna(how='any')\n",
    "drop_df.head()"
   ]
  },
  {
   "cell_type": "code",
   "execution_count": 63,
   "metadata": {},
   "outputs": [
    {
     "data": {
      "text/plain": [
       "gender                34632\n",
       "ageBroad              34632\n",
       "Exploit Region        34632\n",
       "Exploit Country       34632\n",
       "Exploit Sub-Region    34632\n",
       "dtype: int64"
      ]
     },
     "execution_count": 63,
     "metadata": {},
     "output_type": "execute_result"
    }
   ],
   "source": [
    "drop_df.count()"
   ]
  },
  {
   "cell_type": "code",
   "execution_count": 64,
   "metadata": {},
   "outputs": [
    {
     "data": {
      "text/html": [
       "<div>\n",
       "<style scoped>\n",
       "    .dataframe tbody tr th:only-of-type {\n",
       "        vertical-align: middle;\n",
       "    }\n",
       "\n",
       "    .dataframe tbody tr th {\n",
       "        vertical-align: top;\n",
       "    }\n",
       "\n",
       "    .dataframe thead th {\n",
       "        text-align: right;\n",
       "    }\n",
       "</style>\n",
       "<table border=\"1\" class=\"dataframe\">\n",
       "  <thead>\n",
       "    <tr style=\"text-align: right;\">\n",
       "      <th></th>\n",
       "      <th>Gender</th>\n",
       "      <th>Age Range</th>\n",
       "      <th>Exploit Region</th>\n",
       "      <th>Exploit Country</th>\n",
       "      <th>Exploit Sub-Region</th>\n",
       "    </tr>\n",
       "  </thead>\n",
       "  <tbody>\n",
       "    <tr>\n",
       "      <th>104</th>\n",
       "      <td>Female</td>\n",
       "      <td>18--20</td>\n",
       "      <td>Europe</td>\n",
       "      <td>Serbia</td>\n",
       "      <td>Southern Europe</td>\n",
       "    </tr>\n",
       "    <tr>\n",
       "      <th>105</th>\n",
       "      <td>Female</td>\n",
       "      <td>18--20</td>\n",
       "      <td>Europe</td>\n",
       "      <td>Serbia</td>\n",
       "      <td>Southern Europe</td>\n",
       "    </tr>\n",
       "  </tbody>\n",
       "</table>\n",
       "</div>"
      ],
      "text/plain": [
       "     Gender Age Range Exploit Region Exploit Country Exploit Sub-Region\n",
       "104  Female    18--20         Europe          Serbia    Southern Europe\n",
       "105  Female    18--20         Europe          Serbia    Southern Europe"
      ]
     },
     "execution_count": 64,
     "metadata": {},
     "output_type": "execute_result"
    }
   ],
   "source": [
    "exploit_df = drop_df.rename(columns = {'gender' : 'Gender', 'ageBroad' : 'Age Range',})\n",
    "exploit_df.head(2)"
   ]
  },
  {
   "cell_type": "code",
   "execution_count": 65,
   "metadata": {},
   "outputs": [
    {
     "data": {
      "text/plain": [
       "55"
      ]
     },
     "execution_count": 65,
     "metadata": {},
     "output_type": "execute_result"
    }
   ],
   "source": [
    "exploit_df['Exploit Country'].nunique()"
   ]
  },
  {
   "cell_type": "code",
   "execution_count": 66,
   "metadata": {},
   "outputs": [
    {
     "data": {
      "text/plain": [
       "United States of America    12512\n",
       "Ukraine                      5399\n",
       "Republic of Moldova          4504\n",
       "Russian Federation           2738\n",
       "Indonesia                    1777\n",
       "Malaysia                      770\n",
       "Cambodia                      555\n",
       "Ghana                         544\n",
       "United Arab Emirates          491\n",
       "Belarus                       400\n",
       "Thailand                      380\n",
       "Senegal                       370\n",
       "Bulgaria                      356\n",
       "Haiti                         339\n",
       "Poland                        326\n",
       "Romania                       259\n",
       "Serbia                        248\n",
       "Kazakhstan                    222\n",
       "Saudi Arabia                  218\n",
       "Turkey                        197\n",
       "North Macedonia               194\n",
       "Uzbekistan                    193\n",
       "Qatar                         152\n",
       "Bosnia and Herzegovina        127\n",
       "Uganda                        123\n",
       "Jordan                        108\n",
       "Oman                           94\n",
       "Madagascar                     94\n",
       "Trinidad and Tobago            85\n",
       "Afghanistan                    83\n",
       "Sierra Leone                   81\n",
       "China                          79\n",
       "Lebanon                        55\n",
       "Tajikistan                     54\n",
       "India                          46\n",
       "Syrian Arab Republic           41\n",
       "Czechia                        38\n",
       "Singapore                      37\n",
       "South Africa                   36\n",
       "Hong Kong                      31\n",
       "Bangladesh                     26\n",
       "Turkmenistan                   26\n",
       "Italy                          24\n",
       "Austria                        24\n",
       "Albania                        22\n",
       "Bahrain                        22\n",
       "Mauritius                      20\n",
       "Argentina                      18\n",
       "Denmark                        17\n",
       "Viet Nam                       16\n",
       "Ecuador                        13\n",
       "Egypt                          13\n",
       "Philippines                    13\n",
       "Libya                          11\n",
       "Cyprus                         11\n",
       "Name: Exploit Country, dtype: int64"
      ]
     },
     "execution_count": 66,
     "metadata": {},
     "output_type": "execute_result"
    }
   ],
   "source": [
    "exploit_df['Exploit Country'].value_counts()"
   ]
  },
  {
   "cell_type": "code",
   "execution_count": 67,
   "metadata": {},
   "outputs": [
    {
     "data": {
      "text/plain": [
       "Europe      14676\n",
       "Americas    12967\n",
       "Asia         5697\n",
       "Africa       1292\n",
       "Name: Exploit Region, dtype: int64"
      ]
     },
     "execution_count": 67,
     "metadata": {},
     "output_type": "execute_result"
    }
   ],
   "source": [
    "regions = exploit_df['Exploit Region'].value_counts()\n",
    "regions"
   ]
  },
  {
   "cell_type": "code",
   "execution_count": 81,
   "metadata": {},
   "outputs": [
    {
     "data": {
      "text/plain": [
       "Eastern Europe                     14020\n",
       "Northern America                   12512\n",
       "South-eastern Asia                  3548\n",
       "Western Asia                        1389\n",
       "Sub-Saharan Africa                  1268\n",
       "Southern Europe                      615\n",
       "Central Asia                         495\n",
       "Latin America and the Caribbean      455\n",
       "Southern Asia                        155\n",
       "Eastern Asia                         110\n",
       "Western Europe                        24\n",
       "Northern Africa                       24\n",
       "Northern Europe                       17\n",
       "Name: Exploit Sub-Region, dtype: int64"
      ]
     },
     "execution_count": 81,
     "metadata": {},
     "output_type": "execute_result"
    }
   ],
   "source": [
    "sub_regions = exploit_df['Exploit Sub-Region'].value_counts()\n",
    "sub_regions"
   ]
  },
  {
   "cell_type": "markdown",
   "metadata": {},
   "source": [
    "## ASIA"
   ]
  },
  {
   "cell_type": "code",
   "execution_count": 69,
   "metadata": {},
   "outputs": [
    {
     "data": {
      "text/plain": [
       "Gender                 1\n",
       "Age Range              9\n",
       "Exploit Region         1\n",
       "Exploit Country       24\n",
       "Exploit Sub-Region     5\n",
       "dtype: int64"
      ]
     },
     "execution_count": 69,
     "metadata": {},
     "output_type": "execute_result"
    }
   ],
   "source": [
    "#create a data frame for each region, based on gender\n",
    "is_female = exploit_df['Gender'] == 'Female'\n",
    "is_male = exploit_df['Gender'] == 'Male'\n",
    "is_asia = exploit_df['Exploit Region'] == 'Asia'\n",
    "\n",
    "female_asia = pd.DataFrame(exploit_df[is_female & is_asia])\n",
    "male_asia = pd.DataFrame(exploit_df[is_male & is_asia])\n",
    "\n",
    "female_asia.nunique()"
   ]
  },
  {
   "cell_type": "code",
   "execution_count": 70,
   "metadata": {},
   "outputs": [
    {
     "data": {
      "text/plain": [
       "Gender                 1\n",
       "Age Range              9\n",
       "Exploit Region         1\n",
       "Exploit Country       10\n",
       "Exploit Sub-Region     4\n",
       "dtype: int64"
      ]
     },
     "execution_count": 70,
     "metadata": {},
     "output_type": "execute_result"
    }
   ],
   "source": [
    "male_asia.nunique()"
   ]
  },
  {
   "cell_type": "code",
   "execution_count": 71,
   "metadata": {},
   "outputs": [
    {
     "data": {
      "text/html": [
       "<div>\n",
       "<style scoped>\n",
       "    .dataframe tbody tr th:only-of-type {\n",
       "        vertical-align: middle;\n",
       "    }\n",
       "\n",
       "    .dataframe tbody tr th {\n",
       "        vertical-align: top;\n",
       "    }\n",
       "\n",
       "    .dataframe thead th {\n",
       "        text-align: right;\n",
       "    }\n",
       "</style>\n",
       "<table border=\"1\" class=\"dataframe\">\n",
       "  <thead>\n",
       "    <tr style=\"text-align: right;\">\n",
       "      <th></th>\n",
       "      <th>Gender</th>\n",
       "      <th>Age Range</th>\n",
       "      <th>Exploit Sub-Region</th>\n",
       "      <th>Exploit Country</th>\n",
       "    </tr>\n",
       "  </thead>\n",
       "  <tbody>\n",
       "    <tr>\n",
       "      <th>1473</th>\n",
       "      <td>Female</td>\n",
       "      <td>21--23</td>\n",
       "      <td>Western Asia</td>\n",
       "      <td>United Arab Emirates</td>\n",
       "    </tr>\n",
       "    <tr>\n",
       "      <th>1474</th>\n",
       "      <td>Female</td>\n",
       "      <td>21--23</td>\n",
       "      <td>Western Asia</td>\n",
       "      <td>United Arab Emirates</td>\n",
       "    </tr>\n",
       "  </tbody>\n",
       "</table>\n",
       "</div>"
      ],
      "text/plain": [
       "      Gender Age Range Exploit Sub-Region       Exploit Country\n",
       "1473  Female    21--23       Western Asia  United Arab Emirates\n",
       "1474  Female    21--23       Western Asia  United Arab Emirates"
      ]
     },
     "execution_count": 71,
     "metadata": {},
     "output_type": "execute_result"
    }
   ],
   "source": [
    "asia_df = exploit_df.loc[exploit_df['Exploit Region'] == 'Asia', ['Gender', 'Age Range', 'Exploit Sub-Region', 'Exploit Country']]\n",
    "asia_df.head(2)"
   ]
  },
  {
   "cell_type": "code",
   "execution_count": 72,
   "metadata": {},
   "outputs": [
    {
     "data": {
      "text/html": [
       "<div>\n",
       "<style scoped>\n",
       "    .dataframe tbody tr th:only-of-type {\n",
       "        vertical-align: middle;\n",
       "    }\n",
       "\n",
       "    .dataframe tbody tr th {\n",
       "        vertical-align: top;\n",
       "    }\n",
       "\n",
       "    .dataframe thead th {\n",
       "        text-align: right;\n",
       "    }\n",
       "</style>\n",
       "<table border=\"1\" class=\"dataframe\">\n",
       "  <thead>\n",
       "    <tr style=\"text-align: right;\">\n",
       "      <th></th>\n",
       "      <th>Gender</th>\n",
       "      <th>Age Range</th>\n",
       "      <th>Exploit Sub-Region</th>\n",
       "      <th>Exploit Country</th>\n",
       "    </tr>\n",
       "  </thead>\n",
       "  <tbody>\n",
       "    <tr>\n",
       "      <th>1473</th>\n",
       "      <td>Female</td>\n",
       "      <td>21--23</td>\n",
       "      <td>Western Asia</td>\n",
       "      <td>United Arab Emirates</td>\n",
       "    </tr>\n",
       "    <tr>\n",
       "      <th>1474</th>\n",
       "      <td>Female</td>\n",
       "      <td>21--23</td>\n",
       "      <td>Western Asia</td>\n",
       "      <td>United Arab Emirates</td>\n",
       "    </tr>\n",
       "    <tr>\n",
       "      <th>1475</th>\n",
       "      <td>Female</td>\n",
       "      <td>21--23</td>\n",
       "      <td>Western Asia</td>\n",
       "      <td>United Arab Emirates</td>\n",
       "    </tr>\n",
       "    <tr>\n",
       "      <th>1476</th>\n",
       "      <td>Female</td>\n",
       "      <td>21--23</td>\n",
       "      <td>Western Asia</td>\n",
       "      <td>United Arab Emirates</td>\n",
       "    </tr>\n",
       "    <tr>\n",
       "      <th>1477</th>\n",
       "      <td>Female</td>\n",
       "      <td>21--23</td>\n",
       "      <td>Western Asia</td>\n",
       "      <td>United Arab Emirates</td>\n",
       "    </tr>\n",
       "  </tbody>\n",
       "</table>\n",
       "</div>"
      ],
      "text/plain": [
       "      Gender Age Range Exploit Sub-Region       Exploit Country\n",
       "1473  Female    21--23       Western Asia  United Arab Emirates\n",
       "1474  Female    21--23       Western Asia  United Arab Emirates\n",
       "1475  Female    21--23       Western Asia  United Arab Emirates\n",
       "1476  Female    21--23       Western Asia  United Arab Emirates\n",
       "1477  Female    21--23       Western Asia  United Arab Emirates"
      ]
     },
     "execution_count": 72,
     "metadata": {},
     "output_type": "execute_result"
    }
   ],
   "source": [
    "asia_df.copy()\n",
    "asia_df.head()"
   ]
  },
  {
   "cell_type": "code",
   "execution_count": 73,
   "metadata": {},
   "outputs": [
    {
     "data": {
      "text/plain": [
       "Indonesia               1777\n",
       "Malaysia                 770\n",
       "Cambodia                 555\n",
       "United Arab Emirates     491\n",
       "Thailand                 380\n",
       "Kazakhstan               222\n",
       "Saudi Arabia             218\n",
       "Turkey                   197\n",
       "Uzbekistan               193\n",
       "Qatar                    152\n",
       "Jordan                   108\n",
       "Oman                      94\n",
       "Afghanistan               83\n",
       "China                     79\n",
       "Lebanon                   55\n",
       "Tajikistan                54\n",
       "India                     46\n",
       "Syrian Arab Republic      41\n",
       "Singapore                 37\n",
       "Hong Kong                 31\n",
       "Turkmenistan              26\n",
       "Bangladesh                26\n",
       "Bahrain                   22\n",
       "Viet Nam                  16\n",
       "Philippines               13\n",
       "Cyprus                    11\n",
       "Name: Exploit Country, dtype: int64"
      ]
     },
     "execution_count": 73,
     "metadata": {},
     "output_type": "execute_result"
    }
   ],
   "source": [
    "country_counts = asia_df['Exploit Country'].value_counts()\n",
    "country_counts"
   ]
  },
  {
   "cell_type": "code",
   "execution_count": 74,
   "metadata": {},
   "outputs": [
    {
     "data": {
      "text/plain": [
       "South-eastern Asia    3548\n",
       "Western Asia          1389\n",
       "Central Asia           495\n",
       "Southern Asia          155\n",
       "Eastern Asia           110\n",
       "Name: Exploit Sub-Region, dtype: int64"
      ]
     },
     "execution_count": 74,
     "metadata": {},
     "output_type": "execute_result"
    }
   ],
   "source": [
    "asia_sub_counts = asia_df['Exploit Sub-Region'].value_counts()\n",
    "asia_sub_counts"
   ]
  },
  {
   "cell_type": "code",
   "execution_count": 75,
   "metadata": {},
   "outputs": [
    {
     "data": {
      "text/plain": [
       "['Western Asia',\n",
       " 'Central Asia',\n",
       " 'South-eastern Asia',\n",
       " 'Southern Asia',\n",
       " 'Eastern Asia']"
      ]
     },
     "execution_count": 75,
     "metadata": {},
     "output_type": "execute_result"
    }
   ],
   "source": [
    "asia_sub_list = asia_df['Exploit Sub-Region'].unique()\n",
    "list(asia_sub_list)"
   ]
  },
  {
   "cell_type": "code",
   "execution_count": 76,
   "metadata": {},
   "outputs": [
    {
     "data": {
      "text/plain": [
       "array(['United Arab Emirates', 'Cyprus', 'Turkey', 'Uzbekistan',\n",
       "       'Malaysia', 'Tajikistan', 'Indonesia', 'Kazakhstan', 'Thailand',\n",
       "       'Turkmenistan', 'Jordan', 'Afghanistan', 'Syrian Arab Republic',\n",
       "       'Qatar', 'Saudi Arabia', 'Singapore', 'Oman', 'Bahrain', 'Lebanon',\n",
       "       'Philippines', 'Cambodia', 'China', 'Viet Nam', 'Hong Kong',\n",
       "       'India', 'Bangladesh'], dtype=object)"
      ]
     },
     "execution_count": 76,
     "metadata": {},
     "output_type": "execute_result"
    }
   ],
   "source": [
    "asia_country_list = asia_df['Exploit Country'].unique()\n",
    "asia_country_list"
   ]
  },
  {
   "cell_type": "code",
   "execution_count": 77,
   "metadata": {},
   "outputs": [
    {
     "data": {
      "text/plain": [
       "Female    3268\n",
       "Male      2429\n",
       "Name: Gender, dtype: int64"
      ]
     },
     "execution_count": 77,
     "metadata": {},
     "output_type": "execute_result"
    }
   ],
   "source": [
    "asia_gender_counts = asia_df['Gender'].value_counts()\n",
    "asia_gender_counts"
   ]
  },
  {
   "cell_type": "code",
   "execution_count": 87,
   "metadata": {},
   "outputs": [
    {
     "name": "stdout",
     "output_type": "stream",
     "text": [
      "<pandas.core.groupby.generic.DataFrameGroupBy object at 0x0000013286276580>\n"
     ]
    },
    {
     "data": {
      "text/html": [
       "<div>\n",
       "<style scoped>\n",
       "    .dataframe tbody tr th:only-of-type {\n",
       "        vertical-align: middle;\n",
       "    }\n",
       "\n",
       "    .dataframe tbody tr th {\n",
       "        vertical-align: top;\n",
       "    }\n",
       "\n",
       "    .dataframe thead th {\n",
       "        text-align: right;\n",
       "    }\n",
       "</style>\n",
       "<table border=\"1\" class=\"dataframe\">\n",
       "  <thead>\n",
       "    <tr style=\"text-align: right;\">\n",
       "      <th></th>\n",
       "      <th></th>\n",
       "      <th></th>\n",
       "      <th>Exploit Sub-Region</th>\n",
       "    </tr>\n",
       "    <tr>\n",
       "      <th>Exploit Country</th>\n",
       "      <th>Gender</th>\n",
       "      <th>Age Range</th>\n",
       "      <th></th>\n",
       "    </tr>\n",
       "  </thead>\n",
       "  <tbody>\n",
       "    <tr>\n",
       "      <th>Afghanistan</th>\n",
       "      <th>Male</th>\n",
       "      <th>9--17</th>\n",
       "      <td>83</td>\n",
       "    </tr>\n",
       "    <tr>\n",
       "      <th>Bahrain</th>\n",
       "      <th>Female</th>\n",
       "      <th>30--38</th>\n",
       "      <td>22</td>\n",
       "    </tr>\n",
       "    <tr>\n",
       "      <th>Bangladesh</th>\n",
       "      <th>Female</th>\n",
       "      <th>9--17</th>\n",
       "      <td>26</td>\n",
       "    </tr>\n",
       "    <tr>\n",
       "      <th rowspan=\"9\" valign=\"top\">Cambodia</th>\n",
       "      <th rowspan=\"5\" valign=\"top\">Female</th>\n",
       "      <th>0--8</th>\n",
       "      <td>31</td>\n",
       "    </tr>\n",
       "    <tr>\n",
       "      <th>18--20</th>\n",
       "      <td>45</td>\n",
       "    </tr>\n",
       "    <tr>\n",
       "      <th>21--23</th>\n",
       "      <td>26</td>\n",
       "    </tr>\n",
       "    <tr>\n",
       "      <th>30--38</th>\n",
       "      <td>32</td>\n",
       "    </tr>\n",
       "    <tr>\n",
       "      <th>9--17</th>\n",
       "      <td>169</td>\n",
       "    </tr>\n",
       "    <tr>\n",
       "      <th rowspan=\"4\" valign=\"top\">Male</th>\n",
       "      <th>18--20</th>\n",
       "      <td>30</td>\n",
       "    </tr>\n",
       "    <tr>\n",
       "      <th>21--23</th>\n",
       "      <td>25</td>\n",
       "    </tr>\n",
       "    <tr>\n",
       "      <th>24--26</th>\n",
       "      <td>17</td>\n",
       "    </tr>\n",
       "    <tr>\n",
       "      <th>9--17</th>\n",
       "      <td>180</td>\n",
       "    </tr>\n",
       "    <tr>\n",
       "      <th rowspan=\"5\" valign=\"top\">China</th>\n",
       "      <th rowspan=\"5\" valign=\"top\">Female</th>\n",
       "      <th>18--20</th>\n",
       "      <td>15</td>\n",
       "    </tr>\n",
       "    <tr>\n",
       "      <th>21--23</th>\n",
       "      <td>27</td>\n",
       "    </tr>\n",
       "    <tr>\n",
       "      <th>24--26</th>\n",
       "      <td>15</td>\n",
       "    </tr>\n",
       "    <tr>\n",
       "      <th>27--29</th>\n",
       "      <td>11</td>\n",
       "    </tr>\n",
       "    <tr>\n",
       "      <th>9--17</th>\n",
       "      <td>11</td>\n",
       "    </tr>\n",
       "    <tr>\n",
       "      <th>Cyprus</th>\n",
       "      <th>Female</th>\n",
       "      <th>21--23</th>\n",
       "      <td>11</td>\n",
       "    </tr>\n",
       "    <tr>\n",
       "      <th rowspan=\"2\" valign=\"top\">Hong Kong</th>\n",
       "      <th rowspan=\"2\" valign=\"top\">Female</th>\n",
       "      <th>30--38</th>\n",
       "      <td>18</td>\n",
       "    </tr>\n",
       "    <tr>\n",
       "      <th>39--47</th>\n",
       "      <td>13</td>\n",
       "    </tr>\n",
       "    <tr>\n",
       "      <th>India</th>\n",
       "      <th>Female</th>\n",
       "      <th>9--17</th>\n",
       "      <td>46</td>\n",
       "    </tr>\n",
       "    <tr>\n",
       "      <th rowspan=\"13\" valign=\"top\">Indonesia</th>\n",
       "      <th rowspan=\"6\" valign=\"top\">Female</th>\n",
       "      <th>18--20</th>\n",
       "      <td>84</td>\n",
       "    </tr>\n",
       "    <tr>\n",
       "      <th>21--23</th>\n",
       "      <td>38</td>\n",
       "    </tr>\n",
       "    <tr>\n",
       "      <th>24--26</th>\n",
       "      <td>16</td>\n",
       "    </tr>\n",
       "    <tr>\n",
       "      <th>27--29</th>\n",
       "      <td>14</td>\n",
       "    </tr>\n",
       "    <tr>\n",
       "      <th>30--38</th>\n",
       "      <td>49</td>\n",
       "    </tr>\n",
       "    <tr>\n",
       "      <th>9--17</th>\n",
       "      <td>44</td>\n",
       "    </tr>\n",
       "    <tr>\n",
       "      <th rowspan=\"7\" valign=\"top\">Male</th>\n",
       "      <th>18--20</th>\n",
       "      <td>43</td>\n",
       "    </tr>\n",
       "    <tr>\n",
       "      <th>21--23</th>\n",
       "      <td>132</td>\n",
       "    </tr>\n",
       "    <tr>\n",
       "      <th>24--26</th>\n",
       "      <td>208</td>\n",
       "    </tr>\n",
       "    <tr>\n",
       "      <th>27--29</th>\n",
       "      <td>206</td>\n",
       "    </tr>\n",
       "    <tr>\n",
       "      <th>30--38</th>\n",
       "      <td>621</td>\n",
       "    </tr>\n",
       "    <tr>\n",
       "      <th>39--47</th>\n",
       "      <td>243</td>\n",
       "    </tr>\n",
       "    <tr>\n",
       "      <th>48+</th>\n",
       "      <td>79</td>\n",
       "    </tr>\n",
       "    <tr>\n",
       "      <th rowspan=\"3\" valign=\"top\">Jordan</th>\n",
       "      <th rowspan=\"3\" valign=\"top\">Female</th>\n",
       "      <th>27--29</th>\n",
       "      <td>12</td>\n",
       "    </tr>\n",
       "    <tr>\n",
       "      <th>30--38</th>\n",
       "      <td>70</td>\n",
       "    </tr>\n",
       "    <tr>\n",
       "      <th>39--47</th>\n",
       "      <td>26</td>\n",
       "    </tr>\n",
       "    <tr>\n",
       "      <th rowspan=\"5\" valign=\"top\">Kazakhstan</th>\n",
       "      <th rowspan=\"2\" valign=\"top\">Female</th>\n",
       "      <th>18--20</th>\n",
       "      <td>39</td>\n",
       "    </tr>\n",
       "    <tr>\n",
       "      <th>21--23</th>\n",
       "      <td>15</td>\n",
       "    </tr>\n",
       "    <tr>\n",
       "      <th rowspan=\"3\" valign=\"top\">Male</th>\n",
       "      <th>24--26</th>\n",
       "      <td>11</td>\n",
       "    </tr>\n",
       "    <tr>\n",
       "      <th>30--38</th>\n",
       "      <td>106</td>\n",
       "    </tr>\n",
       "    <tr>\n",
       "      <th>39--47</th>\n",
       "      <td>51</td>\n",
       "    </tr>\n",
       "    <tr>\n",
       "      <th rowspan=\"2\" valign=\"top\">Lebanon</th>\n",
       "      <th rowspan=\"2\" valign=\"top\">Female</th>\n",
       "      <th>30--38</th>\n",
       "      <td>28</td>\n",
       "    </tr>\n",
       "    <tr>\n",
       "      <th>39--47</th>\n",
       "      <td>27</td>\n",
       "    </tr>\n",
       "    <tr>\n",
       "      <th rowspan=\"10\" valign=\"top\">Malaysia</th>\n",
       "      <th rowspan=\"7\" valign=\"top\">Female</th>\n",
       "      <th>18--20</th>\n",
       "      <td>75</td>\n",
       "    </tr>\n",
       "    <tr>\n",
       "      <th>21--23</th>\n",
       "      <td>83</td>\n",
       "    </tr>\n",
       "    <tr>\n",
       "      <th>24--26</th>\n",
       "      <td>93</td>\n",
       "    </tr>\n",
       "    <tr>\n",
       "      <th>27--29</th>\n",
       "      <td>91</td>\n",
       "    </tr>\n",
       "    <tr>\n",
       "      <th>30--38</th>\n",
       "      <td>230</td>\n",
       "    </tr>\n",
       "    <tr>\n",
       "      <th>39--47</th>\n",
       "      <td>69</td>\n",
       "    </tr>\n",
       "    <tr>\n",
       "      <th>9--17</th>\n",
       "      <td>43</td>\n",
       "    </tr>\n",
       "    <tr>\n",
       "      <th rowspan=\"3\" valign=\"top\">Male</th>\n",
       "      <th>24--26</th>\n",
       "      <td>17</td>\n",
       "    </tr>\n",
       "    <tr>\n",
       "      <th>30--38</th>\n",
       "      <td>54</td>\n",
       "    </tr>\n",
       "    <tr>\n",
       "      <th>39--47</th>\n",
       "      <td>15</td>\n",
       "    </tr>\n",
       "    <tr>\n",
       "      <th rowspan=\"3\" valign=\"top\">Oman</th>\n",
       "      <th rowspan=\"3\" valign=\"top\">Female</th>\n",
       "      <th>27--29</th>\n",
       "      <td>19</td>\n",
       "    </tr>\n",
       "    <tr>\n",
       "      <th>30--38</th>\n",
       "      <td>54</td>\n",
       "    </tr>\n",
       "    <tr>\n",
       "      <th>39--47</th>\n",
       "      <td>21</td>\n",
       "    </tr>\n",
       "    <tr>\n",
       "      <th>Philippines</th>\n",
       "      <th>Male</th>\n",
       "      <th>18--20</th>\n",
       "      <td>13</td>\n",
       "    </tr>\n",
       "    <tr>\n",
       "      <th rowspan=\"2\" valign=\"top\">Qatar</th>\n",
       "      <th rowspan=\"2\" valign=\"top\">Female</th>\n",
       "      <th>24--26</th>\n",
       "      <td>12</td>\n",
       "    </tr>\n",
       "    <tr>\n",
       "      <th>27--29</th>\n",
       "      <td>23</td>\n",
       "    </tr>\n",
       "  </tbody>\n",
       "</table>\n",
       "</div>"
      ],
      "text/plain": [
       "                                  Exploit Sub-Region\n",
       "Exploit Country Gender Age Range                    \n",
       "Afghanistan     Male   9--17                      83\n",
       "Bahrain         Female 30--38                     22\n",
       "Bangladesh      Female 9--17                      26\n",
       "Cambodia        Female 0--8                       31\n",
       "                       18--20                     45\n",
       "                       21--23                     26\n",
       "                       30--38                     32\n",
       "                       9--17                     169\n",
       "                Male   18--20                     30\n",
       "                       21--23                     25\n",
       "                       24--26                     17\n",
       "                       9--17                     180\n",
       "China           Female 18--20                     15\n",
       "                       21--23                     27\n",
       "                       24--26                     15\n",
       "                       27--29                     11\n",
       "                       9--17                      11\n",
       "Cyprus          Female 21--23                     11\n",
       "Hong Kong       Female 30--38                     18\n",
       "                       39--47                     13\n",
       "India           Female 9--17                      46\n",
       "Indonesia       Female 18--20                     84\n",
       "                       21--23                     38\n",
       "                       24--26                     16\n",
       "                       27--29                     14\n",
       "                       30--38                     49\n",
       "                       9--17                      44\n",
       "                Male   18--20                     43\n",
       "                       21--23                    132\n",
       "                       24--26                    208\n",
       "                       27--29                    206\n",
       "                       30--38                    621\n",
       "                       39--47                    243\n",
       "                       48+                        79\n",
       "Jordan          Female 27--29                     12\n",
       "                       30--38                     70\n",
       "                       39--47                     26\n",
       "Kazakhstan      Female 18--20                     39\n",
       "                       21--23                     15\n",
       "                Male   24--26                     11\n",
       "                       30--38                    106\n",
       "                       39--47                     51\n",
       "Lebanon         Female 30--38                     28\n",
       "                       39--47                     27\n",
       "Malaysia        Female 18--20                     75\n",
       "                       21--23                     83\n",
       "                       24--26                     93\n",
       "                       27--29                     91\n",
       "                       30--38                    230\n",
       "                       39--47                     69\n",
       "                       9--17                      43\n",
       "                Male   24--26                     17\n",
       "                       30--38                     54\n",
       "                       39--47                     15\n",
       "Oman            Female 27--29                     19\n",
       "                       30--38                     54\n",
       "                       39--47                     21\n",
       "Philippines     Male   18--20                     13\n",
       "Qatar           Female 24--26                     12\n",
       "                       27--29                     23"
      ]
     },
     "execution_count": 87,
     "metadata": {},
     "output_type": "execute_result"
    }
   ],
   "source": [
    "# use groupby to separate the data into fields acoording to country\n",
    "grouped_asia_df = asia_df.groupby(['Exploit Country', 'Gender', 'Age Range'])\n",
    "\n",
    "#the object returned is a groupby object and cannot be returned normally\n",
    "print(grouped_asia_df)\n",
    "\n",
    "#in order to be visualized, a data function must be used\n",
    "grouped_asia_df.count().head(60)"
   ]
  },
  {
   "cell_type": "code",
   "execution_count": 91,
   "metadata": {},
   "outputs": [],
   "source": [
    "# asia_df_copy=asia_df.copy()"
   ]
  },
  {
   "cell_type": "code",
   "execution_count": 92,
   "metadata": {},
   "outputs": [],
   "source": [
    "# # use groupby to separate the data into fields acoording to country\n",
    "# grouped_asia_region_df = asia_df.groupby(['Exploit Region', 'Gender', 'Age Range'])\n",
    "\n",
    "# #the object returned is a groupby object and cannot be returned normally\n",
    "# print(grouped_asia_region_df)\n",
    "\n",
    "# #in order to be visualized, a data function must be used\n",
    "# grouped_asia_region_df.count().head(60)"
   ]
  },
  {
   "cell_type": "markdown",
   "metadata": {},
   "source": [
    "## Europe"
   ]
  },
  {
   "cell_type": "code",
   "execution_count": 83,
   "metadata": {},
   "outputs": [
    {
     "data": {
      "text/plain": [
       "Gender                 1\n",
       "Age Range              9\n",
       "Exploit Region         1\n",
       "Exploit Country       14\n",
       "Exploit Sub-Region     3\n",
       "dtype: int64"
      ]
     },
     "execution_count": 83,
     "metadata": {},
     "output_type": "execute_result"
    }
   ],
   "source": [
    "#create a data frame for each region, based on gender\n",
    "is_female = exploit_df['Gender'] == 'Female'\n",
    "is_male = exploit_df['Gender'] == 'Male'\n",
    "is_europe = exploit_df['Exploit Region'] == 'Europe'\n",
    "female_europe = pd.DataFrame(exploit_df[is_female & is_europe])\n",
    "male_europe = pd.DataFrame(exploit_df[is_male & is_europe])\n",
    "\n",
    "#show unique values in the series\n",
    "female_europe.nunique() "
   ]
  },
  {
   "cell_type": "code",
   "execution_count": 84,
   "metadata": {},
   "outputs": [
    {
     "data": {
      "text/plain": [
       "Gender                1\n",
       "Age Range             9\n",
       "Exploit Region        1\n",
       "Exploit Country       6\n",
       "Exploit Sub-Region    2\n",
       "dtype: int64"
      ]
     },
     "execution_count": 84,
     "metadata": {},
     "output_type": "execute_result"
    }
   ],
   "source": [
    "male_europe.nunique()"
   ]
  },
  {
   "cell_type": "code",
   "execution_count": 86,
   "metadata": {},
   "outputs": [
    {
     "data": {
      "text/html": [
       "<div>\n",
       "<style scoped>\n",
       "    .dataframe tbody tr th:only-of-type {\n",
       "        vertical-align: middle;\n",
       "    }\n",
       "\n",
       "    .dataframe tbody tr th {\n",
       "        vertical-align: top;\n",
       "    }\n",
       "\n",
       "    .dataframe thead th {\n",
       "        text-align: right;\n",
       "    }\n",
       "</style>\n",
       "<table border=\"1\" class=\"dataframe\">\n",
       "  <thead>\n",
       "    <tr style=\"text-align: right;\">\n",
       "      <th></th>\n",
       "      <th>Gender</th>\n",
       "      <th>Age Range</th>\n",
       "      <th>Exploit Sub-Region</th>\n",
       "      <th>Exploit Country</th>\n",
       "    </tr>\n",
       "  </thead>\n",
       "  <tbody>\n",
       "    <tr>\n",
       "      <th>104</th>\n",
       "      <td>Female</td>\n",
       "      <td>18--20</td>\n",
       "      <td>Southern Europe</td>\n",
       "      <td>Serbia</td>\n",
       "    </tr>\n",
       "    <tr>\n",
       "      <th>105</th>\n",
       "      <td>Female</td>\n",
       "      <td>18--20</td>\n",
       "      <td>Southern Europe</td>\n",
       "      <td>Serbia</td>\n",
       "    </tr>\n",
       "    <tr>\n",
       "      <th>106</th>\n",
       "      <td>Female</td>\n",
       "      <td>18--20</td>\n",
       "      <td>Southern Europe</td>\n",
       "      <td>Serbia</td>\n",
       "    </tr>\n",
       "    <tr>\n",
       "      <th>107</th>\n",
       "      <td>Female</td>\n",
       "      <td>18--20</td>\n",
       "      <td>Southern Europe</td>\n",
       "      <td>Serbia</td>\n",
       "    </tr>\n",
       "    <tr>\n",
       "      <th>108</th>\n",
       "      <td>Female</td>\n",
       "      <td>18--20</td>\n",
       "      <td>Southern Europe</td>\n",
       "      <td>Serbia</td>\n",
       "    </tr>\n",
       "  </tbody>\n",
       "</table>\n",
       "</div>"
      ],
      "text/plain": [
       "     Gender Age Range Exploit Sub-Region Exploit Country\n",
       "104  Female    18--20    Southern Europe          Serbia\n",
       "105  Female    18--20    Southern Europe          Serbia\n",
       "106  Female    18--20    Southern Europe          Serbia\n",
       "107  Female    18--20    Southern Europe          Serbia\n",
       "108  Female    18--20    Southern Europe          Serbia"
      ]
     },
     "execution_count": 86,
     "metadata": {},
     "output_type": "execute_result"
    }
   ],
   "source": [
    "europe_df = exploit_df.loc[exploit_df['Exploit Region'] == 'Europe', ['Gender', 'Age Range', 'Exploit Sub-Region', 'Exploit Country']]\n",
    "europe_df.head()"
   ]
  },
  {
   "cell_type": "code",
   "execution_count": 94,
   "metadata": {},
   "outputs": [],
   "source": [
    "# copy the df so we don't overwrite original europe_df data\n",
    "europe_df_copy = europe_df.copy()"
   ]
  },
  {
   "cell_type": "code",
   "execution_count": 95,
   "metadata": {},
   "outputs": [
    {
     "data": {
      "text/plain": [
       "Ukraine                   5399\n",
       "Republic of Moldova       4504\n",
       "Russian Federation        2738\n",
       "Belarus                    400\n",
       "Bulgaria                   356\n",
       "Poland                     326\n",
       "Romania                    259\n",
       "Serbia                     248\n",
       "North Macedonia            194\n",
       "Bosnia and Herzegovina     127\n",
       "Czechia                     38\n",
       "Austria                     24\n",
       "Italy                       24\n",
       "Albania                     22\n",
       "Denmark                     17\n",
       "Name: Exploit Country, dtype: int64"
      ]
     },
     "execution_count": 95,
     "metadata": {},
     "output_type": "execute_result"
    }
   ],
   "source": [
    "# See how many countries in this region are included in the data set\n",
    "euro_country_counts = europe_df_copy['Exploit Country'].value_counts()\n",
    "euro_country_counts"
   ]
  },
  {
   "cell_type": "code",
   "execution_count": 96,
   "metadata": {},
   "outputs": [
    {
     "data": {
      "text/plain": [
       "Eastern Europe     14020\n",
       "Southern Europe      615\n",
       "Western Europe        24\n",
       "Northern Europe       17\n",
       "Name: Exploit Sub-Region, dtype: int64"
      ]
     },
     "execution_count": 96,
     "metadata": {},
     "output_type": "execute_result"
    }
   ],
   "source": [
    "europe_sub_counts = europe_df_copy['Exploit Sub-Region'].value_counts()\n",
    "europe_sub_counts"
   ]
  },
  {
   "cell_type": "code",
   "execution_count": 97,
   "metadata": {},
   "outputs": [
    {
     "data": {
      "text/plain": [
       "array(['Serbia', 'Bosnia and Herzegovina', 'North Macedonia',\n",
       "       'Russian Federation', 'Republic of Moldova', 'Albania', 'Bulgaria',\n",
       "       'Italy', 'Romania', 'Czechia', 'Poland', 'Ukraine', 'Austria',\n",
       "       'Belarus', 'Denmark'], dtype=object)"
      ]
     },
     "execution_count": 97,
     "metadata": {},
     "output_type": "execute_result"
    }
   ],
   "source": [
    "europe_country_list = europe_df_copy['Exploit Country'].unique()\n",
    "europe_country_list"
   ]
  },
  {
   "cell_type": "code",
   "execution_count": 98,
   "metadata": {},
   "outputs": [
    {
     "data": {
      "text/plain": [
       "Female    9051\n",
       "Male      5625\n",
       "Name: Gender, dtype: int64"
      ]
     },
     "execution_count": 98,
     "metadata": {},
     "output_type": "execute_result"
    }
   ],
   "source": [
    "europe_gender_counts = europe_df_copy['Gender'].value_counts()\n",
    "europe_gender_counts"
   ]
  },
  {
   "cell_type": "code",
   "execution_count": 99,
   "metadata": {},
   "outputs": [
    {
     "name": "stdout",
     "output_type": "stream",
     "text": [
      "<pandas.core.groupby.generic.DataFrameGroupBy object at 0x000001328627D400>\n"
     ]
    },
    {
     "data": {
      "text/html": [
       "<div>\n",
       "<style scoped>\n",
       "    .dataframe tbody tr th:only-of-type {\n",
       "        vertical-align: middle;\n",
       "    }\n",
       "\n",
       "    .dataframe tbody tr th {\n",
       "        vertical-align: top;\n",
       "    }\n",
       "\n",
       "    .dataframe thead th {\n",
       "        text-align: right;\n",
       "    }\n",
       "</style>\n",
       "<table border=\"1\" class=\"dataframe\">\n",
       "  <thead>\n",
       "    <tr style=\"text-align: right;\">\n",
       "      <th></th>\n",
       "      <th></th>\n",
       "      <th></th>\n",
       "      <th>Exploit Sub-Region</th>\n",
       "    </tr>\n",
       "    <tr>\n",
       "      <th>Exploit Country</th>\n",
       "      <th>Gender</th>\n",
       "      <th>Age Range</th>\n",
       "      <th></th>\n",
       "    </tr>\n",
       "  </thead>\n",
       "  <tbody>\n",
       "    <tr>\n",
       "      <th rowspan=\"2\" valign=\"top\">Albania</th>\n",
       "      <th rowspan=\"2\" valign=\"top\">Female</th>\n",
       "      <th>18--20</th>\n",
       "      <td>11</td>\n",
       "    </tr>\n",
       "    <tr>\n",
       "      <th>21--23</th>\n",
       "      <td>11</td>\n",
       "    </tr>\n",
       "    <tr>\n",
       "      <th rowspan=\"2\" valign=\"top\">Austria</th>\n",
       "      <th rowspan=\"2\" valign=\"top\">Female</th>\n",
       "      <th>30--38</th>\n",
       "      <td>12</td>\n",
       "    </tr>\n",
       "    <tr>\n",
       "      <th>39--47</th>\n",
       "      <td>12</td>\n",
       "    </tr>\n",
       "    <tr>\n",
       "      <th>Belarus</th>\n",
       "      <th>Female</th>\n",
       "      <th>27--29</th>\n",
       "      <td>12</td>\n",
       "    </tr>\n",
       "    <tr>\n",
       "      <th>...</th>\n",
       "      <th>...</th>\n",
       "      <th>...</th>\n",
       "      <td>...</td>\n",
       "    </tr>\n",
       "    <tr>\n",
       "      <th rowspan=\"5\" valign=\"top\">Ukraine</th>\n",
       "      <th rowspan=\"5\" valign=\"top\">Male</th>\n",
       "      <th>27--29</th>\n",
       "      <td>249</td>\n",
       "    </tr>\n",
       "    <tr>\n",
       "      <th>30--38</th>\n",
       "      <td>950</td>\n",
       "    </tr>\n",
       "    <tr>\n",
       "      <th>39--47</th>\n",
       "      <td>477</td>\n",
       "    </tr>\n",
       "    <tr>\n",
       "      <th>48+</th>\n",
       "      <td>328</td>\n",
       "    </tr>\n",
       "    <tr>\n",
       "      <th>9--17</th>\n",
       "      <td>88</td>\n",
       "    </tr>\n",
       "  </tbody>\n",
       "</table>\n",
       "<p>99 rows × 1 columns</p>\n",
       "</div>"
      ],
      "text/plain": [
       "                                  Exploit Sub-Region\n",
       "Exploit Country Gender Age Range                    \n",
       "Albania         Female 18--20                     11\n",
       "                       21--23                     11\n",
       "Austria         Female 30--38                     12\n",
       "                       39--47                     12\n",
       "Belarus         Female 27--29                     12\n",
       "...                                              ...\n",
       "Ukraine         Male   27--29                    249\n",
       "                       30--38                    950\n",
       "                       39--47                    477\n",
       "                       48+                       328\n",
       "                       9--17                      88\n",
       "\n",
       "[99 rows x 1 columns]"
      ]
     },
     "execution_count": 99,
     "metadata": {},
     "output_type": "execute_result"
    }
   ],
   "source": [
    "# use groupby to separate the data into fields acoording to country\n",
    "europe_df_copy = europe_df.copy()\n",
    "grouped_europe_df = europe_df_copy.groupby(['Exploit Country', 'Gender', 'Age Range'])\n",
    "\n",
    "#the object returned is a groupby object and cannot be returned normally\n",
    "print(grouped_europe_df)\n",
    "\n",
    "#in order to be visualized, a data function must be used\n",
    "grouped_europe_df.count()"
   ]
  },
  {
   "cell_type": "markdown",
   "metadata": {},
   "source": [
    "## Americas"
   ]
  },
  {
   "cell_type": "code",
   "execution_count": 100,
   "metadata": {},
   "outputs": [
    {
     "data": {
      "text/plain": [
       "Gender                1\n",
       "Age Range             9\n",
       "Exploit Region        1\n",
       "Exploit Country       4\n",
       "Exploit Sub-Region    2\n",
       "dtype: int64"
      ]
     },
     "execution_count": 100,
     "metadata": {},
     "output_type": "execute_result"
    }
   ],
   "source": [
    "#create a data frame for each region, based on gender\n",
    "is_female = exploit_df['Gender'] == 'Female'\n",
    "is_male = exploit_df['Gender'] == 'Male'\n",
    "is_americas = exploit_df['Exploit Region'] == 'Americas'\n",
    "\n",
    "female_americas = pd.DataFrame(exploit_df[is_female & is_americas])\n",
    "male_americas = pd.DataFrame(exploit_df[is_male & is_americas])\n",
    "\n",
    "female_americas.nunique()"
   ]
  },
  {
   "cell_type": "code",
   "execution_count": 101,
   "metadata": {},
   "outputs": [
    {
     "data": {
      "text/plain": [
       "Gender                1\n",
       "Age Range             6\n",
       "Exploit Region        1\n",
       "Exploit Country       3\n",
       "Exploit Sub-Region    2\n",
       "dtype: int64"
      ]
     },
     "execution_count": 101,
     "metadata": {},
     "output_type": "execute_result"
    }
   ],
   "source": [
    "male_americas.nunique()"
   ]
  },
  {
   "cell_type": "code",
   "execution_count": 103,
   "metadata": {},
   "outputs": [
    {
     "data": {
      "text/html": [
       "<div>\n",
       "<style scoped>\n",
       "    .dataframe tbody tr th:only-of-type {\n",
       "        vertical-align: middle;\n",
       "    }\n",
       "\n",
       "    .dataframe tbody tr th {\n",
       "        vertical-align: top;\n",
       "    }\n",
       "\n",
       "    .dataframe thead th {\n",
       "        text-align: right;\n",
       "    }\n",
       "</style>\n",
       "<table border=\"1\" class=\"dataframe\">\n",
       "  <thead>\n",
       "    <tr style=\"text-align: right;\">\n",
       "      <th></th>\n",
       "      <th>Gender</th>\n",
       "      <th>Age Range</th>\n",
       "      <th>Exploit Sub-Region</th>\n",
       "      <th>Exploit Country</th>\n",
       "    </tr>\n",
       "  </thead>\n",
       "  <tbody>\n",
       "    <tr>\n",
       "      <th>7524</th>\n",
       "      <td>Female</td>\n",
       "      <td>24--26</td>\n",
       "      <td>Latin America and the Caribbean</td>\n",
       "      <td>Ecuador</td>\n",
       "    </tr>\n",
       "    <tr>\n",
       "      <th>7525</th>\n",
       "      <td>Female</td>\n",
       "      <td>24--26</td>\n",
       "      <td>Latin America and the Caribbean</td>\n",
       "      <td>Ecuador</td>\n",
       "    </tr>\n",
       "    <tr>\n",
       "      <th>7526</th>\n",
       "      <td>Female</td>\n",
       "      <td>24--26</td>\n",
       "      <td>Latin America and the Caribbean</td>\n",
       "      <td>Ecuador</td>\n",
       "    </tr>\n",
       "    <tr>\n",
       "      <th>7527</th>\n",
       "      <td>Female</td>\n",
       "      <td>24--26</td>\n",
       "      <td>Latin America and the Caribbean</td>\n",
       "      <td>Ecuador</td>\n",
       "    </tr>\n",
       "    <tr>\n",
       "      <th>7528</th>\n",
       "      <td>Female</td>\n",
       "      <td>24--26</td>\n",
       "      <td>Latin America and the Caribbean</td>\n",
       "      <td>Ecuador</td>\n",
       "    </tr>\n",
       "  </tbody>\n",
       "</table>\n",
       "</div>"
      ],
      "text/plain": [
       "      Gender Age Range               Exploit Sub-Region Exploit Country\n",
       "7524  Female    24--26  Latin America and the Caribbean         Ecuador\n",
       "7525  Female    24--26  Latin America and the Caribbean         Ecuador\n",
       "7526  Female    24--26  Latin America and the Caribbean         Ecuador\n",
       "7527  Female    24--26  Latin America and the Caribbean         Ecuador\n",
       "7528  Female    24--26  Latin America and the Caribbean         Ecuador"
      ]
     },
     "execution_count": 103,
     "metadata": {},
     "output_type": "execute_result"
    }
   ],
   "source": [
    "americas_df = exploit_df.loc[exploit_df['Exploit Region'] == 'Americas', ['Gender', 'Age Range', 'Exploit Sub-Region', 'Exploit Country']]\n",
    "americas_df.head()"
   ]
  },
  {
   "cell_type": "code",
   "execution_count": 104,
   "metadata": {},
   "outputs": [],
   "source": [
    "# copy the df so we don't overwrite original europe_df data\n",
    "americas_df_copy = americas_df.copy()"
   ]
  },
  {
   "cell_type": "code",
   "execution_count": 105,
   "metadata": {},
   "outputs": [
    {
     "data": {
      "text/plain": [
       "United States of America    12512\n",
       "Haiti                         339\n",
       "Trinidad and Tobago            85\n",
       "Argentina                      18\n",
       "Ecuador                        13\n",
       "Name: Exploit Country, dtype: int64"
      ]
     },
     "execution_count": 105,
     "metadata": {},
     "output_type": "execute_result"
    }
   ],
   "source": [
    "americas_country_counts = americas_df_copy['Exploit Country'].value_counts()\n",
    "americas_country_counts"
   ]
  },
  {
   "cell_type": "code",
   "execution_count": 106,
   "metadata": {},
   "outputs": [
    {
     "data": {
      "text/plain": [
       "array(['Ecuador', 'Haiti', 'Argentina', 'Trinidad and Tobago',\n",
       "       'United States of America'], dtype=object)"
      ]
     },
     "execution_count": 106,
     "metadata": {},
     "output_type": "execute_result"
    }
   ],
   "source": [
    "americas_country_list = americas_df_copy['Exploit Country'].unique()\n",
    "americas_country_list"
   ]
  },
  {
   "cell_type": "code",
   "execution_count": 107,
   "metadata": {},
   "outputs": [
    {
     "data": {
      "text/plain": [
       "Northern America                   12512\n",
       "Latin America and the Caribbean      455\n",
       "Name: Exploit Sub-Region, dtype: int64"
      ]
     },
     "execution_count": 107,
     "metadata": {},
     "output_type": "execute_result"
    }
   ],
   "source": [
    "americas_sub_counts = americas_df_copy['Exploit Sub-Region'].value_counts()\n",
    "americas_sub_counts"
   ]
  },
  {
   "cell_type": "code",
   "execution_count": 108,
   "metadata": {},
   "outputs": [
    {
     "data": {
      "text/plain": [
       "Female    12404\n",
       "Male        563\n",
       "Name: Gender, dtype: int64"
      ]
     },
     "execution_count": 108,
     "metadata": {},
     "output_type": "execute_result"
    }
   ],
   "source": [
    "americas_gender_counts = americas_df_copy['Gender'].value_counts()\n",
    "americas_gender_counts"
   ]
  },
  {
   "cell_type": "code",
   "execution_count": 110,
   "metadata": {},
   "outputs": [
    {
     "name": "stdout",
     "output_type": "stream",
     "text": [
      "<pandas.core.groupby.generic.DataFrameGroupBy object at 0x00000132862CC5B0>\n"
     ]
    },
    {
     "data": {
      "text/html": [
       "<div>\n",
       "<style scoped>\n",
       "    .dataframe tbody tr th:only-of-type {\n",
       "        vertical-align: middle;\n",
       "    }\n",
       "\n",
       "    .dataframe tbody tr th {\n",
       "        vertical-align: top;\n",
       "    }\n",
       "\n",
       "    .dataframe thead th {\n",
       "        text-align: right;\n",
       "    }\n",
       "</style>\n",
       "<table border=\"1\" class=\"dataframe\">\n",
       "  <thead>\n",
       "    <tr style=\"text-align: right;\">\n",
       "      <th></th>\n",
       "      <th></th>\n",
       "      <th></th>\n",
       "      <th>Exploit Sub-Region</th>\n",
       "    </tr>\n",
       "    <tr>\n",
       "      <th>Exploit Country</th>\n",
       "      <th>Gender</th>\n",
       "      <th>Age Range</th>\n",
       "      <th></th>\n",
       "    </tr>\n",
       "  </thead>\n",
       "  <tbody>\n",
       "    <tr>\n",
       "      <th>Argentina</th>\n",
       "      <th>Female</th>\n",
       "      <th>9--17</th>\n",
       "      <td>18</td>\n",
       "    </tr>\n",
       "    <tr>\n",
       "      <th>Ecuador</th>\n",
       "      <th>Female</th>\n",
       "      <th>24--26</th>\n",
       "      <td>13</td>\n",
       "    </tr>\n",
       "    <tr>\n",
       "      <th rowspan=\"4\" valign=\"top\">Haiti</th>\n",
       "      <th rowspan=\"2\" valign=\"top\">Female</th>\n",
       "      <th>0--8</th>\n",
       "      <td>15</td>\n",
       "    </tr>\n",
       "    <tr>\n",
       "      <th>9--17</th>\n",
       "      <td>190</td>\n",
       "    </tr>\n",
       "    <tr>\n",
       "      <th rowspan=\"2\" valign=\"top\">Male</th>\n",
       "      <th>0--8</th>\n",
       "      <td>24</td>\n",
       "    </tr>\n",
       "    <tr>\n",
       "      <th>9--17</th>\n",
       "      <td>110</td>\n",
       "    </tr>\n",
       "    <tr>\n",
       "      <th rowspan=\"4\" valign=\"top\">Trinidad and Tobago</th>\n",
       "      <th rowspan=\"4\" valign=\"top\">Male</th>\n",
       "      <th>21--23</th>\n",
       "      <td>32</td>\n",
       "    </tr>\n",
       "    <tr>\n",
       "      <th>24--26</th>\n",
       "      <td>17</td>\n",
       "    </tr>\n",
       "    <tr>\n",
       "      <th>27--29</th>\n",
       "      <td>11</td>\n",
       "    </tr>\n",
       "    <tr>\n",
       "      <th>30--38</th>\n",
       "      <td>25</td>\n",
       "    </tr>\n",
       "    <tr>\n",
       "      <th rowspan=\"12\" valign=\"top\">United States of America</th>\n",
       "      <th rowspan=\"9\" valign=\"top\">Female</th>\n",
       "      <th>0--8</th>\n",
       "      <td>109</td>\n",
       "    </tr>\n",
       "    <tr>\n",
       "      <th>18--20</th>\n",
       "      <td>2138</td>\n",
       "    </tr>\n",
       "    <tr>\n",
       "      <th>21--23</th>\n",
       "      <td>1473</td>\n",
       "    </tr>\n",
       "    <tr>\n",
       "      <th>24--26</th>\n",
       "      <td>1069</td>\n",
       "    </tr>\n",
       "    <tr>\n",
       "      <th>27--29</th>\n",
       "      <td>707</td>\n",
       "    </tr>\n",
       "    <tr>\n",
       "      <th>30--38</th>\n",
       "      <td>1388</td>\n",
       "    </tr>\n",
       "    <tr>\n",
       "      <th>39--47</th>\n",
       "      <td>403</td>\n",
       "    </tr>\n",
       "    <tr>\n",
       "      <th>48+</th>\n",
       "      <td>167</td>\n",
       "    </tr>\n",
       "    <tr>\n",
       "      <th>9--17</th>\n",
       "      <td>4714</td>\n",
       "    </tr>\n",
       "    <tr>\n",
       "      <th rowspan=\"3\" valign=\"top\">Male</th>\n",
       "      <th>0--8</th>\n",
       "      <td>47</td>\n",
       "    </tr>\n",
       "    <tr>\n",
       "      <th>21--23</th>\n",
       "      <td>19</td>\n",
       "    </tr>\n",
       "    <tr>\n",
       "      <th>9--17</th>\n",
       "      <td>278</td>\n",
       "    </tr>\n",
       "  </tbody>\n",
       "</table>\n",
       "</div>"
      ],
      "text/plain": [
       "                                           Exploit Sub-Region\n",
       "Exploit Country          Gender Age Range                    \n",
       "Argentina                Female 9--17                      18\n",
       "Ecuador                  Female 24--26                     13\n",
       "Haiti                    Female 0--8                       15\n",
       "                                9--17                     190\n",
       "                         Male   0--8                       24\n",
       "                                9--17                     110\n",
       "Trinidad and Tobago      Male   21--23                     32\n",
       "                                24--26                     17\n",
       "                                27--29                     11\n",
       "                                30--38                     25\n",
       "United States of America Female 0--8                      109\n",
       "                                18--20                   2138\n",
       "                                21--23                   1473\n",
       "                                24--26                   1069\n",
       "                                27--29                    707\n",
       "                                30--38                   1388\n",
       "                                39--47                    403\n",
       "                                48+                       167\n",
       "                                9--17                    4714\n",
       "                         Male   0--8                       47\n",
       "                                21--23                     19\n",
       "                                9--17                     278"
      ]
     },
     "execution_count": 110,
     "metadata": {},
     "output_type": "execute_result"
    }
   ],
   "source": [
    "# use groupby to separate the data into fields acoording to country\n",
    "grp_americas_df = americas_df_copy.groupby(['Exploit Country', 'Gender', 'Age Range'])\n",
    "\n",
    "#the object returned is a groupby object and cannot be returned normally\n",
    "print(grp_americas_df)\n",
    "\n",
    "#in order to be visualized, a data function must be used\n",
    "grp_americas_df.count()"
   ]
  },
  {
   "cell_type": "markdown",
   "metadata": {},
   "source": [
    "## Africa"
   ]
  },
  {
   "cell_type": "code",
   "execution_count": 111,
   "metadata": {},
   "outputs": [
    {
     "data": {
      "text/plain": [
       "Gender                1\n",
       "Age Range             6\n",
       "Exploit Region        1\n",
       "Exploit Country       6\n",
       "Exploit Sub-Region    2\n",
       "dtype: int64"
      ]
     },
     "execution_count": 111,
     "metadata": {},
     "output_type": "execute_result"
    }
   ],
   "source": [
    "#create a data frame for each region, based on gender\n",
    "is_female = exploit_df['Gender'] == 'Female'\n",
    "is_male = exploit_df['Gender'] == 'Male'\n",
    "is_africa = exploit_df['Exploit Region'] == 'Africa'\n",
    "\n",
    "female_africa = pd.DataFrame(exploit_df[is_female & is_africa])\n",
    "male_africa = pd.DataFrame(exploit_df[is_male & is_africa])\n",
    "\n",
    "female_africa.nunique()"
   ]
  },
  {
   "cell_type": "code",
   "execution_count": 112,
   "metadata": {},
   "outputs": [
    {
     "data": {
      "text/plain": [
       "Gender                1\n",
       "Age Range             5\n",
       "Exploit Region        1\n",
       "Exploit Country       7\n",
       "Exploit Sub-Region    2\n",
       "dtype: int64"
      ]
     },
     "execution_count": 112,
     "metadata": {},
     "output_type": "execute_result"
    }
   ],
   "source": [
    "male_africa.nunique()"
   ]
  },
  {
   "cell_type": "code",
   "execution_count": 116,
   "metadata": {},
   "outputs": [
    {
     "data": {
      "text/html": [
       "<div>\n",
       "<style scoped>\n",
       "    .dataframe tbody tr th:only-of-type {\n",
       "        vertical-align: middle;\n",
       "    }\n",
       "\n",
       "    .dataframe tbody tr th {\n",
       "        vertical-align: top;\n",
       "    }\n",
       "\n",
       "    .dataframe thead th {\n",
       "        text-align: right;\n",
       "    }\n",
       "</style>\n",
       "<table border=\"1\" class=\"dataframe\">\n",
       "  <thead>\n",
       "    <tr style=\"text-align: right;\">\n",
       "      <th></th>\n",
       "      <th>Gender</th>\n",
       "      <th>Age Range</th>\n",
       "      <th>Exploit Sub-Region</th>\n",
       "      <th>Exploit Country</th>\n",
       "    </tr>\n",
       "  </thead>\n",
       "  <tbody>\n",
       "    <tr>\n",
       "      <th>1606</th>\n",
       "      <td>Female</td>\n",
       "      <td>0--8</td>\n",
       "      <td>Sub-Saharan Africa</td>\n",
       "      <td>Ghana</td>\n",
       "    </tr>\n",
       "    <tr>\n",
       "      <th>1607</th>\n",
       "      <td>Female</td>\n",
       "      <td>0--8</td>\n",
       "      <td>Sub-Saharan Africa</td>\n",
       "      <td>Ghana</td>\n",
       "    </tr>\n",
       "    <tr>\n",
       "      <th>1608</th>\n",
       "      <td>Female</td>\n",
       "      <td>0--8</td>\n",
       "      <td>Sub-Saharan Africa</td>\n",
       "      <td>Ghana</td>\n",
       "    </tr>\n",
       "    <tr>\n",
       "      <th>1609</th>\n",
       "      <td>Female</td>\n",
       "      <td>0--8</td>\n",
       "      <td>Sub-Saharan Africa</td>\n",
       "      <td>Ghana</td>\n",
       "    </tr>\n",
       "    <tr>\n",
       "      <th>1610</th>\n",
       "      <td>Female</td>\n",
       "      <td>0--8</td>\n",
       "      <td>Sub-Saharan Africa</td>\n",
       "      <td>Ghana</td>\n",
       "    </tr>\n",
       "  </tbody>\n",
       "</table>\n",
       "</div>"
      ],
      "text/plain": [
       "      Gender Age Range  Exploit Sub-Region Exploit Country\n",
       "1606  Female      0--8  Sub-Saharan Africa           Ghana\n",
       "1607  Female      0--8  Sub-Saharan Africa           Ghana\n",
       "1608  Female      0--8  Sub-Saharan Africa           Ghana\n",
       "1609  Female      0--8  Sub-Saharan Africa           Ghana\n",
       "1610  Female      0--8  Sub-Saharan Africa           Ghana"
      ]
     },
     "execution_count": 116,
     "metadata": {},
     "output_type": "execute_result"
    }
   ],
   "source": [
    "africa_df = exploit_df.loc[exploit_df['Exploit Region'] == 'Africa', ['Gender', 'Age Range', 'Exploit Sub-Region', 'Exploit Country']]\n",
    "africa_df.head()"
   ]
  },
  {
   "cell_type": "code",
   "execution_count": 117,
   "metadata": {},
   "outputs": [],
   "source": [
    "africa_df_copy = africa_df.copy()"
   ]
  },
  {
   "cell_type": "code",
   "execution_count": 118,
   "metadata": {},
   "outputs": [
    {
     "data": {
      "text/plain": [
       "Ghana           544\n",
       "Senegal         370\n",
       "Uganda          123\n",
       "Madagascar       94\n",
       "Sierra Leone     81\n",
       "South Africa     36\n",
       "Mauritius        20\n",
       "Egypt            13\n",
       "Libya            11\n",
       "Name: Exploit Country, dtype: int64"
      ]
     },
     "execution_count": 118,
     "metadata": {},
     "output_type": "execute_result"
    }
   ],
   "source": [
    "africa_country_counts = africa_df_copy['Exploit Country'].value_counts()\n",
    "africa_country_counts"
   ]
  },
  {
   "cell_type": "code",
   "execution_count": 120,
   "metadata": {},
   "outputs": [
    {
     "data": {
      "text/plain": [
       "array(['Ghana', 'Uganda', 'Senegal', 'Sierra Leone', 'South Africa',\n",
       "       'Egypt', 'Mauritius', 'Libya', 'Madagascar'], dtype=object)"
      ]
     },
     "execution_count": 120,
     "metadata": {},
     "output_type": "execute_result"
    }
   ],
   "source": [
    "africa_country_list = africa_df_copy['Exploit Country'].unique()\n",
    "africa_country_list"
   ]
  },
  {
   "cell_type": "code",
   "execution_count": 121,
   "metadata": {},
   "outputs": [
    {
     "data": {
      "text/plain": [
       "Sub-Saharan Africa    1268\n",
       "Northern Africa         24\n",
       "Name: Exploit Sub-Region, dtype: int64"
      ]
     },
     "execution_count": 121,
     "metadata": {},
     "output_type": "execute_result"
    }
   ],
   "source": [
    "africa_sub_counts = africa_df_copy['Exploit Sub-Region'].value_counts()\n",
    "africa_sub_counts"
   ]
  },
  {
   "cell_type": "code",
   "execution_count": 122,
   "metadata": {},
   "outputs": [
    {
     "data": {
      "text/plain": [
       "Male      836\n",
       "Female    456\n",
       "Name: Gender, dtype: int64"
      ]
     },
     "execution_count": 122,
     "metadata": {},
     "output_type": "execute_result"
    }
   ],
   "source": [
    "africa_gender_counts = africa_df_copy['Gender'].value_counts()\n",
    "africa_gender_counts"
   ]
  },
  {
   "cell_type": "code",
   "execution_count": 123,
   "metadata": {},
   "outputs": [
    {
     "name": "stdout",
     "output_type": "stream",
     "text": [
      "<pandas.core.groupby.generic.DataFrameGroupBy object at 0x00000132862CC8B0>\n"
     ]
    },
    {
     "data": {
      "text/html": [
       "<div>\n",
       "<style scoped>\n",
       "    .dataframe tbody tr th:only-of-type {\n",
       "        vertical-align: middle;\n",
       "    }\n",
       "\n",
       "    .dataframe tbody tr th {\n",
       "        vertical-align: top;\n",
       "    }\n",
       "\n",
       "    .dataframe thead th {\n",
       "        text-align: right;\n",
       "    }\n",
       "</style>\n",
       "<table border=\"1\" class=\"dataframe\">\n",
       "  <thead>\n",
       "    <tr style=\"text-align: right;\">\n",
       "      <th></th>\n",
       "      <th></th>\n",
       "      <th></th>\n",
       "      <th>Exploit Sub-Region</th>\n",
       "    </tr>\n",
       "    <tr>\n",
       "      <th>Exploit Country</th>\n",
       "      <th>Gender</th>\n",
       "      <th>Age Range</th>\n",
       "      <th></th>\n",
       "    </tr>\n",
       "  </thead>\n",
       "  <tbody>\n",
       "    <tr>\n",
       "      <th>Egypt</th>\n",
       "      <th>Male</th>\n",
       "      <th>9--17</th>\n",
       "      <td>13</td>\n",
       "    </tr>\n",
       "    <tr>\n",
       "      <th rowspan=\"4\" valign=\"top\">Ghana</th>\n",
       "      <th rowspan=\"2\" valign=\"top\">Female</th>\n",
       "      <th>0--8</th>\n",
       "      <td>53</td>\n",
       "    </tr>\n",
       "    <tr>\n",
       "      <th>9--17</th>\n",
       "      <td>154</td>\n",
       "    </tr>\n",
       "    <tr>\n",
       "      <th rowspan=\"2\" valign=\"top\">Male</th>\n",
       "      <th>0--8</th>\n",
       "      <td>72</td>\n",
       "    </tr>\n",
       "    <tr>\n",
       "      <th>9--17</th>\n",
       "      <td>265</td>\n",
       "    </tr>\n",
       "    <tr>\n",
       "      <th>Libya</th>\n",
       "      <th>Female</th>\n",
       "      <th>30--38</th>\n",
       "      <td>11</td>\n",
       "    </tr>\n",
       "    <tr>\n",
       "      <th rowspan=\"4\" valign=\"top\">Madagascar</th>\n",
       "      <th rowspan=\"4\" valign=\"top\">Female</th>\n",
       "      <th>21--23</th>\n",
       "      <td>18</td>\n",
       "    </tr>\n",
       "    <tr>\n",
       "      <th>24--26</th>\n",
       "      <td>20</td>\n",
       "    </tr>\n",
       "    <tr>\n",
       "      <th>27--29</th>\n",
       "      <td>21</td>\n",
       "    </tr>\n",
       "    <tr>\n",
       "      <th>30--38</th>\n",
       "      <td>35</td>\n",
       "    </tr>\n",
       "    <tr>\n",
       "      <th>Mauritius</th>\n",
       "      <th>Male</th>\n",
       "      <th>30--38</th>\n",
       "      <td>20</td>\n",
       "    </tr>\n",
       "    <tr>\n",
       "      <th rowspan=\"4\" valign=\"top\">Senegal</th>\n",
       "      <th>Female</th>\n",
       "      <th>9--17</th>\n",
       "      <td>19</td>\n",
       "    </tr>\n",
       "    <tr>\n",
       "      <th rowspan=\"3\" valign=\"top\">Male</th>\n",
       "      <th>0--8</th>\n",
       "      <td>14</td>\n",
       "    </tr>\n",
       "    <tr>\n",
       "      <th>18--20</th>\n",
       "      <td>14</td>\n",
       "    </tr>\n",
       "    <tr>\n",
       "      <th>9--17</th>\n",
       "      <td>323</td>\n",
       "    </tr>\n",
       "    <tr>\n",
       "      <th rowspan=\"3\" valign=\"top\">Sierra Leone</th>\n",
       "      <th rowspan=\"2\" valign=\"top\">Female</th>\n",
       "      <th>30--38</th>\n",
       "      <td>16</td>\n",
       "    </tr>\n",
       "    <tr>\n",
       "      <th>9--17</th>\n",
       "      <td>40</td>\n",
       "    </tr>\n",
       "    <tr>\n",
       "      <th>Male</th>\n",
       "      <th>9--17</th>\n",
       "      <td>25</td>\n",
       "    </tr>\n",
       "    <tr>\n",
       "      <th rowspan=\"2\" valign=\"top\">South Africa</th>\n",
       "      <th rowspan=\"2\" valign=\"top\">Male</th>\n",
       "      <th>21--23</th>\n",
       "      <td>18</td>\n",
       "    </tr>\n",
       "    <tr>\n",
       "      <th>30--38</th>\n",
       "      <td>18</td>\n",
       "    </tr>\n",
       "    <tr>\n",
       "      <th rowspan=\"3\" valign=\"top\">Uganda</th>\n",
       "      <th rowspan=\"2\" valign=\"top\">Female</th>\n",
       "      <th>0--8</th>\n",
       "      <td>46</td>\n",
       "    </tr>\n",
       "    <tr>\n",
       "      <th>9--17</th>\n",
       "      <td>23</td>\n",
       "    </tr>\n",
       "    <tr>\n",
       "      <th>Male</th>\n",
       "      <th>0--8</th>\n",
       "      <td>54</td>\n",
       "    </tr>\n",
       "  </tbody>\n",
       "</table>\n",
       "</div>"
      ],
      "text/plain": [
       "                                  Exploit Sub-Region\n",
       "Exploit Country Gender Age Range                    \n",
       "Egypt           Male   9--17                      13\n",
       "Ghana           Female 0--8                       53\n",
       "                       9--17                     154\n",
       "                Male   0--8                       72\n",
       "                       9--17                     265\n",
       "Libya           Female 30--38                     11\n",
       "Madagascar      Female 21--23                     18\n",
       "                       24--26                     20\n",
       "                       27--29                     21\n",
       "                       30--38                     35\n",
       "Mauritius       Male   30--38                     20\n",
       "Senegal         Female 9--17                      19\n",
       "                Male   0--8                       14\n",
       "                       18--20                     14\n",
       "                       9--17                     323\n",
       "Sierra Leone    Female 30--38                     16\n",
       "                       9--17                      40\n",
       "                Male   9--17                      25\n",
       "South Africa    Male   21--23                     18\n",
       "                       30--38                     18\n",
       "Uganda          Female 0--8                       46\n",
       "                       9--17                      23\n",
       "                Male   0--8                       54"
      ]
     },
     "execution_count": 123,
     "metadata": {},
     "output_type": "execute_result"
    }
   ],
   "source": [
    "# use groupby to separate the data into fields acoording to country\n",
    "grp_africa_df = africa_df_copy.groupby(['Exploit Country', 'Gender', 'Age Range'])\n",
    "\n",
    "#the object returned is a groupby object and cannot be returned normally\n",
    "print(grp_africa_df)\n",
    "\n",
    "#in order to be visualized, a data function must be used\n",
    "grp_africa_df.count()"
   ]
  },
  {
   "cell_type": "code",
   "execution_count": null,
   "metadata": {},
   "outputs": [],
   "source": []
  },
  {
   "cell_type": "code",
   "execution_count": null,
   "metadata": {},
   "outputs": [],
   "source": []
  }
 ],
 "metadata": {
  "kernelspec": {
   "display_name": "Python 3",
   "language": "python",
   "name": "python3"
  },
  "language_info": {
   "codemirror_mode": {
    "name": "ipython",
    "version": 3
   },
   "file_extension": ".py",
   "mimetype": "text/x-python",
   "name": "python",
   "nbconvert_exporter": "python",
   "pygments_lexer": "ipython3",
   "version": "3.8.3"
  }
 },
 "nbformat": 4,
 "nbformat_minor": 4
}
