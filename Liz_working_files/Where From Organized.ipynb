{
 "cells": [
  {
   "cell_type": "code",
   "execution_count": 1,
   "metadata": {},
   "outputs": [],
   "source": [
    "#%matplotlib notebook\n",
    "import pandas as pd\n",
    "import numpy as np\n",
    "import matplotlib.pyplot as plt\n",
    "import scipy.stats as st\n",
    "from scipy.stats import linregress\n",
    "import pycountry\n",
    "\n",
    "\n",
    "#data file to work with\n",
    "file = '../cleanData/CleanFullDataSet.csv'\n",
    "\n",
    "#read data file\n",
    "clean_data = pd.read_csv(file, low_memory = False)"
   ]
  },
  {
   "cell_type": "code",
   "execution_count": 2,
   "metadata": {},
   "outputs": [
    {
     "data": {
      "text/html": [
       "<div>\n",
       "<style scoped>\n",
       "    .dataframe tbody tr th:only-of-type {\n",
       "        vertical-align: middle;\n",
       "    }\n",
       "\n",
       "    .dataframe tbody tr th {\n",
       "        vertical-align: top;\n",
       "    }\n",
       "\n",
       "    .dataframe thead th {\n",
       "        text-align: right;\n",
       "    }\n",
       "</style>\n",
       "<table border=\"1\" class=\"dataframe\">\n",
       "  <thead>\n",
       "    <tr style=\"text-align: right;\">\n",
       "      <th></th>\n",
       "      <th>gender</th>\n",
       "      <th>ageBroad</th>\n",
       "      <th>Citizenship Country</th>\n",
       "      <th>Citizenship Region</th>\n",
       "      <th>Citizenship Intermediate Region</th>\n",
       "      <th>Citizenship Sub-Region</th>\n",
       "    </tr>\n",
       "  </thead>\n",
       "  <tbody>\n",
       "    <tr>\n",
       "      <th>0</th>\n",
       "      <td>Female</td>\n",
       "      <td>18--20</td>\n",
       "      <td>Colombia</td>\n",
       "      <td>Americas</td>\n",
       "      <td>South America</td>\n",
       "      <td>Latin America and the Caribbean</td>\n",
       "    </tr>\n",
       "    <tr>\n",
       "      <th>1</th>\n",
       "      <td>Female</td>\n",
       "      <td>18--20</td>\n",
       "      <td>Colombia</td>\n",
       "      <td>Americas</td>\n",
       "      <td>South America</td>\n",
       "      <td>Latin America and the Caribbean</td>\n",
       "    </tr>\n",
       "  </tbody>\n",
       "</table>\n",
       "</div>"
      ],
      "text/plain": [
       "   gender ageBroad Citizenship Country Citizenship Region  \\\n",
       "0  Female   18--20            Colombia           Americas   \n",
       "1  Female   18--20            Colombia           Americas   \n",
       "\n",
       "  Citizenship Intermediate Region           Citizenship Sub-Region  \n",
       "0                   South America  Latin America and the Caribbean  \n",
       "1                   South America  Latin America and the Caribbean  "
      ]
     },
     "execution_count": 2,
     "metadata": {},
     "output_type": "execute_result"
    }
   ],
   "source": [
    "# display the columns related to citizenship data \n",
    "start_df = pd.DataFrame(clean_data[['gender', 'ageBroad', 'Citizenship Country', 'Citizenship Region', 'Citizenship Intermediate Region', 'Citizenship Sub-Region']])\n",
    "start_df.head(2)"
   ]
  },
  {
   "cell_type": "code",
   "execution_count": 3,
   "metadata": {},
   "outputs": [
    {
     "data": {
      "text/plain": [
       "gender                             48773\n",
       "ageBroad                           48773\n",
       "Citizenship Country                48773\n",
       "Citizenship Region                 48773\n",
       "Citizenship Intermediate Region    11001\n",
       "Citizenship Sub-Region             48773\n",
       "dtype: int64"
      ]
     },
     "execution_count": 3,
     "metadata": {},
     "output_type": "execute_result"
    }
   ],
   "source": [
    "#check to see if there is any missing info in the columns\n",
    "start_df.count()"
   ]
  },
  {
   "cell_type": "code",
   "execution_count": 4,
   "metadata": {},
   "outputs": [
    {
     "data": {
      "text/plain": [
       "gender                    48773\n",
       "ageBroad                  48773\n",
       "Citizenship Region        48773\n",
       "Citizenship Sub-Region    48773\n",
       "Citizenship Country       48773\n",
       "dtype: int64"
      ]
     },
     "execution_count": 4,
     "metadata": {},
     "output_type": "execute_result"
    }
   ],
   "source": [
    "# create a new data frame that doesn't include the 'Citizenship Intermediate Region' bc it has missing info & isn't of importance to me rn\n",
    "citizen_df = pd.DataFrame(clean_data[['gender', 'ageBroad', 'Citizenship Region', 'Citizenship Sub-Region', 'Citizenship Country',]])\n",
    "citizen_df.count()"
   ]
  },
  {
   "cell_type": "code",
   "execution_count": 5,
   "metadata": {},
   "outputs": [
    {
     "data": {
      "text/html": [
       "<div>\n",
       "<style scoped>\n",
       "    .dataframe tbody tr th:only-of-type {\n",
       "        vertical-align: middle;\n",
       "    }\n",
       "\n",
       "    .dataframe tbody tr th {\n",
       "        vertical-align: top;\n",
       "    }\n",
       "\n",
       "    .dataframe thead th {\n",
       "        text-align: right;\n",
       "    }\n",
       "</style>\n",
       "<table border=\"1\" class=\"dataframe\">\n",
       "  <thead>\n",
       "    <tr style=\"text-align: right;\">\n",
       "      <th></th>\n",
       "      <th>Gender</th>\n",
       "      <th>Age Range</th>\n",
       "      <th>Citizenship Region</th>\n",
       "      <th>Citizenship Sub-Region</th>\n",
       "      <th>Citizenship Country</th>\n",
       "    </tr>\n",
       "  </thead>\n",
       "  <tbody>\n",
       "    <tr>\n",
       "      <th>0</th>\n",
       "      <td>Female</td>\n",
       "      <td>18--20</td>\n",
       "      <td>Americas</td>\n",
       "      <td>Latin America and the Caribbean</td>\n",
       "      <td>Colombia</td>\n",
       "    </tr>\n",
       "    <tr>\n",
       "      <th>1</th>\n",
       "      <td>Female</td>\n",
       "      <td>18--20</td>\n",
       "      <td>Americas</td>\n",
       "      <td>Latin America and the Caribbean</td>\n",
       "      <td>Colombia</td>\n",
       "    </tr>\n",
       "  </tbody>\n",
       "</table>\n",
       "</div>"
      ],
      "text/plain": [
       "   Gender Age Range Citizenship Region           Citizenship Sub-Region  \\\n",
       "0  Female    18--20           Americas  Latin America and the Caribbean   \n",
       "1  Female    18--20           Americas  Latin America and the Caribbean   \n",
       "\n",
       "  Citizenship Country  \n",
       "0            Colombia  \n",
       "1            Colombia  "
      ]
     },
     "execution_count": 5,
     "metadata": {},
     "output_type": "execute_result"
    }
   ],
   "source": [
    "# rename columns\n",
    "citizen_df_renamed = citizen_df.rename(columns = {'gender' : 'Gender', 'ageBroad' : 'Age Range',})\n",
    "citizen_df_renamed.head(2)"
   ]
  },
  {
   "cell_type": "markdown",
   "metadata": {},
   "source": [
    "# Explore the Data"
   ]
  },
  {
   "cell_type": "code",
   "execution_count": 6,
   "metadata": {},
   "outputs": [
    {
     "data": {
      "text/plain": [
       "45"
      ]
     },
     "execution_count": 6,
     "metadata": {},
     "output_type": "execute_result"
    }
   ],
   "source": [
    "citizen_df_renamed['Citizenship Country'].nunique()"
   ]
  },
  {
   "cell_type": "code",
   "execution_count": 50,
   "metadata": {},
   "outputs": [
    {
     "data": {
      "text/plain": [
       "Philippines                         11365\n",
       "unknown                              9136\n",
       "Ukraine                              7761\n",
       "Republic of Moldova                  5901\n",
       "United States of America             3636\n",
       "Cambodia                             1979\n",
       "Indonesia                            1971\n",
       "Belarus                              1463\n",
       "Myanmar                              1250\n",
       "Romania                               655\n",
       "Ghana                                 544\n",
       "Kyrgyzstan                            437\n",
       "Bulgaria                              342\n",
       "Haiti                                 339\n",
       "Uzbekistan                            261\n",
       "Viet Nam                              170\n",
       "Guinea-Bissau                         145\n",
       "Lao People's Democratic Republic      126\n",
       "Colombia                              124\n",
       "Nigeria                               108\n",
       "Afghanistan                            97\n",
       "Madagascar                             94\n",
       "Sri Lanka                              85\n",
       "Sierra Leone                           81\n",
       "Senegal                                70\n",
       "Uganda                                 70\n",
       "Thailand                               55\n",
       "Kazakhstan                             54\n",
       "Democratic Republic of the Congo       53\n",
       "Mali                                   45\n",
       "Tajikistan                             43\n",
       "Burkina Faso                           33\n",
       "Kenya                                  32\n",
       "Niger                                  31\n",
       "Côte d’Ivoire                          31\n",
       "Nepal                                  27\n",
       "Turkmenistan                           26\n",
       "China                                  23\n",
       "Albania                                22\n",
       "Mexico                                 19\n",
       "Bolivia (Plurinational State of)       18\n",
       "Guinea                                 15\n",
       "Eritrea                                13\n",
       "Republic of Korea                      12\n",
       "Bangladesh                             11\n",
       "Name: Citizenship Country, dtype: int64"
      ]
     },
     "execution_count": 50,
     "metadata": {},
     "output_type": "execute_result"
    }
   ],
   "source": [
    "citizen_df_renamed['Citizenship Country'].value_counts()"
   ]
  },
  {
   "cell_type": "code",
   "execution_count": 8,
   "metadata": {},
   "outputs": [
    {
     "data": {
      "text/plain": [
       "Asia        17992\n",
       "Europe      16144\n",
       "unknown      9136\n",
       "Americas     4136\n",
       "Africa       1365\n",
       "Name: Citizenship Region, dtype: int64"
      ]
     },
     "execution_count": 8,
     "metadata": {},
     "output_type": "execute_result"
    }
   ],
   "source": [
    "regions = clean_data['Citizenship Region'].value_counts()\n",
    "regions"
   ]
  },
  {
   "cell_type": "code",
   "execution_count": 9,
   "metadata": {},
   "outputs": [
    {
     "data": {
      "text/plain": [
       "South-eastern Asia                 16916\n",
       "Eastern Europe                     16122\n",
       "unknown                             9136\n",
       "Northern America                    3636\n",
       "Sub-Saharan Africa                  1365\n",
       "Central Asia                         821\n",
       "Latin America and the Caribbean      500\n",
       "Southern Asia                        220\n",
       "Eastern Asia                          35\n",
       "Southern Europe                       22\n",
       "Name: Citizenship Sub-Region, dtype: int64"
      ]
     },
     "execution_count": 9,
     "metadata": {},
     "output_type": "execute_result"
    }
   ],
   "source": [
    "sub_regions = clean_data['Citizenship Sub-Region'].value_counts()\n",
    "sub_regions"
   ]
  },
  {
   "cell_type": "markdown",
   "metadata": {},
   "source": [
    "# Regions"
   ]
  },
  {
   "cell_type": "markdown",
   "metadata": {},
   "source": [
    "## Asia"
   ]
  },
  {
   "cell_type": "code",
   "execution_count": 10,
   "metadata": {},
   "outputs": [
    {
     "data": {
      "text/plain": [
       "Gender                     1\n",
       "Age Range                 10\n",
       "Citizenship Region         1\n",
       "Citizenship Sub-Region     4\n",
       "Citizenship Country       15\n",
       "dtype: int64"
      ]
     },
     "execution_count": 10,
     "metadata": {},
     "output_type": "execute_result"
    }
   ],
   "source": [
    "#create a data frame for each region, based on gender\n",
    "is_female = citizen_df_renamed['Gender'] == 'Female'\n",
    "is_male = citizen_df_renamed['Gender'] == 'Male'\n",
    "is_asia = citizen_df_renamed['Citizenship Region'] == 'Asia'\n",
    "\n",
    "female_asia = pd.DataFrame(citizen_df_renamed[is_female & is_asia])\n",
    "male_asia = pd.DataFrame(citizen_df_renamed[is_male & is_asia])\n",
    "\n",
    "female_asia.nunique()"
   ]
  },
  {
   "cell_type": "code",
   "execution_count": 11,
   "metadata": {},
   "outputs": [
    {
     "data": {
      "text/plain": [
       "Gender                     1\n",
       "Age Range                 10\n",
       "Citizenship Region         1\n",
       "Citizenship Sub-Region     3\n",
       "Citizenship Country       10\n",
       "dtype: int64"
      ]
     },
     "execution_count": 11,
     "metadata": {},
     "output_type": "execute_result"
    }
   ],
   "source": [
    "male_asia.nunique()"
   ]
  },
  {
   "cell_type": "code",
   "execution_count": 12,
   "metadata": {},
   "outputs": [
    {
     "data": {
      "text/html": [
       "<div>\n",
       "<style scoped>\n",
       "    .dataframe tbody tr th:only-of-type {\n",
       "        vertical-align: middle;\n",
       "    }\n",
       "\n",
       "    .dataframe tbody tr th {\n",
       "        vertical-align: top;\n",
       "    }\n",
       "\n",
       "    .dataframe thead th {\n",
       "        text-align: right;\n",
       "    }\n",
       "</style>\n",
       "<table border=\"1\" class=\"dataframe\">\n",
       "  <thead>\n",
       "    <tr style=\"text-align: right;\">\n",
       "      <th></th>\n",
       "      <th>Gender</th>\n",
       "      <th>Age Range</th>\n",
       "      <th>Citizenship Sub-Region</th>\n",
       "      <th>Citizenship Country</th>\n",
       "    </tr>\n",
       "  </thead>\n",
       "  <tbody>\n",
       "    <tr>\n",
       "      <th>1977</th>\n",
       "      <td>Female</td>\n",
       "      <td>18--20</td>\n",
       "      <td>Central Asia</td>\n",
       "      <td>Uzbekistan</td>\n",
       "    </tr>\n",
       "    <tr>\n",
       "      <th>1978</th>\n",
       "      <td>Female</td>\n",
       "      <td>18--20</td>\n",
       "      <td>Central Asia</td>\n",
       "      <td>Uzbekistan</td>\n",
       "    </tr>\n",
       "  </tbody>\n",
       "</table>\n",
       "</div>"
      ],
      "text/plain": [
       "      Gender Age Range Citizenship Sub-Region Citizenship Country\n",
       "1977  Female    18--20           Central Asia          Uzbekistan\n",
       "1978  Female    18--20           Central Asia          Uzbekistan"
      ]
     },
     "execution_count": 12,
     "metadata": {},
     "output_type": "execute_result"
    }
   ],
   "source": [
    "asia_df = citizen_df_renamed.loc[citizen_df_renamed['Citizenship Region'] == 'Asia', ['Gender', 'Age Range', 'Citizenship Sub-Region', 'Citizenship Country']]\n",
    "asia_df.head(2)"
   ]
  },
  {
   "cell_type": "code",
   "execution_count": 13,
   "metadata": {},
   "outputs": [],
   "source": [
    "# copy the df so we don't overwrite original asia_df data\n",
    "asia_df_copy = asia_df.copy()"
   ]
  },
  {
   "cell_type": "code",
   "execution_count": 14,
   "metadata": {},
   "outputs": [
    {
     "data": {
      "text/plain": [
       "Philippines                         11365\n",
       "Cambodia                             1979\n",
       "Indonesia                            1971\n",
       "Myanmar                              1250\n",
       "Kyrgyzstan                            437\n",
       "Uzbekistan                            261\n",
       "Viet Nam                              170\n",
       "Lao People's Democratic Republic      126\n",
       "Afghanistan                            97\n",
       "Sri Lanka                              85\n",
       "Thailand                               55\n",
       "Kazakhstan                             54\n",
       "Tajikistan                             43\n",
       "Nepal                                  27\n",
       "Turkmenistan                           26\n",
       "China                                  23\n",
       "Republic of Korea                      12\n",
       "Bangladesh                             11\n",
       "Name: Citizenship Country, dtype: int64"
      ]
     },
     "execution_count": 14,
     "metadata": {},
     "output_type": "execute_result"
    }
   ],
   "source": [
    "# See how many countries in this region are included in the data set\n",
    "country_counts = asia_df_copy['Citizenship Country'].value_counts()\n",
    "country_counts"
   ]
  },
  {
   "cell_type": "code",
   "execution_count": 15,
   "metadata": {},
   "outputs": [
    {
     "data": {
      "text/plain": [
       "South-eastern Asia    16916\n",
       "Central Asia            821\n",
       "Southern Asia           220\n",
       "Eastern Asia             35\n",
       "Name: Citizenship Sub-Region, dtype: int64"
      ]
     },
     "execution_count": 15,
     "metadata": {},
     "output_type": "execute_result"
    }
   ],
   "source": [
    "asia_sub_counts = asia_df_copy['Citizenship Sub-Region'].value_counts()\n",
    "asia_sub_counts"
   ]
  },
  {
   "cell_type": "code",
   "execution_count": 16,
   "metadata": {},
   "outputs": [
    {
     "data": {
      "text/plain": [
       "['Central Asia', 'South-eastern Asia', 'Southern Asia', 'Eastern Asia']"
      ]
     },
     "execution_count": 16,
     "metadata": {},
     "output_type": "execute_result"
    }
   ],
   "source": [
    "asia_sub_list = asia_df_copy['Citizenship Sub-Region'].unique()\n",
    "list(asia_sub_list)"
   ]
  },
  {
   "cell_type": "code",
   "execution_count": 17,
   "metadata": {},
   "outputs": [
    {
     "data": {
      "text/plain": [
       "array(['Uzbekistan', 'Indonesia', 'Tajikistan', 'Kyrgyzstan', 'Cambodia',\n",
       "       \"Lao People's Democratic Republic\", 'Kazakhstan', 'Turkmenistan',\n",
       "       'Sri Lanka', 'Myanmar', 'Afghanistan', 'Nepal', 'Philippines',\n",
       "       'Bangladesh', 'Thailand', 'Republic of Korea', 'Viet Nam', 'China'],\n",
       "      dtype=object)"
      ]
     },
     "execution_count": 17,
     "metadata": {},
     "output_type": "execute_result"
    }
   ],
   "source": [
    "asia_country_list = asia_df_copy['Citizenship Country'].unique()\n",
    "asia_country_list"
   ]
  },
  {
   "cell_type": "code",
   "execution_count": 18,
   "metadata": {},
   "outputs": [
    {
     "data": {
      "text/plain": [
       "Female    11725\n",
       "Male       6267\n",
       "Name: Gender, dtype: int64"
      ]
     },
     "execution_count": 18,
     "metadata": {},
     "output_type": "execute_result"
    }
   ],
   "source": [
    "asia_gender_counts = asia_df_copy['Gender'].value_counts()\n",
    "asia_gender_counts"
   ]
  },
  {
   "cell_type": "code",
   "execution_count": 19,
   "metadata": {},
   "outputs": [
    {
     "name": "stdout",
     "output_type": "stream",
     "text": [
      "<pandas.core.groupby.generic.DataFrameGroupBy object at 0x0000026421B248B0>\n"
     ]
    },
    {
     "data": {
      "text/html": [
       "<div>\n",
       "<style scoped>\n",
       "    .dataframe tbody tr th:only-of-type {\n",
       "        vertical-align: middle;\n",
       "    }\n",
       "\n",
       "    .dataframe tbody tr th {\n",
       "        vertical-align: top;\n",
       "    }\n",
       "\n",
       "    .dataframe thead th {\n",
       "        text-align: right;\n",
       "    }\n",
       "</style>\n",
       "<table border=\"1\" class=\"dataframe\">\n",
       "  <thead>\n",
       "    <tr style=\"text-align: right;\">\n",
       "      <th></th>\n",
       "      <th></th>\n",
       "      <th></th>\n",
       "      <th>Citizenship Sub-Region</th>\n",
       "    </tr>\n",
       "    <tr>\n",
       "      <th>Citizenship Country</th>\n",
       "      <th>Gender</th>\n",
       "      <th>Age Range</th>\n",
       "      <th></th>\n",
       "    </tr>\n",
       "  </thead>\n",
       "  <tbody>\n",
       "    <tr>\n",
       "      <th>Afghanistan</th>\n",
       "      <th>Male</th>\n",
       "      <th>9--17</th>\n",
       "      <td>97</td>\n",
       "    </tr>\n",
       "    <tr>\n",
       "      <th>Bangladesh</th>\n",
       "      <th>Male</th>\n",
       "      <th>30--38</th>\n",
       "      <td>11</td>\n",
       "    </tr>\n",
       "    <tr>\n",
       "      <th rowspan=\"17\" valign=\"top\">Cambodia</th>\n",
       "      <th rowspan=\"8\" valign=\"top\">Female</th>\n",
       "      <th>0--8</th>\n",
       "      <td>30</td>\n",
       "    </tr>\n",
       "    <tr>\n",
       "      <th>18--20</th>\n",
       "      <td>60</td>\n",
       "    </tr>\n",
       "    <tr>\n",
       "      <th>21--23</th>\n",
       "      <td>53</td>\n",
       "    </tr>\n",
       "    <tr>\n",
       "      <th>24--26</th>\n",
       "      <td>29</td>\n",
       "    </tr>\n",
       "    <tr>\n",
       "      <th>27--29</th>\n",
       "      <td>22</td>\n",
       "    </tr>\n",
       "    <tr>\n",
       "      <th>30--38</th>\n",
       "      <td>69</td>\n",
       "    </tr>\n",
       "    <tr>\n",
       "      <th>9--17</th>\n",
       "      <td>141</td>\n",
       "    </tr>\n",
       "    <tr>\n",
       "      <th>unknown</th>\n",
       "      <td>518</td>\n",
       "    </tr>\n",
       "    <tr>\n",
       "      <th rowspan=\"9\" valign=\"top\">Male</th>\n",
       "      <th>0--8</th>\n",
       "      <td>35</td>\n",
       "    </tr>\n",
       "    <tr>\n",
       "      <th>18--20</th>\n",
       "      <td>45</td>\n",
       "    </tr>\n",
       "    <tr>\n",
       "      <th>21--23</th>\n",
       "      <td>53</td>\n",
       "    </tr>\n",
       "    <tr>\n",
       "      <th>24--26</th>\n",
       "      <td>117</td>\n",
       "    </tr>\n",
       "    <tr>\n",
       "      <th>27--29</th>\n",
       "      <td>80</td>\n",
       "    </tr>\n",
       "    <tr>\n",
       "      <th>30--38</th>\n",
       "      <td>253</td>\n",
       "    </tr>\n",
       "    <tr>\n",
       "      <th>39--47</th>\n",
       "      <td>42</td>\n",
       "    </tr>\n",
       "    <tr>\n",
       "      <th>9--17</th>\n",
       "      <td>166</td>\n",
       "    </tr>\n",
       "    <tr>\n",
       "      <th>unknown</th>\n",
       "      <td>266</td>\n",
       "    </tr>\n",
       "    <tr>\n",
       "      <th>China</th>\n",
       "      <th>Female</th>\n",
       "      <th>30--38</th>\n",
       "      <td>23</td>\n",
       "    </tr>\n",
       "    <tr>\n",
       "      <th rowspan=\"13\" valign=\"top\">Indonesia</th>\n",
       "      <th rowspan=\"8\" valign=\"top\">Female</th>\n",
       "      <th>18--20</th>\n",
       "      <td>199</td>\n",
       "    </tr>\n",
       "    <tr>\n",
       "      <th>21--23</th>\n",
       "      <td>183</td>\n",
       "    </tr>\n",
       "    <tr>\n",
       "      <th>24--26</th>\n",
       "      <td>144</td>\n",
       "    </tr>\n",
       "    <tr>\n",
       "      <th>27--29</th>\n",
       "      <td>201</td>\n",
       "    </tr>\n",
       "    <tr>\n",
       "      <th>30--38</th>\n",
       "      <td>734</td>\n",
       "    </tr>\n",
       "    <tr>\n",
       "      <th>39--47</th>\n",
       "      <td>230</td>\n",
       "    </tr>\n",
       "    <tr>\n",
       "      <th>48+</th>\n",
       "      <td>12</td>\n",
       "    </tr>\n",
       "    <tr>\n",
       "      <th>9--17</th>\n",
       "      <td>117</td>\n",
       "    </tr>\n",
       "    <tr>\n",
       "      <th rowspan=\"5\" valign=\"top\">Male</th>\n",
       "      <th>21--23</th>\n",
       "      <td>50</td>\n",
       "    </tr>\n",
       "    <tr>\n",
       "      <th>24--26</th>\n",
       "      <td>17</td>\n",
       "    </tr>\n",
       "    <tr>\n",
       "      <th>27--29</th>\n",
       "      <td>11</td>\n",
       "    </tr>\n",
       "    <tr>\n",
       "      <th>30--38</th>\n",
       "      <td>58</td>\n",
       "    </tr>\n",
       "    <tr>\n",
       "      <th>39--47</th>\n",
       "      <td>15</td>\n",
       "    </tr>\n",
       "    <tr>\n",
       "      <th rowspan=\"2\" valign=\"top\">Kazakhstan</th>\n",
       "      <th rowspan=\"2\" valign=\"top\">Female</th>\n",
       "      <th>18--20</th>\n",
       "      <td>39</td>\n",
       "    </tr>\n",
       "    <tr>\n",
       "      <th>21--23</th>\n",
       "      <td>15</td>\n",
       "    </tr>\n",
       "    <tr>\n",
       "      <th rowspan=\"9\" valign=\"top\">Kyrgyzstan</th>\n",
       "      <th rowspan=\"3\" valign=\"top\">Female</th>\n",
       "      <th>21--23</th>\n",
       "      <td>16</td>\n",
       "    </tr>\n",
       "    <tr>\n",
       "      <th>30--38</th>\n",
       "      <td>36</td>\n",
       "    </tr>\n",
       "    <tr>\n",
       "      <th>48+</th>\n",
       "      <td>18</td>\n",
       "    </tr>\n",
       "    <tr>\n",
       "      <th rowspan=\"6\" valign=\"top\">Male</th>\n",
       "      <th>21--23</th>\n",
       "      <td>12</td>\n",
       "    </tr>\n",
       "    <tr>\n",
       "      <th>24--26</th>\n",
       "      <td>52</td>\n",
       "    </tr>\n",
       "    <tr>\n",
       "      <th>27--29</th>\n",
       "      <td>18</td>\n",
       "    </tr>\n",
       "    <tr>\n",
       "      <th>30--38</th>\n",
       "      <td>169</td>\n",
       "    </tr>\n",
       "    <tr>\n",
       "      <th>39--47</th>\n",
       "      <td>88</td>\n",
       "    </tr>\n",
       "    <tr>\n",
       "      <th>48+</th>\n",
       "      <td>28</td>\n",
       "    </tr>\n",
       "    <tr>\n",
       "      <th>Lao People's Democratic Republic</th>\n",
       "      <th>Female</th>\n",
       "      <th>0--8</th>\n",
       "      <td>126</td>\n",
       "    </tr>\n",
       "    <tr>\n",
       "      <th rowspan=\"8\" valign=\"top\">Myanmar</th>\n",
       "      <th>Female</th>\n",
       "      <th>9--17</th>\n",
       "      <td>26</td>\n",
       "    </tr>\n",
       "    <tr>\n",
       "      <th rowspan=\"7\" valign=\"top\">Male</th>\n",
       "      <th>18--20</th>\n",
       "      <td>43</td>\n",
       "    </tr>\n",
       "    <tr>\n",
       "      <th>21--23</th>\n",
       "      <td>119</td>\n",
       "    </tr>\n",
       "    <tr>\n",
       "      <th>24--26</th>\n",
       "      <td>153</td>\n",
       "    </tr>\n",
       "    <tr>\n",
       "      <th>27--29</th>\n",
       "      <td>158</td>\n",
       "    </tr>\n",
       "    <tr>\n",
       "      <th>30--38</th>\n",
       "      <td>483</td>\n",
       "    </tr>\n",
       "    <tr>\n",
       "      <th>39--47</th>\n",
       "      <td>208</td>\n",
       "    </tr>\n",
       "    <tr>\n",
       "      <th>48+</th>\n",
       "      <td>60</td>\n",
       "    </tr>\n",
       "    <tr>\n",
       "      <th rowspan=\"2\" valign=\"top\">Nepal</th>\n",
       "      <th rowspan=\"2\" valign=\"top\">Female</th>\n",
       "      <th>30--38</th>\n",
       "      <td>12</td>\n",
       "    </tr>\n",
       "    <tr>\n",
       "      <th>39--47</th>\n",
       "      <td>15</td>\n",
       "    </tr>\n",
       "    <tr>\n",
       "      <th rowspan=\"5\" valign=\"top\">Philippines</th>\n",
       "      <th rowspan=\"3\" valign=\"top\">Female</th>\n",
       "      <th>30--38</th>\n",
       "      <td>34</td>\n",
       "    </tr>\n",
       "    <tr>\n",
       "      <th>39--47</th>\n",
       "      <td>25</td>\n",
       "    </tr>\n",
       "    <tr>\n",
       "      <th>unknown</th>\n",
       "      <td>8115</td>\n",
       "    </tr>\n",
       "    <tr>\n",
       "      <th rowspan=\"2\" valign=\"top\">Male</th>\n",
       "      <th>18--20</th>\n",
       "      <td>13</td>\n",
       "    </tr>\n",
       "    <tr>\n",
       "      <th>unknown</th>\n",
       "      <td>3178</td>\n",
       "    </tr>\n",
       "  </tbody>\n",
       "</table>\n",
       "</div>"
      ],
      "text/plain": [
       "                                                   Citizenship Sub-Region\n",
       "Citizenship Country              Gender Age Range                        \n",
       "Afghanistan                      Male   9--17                          97\n",
       "Bangladesh                       Male   30--38                         11\n",
       "Cambodia                         Female 0--8                           30\n",
       "                                        18--20                         60\n",
       "                                        21--23                         53\n",
       "                                        24--26                         29\n",
       "                                        27--29                         22\n",
       "                                        30--38                         69\n",
       "                                        9--17                         141\n",
       "                                        unknown                       518\n",
       "                                 Male   0--8                           35\n",
       "                                        18--20                         45\n",
       "                                        21--23                         53\n",
       "                                        24--26                        117\n",
       "                                        27--29                         80\n",
       "                                        30--38                        253\n",
       "                                        39--47                         42\n",
       "                                        9--17                         166\n",
       "                                        unknown                       266\n",
       "China                            Female 30--38                         23\n",
       "Indonesia                        Female 18--20                        199\n",
       "                                        21--23                        183\n",
       "                                        24--26                        144\n",
       "                                        27--29                        201\n",
       "                                        30--38                        734\n",
       "                                        39--47                        230\n",
       "                                        48+                            12\n",
       "                                        9--17                         117\n",
       "                                 Male   21--23                         50\n",
       "                                        24--26                         17\n",
       "                                        27--29                         11\n",
       "                                        30--38                         58\n",
       "                                        39--47                         15\n",
       "Kazakhstan                       Female 18--20                         39\n",
       "                                        21--23                         15\n",
       "Kyrgyzstan                       Female 21--23                         16\n",
       "                                        30--38                         36\n",
       "                                        48+                            18\n",
       "                                 Male   21--23                         12\n",
       "                                        24--26                         52\n",
       "                                        27--29                         18\n",
       "                                        30--38                        169\n",
       "                                        39--47                         88\n",
       "                                        48+                            28\n",
       "Lao People's Democratic Republic Female 0--8                          126\n",
       "Myanmar                          Female 9--17                          26\n",
       "                                 Male   18--20                         43\n",
       "                                        21--23                        119\n",
       "                                        24--26                        153\n",
       "                                        27--29                        158\n",
       "                                        30--38                        483\n",
       "                                        39--47                        208\n",
       "                                        48+                            60\n",
       "Nepal                            Female 30--38                         12\n",
       "                                        39--47                         15\n",
       "Philippines                      Female 30--38                         34\n",
       "                                        39--47                         25\n",
       "                                        unknown                      8115\n",
       "                                 Male   18--20                         13\n",
       "                                        unknown                      3178"
      ]
     },
     "execution_count": 19,
     "metadata": {},
     "output_type": "execute_result"
    }
   ],
   "source": [
    "# use groupby to separate the data into fields acoording to country\n",
    "grouped_asia_df = asia_df_copy.groupby(['Citizenship Country', 'Gender', 'Age Range'])\n",
    "\n",
    "#the object returned is a groupby object and cannot be returned normally\n",
    "print(grouped_asia_df)\n",
    "\n",
    "#in order to be visualized, a data function must be used\n",
    "grouped_asia_df.count().head(60)"
   ]
  },
  {
   "cell_type": "markdown",
   "metadata": {},
   "source": [
    "## Europe"
   ]
  },
  {
   "cell_type": "code",
   "execution_count": 20,
   "metadata": {},
   "outputs": [
    {
     "data": {
      "text/plain": [
       "Gender                    1\n",
       "Age Range                 9\n",
       "Citizenship Region        1\n",
       "Citizenship Sub-Region    2\n",
       "Citizenship Country       6\n",
       "dtype: int64"
      ]
     },
     "execution_count": 20,
     "metadata": {},
     "output_type": "execute_result"
    }
   ],
   "source": [
    "#create a data frame for each region, based on gender\n",
    "is_female = citizen_df_renamed['Gender'] == 'Female'\n",
    "is_male = citizen_df_renamed['Gender'] == 'Male'\n",
    "is_europe = citizen_df_renamed['Citizenship Region'] == 'Europe'\n",
    "female_europe = pd.DataFrame(citizen_df_renamed[is_female & is_europe])\n",
    "male_europe = pd.DataFrame(citizen_df_renamed[is_male & is_europe])\n",
    "\n",
    "#show unique values in the series\n",
    "female_europe.nunique() "
   ]
  },
  {
   "cell_type": "code",
   "execution_count": 21,
   "metadata": {},
   "outputs": [
    {
     "data": {
      "text/plain": [
       "Gender                    1\n",
       "Age Range                 9\n",
       "Citizenship Region        1\n",
       "Citizenship Sub-Region    1\n",
       "Citizenship Country       4\n",
       "dtype: int64"
      ]
     },
     "execution_count": 21,
     "metadata": {},
     "output_type": "execute_result"
    }
   ],
   "source": [
    "male_europe.nunique()"
   ]
  },
  {
   "cell_type": "code",
   "execution_count": 22,
   "metadata": {},
   "outputs": [
    {
     "data": {
      "text/html": [
       "<div>\n",
       "<style scoped>\n",
       "    .dataframe tbody tr th:only-of-type {\n",
       "        vertical-align: middle;\n",
       "    }\n",
       "\n",
       "    .dataframe tbody tr th {\n",
       "        vertical-align: top;\n",
       "    }\n",
       "\n",
       "    .dataframe thead th {\n",
       "        text-align: right;\n",
       "    }\n",
       "</style>\n",
       "<table border=\"1\" class=\"dataframe\">\n",
       "  <thead>\n",
       "    <tr style=\"text-align: right;\">\n",
       "      <th></th>\n",
       "      <th>Gender</th>\n",
       "      <th>Age Range</th>\n",
       "      <th>Citizenship Sub-Region</th>\n",
       "      <th>Citizenship Country</th>\n",
       "    </tr>\n",
       "  </thead>\n",
       "  <tbody>\n",
       "    <tr>\n",
       "      <th>11</th>\n",
       "      <td>Female</td>\n",
       "      <td>18--20</td>\n",
       "      <td>Eastern Europe</td>\n",
       "      <td>Republic of Moldova</td>\n",
       "    </tr>\n",
       "    <tr>\n",
       "      <th>12</th>\n",
       "      <td>Female</td>\n",
       "      <td>18--20</td>\n",
       "      <td>Eastern Europe</td>\n",
       "      <td>Republic of Moldova</td>\n",
       "    </tr>\n",
       "    <tr>\n",
       "      <th>13</th>\n",
       "      <td>Female</td>\n",
       "      <td>18--20</td>\n",
       "      <td>Eastern Europe</td>\n",
       "      <td>Republic of Moldova</td>\n",
       "    </tr>\n",
       "    <tr>\n",
       "      <th>14</th>\n",
       "      <td>Female</td>\n",
       "      <td>18--20</td>\n",
       "      <td>Eastern Europe</td>\n",
       "      <td>Republic of Moldova</td>\n",
       "    </tr>\n",
       "    <tr>\n",
       "      <th>15</th>\n",
       "      <td>Female</td>\n",
       "      <td>18--20</td>\n",
       "      <td>Eastern Europe</td>\n",
       "      <td>Republic of Moldova</td>\n",
       "    </tr>\n",
       "  </tbody>\n",
       "</table>\n",
       "</div>"
      ],
      "text/plain": [
       "    Gender Age Range Citizenship Sub-Region  Citizenship Country\n",
       "11  Female    18--20         Eastern Europe  Republic of Moldova\n",
       "12  Female    18--20         Eastern Europe  Republic of Moldova\n",
       "13  Female    18--20         Eastern Europe  Republic of Moldova\n",
       "14  Female    18--20         Eastern Europe  Republic of Moldova\n",
       "15  Female    18--20         Eastern Europe  Republic of Moldova"
      ]
     },
     "execution_count": 22,
     "metadata": {},
     "output_type": "execute_result"
    }
   ],
   "source": [
    "europe_df = citizen_df_renamed.loc[citizen_df_renamed['Citizenship Region'] == 'Europe', ['Gender', 'Age Range', 'Citizenship Sub-Region', 'Citizenship Country']]\n",
    "europe_df.head()"
   ]
  },
  {
   "cell_type": "code",
   "execution_count": 23,
   "metadata": {},
   "outputs": [],
   "source": [
    "# copy the df so we don't overwrite original europe_df data\n",
    "europe_df_copy = europe_df.copy()"
   ]
  },
  {
   "cell_type": "code",
   "execution_count": 24,
   "metadata": {},
   "outputs": [
    {
     "data": {
      "text/plain": [
       "Ukraine                7761\n",
       "Republic of Moldova    5901\n",
       "Belarus                1463\n",
       "Romania                 655\n",
       "Bulgaria                342\n",
       "Albania                  22\n",
       "Name: Citizenship Country, dtype: int64"
      ]
     },
     "execution_count": 24,
     "metadata": {},
     "output_type": "execute_result"
    }
   ],
   "source": [
    "# See how many countries in this region are included in the data set\n",
    "euro_country_counts = europe_df_copy['Citizenship Country'].value_counts()\n",
    "euro_country_counts"
   ]
  },
  {
   "cell_type": "code",
   "execution_count": 25,
   "metadata": {},
   "outputs": [
    {
     "data": {
      "text/plain": [
       "Eastern Europe     16122\n",
       "Southern Europe       22\n",
       "Name: Citizenship Sub-Region, dtype: int64"
      ]
     },
     "execution_count": 25,
     "metadata": {},
     "output_type": "execute_result"
    }
   ],
   "source": [
    "europe_sub_counts = europe_df_copy['Citizenship Sub-Region'].value_counts()\n",
    "europe_sub_counts"
   ]
  },
  {
   "cell_type": "code",
   "execution_count": 26,
   "metadata": {},
   "outputs": [
    {
     "data": {
      "text/plain": [
       "array(['Republic of Moldova', 'Romania', 'Ukraine', 'Belarus', 'Albania',\n",
       "       'Bulgaria'], dtype=object)"
      ]
     },
     "execution_count": 26,
     "metadata": {},
     "output_type": "execute_result"
    }
   ],
   "source": [
    "europe_country_list = europe_df_copy['Citizenship Country'].unique()\n",
    "europe_country_list"
   ]
  },
  {
   "cell_type": "code",
   "execution_count": 27,
   "metadata": {},
   "outputs": [
    {
     "data": {
      "text/plain": [
       "Female    10518\n",
       "Male       5626\n",
       "Name: Gender, dtype: int64"
      ]
     },
     "execution_count": 27,
     "metadata": {},
     "output_type": "execute_result"
    }
   ],
   "source": [
    "europe_gender_counts = europe_df_copy['Gender'].value_counts()\n",
    "europe_gender_counts"
   ]
  },
  {
   "cell_type": "code",
   "execution_count": 28,
   "metadata": {},
   "outputs": [
    {
     "name": "stdout",
     "output_type": "stream",
     "text": [
      "<pandas.core.groupby.generic.DataFrameGroupBy object at 0x00000264210610D0>\n"
     ]
    },
    {
     "data": {
      "text/html": [
       "<div>\n",
       "<style scoped>\n",
       "    .dataframe tbody tr th:only-of-type {\n",
       "        vertical-align: middle;\n",
       "    }\n",
       "\n",
       "    .dataframe tbody tr th {\n",
       "        vertical-align: top;\n",
       "    }\n",
       "\n",
       "    .dataframe thead th {\n",
       "        text-align: right;\n",
       "    }\n",
       "</style>\n",
       "<table border=\"1\" class=\"dataframe\">\n",
       "  <thead>\n",
       "    <tr style=\"text-align: right;\">\n",
       "      <th></th>\n",
       "      <th></th>\n",
       "      <th></th>\n",
       "      <th>Citizenship Sub-Region</th>\n",
       "    </tr>\n",
       "    <tr>\n",
       "      <th>Citizenship Country</th>\n",
       "      <th>Gender</th>\n",
       "      <th>Age Range</th>\n",
       "      <th></th>\n",
       "    </tr>\n",
       "  </thead>\n",
       "  <tbody>\n",
       "    <tr>\n",
       "      <th rowspan=\"2\" valign=\"top\">Albania</th>\n",
       "      <th rowspan=\"2\" valign=\"top\">Female</th>\n",
       "      <th>18--20</th>\n",
       "      <td>11</td>\n",
       "    </tr>\n",
       "    <tr>\n",
       "      <th>21--23</th>\n",
       "      <td>11</td>\n",
       "    </tr>\n",
       "    <tr>\n",
       "      <th rowspan=\"15\" valign=\"top\">Belarus</th>\n",
       "      <th rowspan=\"7\" valign=\"top\">Female</th>\n",
       "      <th>18--20</th>\n",
       "      <td>121</td>\n",
       "    </tr>\n",
       "    <tr>\n",
       "      <th>21--23</th>\n",
       "      <td>126</td>\n",
       "    </tr>\n",
       "    <tr>\n",
       "      <th>24--26</th>\n",
       "      <td>84</td>\n",
       "    </tr>\n",
       "    <tr>\n",
       "      <th>27--29</th>\n",
       "      <td>25</td>\n",
       "    </tr>\n",
       "    <tr>\n",
       "      <th>30--38</th>\n",
       "      <td>59</td>\n",
       "    </tr>\n",
       "    <tr>\n",
       "      <th>39--47</th>\n",
       "      <td>30</td>\n",
       "    </tr>\n",
       "    <tr>\n",
       "      <th>9--17</th>\n",
       "      <td>78</td>\n",
       "    </tr>\n",
       "    <tr>\n",
       "      <th rowspan=\"8\" valign=\"top\">Male</th>\n",
       "      <th>18--20</th>\n",
       "      <td>23</td>\n",
       "    </tr>\n",
       "    <tr>\n",
       "      <th>21--23</th>\n",
       "      <td>38</td>\n",
       "    </tr>\n",
       "    <tr>\n",
       "      <th>24--26</th>\n",
       "      <td>27</td>\n",
       "    </tr>\n",
       "    <tr>\n",
       "      <th>27--29</th>\n",
       "      <td>93</td>\n",
       "    </tr>\n",
       "    <tr>\n",
       "      <th>30--38</th>\n",
       "      <td>238</td>\n",
       "    </tr>\n",
       "    <tr>\n",
       "      <th>39--47</th>\n",
       "      <td>298</td>\n",
       "    </tr>\n",
       "    <tr>\n",
       "      <th>48+</th>\n",
       "      <td>179</td>\n",
       "    </tr>\n",
       "    <tr>\n",
       "      <th>9--17</th>\n",
       "      <td>44</td>\n",
       "    </tr>\n",
       "    <tr>\n",
       "      <th rowspan=\"6\" valign=\"top\">Bulgaria</th>\n",
       "      <th rowspan=\"6\" valign=\"top\">Female</th>\n",
       "      <th>18--20</th>\n",
       "      <td>112</td>\n",
       "    </tr>\n",
       "    <tr>\n",
       "      <th>21--23</th>\n",
       "      <td>66</td>\n",
       "    </tr>\n",
       "    <tr>\n",
       "      <th>24--26</th>\n",
       "      <td>45</td>\n",
       "    </tr>\n",
       "    <tr>\n",
       "      <th>27--29</th>\n",
       "      <td>28</td>\n",
       "    </tr>\n",
       "    <tr>\n",
       "      <th>30--38</th>\n",
       "      <td>49</td>\n",
       "    </tr>\n",
       "    <tr>\n",
       "      <th>9--17</th>\n",
       "      <td>42</td>\n",
       "    </tr>\n",
       "    <tr>\n",
       "      <th rowspan=\"13\" valign=\"top\">Republic of Moldova</th>\n",
       "      <th rowspan=\"9\" valign=\"top\">Female</th>\n",
       "      <th>0--8</th>\n",
       "      <td>415</td>\n",
       "    </tr>\n",
       "    <tr>\n",
       "      <th>18--20</th>\n",
       "      <td>822</td>\n",
       "    </tr>\n",
       "    <tr>\n",
       "      <th>21--23</th>\n",
       "      <td>702</td>\n",
       "    </tr>\n",
       "    <tr>\n",
       "      <th>24--26</th>\n",
       "      <td>504</td>\n",
       "    </tr>\n",
       "    <tr>\n",
       "      <th>27--29</th>\n",
       "      <td>349</td>\n",
       "    </tr>\n",
       "    <tr>\n",
       "      <th>30--38</th>\n",
       "      <td>638</td>\n",
       "    </tr>\n",
       "    <tr>\n",
       "      <th>39--47</th>\n",
       "      <td>269</td>\n",
       "    </tr>\n",
       "    <tr>\n",
       "      <th>48+</th>\n",
       "      <td>218</td>\n",
       "    </tr>\n",
       "    <tr>\n",
       "      <th>9--17</th>\n",
       "      <td>964</td>\n",
       "    </tr>\n",
       "    <tr>\n",
       "      <th rowspan=\"4\" valign=\"top\">Male</th>\n",
       "      <th>0--8</th>\n",
       "      <td>458</td>\n",
       "    </tr>\n",
       "    <tr>\n",
       "      <th>18--20</th>\n",
       "      <td>42</td>\n",
       "    </tr>\n",
       "    <tr>\n",
       "      <th>30--38</th>\n",
       "      <td>23</td>\n",
       "    </tr>\n",
       "    <tr>\n",
       "      <th>9--17</th>\n",
       "      <td>497</td>\n",
       "    </tr>\n",
       "    <tr>\n",
       "      <th rowspan=\"6\" valign=\"top\">Romania</th>\n",
       "      <th rowspan=\"5\" valign=\"top\">Female</th>\n",
       "      <th>18--20</th>\n",
       "      <td>321</td>\n",
       "    </tr>\n",
       "    <tr>\n",
       "      <th>21--23</th>\n",
       "      <td>182</td>\n",
       "    </tr>\n",
       "    <tr>\n",
       "      <th>24--26</th>\n",
       "      <td>72</td>\n",
       "    </tr>\n",
       "    <tr>\n",
       "      <th>27--29</th>\n",
       "      <td>11</td>\n",
       "    </tr>\n",
       "    <tr>\n",
       "      <th>9--17</th>\n",
       "      <td>52</td>\n",
       "    </tr>\n",
       "    <tr>\n",
       "      <th>Male</th>\n",
       "      <th>39--47</th>\n",
       "      <td>17</td>\n",
       "    </tr>\n",
       "    <tr>\n",
       "      <th rowspan=\"17\" valign=\"top\">Ukraine</th>\n",
       "      <th rowspan=\"9\" valign=\"top\">Female</th>\n",
       "      <th>0--8</th>\n",
       "      <td>29</td>\n",
       "    </tr>\n",
       "    <tr>\n",
       "      <th>18--20</th>\n",
       "      <td>354</td>\n",
       "    </tr>\n",
       "    <tr>\n",
       "      <th>21--23</th>\n",
       "      <td>800</td>\n",
       "    </tr>\n",
       "    <tr>\n",
       "      <th>24--26</th>\n",
       "      <td>728</td>\n",
       "    </tr>\n",
       "    <tr>\n",
       "      <th>27--29</th>\n",
       "      <td>427</td>\n",
       "    </tr>\n",
       "    <tr>\n",
       "      <th>30--38</th>\n",
       "      <td>877</td>\n",
       "    </tr>\n",
       "    <tr>\n",
       "      <th>39--47</th>\n",
       "      <td>368</td>\n",
       "    </tr>\n",
       "    <tr>\n",
       "      <th>48+</th>\n",
       "      <td>450</td>\n",
       "    </tr>\n",
       "    <tr>\n",
       "      <th>9--17</th>\n",
       "      <td>79</td>\n",
       "    </tr>\n",
       "    <tr>\n",
       "      <th rowspan=\"8\" valign=\"top\">Male</th>\n",
       "      <th>18--20</th>\n",
       "      <td>41</td>\n",
       "    </tr>\n",
       "    <tr>\n",
       "      <th>21--23</th>\n",
       "      <td>174</td>\n",
       "    </tr>\n",
       "    <tr>\n",
       "      <th>24--26</th>\n",
       "      <td>282</td>\n",
       "    </tr>\n",
       "    <tr>\n",
       "      <th>27--29</th>\n",
       "      <td>412</td>\n",
       "    </tr>\n",
       "    <tr>\n",
       "      <th>30--38</th>\n",
       "      <td>1588</td>\n",
       "    </tr>\n",
       "    <tr>\n",
       "      <th>39--47</th>\n",
       "      <td>710</td>\n",
       "    </tr>\n",
       "    <tr>\n",
       "      <th>48+</th>\n",
       "      <td>396</td>\n",
       "    </tr>\n",
       "    <tr>\n",
       "      <th>9--17</th>\n",
       "      <td>46</td>\n",
       "    </tr>\n",
       "  </tbody>\n",
       "</table>\n",
       "</div>"
      ],
      "text/plain": [
       "                                      Citizenship Sub-Region\n",
       "Citizenship Country Gender Age Range                        \n",
       "Albania             Female 18--20                         11\n",
       "                           21--23                         11\n",
       "Belarus             Female 18--20                        121\n",
       "                           21--23                        126\n",
       "                           24--26                         84\n",
       "                           27--29                         25\n",
       "                           30--38                         59\n",
       "                           39--47                         30\n",
       "                           9--17                          78\n",
       "                    Male   18--20                         23\n",
       "                           21--23                         38\n",
       "                           24--26                         27\n",
       "                           27--29                         93\n",
       "                           30--38                        238\n",
       "                           39--47                        298\n",
       "                           48+                           179\n",
       "                           9--17                          44\n",
       "Bulgaria            Female 18--20                        112\n",
       "                           21--23                         66\n",
       "                           24--26                         45\n",
       "                           27--29                         28\n",
       "                           30--38                         49\n",
       "                           9--17                          42\n",
       "Republic of Moldova Female 0--8                          415\n",
       "                           18--20                        822\n",
       "                           21--23                        702\n",
       "                           24--26                        504\n",
       "                           27--29                        349\n",
       "                           30--38                        638\n",
       "                           39--47                        269\n",
       "                           48+                           218\n",
       "                           9--17                         964\n",
       "                    Male   0--8                          458\n",
       "                           18--20                         42\n",
       "                           30--38                         23\n",
       "                           9--17                         497\n",
       "Romania             Female 18--20                        321\n",
       "                           21--23                        182\n",
       "                           24--26                         72\n",
       "                           27--29                         11\n",
       "                           9--17                          52\n",
       "                    Male   39--47                         17\n",
       "Ukraine             Female 0--8                           29\n",
       "                           18--20                        354\n",
       "                           21--23                        800\n",
       "                           24--26                        728\n",
       "                           27--29                        427\n",
       "                           30--38                        877\n",
       "                           39--47                        368\n",
       "                           48+                           450\n",
       "                           9--17                          79\n",
       "                    Male   18--20                         41\n",
       "                           21--23                        174\n",
       "                           24--26                        282\n",
       "                           27--29                        412\n",
       "                           30--38                       1588\n",
       "                           39--47                        710\n",
       "                           48+                           396\n",
       "                           9--17                          46"
      ]
     },
     "execution_count": 28,
     "metadata": {},
     "output_type": "execute_result"
    }
   ],
   "source": [
    "# use groupby to separate the data into fields acoording to country\n",
    "europe_df_copy = europe_df.copy()\n",
    "grouped_europe_df = europe_df_copy.groupby(['Citizenship Country', 'Gender', 'Age Range'])\n",
    "\n",
    "#the object returned is a groupby object and cannot be returned normally\n",
    "print(grouped_europe_df)\n",
    "\n",
    "#in order to be visualized, a data function must be used\n",
    "grouped_europe_df.count()"
   ]
  },
  {
   "cell_type": "markdown",
   "metadata": {},
   "source": [
    "## Americas"
   ]
  },
  {
   "cell_type": "code",
   "execution_count": 29,
   "metadata": {},
   "outputs": [
    {
     "data": {
      "text/plain": [
       "Gender                     1\n",
       "Age Range                 10\n",
       "Citizenship Region         1\n",
       "Citizenship Sub-Region     2\n",
       "Citizenship Country        4\n",
       "dtype: int64"
      ]
     },
     "execution_count": 29,
     "metadata": {},
     "output_type": "execute_result"
    }
   ],
   "source": [
    "#create a data frame for each region, based on gender\n",
    "is_female = citizen_df_renamed['Gender'] == 'Female'\n",
    "is_male = citizen_df_renamed['Gender'] == 'Male'\n",
    "is_americas = citizen_df_renamed['Citizenship Region'] == 'Americas'\n",
    "\n",
    "female_americas = pd.DataFrame(citizen_df_renamed[is_female & is_americas])\n",
    "male_americas = pd.DataFrame(citizen_df_renamed[is_male & is_americas])\n",
    "\n",
    "female_americas.nunique()"
   ]
  },
  {
   "cell_type": "code",
   "execution_count": 30,
   "metadata": {},
   "outputs": [
    {
     "data": {
      "text/plain": [
       "Gender                    1\n",
       "Age Range                 4\n",
       "Citizenship Region        1\n",
       "Citizenship Sub-Region    2\n",
       "Citizenship Country       4\n",
       "dtype: int64"
      ]
     },
     "execution_count": 30,
     "metadata": {},
     "output_type": "execute_result"
    }
   ],
   "source": [
    "male_americas.nunique()"
   ]
  },
  {
   "cell_type": "code",
   "execution_count": 31,
   "metadata": {},
   "outputs": [
    {
     "data": {
      "text/html": [
       "<div>\n",
       "<style scoped>\n",
       "    .dataframe tbody tr th:only-of-type {\n",
       "        vertical-align: middle;\n",
       "    }\n",
       "\n",
       "    .dataframe tbody tr th {\n",
       "        vertical-align: top;\n",
       "    }\n",
       "\n",
       "    .dataframe thead th {\n",
       "        text-align: right;\n",
       "    }\n",
       "</style>\n",
       "<table border=\"1\" class=\"dataframe\">\n",
       "  <thead>\n",
       "    <tr style=\"text-align: right;\">\n",
       "      <th></th>\n",
       "      <th>Gender</th>\n",
       "      <th>Age Range</th>\n",
       "      <th>Citizenship Sub-Region</th>\n",
       "      <th>Citizenship Country</th>\n",
       "    </tr>\n",
       "  </thead>\n",
       "  <tbody>\n",
       "    <tr>\n",
       "      <th>0</th>\n",
       "      <td>Female</td>\n",
       "      <td>18--20</td>\n",
       "      <td>Latin America and the Caribbean</td>\n",
       "      <td>Colombia</td>\n",
       "    </tr>\n",
       "    <tr>\n",
       "      <th>1</th>\n",
       "      <td>Female</td>\n",
       "      <td>18--20</td>\n",
       "      <td>Latin America and the Caribbean</td>\n",
       "      <td>Colombia</td>\n",
       "    </tr>\n",
       "    <tr>\n",
       "      <th>2</th>\n",
       "      <td>Female</td>\n",
       "      <td>18--20</td>\n",
       "      <td>Latin America and the Caribbean</td>\n",
       "      <td>Colombia</td>\n",
       "    </tr>\n",
       "    <tr>\n",
       "      <th>3</th>\n",
       "      <td>Female</td>\n",
       "      <td>18--20</td>\n",
       "      <td>Latin America and the Caribbean</td>\n",
       "      <td>Colombia</td>\n",
       "    </tr>\n",
       "    <tr>\n",
       "      <th>4</th>\n",
       "      <td>Female</td>\n",
       "      <td>18--20</td>\n",
       "      <td>Latin America and the Caribbean</td>\n",
       "      <td>Colombia</td>\n",
       "    </tr>\n",
       "  </tbody>\n",
       "</table>\n",
       "</div>"
      ],
      "text/plain": [
       "   Gender Age Range           Citizenship Sub-Region Citizenship Country\n",
       "0  Female    18--20  Latin America and the Caribbean            Colombia\n",
       "1  Female    18--20  Latin America and the Caribbean            Colombia\n",
       "2  Female    18--20  Latin America and the Caribbean            Colombia\n",
       "3  Female    18--20  Latin America and the Caribbean            Colombia\n",
       "4  Female    18--20  Latin America and the Caribbean            Colombia"
      ]
     },
     "execution_count": 31,
     "metadata": {},
     "output_type": "execute_result"
    }
   ],
   "source": [
    "americas_df = citizen_df_renamed.loc[citizen_df_renamed['Citizenship Region'] == 'Americas', ['Gender', 'Age Range', 'Citizenship Sub-Region', 'Citizenship Country']]\n",
    "americas_df.head()"
   ]
  },
  {
   "cell_type": "code",
   "execution_count": 32,
   "metadata": {},
   "outputs": [],
   "source": [
    "# copy the df so we don't overwrite original europe_df data\n",
    "americas_df_copy = americas_df.copy()"
   ]
  },
  {
   "cell_type": "code",
   "execution_count": 33,
   "metadata": {},
   "outputs": [
    {
     "data": {
      "text/plain": [
       "United States of America            3636\n",
       "Haiti                                339\n",
       "Colombia                             124\n",
       "Mexico                                19\n",
       "Bolivia (Plurinational State of)      18\n",
       "Name: Citizenship Country, dtype: int64"
      ]
     },
     "execution_count": 33,
     "metadata": {},
     "output_type": "execute_result"
    }
   ],
   "source": [
    "# See how many countries in this region are included in the data set\n",
    "americas_country_counts = americas_df_copy['Citizenship Country'].value_counts()\n",
    "americas_country_counts"
   ]
  },
  {
   "cell_type": "code",
   "execution_count": 34,
   "metadata": {},
   "outputs": [
    {
     "data": {
      "text/plain": [
       "array(['Colombia', 'Haiti', 'Bolivia (Plurinational State of)',\n",
       "       'United States of America', 'Mexico'], dtype=object)"
      ]
     },
     "execution_count": 34,
     "metadata": {},
     "output_type": "execute_result"
    }
   ],
   "source": [
    "americas_country_list = americas_df_copy['Citizenship Country'].unique()\n",
    "americas_country_list"
   ]
  },
  {
   "cell_type": "code",
   "execution_count": 35,
   "metadata": {},
   "outputs": [
    {
     "data": {
      "text/plain": [
       "Northern America                   3636\n",
       "Latin America and the Caribbean     500\n",
       "Name: Citizenship Sub-Region, dtype: int64"
      ]
     },
     "execution_count": 35,
     "metadata": {},
     "output_type": "execute_result"
    }
   ],
   "source": [
    "americas_sub_counts = americas_df_copy['Citizenship Sub-Region'].value_counts()\n",
    "americas_sub_counts"
   ]
  },
  {
   "cell_type": "code",
   "execution_count": 36,
   "metadata": {},
   "outputs": [
    {
     "data": {
      "text/plain": [
       "Female    3942\n",
       "Male       194\n",
       "Name: Gender, dtype: int64"
      ]
     },
     "execution_count": 36,
     "metadata": {},
     "output_type": "execute_result"
    }
   ],
   "source": [
    "americas_gender_counts = americas_df_copy['Gender'].value_counts()\n",
    "americas_gender_counts"
   ]
  },
  {
   "cell_type": "code",
   "execution_count": 37,
   "metadata": {},
   "outputs": [
    {
     "name": "stdout",
     "output_type": "stream",
     "text": [
      "<pandas.core.groupby.generic.DataFrameGroupBy object at 0x0000026421D263D0>\n"
     ]
    },
    {
     "data": {
      "text/html": [
       "<div>\n",
       "<style scoped>\n",
       "    .dataframe tbody tr th:only-of-type {\n",
       "        vertical-align: middle;\n",
       "    }\n",
       "\n",
       "    .dataframe tbody tr th {\n",
       "        vertical-align: top;\n",
       "    }\n",
       "\n",
       "    .dataframe thead th {\n",
       "        text-align: right;\n",
       "    }\n",
       "</style>\n",
       "<table border=\"1\" class=\"dataframe\">\n",
       "  <thead>\n",
       "    <tr style=\"text-align: right;\">\n",
       "      <th></th>\n",
       "      <th></th>\n",
       "      <th></th>\n",
       "      <th>Citizenship Sub-Region</th>\n",
       "    </tr>\n",
       "    <tr>\n",
       "      <th>Citizenship Country</th>\n",
       "      <th>Gender</th>\n",
       "      <th>Age Range</th>\n",
       "      <th></th>\n",
       "    </tr>\n",
       "  </thead>\n",
       "  <tbody>\n",
       "    <tr>\n",
       "      <th>Bolivia (Plurinational State of)</th>\n",
       "      <th>Female</th>\n",
       "      <th>9--17</th>\n",
       "      <td>18</td>\n",
       "    </tr>\n",
       "    <tr>\n",
       "      <th rowspan=\"5\" valign=\"top\">Colombia</th>\n",
       "      <th rowspan=\"4\" valign=\"top\">Female</th>\n",
       "      <th>18--20</th>\n",
       "      <td>11</td>\n",
       "    </tr>\n",
       "    <tr>\n",
       "      <th>24--26</th>\n",
       "      <td>32</td>\n",
       "    </tr>\n",
       "    <tr>\n",
       "      <th>30--38</th>\n",
       "      <td>13</td>\n",
       "    </tr>\n",
       "    <tr>\n",
       "      <th>unknown</th>\n",
       "      <td>53</td>\n",
       "    </tr>\n",
       "    <tr>\n",
       "      <th>Male</th>\n",
       "      <th>unknown</th>\n",
       "      <td>15</td>\n",
       "    </tr>\n",
       "    <tr>\n",
       "      <th rowspan=\"4\" valign=\"top\">Haiti</th>\n",
       "      <th rowspan=\"2\" valign=\"top\">Female</th>\n",
       "      <th>0--8</th>\n",
       "      <td>15</td>\n",
       "    </tr>\n",
       "    <tr>\n",
       "      <th>9--17</th>\n",
       "      <td>190</td>\n",
       "    </tr>\n",
       "    <tr>\n",
       "      <th rowspan=\"2\" valign=\"top\">Male</th>\n",
       "      <th>0--8</th>\n",
       "      <td>24</td>\n",
       "    </tr>\n",
       "    <tr>\n",
       "      <th>9--17</th>\n",
       "      <td>110</td>\n",
       "    </tr>\n",
       "    <tr>\n",
       "      <th>Mexico</th>\n",
       "      <th>Male</th>\n",
       "      <th>21--23</th>\n",
       "      <td>19</td>\n",
       "    </tr>\n",
       "    <tr>\n",
       "      <th rowspan=\"9\" valign=\"top\">United States of America</th>\n",
       "      <th rowspan=\"8\" valign=\"top\">Female</th>\n",
       "      <th>18--20</th>\n",
       "      <td>659</td>\n",
       "    </tr>\n",
       "    <tr>\n",
       "      <th>21--23</th>\n",
       "      <td>512</td>\n",
       "    </tr>\n",
       "    <tr>\n",
       "      <th>24--26</th>\n",
       "      <td>399</td>\n",
       "    </tr>\n",
       "    <tr>\n",
       "      <th>27--29</th>\n",
       "      <td>255</td>\n",
       "    </tr>\n",
       "    <tr>\n",
       "      <th>30--38</th>\n",
       "      <td>536</td>\n",
       "    </tr>\n",
       "    <tr>\n",
       "      <th>39--47</th>\n",
       "      <td>143</td>\n",
       "    </tr>\n",
       "    <tr>\n",
       "      <th>48+</th>\n",
       "      <td>26</td>\n",
       "    </tr>\n",
       "    <tr>\n",
       "      <th>9--17</th>\n",
       "      <td>1080</td>\n",
       "    </tr>\n",
       "    <tr>\n",
       "      <th>Male</th>\n",
       "      <th>9--17</th>\n",
       "      <td>26</td>\n",
       "    </tr>\n",
       "  </tbody>\n",
       "</table>\n",
       "</div>"
      ],
      "text/plain": [
       "                                                   Citizenship Sub-Region\n",
       "Citizenship Country              Gender Age Range                        \n",
       "Bolivia (Plurinational State of) Female 9--17                          18\n",
       "Colombia                         Female 18--20                         11\n",
       "                                        24--26                         32\n",
       "                                        30--38                         13\n",
       "                                        unknown                        53\n",
       "                                 Male   unknown                        15\n",
       "Haiti                            Female 0--8                           15\n",
       "                                        9--17                         190\n",
       "                                 Male   0--8                           24\n",
       "                                        9--17                         110\n",
       "Mexico                           Male   21--23                         19\n",
       "United States of America         Female 18--20                        659\n",
       "                                        21--23                        512\n",
       "                                        24--26                        399\n",
       "                                        27--29                        255\n",
       "                                        30--38                        536\n",
       "                                        39--47                        143\n",
       "                                        48+                            26\n",
       "                                        9--17                        1080\n",
       "                                 Male   9--17                          26"
      ]
     },
     "execution_count": 37,
     "metadata": {},
     "output_type": "execute_result"
    }
   ],
   "source": [
    "# use groupby to separate the data into fields acoording to country\n",
    "grp_americas_df = americas_df_copy.groupby(['Citizenship Country', 'Gender', 'Age Range'])\n",
    "\n",
    "#the object returned is a groupby object and cannot be returned normally\n",
    "print(grp_americas_df)\n",
    "\n",
    "#in order to be visualized, a data function must be used\n",
    "grp_americas_df.count()"
   ]
  },
  {
   "cell_type": "markdown",
   "metadata": {},
   "source": [
    "## Africa"
   ]
  },
  {
   "cell_type": "code",
   "execution_count": 38,
   "metadata": {},
   "outputs": [
    {
     "data": {
      "text/plain": [
       "Gender                    1\n",
       "Age Range                 6\n",
       "Citizenship Region        1\n",
       "Citizenship Sub-Region    1\n",
       "Citizenship Country       8\n",
       "dtype: int64"
      ]
     },
     "execution_count": 38,
     "metadata": {},
     "output_type": "execute_result"
    }
   ],
   "source": [
    "#create a data frame for each region, based on gender\n",
    "is_female = citizen_df_renamed['Gender'] == 'Female'\n",
    "is_male = citizen_df_renamed['Gender'] == 'Male'\n",
    "is_africa = citizen_df_renamed['Citizenship Region'] == 'Africa'\n",
    "\n",
    "female_africa = pd.DataFrame(citizen_df_renamed[is_female & is_africa])\n",
    "male_africa = pd.DataFrame(citizen_df_renamed[is_male & is_africa])\n",
    "\n",
    "female_africa.nunique()"
   ]
  },
  {
   "cell_type": "code",
   "execution_count": 39,
   "metadata": {},
   "outputs": [
    {
     "data": {
      "text/plain": [
       "Gender                     1\n",
       "Age Range                  3\n",
       "Citizenship Region         1\n",
       "Citizenship Sub-Region     1\n",
       "Citizenship Country       12\n",
       "dtype: int64"
      ]
     },
     "execution_count": 39,
     "metadata": {},
     "output_type": "execute_result"
    }
   ],
   "source": [
    "male_africa.nunique()"
   ]
  },
  {
   "cell_type": "code",
   "execution_count": 40,
   "metadata": {},
   "outputs": [
    {
     "data": {
      "text/html": [
       "<div>\n",
       "<style scoped>\n",
       "    .dataframe tbody tr th:only-of-type {\n",
       "        vertical-align: middle;\n",
       "    }\n",
       "\n",
       "    .dataframe tbody tr th {\n",
       "        vertical-align: top;\n",
       "    }\n",
       "\n",
       "    .dataframe thead th {\n",
       "        text-align: right;\n",
       "    }\n",
       "</style>\n",
       "<table border=\"1\" class=\"dataframe\">\n",
       "  <thead>\n",
       "    <tr style=\"text-align: right;\">\n",
       "      <th></th>\n",
       "      <th>Gender</th>\n",
       "      <th>Age Range</th>\n",
       "      <th>Citizenship Sub-Region</th>\n",
       "      <th>Citizenship Country</th>\n",
       "    </tr>\n",
       "  </thead>\n",
       "  <tbody>\n",
       "    <tr>\n",
       "      <th>1606</th>\n",
       "      <td>Female</td>\n",
       "      <td>0--8</td>\n",
       "      <td>Sub-Saharan Africa</td>\n",
       "      <td>Ghana</td>\n",
       "    </tr>\n",
       "    <tr>\n",
       "      <th>1607</th>\n",
       "      <td>Female</td>\n",
       "      <td>0--8</td>\n",
       "      <td>Sub-Saharan Africa</td>\n",
       "      <td>Ghana</td>\n",
       "    </tr>\n",
       "    <tr>\n",
       "      <th>1608</th>\n",
       "      <td>Female</td>\n",
       "      <td>0--8</td>\n",
       "      <td>Sub-Saharan Africa</td>\n",
       "      <td>Ghana</td>\n",
       "    </tr>\n",
       "    <tr>\n",
       "      <th>1609</th>\n",
       "      <td>Female</td>\n",
       "      <td>0--8</td>\n",
       "      <td>Sub-Saharan Africa</td>\n",
       "      <td>Ghana</td>\n",
       "    </tr>\n",
       "    <tr>\n",
       "      <th>1610</th>\n",
       "      <td>Female</td>\n",
       "      <td>0--8</td>\n",
       "      <td>Sub-Saharan Africa</td>\n",
       "      <td>Ghana</td>\n",
       "    </tr>\n",
       "  </tbody>\n",
       "</table>\n",
       "</div>"
      ],
      "text/plain": [
       "      Gender Age Range Citizenship Sub-Region Citizenship Country\n",
       "1606  Female      0--8     Sub-Saharan Africa               Ghana\n",
       "1607  Female      0--8     Sub-Saharan Africa               Ghana\n",
       "1608  Female      0--8     Sub-Saharan Africa               Ghana\n",
       "1609  Female      0--8     Sub-Saharan Africa               Ghana\n",
       "1610  Female      0--8     Sub-Saharan Africa               Ghana"
      ]
     },
     "execution_count": 40,
     "metadata": {},
     "output_type": "execute_result"
    }
   ],
   "source": [
    "africa_df = citizen_df_renamed.loc[citizen_df_renamed['Citizenship Region'] == 'Africa', ['Gender', 'Age Range', 'Citizenship Sub-Region', 'Citizenship Country']]\n",
    "africa_df.head()"
   ]
  },
  {
   "cell_type": "code",
   "execution_count": 41,
   "metadata": {},
   "outputs": [],
   "source": [
    "# copy the df so we don't overwrite original europe_df data\n",
    "africa_df_copy = africa_df.copy()"
   ]
  },
  {
   "cell_type": "code",
   "execution_count": 42,
   "metadata": {},
   "outputs": [
    {
     "data": {
      "text/plain": [
       "Ghana                               544\n",
       "Guinea-Bissau                       145\n",
       "Nigeria                             108\n",
       "Madagascar                           94\n",
       "Sierra Leone                         81\n",
       "Senegal                              70\n",
       "Uganda                               70\n",
       "Democratic Republic of the Congo     53\n",
       "Mali                                 45\n",
       "Burkina Faso                         33\n",
       "Kenya                                32\n",
       "Côte d’Ivoire                        31\n",
       "Niger                                31\n",
       "Guinea                               15\n",
       "Eritrea                              13\n",
       "Name: Citizenship Country, dtype: int64"
      ]
     },
     "execution_count": 42,
     "metadata": {},
     "output_type": "execute_result"
    }
   ],
   "source": [
    "# See how many countries in this region are included in the data set\n",
    "africa_country_counts = africa_df_copy['Citizenship Country'].value_counts()\n",
    "africa_country_counts"
   ]
  },
  {
   "cell_type": "code",
   "execution_count": 43,
   "metadata": {},
   "outputs": [
    {
     "data": {
      "text/plain": [
       "array(['Ghana', 'Democratic Republic of the Congo', 'Mali',\n",
       "       'Guinea-Bissau', 'Côte d’Ivoire', 'Senegal', 'Sierra Leone',\n",
       "       'Guinea', 'Burkina Faso', 'Niger', 'Uganda', 'Eritrea', 'Nigeria',\n",
       "       'Kenya', 'Madagascar'], dtype=object)"
      ]
     },
     "execution_count": 43,
     "metadata": {},
     "output_type": "execute_result"
    }
   ],
   "source": [
    "africa_country_list = africa_df_copy['Citizenship Country'].unique()\n",
    "africa_country_list"
   ]
  },
  {
   "cell_type": "code",
   "execution_count": 44,
   "metadata": {},
   "outputs": [
    {
     "data": {
      "text/plain": [
       "Sub-Saharan Africa    1365\n",
       "Name: Citizenship Sub-Region, dtype: int64"
      ]
     },
     "execution_count": 44,
     "metadata": {},
     "output_type": "execute_result"
    }
   ],
   "source": [
    "africa_sub_counts = africa_df_copy['Citizenship Sub-Region'].value_counts()\n",
    "africa_sub_counts"
   ]
  },
  {
   "cell_type": "code",
   "execution_count": 45,
   "metadata": {},
   "outputs": [
    {
     "data": {
      "text/plain": [
       "Male      780\n",
       "Female    585\n",
       "Name: Gender, dtype: int64"
      ]
     },
     "execution_count": 45,
     "metadata": {},
     "output_type": "execute_result"
    }
   ],
   "source": [
    "africa_gender_counts = africa_df_copy['Gender'].value_counts()\n",
    "africa_gender_counts"
   ]
  },
  {
   "cell_type": "code",
   "execution_count": 49,
   "metadata": {},
   "outputs": [
    {
     "name": "stdout",
     "output_type": "stream",
     "text": [
      "<pandas.core.groupby.generic.DataFrameGroupBy object at 0x0000026421039370>\n"
     ]
    },
    {
     "data": {
      "text/html": [
       "<div>\n",
       "<style scoped>\n",
       "    .dataframe tbody tr th:only-of-type {\n",
       "        vertical-align: middle;\n",
       "    }\n",
       "\n",
       "    .dataframe tbody tr th {\n",
       "        vertical-align: top;\n",
       "    }\n",
       "\n",
       "    .dataframe thead th {\n",
       "        text-align: right;\n",
       "    }\n",
       "</style>\n",
       "<table border=\"1\" class=\"dataframe\">\n",
       "  <thead>\n",
       "    <tr style=\"text-align: right;\">\n",
       "      <th></th>\n",
       "      <th></th>\n",
       "      <th></th>\n",
       "      <th>Citizenship Sub-Region</th>\n",
       "    </tr>\n",
       "    <tr>\n",
       "      <th>Citizenship Country</th>\n",
       "      <th>Gender</th>\n",
       "      <th>Age Range</th>\n",
       "      <th></th>\n",
       "    </tr>\n",
       "  </thead>\n",
       "  <tbody>\n",
       "    <tr>\n",
       "      <th rowspan=\"2\" valign=\"top\">Burkina Faso</th>\n",
       "      <th rowspan=\"2\" valign=\"top\">Male</th>\n",
       "      <th>18--20</th>\n",
       "      <td>14</td>\n",
       "    </tr>\n",
       "    <tr>\n",
       "      <th>9--17</th>\n",
       "      <td>19</td>\n",
       "    </tr>\n",
       "    <tr>\n",
       "      <th>Côte d’Ivoire</th>\n",
       "      <th>Male</th>\n",
       "      <th>9--17</th>\n",
       "      <td>31</td>\n",
       "    </tr>\n",
       "    <tr>\n",
       "      <th rowspan=\"2\" valign=\"top\">Democratic Republic of the Congo</th>\n",
       "      <th>Female</th>\n",
       "      <th>0--8</th>\n",
       "      <td>25</td>\n",
       "    </tr>\n",
       "    <tr>\n",
       "      <th>Male</th>\n",
       "      <th>0--8</th>\n",
       "      <td>28</td>\n",
       "    </tr>\n",
       "    <tr>\n",
       "      <th>Eritrea</th>\n",
       "      <th>Male</th>\n",
       "      <th>9--17</th>\n",
       "      <td>13</td>\n",
       "    </tr>\n",
       "    <tr>\n",
       "      <th rowspan=\"4\" valign=\"top\">Ghana</th>\n",
       "      <th rowspan=\"2\" valign=\"top\">Female</th>\n",
       "      <th>0--8</th>\n",
       "      <td>53</td>\n",
       "    </tr>\n",
       "    <tr>\n",
       "      <th>9--17</th>\n",
       "      <td>154</td>\n",
       "    </tr>\n",
       "    <tr>\n",
       "      <th rowspan=\"2\" valign=\"top\">Male</th>\n",
       "      <th>0--8</th>\n",
       "      <td>72</td>\n",
       "    </tr>\n",
       "    <tr>\n",
       "      <th>9--17</th>\n",
       "      <td>265</td>\n",
       "    </tr>\n",
       "    <tr>\n",
       "      <th>Guinea</th>\n",
       "      <th>Male</th>\n",
       "      <th>9--17</th>\n",
       "      <td>15</td>\n",
       "    </tr>\n",
       "    <tr>\n",
       "      <th rowspan=\"2\" valign=\"top\">Guinea-Bissau</th>\n",
       "      <th rowspan=\"2\" valign=\"top\">Male</th>\n",
       "      <th>0--8</th>\n",
       "      <td>14</td>\n",
       "    </tr>\n",
       "    <tr>\n",
       "      <th>9--17</th>\n",
       "      <td>131</td>\n",
       "    </tr>\n",
       "    <tr>\n",
       "      <th>Kenya</th>\n",
       "      <th>Female</th>\n",
       "      <th>30--38</th>\n",
       "      <td>32</td>\n",
       "    </tr>\n",
       "    <tr>\n",
       "      <th rowspan=\"4\" valign=\"top\">Madagascar</th>\n",
       "      <th rowspan=\"4\" valign=\"top\">Female</th>\n",
       "      <th>21--23</th>\n",
       "      <td>18</td>\n",
       "    </tr>\n",
       "    <tr>\n",
       "      <th>24--26</th>\n",
       "      <td>20</td>\n",
       "    </tr>\n",
       "    <tr>\n",
       "      <th>27--29</th>\n",
       "      <td>21</td>\n",
       "    </tr>\n",
       "    <tr>\n",
       "      <th>30--38</th>\n",
       "      <td>35</td>\n",
       "    </tr>\n",
       "    <tr>\n",
       "      <th rowspan=\"2\" valign=\"top\">Mali</th>\n",
       "      <th>Female</th>\n",
       "      <th>9--17</th>\n",
       "      <td>19</td>\n",
       "    </tr>\n",
       "    <tr>\n",
       "      <th>Male</th>\n",
       "      <th>9--17</th>\n",
       "      <td>26</td>\n",
       "    </tr>\n",
       "    <tr>\n",
       "      <th>Niger</th>\n",
       "      <th>Male</th>\n",
       "      <th>9--17</th>\n",
       "      <td>31</td>\n",
       "    </tr>\n",
       "    <tr>\n",
       "      <th rowspan=\"4\" valign=\"top\">Nigeria</th>\n",
       "      <th rowspan=\"4\" valign=\"top\">Female</th>\n",
       "      <th>21--23</th>\n",
       "      <td>31</td>\n",
       "    </tr>\n",
       "    <tr>\n",
       "      <th>24--26</th>\n",
       "      <td>32</td>\n",
       "    </tr>\n",
       "    <tr>\n",
       "      <th>27--29</th>\n",
       "      <td>31</td>\n",
       "    </tr>\n",
       "    <tr>\n",
       "      <th>30--38</th>\n",
       "      <td>14</td>\n",
       "    </tr>\n",
       "    <tr>\n",
       "      <th>Senegal</th>\n",
       "      <th>Male</th>\n",
       "      <th>9--17</th>\n",
       "      <td>70</td>\n",
       "    </tr>\n",
       "    <tr>\n",
       "      <th rowspan=\"3\" valign=\"top\">Sierra Leone</th>\n",
       "      <th rowspan=\"2\" valign=\"top\">Female</th>\n",
       "      <th>30--38</th>\n",
       "      <td>16</td>\n",
       "    </tr>\n",
       "    <tr>\n",
       "      <th>9--17</th>\n",
       "      <td>40</td>\n",
       "    </tr>\n",
       "    <tr>\n",
       "      <th>Male</th>\n",
       "      <th>9--17</th>\n",
       "      <td>25</td>\n",
       "    </tr>\n",
       "    <tr>\n",
       "      <th rowspan=\"3\" valign=\"top\">Uganda</th>\n",
       "      <th rowspan=\"2\" valign=\"top\">Female</th>\n",
       "      <th>0--8</th>\n",
       "      <td>21</td>\n",
       "    </tr>\n",
       "    <tr>\n",
       "      <th>9--17</th>\n",
       "      <td>23</td>\n",
       "    </tr>\n",
       "    <tr>\n",
       "      <th>Male</th>\n",
       "      <th>0--8</th>\n",
       "      <td>26</td>\n",
       "    </tr>\n",
       "  </tbody>\n",
       "</table>\n",
       "</div>"
      ],
      "text/plain": [
       "                                                   Citizenship Sub-Region\n",
       "Citizenship Country              Gender Age Range                        \n",
       "Burkina Faso                     Male   18--20                         14\n",
       "                                        9--17                          19\n",
       "Côte d’Ivoire                    Male   9--17                          31\n",
       "Democratic Republic of the Congo Female 0--8                           25\n",
       "                                 Male   0--8                           28\n",
       "Eritrea                          Male   9--17                          13\n",
       "Ghana                            Female 0--8                           53\n",
       "                                        9--17                         154\n",
       "                                 Male   0--8                           72\n",
       "                                        9--17                         265\n",
       "Guinea                           Male   9--17                          15\n",
       "Guinea-Bissau                    Male   0--8                           14\n",
       "                                        9--17                         131\n",
       "Kenya                            Female 30--38                         32\n",
       "Madagascar                       Female 21--23                         18\n",
       "                                        24--26                         20\n",
       "                                        27--29                         21\n",
       "                                        30--38                         35\n",
       "Mali                             Female 9--17                          19\n",
       "                                 Male   9--17                          26\n",
       "Niger                            Male   9--17                          31\n",
       "Nigeria                          Female 21--23                         31\n",
       "                                        24--26                         32\n",
       "                                        27--29                         31\n",
       "                                        30--38                         14\n",
       "Senegal                          Male   9--17                          70\n",
       "Sierra Leone                     Female 30--38                         16\n",
       "                                        9--17                          40\n",
       "                                 Male   9--17                          25\n",
       "Uganda                           Female 0--8                           21\n",
       "                                        9--17                          23\n",
       "                                 Male   0--8                           26"
      ]
     },
     "execution_count": 49,
     "metadata": {},
     "output_type": "execute_result"
    }
   ],
   "source": [
    "# use groupby to separate the data into fields acoording to country\n",
    "grp_africa_df = africa_df_copy.groupby(['Citizenship Country', 'Gender', 'Age Range'])\n",
    "\n",
    "#the object returned is a groupby object and cannot be returned normally\n",
    "print(grp_africa_df)\n",
    "\n",
    "#in order to be visualized, a data function must be used\n",
    "grp_africa_df.count()"
   ]
  },
  {
   "cell_type": "code",
   "execution_count": null,
   "metadata": {},
   "outputs": [],
   "source": []
  },
  {
   "cell_type": "code",
   "execution_count": null,
   "metadata": {},
   "outputs": [],
   "source": []
  },
  {
   "cell_type": "code",
   "execution_count": 47,
   "metadata": {},
   "outputs": [],
   "source": [
    "sub_labels=['Central Asia', 'South-eastern Asia', 'Southern Asia', 'Eastern Asia']\n",
    "sub_sizes=[16916, 16122, 9136, 3636, 1365, 821, 500, 220, 35, 22]\n",
    "labels = ['ASIA', 'EUROPE', 'AMERICAS', 'AFRICA']\n",
    "sizes = [45.40, 40.73, 10.43, 3.44]"
   ]
  },
  {
   "cell_type": "code",
   "execution_count": 1,
   "metadata": {},
   "outputs": [
    {
     "ename": "NameError",
     "evalue": "name 'plt' is not defined",
     "output_type": "error",
     "traceback": [
      "\u001b[1;31m---------------------------------------------------------------------------\u001b[0m",
      "\u001b[1;31mNameError\u001b[0m                                 Traceback (most recent call last)",
      "\u001b[1;32m<ipython-input-1-b8a0d6d70afd>\u001b[0m in \u001b[0;36m<module>\u001b[1;34m\u001b[0m\n\u001b[1;32m----> 1\u001b[1;33m \u001b[0mplt\u001b[0m\u001b[1;33m.\u001b[0m\u001b[0mfigure\u001b[0m\u001b[1;33m(\u001b[0m\u001b[0mfigsize\u001b[0m\u001b[1;33m=\u001b[0m\u001b[1;33m(\u001b[0m\u001b[1;36m2\u001b[0m\u001b[1;33m,\u001b[0m \u001b[1;36m2\u001b[0m\u001b[1;33m)\u001b[0m\u001b[1;33m)\u001b[0m\u001b[1;33m\u001b[0m\u001b[1;33m\u001b[0m\u001b[0m\n\u001b[0m\u001b[0;32m      2\u001b[0m \u001b[1;33m\u001b[0m\u001b[0m\n\u001b[0;32m      3\u001b[0m \u001b[0mlabels\u001b[0m \u001b[1;33m=\u001b[0m \u001b[0mlabels\u001b[0m\u001b[1;33m\u001b[0m\u001b[1;33m\u001b[0m\u001b[0m\n\u001b[0;32m      4\u001b[0m \u001b[0msizes\u001b[0m \u001b[1;33m=\u001b[0m \u001b[0msizes\u001b[0m\u001b[1;33m\u001b[0m\u001b[1;33m\u001b[0m\u001b[0m\n\u001b[0;32m      5\u001b[0m \u001b[0msub_labels\u001b[0m \u001b[1;33m=\u001b[0m \u001b[0msub_labels\u001b[0m\u001b[1;33m\u001b[0m\u001b[1;33m\u001b[0m\u001b[0m\n",
      "\u001b[1;31mNameError\u001b[0m: name 'plt' is not defined"
     ]
    }
   ],
   "source": [
    "plt.figure(figsize=(2, 2))\n",
    "\n",
    "labels = labels\n",
    "sizes = sizes\n",
    "sub_labels = sub_labels\n",
    "sub_sizes = sub_sizes\n",
    "colors_big = ['#581845', '#900C3F','#C70039', '#FF5733']\n",
    "colors_small = ['#4A235A', '##AD11CB', '##CB118C', '##CB112F', '##FF5733','##73C6B67', '##85C1E9']\n",
    " \n",
    "bigger = plt.pie(sizes, labels=labels, colors=colors_big, startangle=90, frame=True)\n",
    "smaller = plt.pie(sub_sizes, labels=sub_labels, colors= colors_small,\n",
    "        radius=0.7, startangle=90, labeldistance=0.7)\n",
    "centre_circle = plt.Circle((0, 0), 0.4, color='white', linewidth=0)\n",
    "fig = plt.gcf()\n",
    "fig.gca().add_artist(centre_circle)\n",
    "\n",
    "# for i, (asia, europe, americas, africa) in enumerate(bigger):\n",
    "#     if i > 0:\n",
    "#         asia.set_fontsize(12)\n",
    "#         europe.set_fontsize(12)\n",
    "#         ama.set_fontsize(12)\n",
    "#         europe.set_fontsize(12)\n",
    "\n",
    "# for j, (potato, tomato, onion, apple, banana, cherry, durian) in enumerate(smaller):\n",
    "#     if j > 0:\n",
    "#         potato.set_fontsize(12)\n",
    "#         tomato.set_fontsize(12)\n",
    "#         onion.set_fontsize(12)\n",
    "#         apple.set_fontsize(12)\n",
    "#         banana.set_fontsize(12)\n",
    "#         cherry.set_fontsize(12)\n",
    "#         durian.set_fontsize(12)\n",
    "        \n",
    "plt.axis('equal')\n",
    "plt.tight_layout()\n",
    "\n",
    "plt.show()"
   ]
  },
  {
   "cell_type": "code",
   "execution_count": null,
   "metadata": {},
   "outputs": [],
   "source": []
  },
  {
   "cell_type": "code",
   "execution_count": null,
   "metadata": {},
   "outputs": [],
   "source": []
  },
  {
   "cell_type": "code",
   "execution_count": null,
   "metadata": {},
   "outputs": [],
   "source": []
  }
 ],
 "metadata": {
  "kernelspec": {
   "display_name": "Python 3",
   "language": "python",
   "name": "python3"
  },
  "language_info": {
   "codemirror_mode": {
    "name": "ipython",
    "version": 3
   },
   "file_extension": ".py",
   "mimetype": "text/x-python",
   "name": "python",
   "nbconvert_exporter": "python",
   "pygments_lexer": "ipython3",
   "version": "3.8.3"
  }
 },
 "nbformat": 4,
 "nbformat_minor": 4
}
