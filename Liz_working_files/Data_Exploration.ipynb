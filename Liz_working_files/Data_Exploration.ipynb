{
 "cells": [
  {
   "cell_type": "code",
   "execution_count": 3,
   "metadata": {},
   "outputs": [],
   "source": [
    "%matplotlib notebook\n",
    "\n",
    "import pandas as pd\n",
    "import numpy as np\n",
    "import matplotlib.pyplot as plt\n",
    "import scipy.stats as st\n",
    "from scipy.stats import linregress\n",
    "import seaborn as sns\n",
    "\n",
    "\n",
    "\n",
    "#data file to work with\n",
    "file = '../cleanData/CleanFullDataSet.csv'\n",
    "\n",
    "#read data file\n",
    "clean_data = pd.read_csv(file, low_memory = False)"
   ]
  },
  {
   "cell_type": "code",
   "execution_count": 99,
   "metadata": {
    "scrolled": false
   },
   "outputs": [
    {
     "data": {
      "text/html": [
       "<div>\n",
       "<style scoped>\n",
       "    .dataframe tbody tr th:only-of-type {\n",
       "        vertical-align: middle;\n",
       "    }\n",
       "\n",
       "    .dataframe tbody tr th {\n",
       "        vertical-align: top;\n",
       "    }\n",
       "\n",
       "    .dataframe thead th {\n",
       "        text-align: right;\n",
       "    }\n",
       "</style>\n",
       "<table border=\"1\" class=\"dataframe\">\n",
       "  <thead>\n",
       "    <tr style=\"text-align: right;\">\n",
       "      <th></th>\n",
       "      <th>gender</th>\n",
       "      <th>ageBroad</th>\n",
       "      <th>Citizenship Country</th>\n",
       "      <th>Citizenship Region</th>\n",
       "      <th>Citizenship Intermediate Region</th>\n",
       "      <th>Citizenship Sub-Region</th>\n",
       "    </tr>\n",
       "  </thead>\n",
       "  <tbody>\n",
       "    <tr>\n",
       "      <th>0</th>\n",
       "      <td>Female</td>\n",
       "      <td>18--20</td>\n",
       "      <td>Colombia</td>\n",
       "      <td>Americas</td>\n",
       "      <td>South America</td>\n",
       "      <td>Latin America and the Caribbean</td>\n",
       "    </tr>\n",
       "    <tr>\n",
       "      <th>1</th>\n",
       "      <td>Female</td>\n",
       "      <td>18--20</td>\n",
       "      <td>Colombia</td>\n",
       "      <td>Americas</td>\n",
       "      <td>South America</td>\n",
       "      <td>Latin America and the Caribbean</td>\n",
       "    </tr>\n",
       "  </tbody>\n",
       "</table>\n",
       "</div>"
      ],
      "text/plain": [
       "   gender ageBroad Citizenship Country Citizenship Region  \\\n",
       "0  Female   18--20            Colombia           Americas   \n",
       "1  Female   18--20            Colombia           Americas   \n",
       "\n",
       "  Citizenship Intermediate Region           Citizenship Sub-Region  \n",
       "0                   South America  Latin America and the Caribbean  \n",
       "1                   South America  Latin America and the Caribbean  "
      ]
     },
     "execution_count": 99,
     "metadata": {},
     "output_type": "execute_result"
    }
   ],
   "source": [
    "# display the columns related to citizenship data \n",
    "start_df = pd.DataFrame(clean_data[['gender', 'ageBroad', 'Citizenship Country', 'Citizenship Region', 'Citizenship Intermediate Region', 'Citizenship Sub-Region']])\n",
    "start_df.head(2)"
   ]
  },
  {
   "cell_type": "code",
   "execution_count": 100,
   "metadata": {},
   "outputs": [
    {
     "data": {
      "text/plain": [
       "gender                             48773\n",
       "ageBroad                           48773\n",
       "Citizenship Country                48773\n",
       "Citizenship Region                 48773\n",
       "Citizenship Intermediate Region    11001\n",
       "Citizenship Sub-Region             48773\n",
       "dtype: int64"
      ]
     },
     "execution_count": 100,
     "metadata": {},
     "output_type": "execute_result"
    }
   ],
   "source": [
    "#check to see if there is any missing info in the columns\n",
    "start_df.count()"
   ]
  },
  {
   "cell_type": "code",
   "execution_count": 101,
   "metadata": {},
   "outputs": [
    {
     "data": {
      "text/plain": [
       "gender                    48773\n",
       "ageBroad                  48773\n",
       "Citizenship Region        48773\n",
       "Citizenship Sub-Region    48773\n",
       "Citizenship Country       48773\n",
       "dtype: int64"
      ]
     },
     "execution_count": 101,
     "metadata": {},
     "output_type": "execute_result"
    }
   ],
   "source": [
    "# create a new data frame that doesn't include the 'Citizenship Intermediate Region' bc it has missing info & isn't of importance to me rn\n",
    "citizen_df = pd.DataFrame(clean_data[['gender', 'ageBroad', 'Citizenship Region', 'Citizenship Sub-Region', 'Citizenship Country',]])\n",
    "citizen_df.count()"
   ]
  },
  {
   "cell_type": "code",
   "execution_count": 102,
   "metadata": {},
   "outputs": [
    {
     "data": {
      "text/html": [
       "<div>\n",
       "<style scoped>\n",
       "    .dataframe tbody tr th:only-of-type {\n",
       "        vertical-align: middle;\n",
       "    }\n",
       "\n",
       "    .dataframe tbody tr th {\n",
       "        vertical-align: top;\n",
       "    }\n",
       "\n",
       "    .dataframe thead th {\n",
       "        text-align: right;\n",
       "    }\n",
       "</style>\n",
       "<table border=\"1\" class=\"dataframe\">\n",
       "  <thead>\n",
       "    <tr style=\"text-align: right;\">\n",
       "      <th></th>\n",
       "      <th>Gender</th>\n",
       "      <th>Age Range</th>\n",
       "      <th>Citizenship Region</th>\n",
       "      <th>Citizenship Sub-Region</th>\n",
       "      <th>Citizenship Country</th>\n",
       "    </tr>\n",
       "  </thead>\n",
       "  <tbody>\n",
       "    <tr>\n",
       "      <th>0</th>\n",
       "      <td>Female</td>\n",
       "      <td>18--20</td>\n",
       "      <td>Americas</td>\n",
       "      <td>Latin America and the Caribbean</td>\n",
       "      <td>Colombia</td>\n",
       "    </tr>\n",
       "    <tr>\n",
       "      <th>1</th>\n",
       "      <td>Female</td>\n",
       "      <td>18--20</td>\n",
       "      <td>Americas</td>\n",
       "      <td>Latin America and the Caribbean</td>\n",
       "      <td>Colombia</td>\n",
       "    </tr>\n",
       "  </tbody>\n",
       "</table>\n",
       "</div>"
      ],
      "text/plain": [
       "   Gender Age Range Citizenship Region           Citizenship Sub-Region  \\\n",
       "0  Female    18--20           Americas  Latin America and the Caribbean   \n",
       "1  Female    18--20           Americas  Latin America and the Caribbean   \n",
       "\n",
       "  Citizenship Country  \n",
       "0            Colombia  \n",
       "1            Colombia  "
      ]
     },
     "execution_count": 102,
     "metadata": {},
     "output_type": "execute_result"
    }
   ],
   "source": [
    "citizen_df_renamed = citizen_df.rename(columns = {'gender' : 'Gender', 'ageBroad' : 'Age Range',})\n",
    "citizen_df_renamed.head(2)"
   ]
  },
  {
   "cell_type": "code",
   "execution_count": 103,
   "metadata": {},
   "outputs": [
    {
     "data": {
      "text/plain": [
       "45"
      ]
     },
     "execution_count": 103,
     "metadata": {},
     "output_type": "execute_result"
    }
   ],
   "source": [
    "citizen_df_renamed['Citizenship Country'].nunique()"
   ]
  },
  {
   "cell_type": "code",
   "execution_count": 104,
   "metadata": {},
   "outputs": [
    {
     "data": {
      "text/plain": [
       "Philippines                         11365\n",
       "unknown                              9136\n",
       "Ukraine                              7761\n",
       "Republic of Moldova                  5901\n",
       "United States of America             3636\n",
       "Cambodia                             1979\n",
       "Indonesia                            1971\n",
       "Belarus                              1463\n",
       "Myanmar                              1250\n",
       "Romania                               655\n",
       "Ghana                                 544\n",
       "Kyrgyzstan                            437\n",
       "Bulgaria                              342\n",
       "Haiti                                 339\n",
       "Uzbekistan                            261\n",
       "Viet Nam                              170\n",
       "Guinea-Bissau                         145\n",
       "Lao People's Democratic Republic      126\n",
       "Colombia                              124\n",
       "Nigeria                               108\n",
       "Afghanistan                            97\n",
       "Madagascar                             94\n",
       "Sri Lanka                              85\n",
       "Sierra Leone                           81\n",
       "Senegal                                70\n",
       "Uganda                                 70\n",
       "Thailand                               55\n",
       "Kazakhstan                             54\n",
       "Democratic Republic of the Congo       53\n",
       "Mali                                   45\n",
       "Tajikistan                             43\n",
       "Burkina Faso                           33\n",
       "Kenya                                  32\n",
       "Niger                                  31\n",
       "Côte d’Ivoire                          31\n",
       "Nepal                                  27\n",
       "Turkmenistan                           26\n",
       "China                                  23\n",
       "Albania                                22\n",
       "Mexico                                 19\n",
       "Bolivia (Plurinational State of)       18\n",
       "Guinea                                 15\n",
       "Eritrea                                13\n",
       "Republic of Korea                      12\n",
       "Bangladesh                             11\n",
       "Name: Citizenship Country, dtype: int64"
      ]
     },
     "execution_count": 104,
     "metadata": {},
     "output_type": "execute_result"
    }
   ],
   "source": [
    "citizen_df_renamed['Citizenship Country'].value_counts()"
   ]
  },
  {
   "cell_type": "code",
   "execution_count": 105,
   "metadata": {},
   "outputs": [
    {
     "data": {
      "text/plain": [
       "Asia        17992\n",
       "Europe      16144\n",
       "unknown      9136\n",
       "Americas     4136\n",
       "Africa       1365\n",
       "Name: Citizenship Region, dtype: int64"
      ]
     },
     "execution_count": 105,
     "metadata": {},
     "output_type": "execute_result"
    }
   ],
   "source": [
    "regions = clean_data['Citizenship Region'].value_counts()\n",
    "regions"
   ]
  },
  {
   "cell_type": "code",
   "execution_count": 138,
   "metadata": {},
   "outputs": [],
   "source": [
    "# # In the example code I'm using \"I create a series and run on that, \n",
    "# # so for consistency I create a series from the list.\"\n",
    "\n",
    "# region_bar = [17992, 16144, 4136, 1365]\n",
    "# x_labels = ['ASIA', 'EUROPE', 'AMERICAS', 'AFRICA',]\n",
    "\n",
    "# plt.figure()\n",
    "# ax = region_bar.plot(kind='bar')\n",
    "# ax.title(\"Victim's Region of Citizenship\")\n",
    "# ax.ylabel('Number of Cases Reported')\n",
    "# ax.xlabel('Region')\n",
    "# ax.set_xticklabels(x_labels)\n",
    "\n",
    "# bars = ax.patches\n",
    "\n",
    "# # Make some labels.\n",
    "# labels = [\"label%d\" % i for i in xrange(len(rects))]\n",
    "\n",
    "# for rect, label in zip(rects, labels):\n",
    "#     height = rect.get_height()\n",
    "#     ax.text(rect.get_x() + rect.get_width() / 2, height + 5, label,\n",
    "#             ha='center', va='bottom')\n",
    "\n",
    "\n"
   ]
  },
  {
   "cell_type": "code",
   "execution_count": null,
   "metadata": {},
   "outputs": [],
   "source": [
    "set_palette(seaborn_colorblind)\n",
    "sns.color_palette(\"flare\", as_cmap=True)"
   ]
  },
  {
   "cell_type": "code",
   "execution_count": 5,
   "metadata": {},
   "outputs": [
    {
     "data": {
      "application/javascript": [
       "/* Put everything inside the global mpl namespace */\n",
       "window.mpl = {};\n",
       "\n",
       "\n",
       "mpl.get_websocket_type = function() {\n",
       "    if (typeof(WebSocket) !== 'undefined') {\n",
       "        return WebSocket;\n",
       "    } else if (typeof(MozWebSocket) !== 'undefined') {\n",
       "        return MozWebSocket;\n",
       "    } else {\n",
       "        alert('Your browser does not have WebSocket support. ' +\n",
       "              'Please try Chrome, Safari or Firefox ≥ 6. ' +\n",
       "              'Firefox 4 and 5 are also supported but you ' +\n",
       "              'have to enable WebSockets in about:config.');\n",
       "    };\n",
       "}\n",
       "\n",
       "mpl.figure = function(figure_id, websocket, ondownload, parent_element) {\n",
       "    this.id = figure_id;\n",
       "\n",
       "    this.ws = websocket;\n",
       "\n",
       "    this.supports_binary = (this.ws.binaryType != undefined);\n",
       "\n",
       "    if (!this.supports_binary) {\n",
       "        var warnings = document.getElementById(\"mpl-warnings\");\n",
       "        if (warnings) {\n",
       "            warnings.style.display = 'block';\n",
       "            warnings.textContent = (\n",
       "                \"This browser does not support binary websocket messages. \" +\n",
       "                    \"Performance may be slow.\");\n",
       "        }\n",
       "    }\n",
       "\n",
       "    this.imageObj = new Image();\n",
       "\n",
       "    this.context = undefined;\n",
       "    this.message = undefined;\n",
       "    this.canvas = undefined;\n",
       "    this.rubberband_canvas = undefined;\n",
       "    this.rubberband_context = undefined;\n",
       "    this.format_dropdown = undefined;\n",
       "\n",
       "    this.image_mode = 'full';\n",
       "\n",
       "    this.root = $('<div/>');\n",
       "    this._root_extra_style(this.root)\n",
       "    this.root.attr('style', 'display: inline-block');\n",
       "\n",
       "    $(parent_element).append(this.root);\n",
       "\n",
       "    this._init_header(this);\n",
       "    this._init_canvas(this);\n",
       "    this._init_toolbar(this);\n",
       "\n",
       "    var fig = this;\n",
       "\n",
       "    this.waiting = false;\n",
       "\n",
       "    this.ws.onopen =  function () {\n",
       "            fig.send_message(\"supports_binary\", {value: fig.supports_binary});\n",
       "            fig.send_message(\"send_image_mode\", {});\n",
       "            if (mpl.ratio != 1) {\n",
       "                fig.send_message(\"set_dpi_ratio\", {'dpi_ratio': mpl.ratio});\n",
       "            }\n",
       "            fig.send_message(\"refresh\", {});\n",
       "        }\n",
       "\n",
       "    this.imageObj.onload = function() {\n",
       "            if (fig.image_mode == 'full') {\n",
       "                // Full images could contain transparency (where diff images\n",
       "                // almost always do), so we need to clear the canvas so that\n",
       "                // there is no ghosting.\n",
       "                fig.context.clearRect(0, 0, fig.canvas.width, fig.canvas.height);\n",
       "            }\n",
       "            fig.context.drawImage(fig.imageObj, 0, 0);\n",
       "        };\n",
       "\n",
       "    this.imageObj.onunload = function() {\n",
       "        fig.ws.close();\n",
       "    }\n",
       "\n",
       "    this.ws.onmessage = this._make_on_message_function(this);\n",
       "\n",
       "    this.ondownload = ondownload;\n",
       "}\n",
       "\n",
       "mpl.figure.prototype._init_header = function() {\n",
       "    var titlebar = $(\n",
       "        '<div class=\"ui-dialog-titlebar ui-widget-header ui-corner-all ' +\n",
       "        'ui-helper-clearfix\"/>');\n",
       "    var titletext = $(\n",
       "        '<div class=\"ui-dialog-title\" style=\"width: 100%; ' +\n",
       "        'text-align: center; padding: 3px;\"/>');\n",
       "    titlebar.append(titletext)\n",
       "    this.root.append(titlebar);\n",
       "    this.header = titletext[0];\n",
       "}\n",
       "\n",
       "\n",
       "\n",
       "mpl.figure.prototype._canvas_extra_style = function(canvas_div) {\n",
       "\n",
       "}\n",
       "\n",
       "\n",
       "mpl.figure.prototype._root_extra_style = function(canvas_div) {\n",
       "\n",
       "}\n",
       "\n",
       "mpl.figure.prototype._init_canvas = function() {\n",
       "    var fig = this;\n",
       "\n",
       "    var canvas_div = $('<div/>');\n",
       "\n",
       "    canvas_div.attr('style', 'position: relative; clear: both; outline: 0');\n",
       "\n",
       "    function canvas_keyboard_event(event) {\n",
       "        return fig.key_event(event, event['data']);\n",
       "    }\n",
       "\n",
       "    canvas_div.keydown('key_press', canvas_keyboard_event);\n",
       "    canvas_div.keyup('key_release', canvas_keyboard_event);\n",
       "    this.canvas_div = canvas_div\n",
       "    this._canvas_extra_style(canvas_div)\n",
       "    this.root.append(canvas_div);\n",
       "\n",
       "    var canvas = $('<canvas/>');\n",
       "    canvas.addClass('mpl-canvas');\n",
       "    canvas.attr('style', \"left: 0; top: 0; z-index: 0; outline: 0\")\n",
       "\n",
       "    this.canvas = canvas[0];\n",
       "    this.context = canvas[0].getContext(\"2d\");\n",
       "\n",
       "    var backingStore = this.context.backingStorePixelRatio ||\n",
       "\tthis.context.webkitBackingStorePixelRatio ||\n",
       "\tthis.context.mozBackingStorePixelRatio ||\n",
       "\tthis.context.msBackingStorePixelRatio ||\n",
       "\tthis.context.oBackingStorePixelRatio ||\n",
       "\tthis.context.backingStorePixelRatio || 1;\n",
       "\n",
       "    mpl.ratio = (window.devicePixelRatio || 1) / backingStore;\n",
       "\n",
       "    var rubberband = $('<canvas/>');\n",
       "    rubberband.attr('style', \"position: absolute; left: 0; top: 0; z-index: 1;\")\n",
       "\n",
       "    var pass_mouse_events = true;\n",
       "\n",
       "    canvas_div.resizable({\n",
       "        start: function(event, ui) {\n",
       "            pass_mouse_events = false;\n",
       "        },\n",
       "        resize: function(event, ui) {\n",
       "            fig.request_resize(ui.size.width, ui.size.height);\n",
       "        },\n",
       "        stop: function(event, ui) {\n",
       "            pass_mouse_events = true;\n",
       "            fig.request_resize(ui.size.width, ui.size.height);\n",
       "        },\n",
       "    });\n",
       "\n",
       "    function mouse_event_fn(event) {\n",
       "        if (pass_mouse_events)\n",
       "            return fig.mouse_event(event, event['data']);\n",
       "    }\n",
       "\n",
       "    rubberband.mousedown('button_press', mouse_event_fn);\n",
       "    rubberband.mouseup('button_release', mouse_event_fn);\n",
       "    // Throttle sequential mouse events to 1 every 20ms.\n",
       "    rubberband.mousemove('motion_notify', mouse_event_fn);\n",
       "\n",
       "    rubberband.mouseenter('figure_enter', mouse_event_fn);\n",
       "    rubberband.mouseleave('figure_leave', mouse_event_fn);\n",
       "\n",
       "    canvas_div.on(\"wheel\", function (event) {\n",
       "        event = event.originalEvent;\n",
       "        event['data'] = 'scroll'\n",
       "        if (event.deltaY < 0) {\n",
       "            event.step = 1;\n",
       "        } else {\n",
       "            event.step = -1;\n",
       "        }\n",
       "        mouse_event_fn(event);\n",
       "    });\n",
       "\n",
       "    canvas_div.append(canvas);\n",
       "    canvas_div.append(rubberband);\n",
       "\n",
       "    this.rubberband = rubberband;\n",
       "    this.rubberband_canvas = rubberband[0];\n",
       "    this.rubberband_context = rubberband[0].getContext(\"2d\");\n",
       "    this.rubberband_context.strokeStyle = \"#000000\";\n",
       "\n",
       "    this._resize_canvas = function(width, height) {\n",
       "        // Keep the size of the canvas, canvas container, and rubber band\n",
       "        // canvas in synch.\n",
       "        canvas_div.css('width', width)\n",
       "        canvas_div.css('height', height)\n",
       "\n",
       "        canvas.attr('width', width * mpl.ratio);\n",
       "        canvas.attr('height', height * mpl.ratio);\n",
       "        canvas.attr('style', 'width: ' + width + 'px; height: ' + height + 'px;');\n",
       "\n",
       "        rubberband.attr('width', width);\n",
       "        rubberband.attr('height', height);\n",
       "    }\n",
       "\n",
       "    // Set the figure to an initial 600x600px, this will subsequently be updated\n",
       "    // upon first draw.\n",
       "    this._resize_canvas(600, 600);\n",
       "\n",
       "    // Disable right mouse context menu.\n",
       "    $(this.rubberband_canvas).bind(\"contextmenu\",function(e){\n",
       "        return false;\n",
       "    });\n",
       "\n",
       "    function set_focus () {\n",
       "        canvas.focus();\n",
       "        canvas_div.focus();\n",
       "    }\n",
       "\n",
       "    window.setTimeout(set_focus, 100);\n",
       "}\n",
       "\n",
       "mpl.figure.prototype._init_toolbar = function() {\n",
       "    var fig = this;\n",
       "\n",
       "    var nav_element = $('<div/>');\n",
       "    nav_element.attr('style', 'width: 100%');\n",
       "    this.root.append(nav_element);\n",
       "\n",
       "    // Define a callback function for later on.\n",
       "    function toolbar_event(event) {\n",
       "        return fig.toolbar_button_onclick(event['data']);\n",
       "    }\n",
       "    function toolbar_mouse_event(event) {\n",
       "        return fig.toolbar_button_onmouseover(event['data']);\n",
       "    }\n",
       "\n",
       "    for(var toolbar_ind in mpl.toolbar_items) {\n",
       "        var name = mpl.toolbar_items[toolbar_ind][0];\n",
       "        var tooltip = mpl.toolbar_items[toolbar_ind][1];\n",
       "        var image = mpl.toolbar_items[toolbar_ind][2];\n",
       "        var method_name = mpl.toolbar_items[toolbar_ind][3];\n",
       "\n",
       "        if (!name) {\n",
       "            // put a spacer in here.\n",
       "            continue;\n",
       "        }\n",
       "        var button = $('<button/>');\n",
       "        button.addClass('ui-button ui-widget ui-state-default ui-corner-all ' +\n",
       "                        'ui-button-icon-only');\n",
       "        button.attr('role', 'button');\n",
       "        button.attr('aria-disabled', 'false');\n",
       "        button.click(method_name, toolbar_event);\n",
       "        button.mouseover(tooltip, toolbar_mouse_event);\n",
       "\n",
       "        var icon_img = $('<span/>');\n",
       "        icon_img.addClass('ui-button-icon-primary ui-icon');\n",
       "        icon_img.addClass(image);\n",
       "        icon_img.addClass('ui-corner-all');\n",
       "\n",
       "        var tooltip_span = $('<span/>');\n",
       "        tooltip_span.addClass('ui-button-text');\n",
       "        tooltip_span.html(tooltip);\n",
       "\n",
       "        button.append(icon_img);\n",
       "        button.append(tooltip_span);\n",
       "\n",
       "        nav_element.append(button);\n",
       "    }\n",
       "\n",
       "    var fmt_picker_span = $('<span/>');\n",
       "\n",
       "    var fmt_picker = $('<select/>');\n",
       "    fmt_picker.addClass('mpl-toolbar-option ui-widget ui-widget-content');\n",
       "    fmt_picker_span.append(fmt_picker);\n",
       "    nav_element.append(fmt_picker_span);\n",
       "    this.format_dropdown = fmt_picker[0];\n",
       "\n",
       "    for (var ind in mpl.extensions) {\n",
       "        var fmt = mpl.extensions[ind];\n",
       "        var option = $(\n",
       "            '<option/>', {selected: fmt === mpl.default_extension}).html(fmt);\n",
       "        fmt_picker.append(option);\n",
       "    }\n",
       "\n",
       "    // Add hover states to the ui-buttons\n",
       "    $( \".ui-button\" ).hover(\n",
       "        function() { $(this).addClass(\"ui-state-hover\");},\n",
       "        function() { $(this).removeClass(\"ui-state-hover\");}\n",
       "    );\n",
       "\n",
       "    var status_bar = $('<span class=\"mpl-message\"/>');\n",
       "    nav_element.append(status_bar);\n",
       "    this.message = status_bar[0];\n",
       "}\n",
       "\n",
       "mpl.figure.prototype.request_resize = function(x_pixels, y_pixels) {\n",
       "    // Request matplotlib to resize the figure. Matplotlib will then trigger a resize in the client,\n",
       "    // which will in turn request a refresh of the image.\n",
       "    this.send_message('resize', {'width': x_pixels, 'height': y_pixels});\n",
       "}\n",
       "\n",
       "mpl.figure.prototype.send_message = function(type, properties) {\n",
       "    properties['type'] = type;\n",
       "    properties['figure_id'] = this.id;\n",
       "    this.ws.send(JSON.stringify(properties));\n",
       "}\n",
       "\n",
       "mpl.figure.prototype.send_draw_message = function() {\n",
       "    if (!this.waiting) {\n",
       "        this.waiting = true;\n",
       "        this.ws.send(JSON.stringify({type: \"draw\", figure_id: this.id}));\n",
       "    }\n",
       "}\n",
       "\n",
       "\n",
       "mpl.figure.prototype.handle_save = function(fig, msg) {\n",
       "    var format_dropdown = fig.format_dropdown;\n",
       "    var format = format_dropdown.options[format_dropdown.selectedIndex].value;\n",
       "    fig.ondownload(fig, format);\n",
       "}\n",
       "\n",
       "\n",
       "mpl.figure.prototype.handle_resize = function(fig, msg) {\n",
       "    var size = msg['size'];\n",
       "    if (size[0] != fig.canvas.width || size[1] != fig.canvas.height) {\n",
       "        fig._resize_canvas(size[0], size[1]);\n",
       "        fig.send_message(\"refresh\", {});\n",
       "    };\n",
       "}\n",
       "\n",
       "mpl.figure.prototype.handle_rubberband = function(fig, msg) {\n",
       "    var x0 = msg['x0'] / mpl.ratio;\n",
       "    var y0 = (fig.canvas.height - msg['y0']) / mpl.ratio;\n",
       "    var x1 = msg['x1'] / mpl.ratio;\n",
       "    var y1 = (fig.canvas.height - msg['y1']) / mpl.ratio;\n",
       "    x0 = Math.floor(x0) + 0.5;\n",
       "    y0 = Math.floor(y0) + 0.5;\n",
       "    x1 = Math.floor(x1) + 0.5;\n",
       "    y1 = Math.floor(y1) + 0.5;\n",
       "    var min_x = Math.min(x0, x1);\n",
       "    var min_y = Math.min(y0, y1);\n",
       "    var width = Math.abs(x1 - x0);\n",
       "    var height = Math.abs(y1 - y0);\n",
       "\n",
       "    fig.rubberband_context.clearRect(\n",
       "        0, 0, fig.canvas.width / mpl.ratio, fig.canvas.height / mpl.ratio);\n",
       "\n",
       "    fig.rubberband_context.strokeRect(min_x, min_y, width, height);\n",
       "}\n",
       "\n",
       "mpl.figure.prototype.handle_figure_label = function(fig, msg) {\n",
       "    // Updates the figure title.\n",
       "    fig.header.textContent = msg['label'];\n",
       "}\n",
       "\n",
       "mpl.figure.prototype.handle_cursor = function(fig, msg) {\n",
       "    var cursor = msg['cursor'];\n",
       "    switch(cursor)\n",
       "    {\n",
       "    case 0:\n",
       "        cursor = 'pointer';\n",
       "        break;\n",
       "    case 1:\n",
       "        cursor = 'default';\n",
       "        break;\n",
       "    case 2:\n",
       "        cursor = 'crosshair';\n",
       "        break;\n",
       "    case 3:\n",
       "        cursor = 'move';\n",
       "        break;\n",
       "    }\n",
       "    fig.rubberband_canvas.style.cursor = cursor;\n",
       "}\n",
       "\n",
       "mpl.figure.prototype.handle_message = function(fig, msg) {\n",
       "    fig.message.textContent = msg['message'];\n",
       "}\n",
       "\n",
       "mpl.figure.prototype.handle_draw = function(fig, msg) {\n",
       "    // Request the server to send over a new figure.\n",
       "    fig.send_draw_message();\n",
       "}\n",
       "\n",
       "mpl.figure.prototype.handle_image_mode = function(fig, msg) {\n",
       "    fig.image_mode = msg['mode'];\n",
       "}\n",
       "\n",
       "mpl.figure.prototype.updated_canvas_event = function() {\n",
       "    // Called whenever the canvas gets updated.\n",
       "    this.send_message(\"ack\", {});\n",
       "}\n",
       "\n",
       "// A function to construct a web socket function for onmessage handling.\n",
       "// Called in the figure constructor.\n",
       "mpl.figure.prototype._make_on_message_function = function(fig) {\n",
       "    return function socket_on_message(evt) {\n",
       "        if (evt.data instanceof Blob) {\n",
       "            /* FIXME: We get \"Resource interpreted as Image but\n",
       "             * transferred with MIME type text/plain:\" errors on\n",
       "             * Chrome.  But how to set the MIME type?  It doesn't seem\n",
       "             * to be part of the websocket stream */\n",
       "            evt.data.type = \"image/png\";\n",
       "\n",
       "            /* Free the memory for the previous frames */\n",
       "            if (fig.imageObj.src) {\n",
       "                (window.URL || window.webkitURL).revokeObjectURL(\n",
       "                    fig.imageObj.src);\n",
       "            }\n",
       "\n",
       "            fig.imageObj.src = (window.URL || window.webkitURL).createObjectURL(\n",
       "                evt.data);\n",
       "            fig.updated_canvas_event();\n",
       "            fig.waiting = false;\n",
       "            return;\n",
       "        }\n",
       "        else if (typeof evt.data === 'string' && evt.data.slice(0, 21) == \"data:image/png;base64\") {\n",
       "            fig.imageObj.src = evt.data;\n",
       "            fig.updated_canvas_event();\n",
       "            fig.waiting = false;\n",
       "            return;\n",
       "        }\n",
       "\n",
       "        var msg = JSON.parse(evt.data);\n",
       "        var msg_type = msg['type'];\n",
       "\n",
       "        // Call the  \"handle_{type}\" callback, which takes\n",
       "        // the figure and JSON message as its only arguments.\n",
       "        try {\n",
       "            var callback = fig[\"handle_\" + msg_type];\n",
       "        } catch (e) {\n",
       "            console.log(\"No handler for the '\" + msg_type + \"' message type: \", msg);\n",
       "            return;\n",
       "        }\n",
       "\n",
       "        if (callback) {\n",
       "            try {\n",
       "                // console.log(\"Handling '\" + msg_type + \"' message: \", msg);\n",
       "                callback(fig, msg);\n",
       "            } catch (e) {\n",
       "                console.log(\"Exception inside the 'handler_\" + msg_type + \"' callback:\", e, e.stack, msg);\n",
       "            }\n",
       "        }\n",
       "    };\n",
       "}\n",
       "\n",
       "// from http://stackoverflow.com/questions/1114465/getting-mouse-location-in-canvas\n",
       "mpl.findpos = function(e) {\n",
       "    //this section is from http://www.quirksmode.org/js/events_properties.html\n",
       "    var targ;\n",
       "    if (!e)\n",
       "        e = window.event;\n",
       "    if (e.target)\n",
       "        targ = e.target;\n",
       "    else if (e.srcElement)\n",
       "        targ = e.srcElement;\n",
       "    if (targ.nodeType == 3) // defeat Safari bug\n",
       "        targ = targ.parentNode;\n",
       "\n",
       "    // jQuery normalizes the pageX and pageY\n",
       "    // pageX,Y are the mouse positions relative to the document\n",
       "    // offset() returns the position of the element relative to the document\n",
       "    var x = e.pageX - $(targ).offset().left;\n",
       "    var y = e.pageY - $(targ).offset().top;\n",
       "\n",
       "    return {\"x\": x, \"y\": y};\n",
       "};\n",
       "\n",
       "/*\n",
       " * return a copy of an object with only non-object keys\n",
       " * we need this to avoid circular references\n",
       " * http://stackoverflow.com/a/24161582/3208463\n",
       " */\n",
       "function simpleKeys (original) {\n",
       "  return Object.keys(original).reduce(function (obj, key) {\n",
       "    if (typeof original[key] !== 'object')\n",
       "        obj[key] = original[key]\n",
       "    return obj;\n",
       "  }, {});\n",
       "}\n",
       "\n",
       "mpl.figure.prototype.mouse_event = function(event, name) {\n",
       "    var canvas_pos = mpl.findpos(event)\n",
       "\n",
       "    if (name === 'button_press')\n",
       "    {\n",
       "        this.canvas.focus();\n",
       "        this.canvas_div.focus();\n",
       "    }\n",
       "\n",
       "    var x = canvas_pos.x * mpl.ratio;\n",
       "    var y = canvas_pos.y * mpl.ratio;\n",
       "\n",
       "    this.send_message(name, {x: x, y: y, button: event.button,\n",
       "                             step: event.step,\n",
       "                             guiEvent: simpleKeys(event)});\n",
       "\n",
       "    /* This prevents the web browser from automatically changing to\n",
       "     * the text insertion cursor when the button is pressed.  We want\n",
       "     * to control all of the cursor setting manually through the\n",
       "     * 'cursor' event from matplotlib */\n",
       "    event.preventDefault();\n",
       "    return false;\n",
       "}\n",
       "\n",
       "mpl.figure.prototype._key_event_extra = function(event, name) {\n",
       "    // Handle any extra behaviour associated with a key event\n",
       "}\n",
       "\n",
       "mpl.figure.prototype.key_event = function(event, name) {\n",
       "\n",
       "    // Prevent repeat events\n",
       "    if (name == 'key_press')\n",
       "    {\n",
       "        if (event.which === this._key)\n",
       "            return;\n",
       "        else\n",
       "            this._key = event.which;\n",
       "    }\n",
       "    if (name == 'key_release')\n",
       "        this._key = null;\n",
       "\n",
       "    var value = '';\n",
       "    if (event.ctrlKey && event.which != 17)\n",
       "        value += \"ctrl+\";\n",
       "    if (event.altKey && event.which != 18)\n",
       "        value += \"alt+\";\n",
       "    if (event.shiftKey && event.which != 16)\n",
       "        value += \"shift+\";\n",
       "\n",
       "    value += 'k';\n",
       "    value += event.which.toString();\n",
       "\n",
       "    this._key_event_extra(event, name);\n",
       "\n",
       "    this.send_message(name, {key: value,\n",
       "                             guiEvent: simpleKeys(event)});\n",
       "    return false;\n",
       "}\n",
       "\n",
       "mpl.figure.prototype.toolbar_button_onclick = function(name) {\n",
       "    if (name == 'download') {\n",
       "        this.handle_save(this, null);\n",
       "    } else {\n",
       "        this.send_message(\"toolbar_button\", {name: name});\n",
       "    }\n",
       "};\n",
       "\n",
       "mpl.figure.prototype.toolbar_button_onmouseover = function(tooltip) {\n",
       "    this.message.textContent = tooltip;\n",
       "};\n",
       "mpl.toolbar_items = [[\"Home\", \"Reset original view\", \"fa fa-home icon-home\", \"home\"], [\"Back\", \"Back to previous view\", \"fa fa-arrow-left icon-arrow-left\", \"back\"], [\"Forward\", \"Forward to next view\", \"fa fa-arrow-right icon-arrow-right\", \"forward\"], [\"\", \"\", \"\", \"\"], [\"Pan\", \"Pan axes with left mouse, zoom with right\", \"fa fa-arrows icon-move\", \"pan\"], [\"Zoom\", \"Zoom to rectangle\", \"fa fa-square-o icon-check-empty\", \"zoom\"], [\"\", \"\", \"\", \"\"], [\"Download\", \"Download plot\", \"fa fa-floppy-o icon-save\", \"download\"]];\n",
       "\n",
       "mpl.extensions = [\"eps\", \"jpeg\", \"pdf\", \"png\", \"ps\", \"raw\", \"svg\", \"tif\"];\n",
       "\n",
       "mpl.default_extension = \"png\";var comm_websocket_adapter = function(comm) {\n",
       "    // Create a \"websocket\"-like object which calls the given IPython comm\n",
       "    // object with the appropriate methods. Currently this is a non binary\n",
       "    // socket, so there is still some room for performance tuning.\n",
       "    var ws = {};\n",
       "\n",
       "    ws.close = function() {\n",
       "        comm.close()\n",
       "    };\n",
       "    ws.send = function(m) {\n",
       "        //console.log('sending', m);\n",
       "        comm.send(m);\n",
       "    };\n",
       "    // Register the callback with on_msg.\n",
       "    comm.on_msg(function(msg) {\n",
       "        //console.log('receiving', msg['content']['data'], msg);\n",
       "        // Pass the mpl event to the overridden (by mpl) onmessage function.\n",
       "        ws.onmessage(msg['content']['data'])\n",
       "    });\n",
       "    return ws;\n",
       "}\n",
       "\n",
       "mpl.mpl_figure_comm = function(comm, msg) {\n",
       "    // This is the function which gets called when the mpl process\n",
       "    // starts-up an IPython Comm through the \"matplotlib\" channel.\n",
       "\n",
       "    var id = msg.content.data.id;\n",
       "    // Get hold of the div created by the display call when the Comm\n",
       "    // socket was opened in Python.\n",
       "    var element = $(\"#\" + id);\n",
       "    var ws_proxy = comm_websocket_adapter(comm)\n",
       "\n",
       "    function ondownload(figure, format) {\n",
       "        window.open(figure.imageObj.src);\n",
       "    }\n",
       "\n",
       "    var fig = new mpl.figure(id, ws_proxy,\n",
       "                           ondownload,\n",
       "                           element.get(0));\n",
       "\n",
       "    // Call onopen now - mpl needs it, as it is assuming we've passed it a real\n",
       "    // web socket which is closed, not our websocket->open comm proxy.\n",
       "    ws_proxy.onopen();\n",
       "\n",
       "    fig.parent_element = element.get(0);\n",
       "    fig.cell_info = mpl.find_output_cell(\"<div id='\" + id + \"'></div>\");\n",
       "    if (!fig.cell_info) {\n",
       "        console.error(\"Failed to find cell for figure\", id, fig);\n",
       "        return;\n",
       "    }\n",
       "\n",
       "    var output_index = fig.cell_info[2]\n",
       "    var cell = fig.cell_info[0];\n",
       "\n",
       "};\n",
       "\n",
       "mpl.figure.prototype.handle_close = function(fig, msg) {\n",
       "    var width = fig.canvas.width/mpl.ratio\n",
       "    fig.root.unbind('remove')\n",
       "\n",
       "    // Update the output cell to use the data from the current canvas.\n",
       "    fig.push_to_output();\n",
       "    var dataURL = fig.canvas.toDataURL();\n",
       "    // Re-enable the keyboard manager in IPython - without this line, in FF,\n",
       "    // the notebook keyboard shortcuts fail.\n",
       "    IPython.keyboard_manager.enable()\n",
       "    $(fig.parent_element).html('<img src=\"' + dataURL + '\" width=\"' + width + '\">');\n",
       "    fig.close_ws(fig, msg);\n",
       "}\n",
       "\n",
       "mpl.figure.prototype.close_ws = function(fig, msg){\n",
       "    fig.send_message('closing', msg);\n",
       "    // fig.ws.close()\n",
       "}\n",
       "\n",
       "mpl.figure.prototype.push_to_output = function(remove_interactive) {\n",
       "    // Turn the data on the canvas into data in the output cell.\n",
       "    var width = this.canvas.width/mpl.ratio\n",
       "    var dataURL = this.canvas.toDataURL();\n",
       "    this.cell_info[1]['text/html'] = '<img src=\"' + dataURL + '\" width=\"' + width + '\">';\n",
       "}\n",
       "\n",
       "mpl.figure.prototype.updated_canvas_event = function() {\n",
       "    // Tell IPython that the notebook contents must change.\n",
       "    IPython.notebook.set_dirty(true);\n",
       "    this.send_message(\"ack\", {});\n",
       "    var fig = this;\n",
       "    // Wait a second, then push the new image to the DOM so\n",
       "    // that it is saved nicely (might be nice to debounce this).\n",
       "    setTimeout(function () { fig.push_to_output() }, 1000);\n",
       "}\n",
       "\n",
       "mpl.figure.prototype._init_toolbar = function() {\n",
       "    var fig = this;\n",
       "\n",
       "    var nav_element = $('<div/>');\n",
       "    nav_element.attr('style', 'width: 100%');\n",
       "    this.root.append(nav_element);\n",
       "\n",
       "    // Define a callback function for later on.\n",
       "    function toolbar_event(event) {\n",
       "        return fig.toolbar_button_onclick(event['data']);\n",
       "    }\n",
       "    function toolbar_mouse_event(event) {\n",
       "        return fig.toolbar_button_onmouseover(event['data']);\n",
       "    }\n",
       "\n",
       "    for(var toolbar_ind in mpl.toolbar_items){\n",
       "        var name = mpl.toolbar_items[toolbar_ind][0];\n",
       "        var tooltip = mpl.toolbar_items[toolbar_ind][1];\n",
       "        var image = mpl.toolbar_items[toolbar_ind][2];\n",
       "        var method_name = mpl.toolbar_items[toolbar_ind][3];\n",
       "\n",
       "        if (!name) { continue; };\n",
       "\n",
       "        var button = $('<button class=\"btn btn-default\" href=\"#\" title=\"' + name + '\"><i class=\"fa ' + image + ' fa-lg\"></i></button>');\n",
       "        button.click(method_name, toolbar_event);\n",
       "        button.mouseover(tooltip, toolbar_mouse_event);\n",
       "        nav_element.append(button);\n",
       "    }\n",
       "\n",
       "    // Add the status bar.\n",
       "    var status_bar = $('<span class=\"mpl-message\" style=\"text-align:right; float: right;\"/>');\n",
       "    nav_element.append(status_bar);\n",
       "    this.message = status_bar[0];\n",
       "\n",
       "    // Add the close button to the window.\n",
       "    var buttongrp = $('<div class=\"btn-group inline pull-right\"></div>');\n",
       "    var button = $('<button class=\"btn btn-mini btn-primary\" href=\"#\" title=\"Stop Interaction\"><i class=\"fa fa-power-off icon-remove icon-large\"></i></button>');\n",
       "    button.click(function (evt) { fig.handle_close(fig, {}); } );\n",
       "    button.mouseover('Stop Interaction', toolbar_mouse_event);\n",
       "    buttongrp.append(button);\n",
       "    var titlebar = this.root.find($('.ui-dialog-titlebar'));\n",
       "    titlebar.prepend(buttongrp);\n",
       "}\n",
       "\n",
       "mpl.figure.prototype._root_extra_style = function(el){\n",
       "    var fig = this\n",
       "    el.on(\"remove\", function(){\n",
       "\tfig.close_ws(fig, {});\n",
       "    });\n",
       "}\n",
       "\n",
       "mpl.figure.prototype._canvas_extra_style = function(el){\n",
       "    // this is important to make the div 'focusable\n",
       "    el.attr('tabindex', 0)\n",
       "    // reach out to IPython and tell the keyboard manager to turn it's self\n",
       "    // off when our div gets focus\n",
       "\n",
       "    // location in version 3\n",
       "    if (IPython.notebook.keyboard_manager) {\n",
       "        IPython.notebook.keyboard_manager.register_events(el);\n",
       "    }\n",
       "    else {\n",
       "        // location in version 2\n",
       "        IPython.keyboard_manager.register_events(el);\n",
       "    }\n",
       "\n",
       "}\n",
       "\n",
       "mpl.figure.prototype._key_event_extra = function(event, name) {\n",
       "    var manager = IPython.notebook.keyboard_manager;\n",
       "    if (!manager)\n",
       "        manager = IPython.keyboard_manager;\n",
       "\n",
       "    // Check for shift+enter\n",
       "    if (event.shiftKey && event.which == 13) {\n",
       "        this.canvas_div.blur();\n",
       "        // select the cell after this one\n",
       "        var index = IPython.notebook.find_cell_index(this.cell_info[0]);\n",
       "        IPython.notebook.select(index + 1);\n",
       "    }\n",
       "}\n",
       "\n",
       "mpl.figure.prototype.handle_save = function(fig, msg) {\n",
       "    fig.ondownload(fig, null);\n",
       "}\n",
       "\n",
       "\n",
       "mpl.find_output_cell = function(html_output) {\n",
       "    // Return the cell and output element which can be found *uniquely* in the notebook.\n",
       "    // Note - this is a bit hacky, but it is done because the \"notebook_saving.Notebook\"\n",
       "    // IPython event is triggered only after the cells have been serialised, which for\n",
       "    // our purposes (turning an active figure into a static one), is too late.\n",
       "    var cells = IPython.notebook.get_cells();\n",
       "    var ncells = cells.length;\n",
       "    for (var i=0; i<ncells; i++) {\n",
       "        var cell = cells[i];\n",
       "        if (cell.cell_type === 'code'){\n",
       "            for (var j=0; j<cell.output_area.outputs.length; j++) {\n",
       "                var data = cell.output_area.outputs[j];\n",
       "                if (data.data) {\n",
       "                    // IPython >= 3 moved mimebundle to data attribute of output\n",
       "                    data = data.data;\n",
       "                }\n",
       "                if (data['text/html'] == html_output) {\n",
       "                    return [cell, data, j];\n",
       "                }\n",
       "            }\n",
       "        }\n",
       "    }\n",
       "}\n",
       "\n",
       "// Register the function which deals with the matplotlib target/channel.\n",
       "// The kernel may be null if the page has been refreshed.\n",
       "if (IPython.notebook.kernel != null) {\n",
       "    IPython.notebook.kernel.comm_manager.register_target('matplotlib', mpl.mpl_figure_comm);\n",
       "}\n"
      ],
      "text/plain": [
       "<IPython.core.display.Javascript object>"
      ]
     },
     "metadata": {},
     "output_type": "display_data"
    },
    {
     "data": {
      "text/html": [
       "<img src=\"data:image/png;base64,iVBORw0KGgoAAAANSUhEUgAAAsAAAAIQCAYAAACPEdjAAAAgAElEQVR4XuydB7QUxba/N1EyCgqoKApXBRG9oATFQE5i4irKBRHjRQEDIKBkyQhKFpFneCaQIIgkQUEBBUmCispFr8BTclaShP/a9V6f/8ycM4ee6a49VTW/WoslHLqrq769j3xTZ3dVjtOnT58mNBAAARAAARAAARAAARBIEwI5IMBpEmlMEwRAAARAAARAAARAQBGAACMRQAAEQAAEQAAEQAAE0ooABDitwo3JggAIgAAIgAAIgAAIQICRAyAAAiAAAiAAAiAAAmlFAAKcVuHGZEEABEAABEAABEAABCDAyAEQAAEQAAEQAAEQAIG0IgABTqtwY7IgAAIgAAIgAAIgAAIQYOQACIAACIAACIAACIBAWhGAAKdVuDFZEAABEAABEAABEAABCDByAARAAARAAARAAARAIK0IQIDTKtyYLAiAAAiAAAiAAAiAAAQYOQACIAACIAACIAACIJBWBCDAaRVuTBYEQAAEQAAEQAAEQAACjBwAARAAARAAARAAARBIKwIQ4LQKNyYLAiAAAiAAAiAAAiAAAUYOgAAIgAAIgAAIgAAIpBUBCHBahRuTBQEQAAEQAAEQAAEQgAAjB0AABEAABEAABEAABNKKAAQ4rcKNyYIACIAACIAACIAACECAkQMgAAIgAAIgAAIgAAJpRQACnFbhxmRBAARAAARAAARAAAQgwMgBEAABEAABEAABEACBtCIAAU6rcGOyIAACIAACIAACIAACEGDkAAiAAAiAAAiAAAiAQFoRgACnVbgxWRAAARAAARAAARAAAQgwcgAEQAAEQAAEQAAEQCCtCECA0yrcmCwIgAAIgAAIgAAIgAAEGDkAAiAAAiAAAiAAAiCQVgQgwGkVbkwWBEAABEAABEAABEAAAowcAAEQAAEQAAEQAAEQSCsCEOC0CjcmCwIgAAIgAAIgAAIgAAFGDoAACIAACIAACIAACKQVAQhwWoUbkwUBEAABEAABEAABEIAAIwdAAARAAARAAARAAATSigAEOK3CjcmCAAiAAAiAAAiAAAhAgJEDIAACIAACIAACIAACaUUAApxW4cZkQQAEQAAEQAAEQAAEIMDIARAAARAAARAAARAAgbQiAAFOq3BjsiAAAiAAAiAAAiAAAhBg5AAIWErg119/pUsvvZR69+5Nffr0CXUWbdq0obfeeotOnz4dar+ud1arVi3iuPAvm9rUqVOpX79+tHHjRjp69CgtWrSIeC5htUS5vPnmm/Tggw+GPo6w5pNdP/y92LdvX/rPf/5Dl1xyyRkfydfwr8WLF5/xWlwAAiAQHgEIcHgs0RMIJE2gefPmNGXKFPryyy/p+uuvj9tPs2bN6MMPP6Q1a9bQOeecE0iAR4wYQWeffTax7MY2nQLsiVVY/+B7shQ5h0KFClH58uXp/vvvp3bt2lGuXLmSjk0iNyYqeon0retalt6KFSuqvHvggQforLPOovr161PJkiWzfeTOnTtp1KhRNHfuXPr555/p8OHDdN5551HVqlWpRYsWdM8991DOnDlVH1lxmTFjBn3zzTdZfniDAOuKNvoFARDwCECAkQsgYACBBQsWUIMGDejhhx+miRMnZjkiFo7SpUtTpUqVaPXq1Wp19tixY5Q7d271K9GW3crTX3/9RSdPnqR8+fIl2u0Zr9clwI8//jjdcMMNisu2bdvUCvaGDRvoX//6F40fP/6M4wrjguPHj6vns0Ta0iZMmKAYcU5VqVLF17A5X++99146dOgQ8Ycy5l64cGH67bffaN68eeqD3IABA+j5559X/WXFJbsPWZx7nIN58+bNkGhfAzPgokRXgPl7OEeOHGquaCAAAnIEIMByrPEkEIhLgKWpbNmytHv3biVvvIIZ21588UXq0qULjRs3jlj2grZU/ehVlwC//fbb1KpVqwwsf/zxB1WoUIF+//132r59u1qdRMtM4IUXXlBlNH5/ZP/jjz/Sddddp4SXZfeaa67J1CmXUHB/Dz30UFzkOn/KkMo4JyrAqRwrng0C6UwAApzO0cfcjSLQv39/6tmzJ/3Xf/1XluLAMrdlyxYldEWLFlV1pvFqgD/66CP142le1Tty5AhdcMEFVKdOHRo8eDCxGPJ9WTVPgrKSE+9re/bsUSLOz+Afe/Pq39ixY+myyy5TX+Na0u+//16VaHTo0IG6desW9aisBHj58uVqxZDHy/0XK1ZMyeszzzxDt912W7Zx8n5cHivAfNPdd99N06ZNo6+++opq1KiR0Q//yJ7H+cknn6gPHSVKlKDbb7+dWAbPPffcqOdxicCzzz6r6lG58XyHDRtG7du3z1TvG68EYsWKFep5vDLKzJj/P//5T+ratWvUyp8nTz/99BO98847ahWb5Z0/HHFu8D1+2qlTp2jMmDEql3j8efLkUdL63HPPqfIGbl7+xPZXpkyZbGuYubSBa4ZnzZpFTZs29TOcTCUQ/OFr8+bNme594403VElOViUQvEoar8WO2W98E+XNwj906FD67rvv6ODBgypXrr76aurRo4fKC26J9pnVB1HvayNHjlS5x/nL5ST16tVTuRfv+9dXMHARCICAIgABRiKAgCEE+MfH/A959erVadmyZVGjWrp0Kd10002qRpPlIFJgYl+C4z+zyJUrV04J00UXXaRkg4WFhYpFleuIWS75H/Du3btnPOuuu+6iggULKgmJfQnO+xrXeHJ9aKNGjZSMv/TSS1SqVCkleJ06daK2bduqv580aRItWbKE3nvvPVUT6rVYAWZB4x+98wrtI488Queffz7t2rVL1TnzHAYOHJi0AFeuXFnVmfIzeN7c+M88hgIFCqgPGsz83//+N73yyivqg8LXX3+tPmBwY27XXnut+tDAq+6XX345rVy5kmbOnKkknX9MH/nCW1YCzNLEcs19emzmzJmjameZ4ezZszN+zO/JE8s6C98//vEP9Xe86r9p06ZMIh8PTOvWrYk/ENx4442qDy5V4NKarVu30n//93+rlfI///xT5cH06dPVf19++WWVD/zThzvvvDPLrvkFOf5gw9dxX35bLBeu/+W84fzgcXqNJZJlPysB5g8EsY0/aPGHOv6e4Q9RicY3Ed5ffPGF+hB55ZVXqtry4sWLqw8n/L1666230hNPPBElwH5jGE+Auaxp7969Knd4flzO8+qrryr2/EGRv0/QQAAEkicAAU6eHe4EgdAJ8Grnxx9/rP6x4xVQr/Eb8SwFLAwsNfEEmOWsWrVqarVz4cKFSmYjG68Mei8mZVcCkZ0Ax9bU8st0LNMsTt9++23Gm+9c28hyyULDK5/xGq9UP/XUU0pg+B/6RJsnSyywvOLr1QDzqjTXtzILXkHzGkvxgQMHaNWqVUpivcartCxgvXr1UiUB3Fq2bKkEniW1SZMmGdeyvLHsx648xooe17L+7W9/I67f5lXDyJU7lm9e8YxcufaErHHjxioPvFixbPKHAZ4fjye79tlnn1HdunXV6iyLpvcCIH+ouOqqq1Q9Lvfnldkk8iN7ji+veHKe8mq/35bVB4PsSiD8vATHHxj5xT2eD8fXY5tIfBPh3bFjR/UhgaU3uxcEE+mT+cUTYP7wxWVPnTt3zsDML8ryC7PZvSvgNya4DgTSnQAEON0zAPM3igBLxR133KH+0eN//Ljx6h2v9vBK7g8//JAx3qxKIJ5++mniH5v62cYqWQGOXE3lwaxdu1at4PJq87vvvhvFk+fCK2RcZhCv8Yokr2xzqQTLZ/78+ROKSVa7QHgd8Itao0ePzqj/ZQnllwi5FICFJrbxhwuWYhZ2/rDAq7bMicUvsrHc84o1X5vdCrD3gYRXflnQIxuXs7BA82orr8By8+SJSzO8UgXvHh43v1zH4p5d410veMU4qw8UXr0vizHHJvKZfmqAOZbMiD8YZLUiG29cYQswlx/wT0S41IF3E+HyDm6JxDdR3h47zieOZ7wXTxONYTwB5tVf/tAS+0LlFVdcob7OpULZlYUk9E2Ei0EgDQlAgNMw6JiyuQR4xfDiiy+mEydO0P/8z/+o2k3vLX2u/eNVR69lJcC8Ssk/WucVziJFimQ70WQFmMcWua2YNw6ug+QyiMjm50UnXsFjGeNSAd51gleBWbLuu+8+tWJ5puYJMAs0r3xyf1zmMGTIECW7vHrrlTR4K2jZ9ckr1ixWvNLHHzx41ZXvi21///vfaf/+/dkK8OTJk9U8WJq4Zji28TZ0HO/169dHySiXO/CKb2RjieRVQRbV7BqvHjNL/uAU+zIlizbv2jB8+PCMDwC2rQBz2QnPkcWXS1G4/MBricQ3UoD98GYhbdiwofoAwi8A8urzzTffrD74Ra7sezz99MljiCfAXGrCHy5jG39g4nnzh0ouw0ADARBIjgAEODluuAsEtBHgmlyue+XaTK7J5ZKGdevWKSGO3MkgKwH25EenAMcejpHdy3h+BNgDyXWNvPLJ9c4sN/zyHkt/Viu1kfDjvQTnlQJErkx7Qsov53FtZVaNV6Br1qyZIcD80tcHH3yQlABzHTTXP/MLabwy61eAs1qN9bvHMNcVz58/X4sAR9YA8wq23xXIsFaAOfe4vplXn7ke9rHHHotCmkh8IwXYL2/+qQCvgnN5EecplyRx4/FwaUIyfSYrwN7Lotr+R4SOQcBxAhBgxwOM6dlH4JdfflF1oyyz/IIP11xmJWHZlUCwQN5yyy3ZTp5XrfhH8FkdSJFdDbAuAY4cLK+2ce0uSxa/gJbdPsfZ7QLBJRAsrywtXN/rlWuwAHPtcXYtuxIIXmXml5GClEBwHS6v/vLqN5ckJCNPWY0/uxIIXqHnMhNeCfZedEtkBZifF8YuENyPV9ee1WmD8WqAuXSFvyd4f2HeNSS2JRLfMHjzijyX//BqLa/4JtMnSiDs+380RuwGAQiwG3HELBwjwNsdsZjyCjBvOcUrenxQRmTLSoC9mlOWPV6liq2nZdnwVu24PIB/7/34PbJvSQHmH+XGbj3GY+EfN/OK8L59+9SJdfFadgLMNdNcRsE/qua6aJ4/71vLJQ78o+zIFw25f/57Ho+30s6rx++//37gl+C4ZpN3LOAPHF579NFH1c4MXAPNuwokI09ZMfn000/Vdlm8ws2i671Ix/NiFryKy/LNP8Y/0zOz6p+Z8k4gfD/nJX9Ai22ff/65YuztA5zVCjB/COGV8axWMrMSYD7MhHfi4B0smFlWq8+Jxjc7+Y8dM8cwdi9pfh7n0I4dO1SenolnVhySeQmOufIWd2ggAALJE4AAJ88Od4KANgLej3L5ASxNvCrsiYz30HilB14JBW/7xQLHp8dx+QTXDfKuA1y7yo0FjP8R5ev5H3Hun9/uP9M2aGGvAPOLe1yzyrsWcP0tj4PlnxlEviCWjADzPVyCwKUILIa8jRULP/+XtwFj0ecPAlxXyj8G55VY/hqLETf+Gr9gxdeyfPELSLxNmrcNGtdDR9bkZrcNGks8vzzFew5znTZvhcaSz//1YpuIkGWXfN42aCz+/CGKV9FZtnlF3dsGzbs/0RVgvo9PguMf+XO/vM2adxIcb4vHUsylAYMGDcrYAzorLvzCJMssr9JzHS/Xu3P9N/9kIlaA+eU2zluu5eaXQ2NPTYvcui2R+CbCmzkyP44Zf09y7PmlVf6QxjnMO0SEKcDeNmj8EwIug+IPHvwhgH/qwFsE8pZ9aCAAAskTgAAnzw53goA2Avwj9gsvvFCtRvbt21f92Dq2ZVd7y4c/8I/4+UfCLHf8jyW/IMZS4r04w1tzsdTxyii/zMVi6+cgjLAFmGWX/2Hnbch4JY1FiCWIdxrgVcIzHcec3QowM+Mt5VhyuaTC21+ZPxDwj9JZRPn3vCcw77LBYsx1pbzXq9f45DM+jMArFeH6YK5N5p0ruE6Z+/davDpd3pEh8iAMXvVj+Yt3EIbfmtR4CcjlG/ziXeRBGLxqyy8Kxv4kIRkB5udyrPgZLPD8439mwXLPEsux45ftvFXarLjwGPlAFf5wwqcf8p/jHYTB7GvXrh33+y12Ozq/8U1EgLkmnz88cK06rwZzzvCHTN67mrclS/ZDjN+DMJglfw9z7sW+IKntf0ToGAQcJgABdji4mBoIgIAeArz6x2UbvBMASzQaCIRJIFXHlIc5B/QFAqYTgACbHiGMDwRAIKUE+OhiXu2LbPzjbu9gBP7xNxoIhEkAAhwmTfQFAlkTgAAjM0AABEAgGwLly5dX+xLzy3P8Y3re/opfTOS6aX7pMPa0PcAEgaAEIMBBCeJ+EDgzAQjwmRnhChAAgTQmwFtu8ctO/AIU76DAtdm8wwLXZeMggjRODI1ThwBrhIuuQeD/CECAkQogAAIgAAIgAAIgAAJpRQACnFbhxmRBAARAAARAAARAAAQgwMgBEAABEAABEAABEACBtCIAAU6rcGOyIAACIAACIAACIAACEGCNOcAvzHz77bfq+Ew+1QcNBEAABEAABEAABKQI8J7lfHALHwZ0pkOFpMZkynMgwBojwVsk8RGWaCAAAiAAAiAAAiCQKgJ8hDufBon2/wlAgDVmg3dULSfe+eefr/FJ6BoEQAAEQAAEQAAEognwMeO8EJfV8erpzgoCrDED+Dz6iy66iLZu3UqlS5fW+CR0DQIgAAIgAAIgAALRBOAh8TMCAqzxuwWJpxEuugYBEAABEAABEMiWADwEApySbxEkXkqw46EgAAIgAAIgAAJEBA+BAKfkGwGJlxLseCgIgAAIgAAIgAAEONscQAmExm8RCLBGuOgaBEAABEAABEAAJRBJ5gAEOElwfm6DAPuhhGtAAARAAARAAAR0EICHxKcKAdaRcf/XJxJPI1x0DQIgAAIgAAIggBXgJHMAApwkOD+3QYD9UMI1IAACIAACIAACOgjAQ7ACrCOvztgnEu+MiHABCIAACIAACICAJgLwEAiwptTKvlskXkqw46EgAAIgAAIgAALYBSLbHEAJhMZvEQiwRrjoGgRAAARAAARAIFsC8BCsAKfkWwSJlxLseCgIgAAIgAAIgABWgLECnKrvAghwqsjjuSAAAiAAAiAAAvAQrACn5LsAiZcS7HgoCIAACIAACIAAVoCxApyq7wIIcKrI47kgAAIgAAIgAALwEKwAp+S7AImXEux4KAiAAAiAAAiAAFaAsQKcqu8CCHCqyOO5IAACIAACIAAC8BCsAKfkuwCJlxLseCgIgAAIgAAIgABWgLECnKrvAikBPm9Et1RNEc/1QWDX04N9XIVLQAAEQAAEQCBcAlIeEu6oZXrDQRgaOUslHgRYYxBD6BoCHAJEdAECIAACIJAwASkPSXhgBtwAAdYYBKnEgwBrDGIIXUOAQ4CILkAABEAABBImIOUhCQ/MgBsgwBqDIJV4EGCNQQyhawhwCBDRBQiAAAiAQMIEpDwk4YEZcEPKBHjTpk00bNgwWr58OX333XdUvnx59d/IliNHjriIfv/9dzr//PPV319yySW0efPmTNceOXKE8uXLl/H1Q4cOUefOnWnq1Kl07NgxqlOnDo0ePZrKlCkTde/GjRvpySefpCVLllDBggWpRYsWNHjwYMqfP39CIZNKPAhwQmERvxgCLI4cDwQBEAABEMBLcNnmQMoEeObMmdS+fXuqXr06sXCeOnUqkwCzHMe21q1bKyldu3Ztxl+xAFetWpU6deoUdTn3HSnRTZs2pTVr1tDw4cOpSJEi1KtXLzp48CCtX78+Q273799PV111lZLinj170s6dO6ljx47UqFEjeueddxL6hoIAJ4TL2YshwM6GFhMDARAAAaMJSHmI0RDiDC5lAszCmzNnTjWsNm3a0KpVqzIJcOyYf/31V7r00ktp6NCh9Oyzz0YJMMvtmDFj4sZgxYoVVKNGDZo9ezY1adJEXbdlyxYqV66cWgVu27at+tqQIUPohRdeUCvK5557rvrae++9Ry1btqQNGzZQhQoVfMdZKvGwAuw7JCm5EAKcEux4KAiAAAikPQEpD7ERdMoEOBKWXwEeOHAg9ejRQ4lr6dKlExLg3r1706hRo2jv3r1Rq8K1a9emQoUK0axZs1R/t9xyC5199tnEK9Re43KJokWL0oABAzKtMmcXdKnEgwCb/a0HATY7PhgdCIAACLhKQMpDbORnlQBXqlSJihcvTosXL45izSUQBw4coMOHD1OePHno5ptvViu5fL3XmjdvrsQ5tqyiXbt2NH/+fOKaZG4lSpSghx56SNX8RraKFSvS9ddfTxMnTvQdZ6nEgwD7DklKLoQApwQ7HgoCIAACaU9AykNsBG2NAHOd7jXXXEOvvvoqPfbYY1Gs+YU1rve9+OKL6ZdfflErtTt27FB1wmXLllXX1q9fn3LlykXz5s2LupdXlMeNG6dWhrmxQPfr14+6dYs+XOLGG29Ucjx9+vS4ceZ6Yv7ltW3btlG1atVo69atUSvWYScKBDhsouH2BwEOlyd6AwEQAAEQ8EcAAhyfkzUC3LVrV3r55Zdp+/btVKxYsWwjz+LJu0pw3S7LrSfAuXPnprlz50bd2717dxo/fjzt2bMnQ4D79+9P/LzIVrNmTSpVqhRNmzYt7rP79OlDffv2zfT3EGB/36iuXgUBdjWymBcIgAAImE0AAmy5AJ8+fVptdfb3v/89qjY3u7S79dZbaffu3cQvv3GTKIHACrDZ/yNI1eggwKkij+eCAAiAQHoTgABbLsC8Hy/X9U6aNInuvfdeX9nMOz3wqq4nwHgJzhc2XKSBAARYA1R0CQIgAAIgcEYCEGDLBfjxxx9Xe/ByXW+BAgXOGHA+JIO3K7v//vsztkbztkHjEgje05cblyZwjXDsNmhcA8zboPELd9xYvPkwDGyDdkb0uCALAhBgpAUIgAAIgEAqCECADRRg3rFhzpw5amRjx46ln3/+mV566SX1Z96K7LzzzlO/P3HihDrxjaX17bffzjST999/X+3t27hxY7rgggvUS3CDBg1SL7WtXr1a7RvsNd4rmF+MizwIg3ePyOogDC65iDwIo2HDhjgIIxXfvQ48EwLsQBAxBRAAARCwkAAE2EAB9g61yGpoixYtolq1aqm/YrllcWVZZsmNbbytGe/Y8P333xOf4sZ7+PIRx3yYxRVXXBF1OdfoekchHz9+PNujkDt06EBLly5VK868+svbquEoZAu/+w0YMgTYgCBgCCAAAiCQhgQgwAYKcDrkoVTiYRs0s7MJAmx2fDA6EAABEHCVgJSH2MjPiG3QbATnZ8xSiQcB9hON1F0DAU4dezwZBEAABNKZgJSH2MgYAqwxalKJBwHWGMQQuoYAhwARXYAACIAACCRMQMpDEh6YATdAgDUGQSrxIMAagxhC1xDgECCiCxAAARAAgYQJSHlIwgMz4AYIsMYgSCUeBFhjEEPoGgIcAkR0AQIgAAIgkDABKQ9JeGAG3AAB1hgEqcSDAGsMYghdQ4BDgIguQAAEQAAEEiYg5SEJD8yAGyDAGoMglXgQYI1BDKFrCHAIENEFCIAACIBAwgSkPCThgRlwAwRYYxCkEg8CrDGIIXQNAQ4BIroAARAAARBImICUhyQ8MANugABrDIJU4kGANQYxhK4hwCFARBcgAAIgAAIJE5DykIQHZsANEGCNQZBKPAiwxiCG0DUEOASI6AIEQAAEQCBhAlIekvDADLgBAqwxCFKJBwHWGMQQuoYAhwARXYAACIAACCRMQMpDEh6YATdAgDUGQSrxIMAagxhC1xDgECCiCxAAARAAgYQJSHlIwgMz4AYIsMYgSCUeBFhjEEPoGgIcAkR0AQIgAAIgkDABKQ9JeGAG3AAB1hgEqcSDAGsMYghdQ4BDgIguQAAEQAAEEiYg5SEJD8yAGyDAGoMglXgQYI1BDKFrCHAIENEFCIAACIBAwgSkPCThgRlwAwRYYxCkEg8CrDGIIXQNAQ4BIroAARAAARBImICUhyQ8MANugABrDIJU4kGANQYxhK4hwCFARBcgAAIgAAIJE5DykIQHZsANEGCNQZBKPAiwxiCG0DUEOASI6AIEQAAEQCBhAlIekvDADLgBAqwxCFKJBwHWGMQQuoYAhwARXYAACIAACCRMQMpDEh6YATdAgDUGQSrxIMAagxhC1xDgECCiCxAAARAAgYQJSHlIwgMz4AYIsMYgSCUeBFhjEEPoGgIcAkR0AQIgAAIgkDABKQ9JeGAG3AAB1hgEqcSDAGsMYghdQ4BDgIguQAAEQAAEEiYg5SEJD8yAGyDAGoMglXgQYI1BDKFrCHAIENEFCIAACIBAwgSkPCThgRlwAwRYYxCkEg8CrDGIIXQtJcAXfvpfIYwWXegk8Fvdh3V2j75BAARAIIqAlIfYiB0CrDFqUokHAdYYxBC6hgCHANGRLiDAjgQS0wABSwhIeYglOKKGCQHWGDWpxIMAawxiCF1DgEOA6EgXEGBHAolpgIAlBKQ8xBIcEGCpQEklHgRYKqLJPQcCnBw3F++CALsYVcwJBMwlIOUh5hKIPzKsAGuMmlTiQYA1BjGEriHAIUB0pAsIsCOBxDRAwBICUh5iCQ6sAEsFSirxIMBSEU3uORDg5Li5eBcE2MWoYk4gYC4BKQ8xlwBWgFMSG6nEgwCnJLy+HwoB9o3K+QshwM6HGBMEAaMISHmIUZP2ORiUQPgElcxlUokHAU4mOnL3QIDlWJv+JAiw6RHC+EDALQJSHmIjNQiwxqhJJR4EWGMQQ+gaAhwCREe6gAA7EkhMAwQsISDlIZbgiBomBFhj1KQSDwKsMYghdA0BDgGiI11AgB0JJKYBApYQkPIQS3BAgKUCJZV4EGCpiCb3HAhwctxcvAsC7GJUMScQMJeAlIeYSyD+yLACrDFqUokHAdYYxBC6hgCHANGRLiDAjgQS0wABSwhIeYglOLACLBUoqcSDAEtFNLnnQICT4+biXRBgF6OKOYGAuQSkPMRcAlgBTklspBIPApyS8Pp+KATYNyrnL4QAOx9iTAxJnYIAACAASURBVBAEjCIg5SFGTdrnYFAC4RNUMpdJJR4EOJnoyN0DAZZjbfqTIMCmRwjjAwG3CEh5iI3UIMAaoyaVeBBgjUEMoWsIcAgQHekCAuxIIDENELCEgJSHWIIjapgQYI1Rk0o8CLDGIIbQNQQ4BIiOdAEBdiSQmAYIWEJAykMswQEBlgqUVOJBgKUimtxzIMDJcXPxLgiwi1HFnEDAXAJSHmIugfgjwwqwxqhJJR4EWGMQQ+gaAhwCREe6gAA7EkhMAwQsISDlIZbgMGMFeNOmTTRs2DBavnw5fffdd1S+fHn138jWpk0beuuttzJxnTt3LjVq1Cjq69zXmDFjaPv27VSpUiV68cUXqVatWlHXHDp0iDp37kxTp06lY8eOUZ06dWj06NFUpkyZqOs2btxITz75JC1ZsoQKFixILVq0oMGDB1P+/PkTirFU4kGAEwqL+MUQYHHkxj4QAmxsaDAwEHCSgJSH2AgvZSvAM2fOpPbt21P16tWJhfPUqVNZCjBL6LvvvhvFtkKFClS0aNGMr7H8Pv/88zRw4ECqUqUKvfbaazRjxgz6+uuvlQx7rWnTprRmzRoaPnw4FSlShHr16kUHDx6k9evXZ8jt/v376aqrrlJS3LNnT9q5cyd17NhRCfc777yTUIylEg8CnFBYxC+GAIsjN/aBEGBjQ4OBgYCTBKQ8xEZ4KRNgFt6cOXMqZrzSu2rVqiwFOKuvR4LmldySJUvSY489RkOHDlV/dfLkSSW+V199NU2aNEl9bcWKFVSjRg2aPXs2NWnSRH1ty5YtVK5cObUK3LZtW/W1IUOG0AsvvECbN2+mc889V33tvffeo5YtW9KGDRuI5dtvk0o8CLDfiKTmOghwarib+FQIsIlRwZhAwF0CUh5iI8GUCXAkrCACvGjRIlXKwCu7lStXzui2b9++aqX3wIEDlCNHDurduzeNGjWK9u7dq/7stdq1a1OhQoVo1qxZ6ku33HILnX322cQr1F5jyeYV5wEDBlCnTp18x1kq8SDAvkOSkgshwCnBbuRDIcBGhgWDAgFnCUh5iI0AjRfgyZMn01lnnUWHDx9Wq7pclnDnnXdmsB43bhy1a9dO/X1kje6UKVOoefPmtHXrVipdurT6Pa/4cs1xZON758+fT1yTzK1EiRL00EMPqZrfyFaxYkW6/vrraeLEib7jLJV4EGDfIUnJhRDglGA38qEQYCPDgkGBgLMEpDzERoBGC/DIkSMpd+7cxPLJtbmvvPIKffLJJ8Rye/fddyvevCrbr18/Onr0aBT/hQsXUv369WndunWqFIJ/nytXLpo3b17UdT169CCWaF4Z5pYnTx7VX7du3aKuu/HGG5UcT58+PW6cuZ6Yf3lt27ZtVK1atQwJ15UgEGBdZMPpFwIcDkcXeoEAuxBFzAEE7CEAAY4fK6MFOHbYXDd8ww03KMnkelxPgPv3709HjhyJunzBggXUoEED9YIbrxyzALNM8w4Ska179+40fvx42rNnT4YAc39du3aNuq5mzZpUqlQpmjZtWlyaffr0IS69iG3eKrSubxkIsC6y4fQLAQ6Howu9QIBdiCLmAAL2EIAAOyLAPA3e3qxLly4ZJQ9eCQQLcL58+TJmmooSCKwA2/M/BcmRQoAlaZv9LAiw2fHB6EDANQIQYIcEmHd64NVZr+YXL8ERYQXY7P9lQYDNjo/k6CDAkrTxLBAAAQiwIwLMJRC8lRnLr3dohrcNGm9j5r24xtugcd0vlz7EboMWeYgGlyaULVs20zZoXAPM26AVL15ckeM++DAMbIOG/5kkQwACnAw1N++BALsZV8wKBEwlAAE2UIBZYufMmaNGNnbsWPr555/ppZdeUn/mrcj473l7NBZP3qt337596iU4XvHlOty77rorY1beQRiDBg1SB2HwTg38slpWB2GsXbs26iAM3iYtq4MwLrnkkqiDMBo2bIiDMEz9Djd8XBBgwwMkODwIsCBsPAoEQIAgwAYK8K+//kqXXnppliNjyeUV3AcffJBWr15Nu3btorx589J1112ndmdgGY1sp0+fVscq81HIO3bsUCu/XCrBe/xGNq7R9Y5CPn78eLZHIXfo0IGWLl1KBQoUUBLOB2TgKGT83yQZAhDgZKi5eQ8E2M24YlYgYCoBCLCBAmxqsoQ5LqnEQw1wmFELvy8IcPhMbe0RAmxr5DBuELCTgJSH2EjHiG3QbATnZ8xSiQcB9hON1F0DAU4de9OeDAE2LSIYDwi4TUDKQ2ykCAHWGDWpxIMAawxiCF1DgEOA6EgXEGBHAolpgIAlBKQ8xBIcUcOEAGuMmlTiQYA1BjGEriHAIUB0pAsIsCOBxDRAwBICUh5iCQ4IsFSgpBIPAiwV0eSeAwFOjpuLd0GAXYwq5gQC5hKQ8hBzCcQfGVaANUZNKvEgwBqDGELXEOAQIDrSBQTYkUBiGiBgCQEpD7EEB1aApQIllXgQYKmIJvccCHBy3Fy8CwLsYlQxJxAwl4CUh5hLACvAKYmNVOJBgFMSXt8PhQD7RuX8hRBg50OMCYKAUQSkPMSoSfscDEogfIJK5jKpxIMAJxMduXsgwHKsTX8SBNj0CGF8IOAWASkPsZEaBFhj1KQSDwKsMYghdA0BDgGiI11AgB0JJKYBApYQkPIQS3BEDRMCrDFqUokHAdYYxBC6hgCHANGRLiDAjgQS0wABSwhIeYglOCDAUoGSSjwIsFREk3sOBDg5bi7eBQF2MaqYEwiYS0DKQ8wlEH9kcVeAX3jhBd/zyZEjB/Xs2dP39elyoVTiQYDNzigIsNnxkRwdBFiSNp4FAiAg5SE2ko4rwIULF46az4kTJ+jYsWPqa7lz5yb+M7ezzjqL8uTJQwcPHrRx/lrHLJV4EGCtYQzcOQQ4MEJnOoAAOxNKTAQErCAg5SFWwIgZpK8a4FWrVlHz5s3pueeeo7vvvpvOOecc2rdvH02ZMoUGDx5MkydPpqpVq9o4f61jlko8CLDWMAbuHAIcGKEzHUCAnQklJgICVhCQ8hArYCQjwDVq1KDWrVvTE088kWmOY8eOpbfeeou+/vprG+evdcxSiQcB1hrGwJ1DgAMjdKYDCLAzocREQMAKAlIeYgWMZAQ4f/789OGHH1KjRo0yzXHevHnUrFkzOnz4sI3z1zpmqcSDAGsNY+DOIcCBETrTAQTYmVBiIiBgBQEpD7ECRjICXKFCBbriiiuUBPMLb147ffo03XHHHfTvf/+bfvjhBxvnr3XMUokHAdYaxsCdQ4ADI3SmAwiwM6HEREDACgJSHmIFjGQEeObMmar2t0yZMnTbbbdRiRIlaOfOnTRr1izavHkzTZ06VYkwWjQBqcSDAJudeRBgs+MjOToIsCRtPAsEQEDKQ2wk7eslOJ7YN998o15441rfbdu20fnnn0/VqlWjbt260d///ncb5659zFKJBwHWHspAD4AAB8Ln1M0QYKfCicmAgPEEpDzEeBBZDNC3ANs4uVSPWSrxIMCpjnT2z4cAmx0fydFBgCVp41kgAAJSHmIj6YQFeOvWrcS/rrnmGipYsKCNcxYbs1TiQYDFQprUgyDASWFz8iYIsJNhxaRAwFgCUh5iLIBsBuZbgCdMmEB9+/ZV5Q/8ItzKlSupSpUqdNddd1GtWrXoqaeesnH+WscslXgQYK1hDNw5BDgwQmc6gAA7E0pMBASsICDlIVbAiBmkLwEeMWIEde3alZ5++mmqU6cONW7cmPhwDBbgkSNH0gcffEDLli2zcf5axyyVeBBgrWEM3DkEODBCZzqAADsTSkwEBKwgIOUhVsBIRoDLlStHDz74IPXo0YNOnjypjj72BJj3AW7VqhXt3r3bxvlrHbNU4kGAtYYxcOcQ4MAInekAAuxMKDERELCCgJSHWAEjGQHOly8fzZkzR63+xgrwp59+Sk2bNqUjR47YOH+tY5ZKPAiw1jAG7hwCHBihMx1AgJ0JJSYCAlYQkPIQK2AkI8B8CAavAPOWZ7ECPHDgQJo8eTKtW7fOxvlrHbNU4kGAtYYxcOcQ4MAInekAAuxMKDERELCCgJSHWAEjGQEeNmwY9enTR9X78rHHxYsXp6+++kqVPXD5w4ABA+iJJ56wcf5axyyVeBBgrWEM3DkEODBCZzqAADsTSkwEBKwgIOUhVsBIRoD5nieffJLGjh2rdoA4deoU5cyZU3XF4jtq1Cgb5659zFKJBwHWHspAD4AAB8Ln1M0QYKfCicmAgPEEpDzEeBBZDNDXLhDefb/88gstXLhQrfwWK1aM6tatS5dddpmN8xYZs1TiQYBFwpn0QyDASaNz7kYIsHMhxYRAwGgCUh5iNIQ4g/MlwF988YXa8qxQoUKZuvnzzz9p9erVdPPNN9s4f61jlko8CLDWMAbuHAIcGKEzHUCAnQklJgICVhCQ8hArYMQM0pcA58qVS9X8VqtWLdMcWX756/xyHFo0AanEgwCbnXkQYLPjIzk6CLAkbTwLBEBAykNsJO1LgLned/ny5VkKMK8ON2nShP744w8b5691zFKJBwHWGsbAnUOAAyN0pgMIsDOhxERAwAoCUh5iBQy/K8AsvF9++aW6vHPnzuoluIsvvjjq9qNHj9LMmTPVS3F8NDIaVoCRA5kJQICRFR4BCDByAQRAQJIABDg+7bgrwH379iX+xY13fjh9+nSmXvhEuAoVKtC4cePohhtukIypFc+SSjysAJudDhBgs+MjOToIsCRtPAsEQEDKQ2wkHbgEwsZJS41ZKvEgwFIRTe45EODkuLl4FwTYxahiTiBgLgEpDzGXQBIrwN4tXObAJRCtW7fOsgbYxklLjVkq8SDAUhFN7jkQ4OS4uXgXBNjFqGJOIGAuASkPMZdAAAHmWwsXLkwff/wx3XLLLTbOMWVjlko8CHDKQuzrwRBgX5jS4iIIcFqEGZMEAWMISHmIMRNOYCC+SiAaNGhA9erVoy5duiTQNS6VSjwIsNm5BgE2Oz6So4MAS9LGs0AABKQ8xEbSvgSYd4Ro1aqVOva4cePGVKJECfViXGTjk+HQoglIJR4E2OzMgwCbHR/J0UGAJWnjWSAAAlIeYiNpXwLM+wB7LVZ8va/jIIzM4ZdKPAiw2d96EGCz4yM5OgiwJG08CwRAQMpDbCTtS4DffPPNTCu+sZN94IEHbJy/1jFLJR4EWGsYA3cOAQ6M0JkOIMDOhBITAQErCEh5iBUwYgbpS4B1TGzTpk00bNgwdcLcd999R+XLl1f/jVxRHj58OM2ePZs2bNhAJ06coEqVKlHv3r2pbt26UUO65JJLaPPmzZmGeeTIEcqXL1/G1w8dOqR2tJg6dSodO3aM6tSpQ6NHj6YyZcpE3btx40Z18MeSJUuoYMGC1KJFCxo8eDDlz58/IRRSiQcBTigs4hdDgMWRG/tACLCxocHAQMBJAlIeYiO8hAT4119/pWXLltHevXuJa35vvPHGTPLoFwKfINe+fXuqXr06sXDyaXKRAsxHK5cuXZp4Zbl+/frEh27wSvTkyZPpo48+oqZNm2Y8igW4atWq1KlTp6jHc9+RJRt8z5o1a4jFukiRItSrVy86ePAgrV+/PkNu9+/fT1dddZWaV8+ePWnnzp3UsWNHatSoEb3zzjt+p6euk0o8CHBCYRG/GAIsjtzYB0KAjQ0NBgYCThKQ8hAb4fkSYK7vbdu2Lb3xxhtKVL3GtcEPPfQQjR8/niLrhP2A4H68e9q0aUOrVq3KtALMcnrOOedkdMen0V133XVKXhctWhQlwCy3Y8aMifvoFStWUI0aNdSKcpMmTdR1W7ZsoXLlyqlVYJ4ftyFDhtALL7ygVpTPPfdc9bX33nuPWrZsqVai+eQ7v00q8SDAfiOSmusgwKnhbuJTIcAmRgVjAgF3CUh5iI0EfQkwr4QOHTpUHY3M5QClSpWi7du306RJk1RJQteuXTOOTU4GQlYCHK+fhx9+mJYuXUo//fRTQgLM4xw1apRavY5cFa5duzYVKlSIZs2apfrjvY7PPvts4hVqr3G5RNGiRWnAgAGZVpmzm69U4kGAk8k6uXsgwHKsTX8SBNj0CGF8IOAWASkPsZGaLwHmcoDHH3+cunXrlmmOXBv7yiuvZFmD6xeIXwHmVeOKFSvSFVdcQTNmzIgS4AMHDtDhw4dVqcTNN9+sVnK5ZthrzZs3Vyu+XHMc2dq1a0fz588nrknmxlu88ao2zyuy8XOvv/56mjhxot9poQTCNym3L4QAux3fRGYHAU6EFq4FARAISgACHJ+gLwHmF8l4hZRrcWPbggUL6LbbbiM+MjnZ5leAR44cSc888wwtXrxYSa7X+IU1rve9+OKL6ZdfflErtTt27KC1a9dS2bJl1WU89ly5ctG8efOihtmjRw8aN26cWhnmxgLdr1+/TLLP9c4sx9OnT487TS7Z4F9e27Ztmzo+euvWraqeWVfDCrAusuH0CwEOh6MLvUCAXYgi5gAC9hCAAAcU4CuvvFKdBMclBLGN5XPhwoWqPjbZ5keAP//8c+IT6Z566ilVjpFdY/HkXSW4bpfl1hPg3Llz09y5c6Nu7d69u6ph3rNnT4YA9+/fX5V1RLaaNWuq0o9p06bFfXSfPn2yLAWBACebGW7cBwF2I45hzAICHAZF9AECIOCXAAQ4oABPmDBBvSR27733EpcSsAjyCusHH3ygdmVggXz00Uf9xiPTdWcSYN6lgVd8GzZsqOqO4x3GEdnxrbfeSrt37yZ++Y2bRAkEVoCTTgGnb4QAOx3ehCYHAU4IFy4GARAISAACHFCA+XbeKYFLA1gqWUB5R4bzzjtPbSXGdbRBWnYC/PPPP6vt1nj3BS5fyJs3r69H8U4PvKrrCTBegvOFDRdpIAAB1gDV0i4hwJYGDsMGAUsJQIBDEGDugl9C+/HHH2nfvn1qH2B+GS3R7c+yGko8AeadJrj0gLc94xII/q+f9vvvvythvv/++zO2RvO2QeMSCN7TlxuXJnCNcOw2aCz6vA1a8eLF1XW86sy7X2AbND/0cU0sAQgwcsIjAAFGLoAACEgSgACHJMBhBo13bJgzZ47qcuzYscQrvS+99JL6M29FxluT8a4L/HU+gKJkyZJRj+c9fbm9//77am/fxo0b0wUXXKBeghs0aJB6qW316tV06aWXZtzHewXzi3GRB2Hw7hFZHYTBh2tEHoTB5Rc4CCPMDEifviDA6RPrM80UAnwmQvh7EACBMAlAgEMQYF79HDhwoNpGjF8yO//889XBEs8995zamizRxqfKRcpp5P18yAULaLy/52u5BIMbj4e3Z/v++++JT3HjPXz5iGM+zIJXqCMb1+h6RyEfP34826OQO3TooPYbLlCggFr95W3VcBRyolHG9UwAAow88AhAgJELIAACkgQgwAEFmFdYmzVrRhdeeCHdfvvtajswPiKYjyT+7bff1NZg/NIZWjQBqcTDNmhmZx4E2Oz4SI4OAixJG88CARCQ8hAbSfvaB5i3Qbvsssvoww8/jKr55ZrgO+64Q5UpBNkGzUZwfsYslXgQYD/RSN01EODUsTftyRBg0yKC8YCA2wSkPMRGir4EmH/0z/LrvTwWOVHemeGuu+6iI0eO2Dh/rWOWSjwIsNYwBu4cAhwYoTMdQICdCSUmAgJWEJDyECtgxAzSlwDzKWu8UwMfhxzb+Bjk119/nVauXGnj/LWOWSrxIMBawxi4cwhwYITOdAABdiaUmAgIWEFAykOsgJGMAK9atYruu+8+tSvCnXfeSUWLFiXePYFXhfnUNN6JoWrVqjbOX+uYpRIPAqw1jIE7hwAHRuhMBxBgZ0KJiYCAFQSkPMQKGMkIcOHChemvv/5Sv7jlyZMn6veRh1PwIRksx2hEUokHATY72yDAZsdHcnQQYEnaeBYIgICUh9hI2lcJRJ8+fXwdP+wB4FPX0CDAyIH/JQABRiZ4BCDAyAUQAAFJAhDg+LR9CbBksFx6llTiYQXY7KyBAJsdH8nRQYAlaeNZIAACUh5iI+mEBZiPD+Zf11xzDRUsWNDGOYuNWSrxIMBiIU3qQRDgpLA5eRME2MmwYlIgYCwBKQ8xFkA2A/MtwBMmTKC+ffuqU+C4zpd3fahSpYraAq1WrVr01FNP2Th/rWOWSjwIsNYwBu4cAhwYoTMdQICdCSUmAgJWEJDyECtgxAzSlwCPGDGCunbtSk8//bQ6Prhx48bEO0OwAI8cOZI++OADWrZsmY3z1zpmqcSDAGsNY+DOIcCBETrTAQTYmVBiIiBgBQEpD7ECRjICXK5cOXrwwQepR48edPLkSbULhCfAfBBGq1ataPfu3TbOX+uYpRIPAqw1jIE7hwAHRuhMBxBgZ0KJiYCAFQSkPMQKGMkIcL58+WjOnDlq9TdWgD/99FNq2rQpToLLIvpSiQcBNvtbDwJsdnwkRwcBlqSNZ4EACEh5iI2kfZVAXHHFFWoFuFu3bpkEeODAgTR58mRat26djfPXOmapxIMAaw1j4M4hwIEROtMBBNiZUGIiIGAFASkPsQJGMivAw4YNI94LmOt9mzVrRsWLF6evvvpKlT1w+cOAAQPoiSeesHH+WscslXgQYK1hDNw5BDgwQmc6gAA7E0pMBASsICDlIVbASEaA+Z4nn3ySxo4dq3aAOHXqFOXMmVN1xeI7atQoG+eufcxSiQcB1h7KQA+AAAfC59TNEGCnwonJgIDxBKQ8xHgQWQzQVwmEd98vv/xCCxcuVCu/xYoVo7p169Jll11m47xFxiyVeBBgkXAm/RAIcNLonLsRAuxcSDEhEDCagJSHGA0hzuASEuCs+vjpp59oyJAh9Prrr9s4f61jlko8CLDWMAbuHAIcGKEzHUCAnQklJgICVhCQ8hArYMQMMlsB5h0feLuzLVu2EG+Fxvv+eo0PwuAX4GbNmkWFChWi/fv32zh/rWOWSjwIsNYwBu4cAhwYoTMdQICdCSUmAgJWEJDyECtg+BVghsbbm3377bd0+vRpVft7++2309tvv03/+te/aNKkSUp8O3ToQJ06daJzzjnHxvlrHbNU4kGAtYYxcOcQ4MAInekAAuxMKDERELCCgJSHWAHDrwDztmfTp0+n559/nq655hravHkzDRo0iPLnz08bN25U4tu7d2+IbzZRl0o8CLDZ33oQYLPjIzk6CLAkbTwLBEBAykNsJB23BOLSSy+lZ555Ru3+4LWlS5fSzTffTN27d6d+/frZOF/RMUslHgRYNKwJPwwCnDAyZ2+AADsbWkwMBIwkIOUhRk7+DIOKK8B83PHixYupZs2aGV0cO3ZMrQCzCN9www02zld0zFKJBwEWDWvCD4MAJ4zM2RsgwM6GFhMDASMJSHmIkZNPVoB5n9/ly5dTtWrVMrrwjkFevXo1Va5c2cb5io5ZKvEgwKJhTfhhEOCEkTl7AwTY2dBiYiBgJAEpDzFy8kEE+J577qGSJUtmdMEvw/FhGPfeey+dd955GV/nF+T4lDi0aAJSiQcBNjvzIMBmx0dydBBgSdp4FgiAgJSH2Eg6bgnEJZdconZ+8NP4Oj4kAw0CjBzITAACjKzwCECAkQsgAAKSBCDA8WkHPghDMpC2PUsq8bACbHZmQIDNjo/k6CDAkrTxLBAAASkPsZE0BFhj1KQSDwKsMYghdA0BDgGiI11AgB0JJKYBApYQkPIQS3BEDRMCrDFqUokHAdYYxBC6hgCHANGRLiDAjgQS0wABSwhIeYglOCDAUoGSSjwIsFREk3sOBDg5bi7eBQF2MaqYEwiYS0DKQ8wlEH9kWAHWGDWpxIMAawxiCF1DgEOA6EgXEGBHAolpgIAlBKQ8xBIcWAGWCpRU4kGApSKa3HMgwMlxc/EuCLCLUcWcQMBcAlIeYi4BrACnJDZSiQcBTkl4fT8UAuwblfMXQoCdDzEmCAJGEZDyEKMm7XMwvkog5s2bR/v27aMWLVqobrdu3UoPPfQQ/fDDD1SvXj11OEbBggV9PjJ9LpNKPAiw2TkFATY7PpKjgwBL0sazQAAEpDzERtK+BJiPQ27evDl17txZzfGOO+4gPg75vvvuo3feeYdatmxJw4cPt3H+WscslXgQYK1hDNw5BDgwQmc6gAA7E0pMBASsICDlIVbAiBmkLwE+55xz6IMPPqD69evTwYMH1THI7777Lt1999305ptvUt++fek///mPjfPXOmapxIMAaw1j4M4hwIEROtMBBNiZUGIiIGAFASkPsQJGMgJcuHBhmjFjBtWtW5c+/vhjatasGe3du5cKFSpEX3zxBTVs2JCOHDli4/y1jlkq8SDAWsMYuHMIcGCEznQAAXYmlJgICFhBQMpDrICRjABXrVqVKlWqRKNHj1Z1wLwKvHjxYtXV5MmTqVOnTsSQ0aIJSCUeBNjszIMAmx0fydFBgCVp41kgAAJSHmIjaV8lEB999BHdc889dOLECcqVK5daBW7QoIGab5s2bdRqMF+DBgFGDmQmAAFGVngEIMDIBRAAAUkCEOD4tH0JMN/+yy+/0Nq1a+nqq6+myy67LKPHCRMmqK/VqFFDMqZWPEsq8bACbHY6QIDNjo/k6CDAkrTxLBAAASkPsZG0bwG2cXKpHrNU4kGAUx3p7J8PATY7PpKjgwBL0sazQAAEpDzERtK+BXj37t00bNgwWrlypdoH+MMPP6SKFSvSyJEjqXr16lgBziL6UokHATb7Ww8CbHZ8JEcHAZakjWeBAAhIeYiNpH0J8Jo1a6hOnTpUpEgRuummm2jSpElKhKtUqUJdunShzZs3q5fhEmmbNm1SQr18+XL67rvvqHz58uq/sW3OnDnUvXt3dehG6dKlqWPHjvTEE09kuo77GjNmDG3fvl29sPfiiy9SrVq1oq47dOiQ2st46tSpdOzYMTUnfrGvTJkyUddt3LiRnnzySVqyZIk64INf/Bs8eDDlz58/kSmqFwMvuugi9YGBx66rQYB1kQ2nXwhwOBxd6AUC7EIUMQcQGhj7kgAAIABJREFUsIeAlIfYQ+T/j9SXAN9yyy1KBGfOnEk5cuSgvHnz0qpVq5QAT5s2TUkpS3Aijftq3769Wj1m4Tx16lQmAf7qq6/o5ptvptatW1OrVq1o2bJl1Lt3b3r11VfpkUceyXgcy+/zzz9PAwcOVGN67bXX1LZtX3/9tZJhrzVt2pRY5vnQDpb5Xr16qR0t1q9fnyG3+/fvp6uuukpJcc+ePWnnzp1qfo0aNVKHfiTSpBIPApxIVOSvhQDLMzf1iRBgUyODcYGAmwSkPMRGer4EuECBAjR9+nQlgSdPnqQ8efJkCHCy+wCz8ObMmVMx450kWKhjV4AbN26sdphYsWJFBtvHHntM7ULBQeX7eSW3ZMmSxF8fOnSouo7HyOLLL+fxajU37oNf1Js9ezY1adJEfW3Lli1Urlw5tQrctm1b9bUhQ4bQCy+8oIT+3HPPVV9777331Gl3GzZsoAoVKviOs1TiQYB9hyQlF0KAU4LdyIdCgI0MCwYFAs4SkPIQGwH6EmA++W3s2LHqOORYAeZV0W7dugXaBzgrAWax5VVaLj145plnMth+/vnnqrSBhfnaa6+lRYsWqVIGXtmtXLlyxnV8Oh2v9B44cECtWvPK8ahRo5RQ85+9Vrt2bXWgx6xZs9SXeLX77LPPVqvdXuOxFC1alAYMGKD2PPbbpBIPAuw3Iqm5DgKcGu4mPhUCbGJUMCYQcJeAlIfYSNCXAHP5AZcJsGyyHPIK8OrVq1XdLpcosHjydmjJtqwEmFdb+SW7uXPnqpVnr+3atYtKlChBb7/9tiqLGDduHLVr144OHz4cVaM7ZcoUJexe/S3/nld8ueY4svG98+fPJ65J5sZ9P/TQQ0q8IxuP5frrr6eJEyf6nqZU4kGAfYckJRdCgFOC3ciHQoCNDAsGBQLOEpDyEBsB+hLg3377jWrWrKnqZXnFlOtrWUpZUnk1laWSxTHZlpUAc73vjTfeSFwHHLnHMB/GwQLOu0/wi2q8KtuvXz86evRo1OMXLlxI9evXp3Xr1qlSCP49H+Ixb968qOt69OihJJpXhrlx39wfr2pHNh4Lz5FLQeI15sO/vLZt2zaqVq0aXoJLNjEcuQ8C7EggQ5gGBDgEiOgCBEDANwEIcHxUvgSYb+eXw15++WVasGAB8ZZoxYoVo3r16qkXxPj3QVp2AsxyzS/Kec0TYC5n6NChgxLg/v3705EjR6KGwOPk0+p45ZrrgVmAc+fOrVaUIxvvMDF+/Hjas2dPhgBzf127do26jj8AlCpVSr30F6/16dOHuPQitmEXiCDZYf+9EGD7YxjWDCDAYZFEPyAAAn4IQIBDEGA/oJO9JowSCBbgfPnyZQwhFSUQWAFONgPcvg8C7HZ8E5kdBDgRWrgWBEAgKAEIsAYBXrp0Kf34449qX+ArrrgiUIzwElwgfIQa4GD8dN8NAdZN2J7+IcD2xAojBQEXCECAAwrwP//5TzrrrLPojTfeUD1xyYB3GAV/nbclq1u3btK5kt02aFx6wXXAXuPtyj766KNM26Dx170X13inCq775dKH2G3QIl+q49KEsmXLZtoGjWuAeRu04sWLq8dyH3wYBrZBSzrEaX0jBDitwx81eQgwcgEEQECSAAQ4oABffPHF6tQ23kmBGx8S0bBhQ3rppZfo8ccfV7LI+wEn0njXBj7ljRtvsfbzzz+r/rjxVmS89Zp3EAYLMu/Dyy/G8eEV8Q7CGDRokDoIg3dq4JfVsjoIY+3atVEHYfA2aVkdhHHJJZdEHYTB88VBGIlEGNd6BCDAyAWPAAQYuQACICBJAAIcUID5COBPPvlElTt8//33amX122+/VduU8W4L99xzD+3bty+hmP7666906aWXZnkPb7fmHWPMksynvEUehcxbl0W206dPK0Hno5B37NihxseHYvCOFZGNa3S9o5CPHz+e7VHI/IIdl3nwISC8+ssHZOAo5IRCjIv/jwAEGKkAAUYOgAAIpIIABDigAJcuXVqVF/C+u3y4BK/U8tZo3HgPXV4Z5pVUtGgCUomHGmCzMw8CbHZ8JEeHFWBJ2ngWCICAlIfYSNrXNmiPPvqoKlfgWuA333yT7r///oxyBRZiPpTim2++sXH+WscslXgQYK1hDNw5BDgwQmc6gAA7E0pMBASsICDlIVbAiBmkLwHm1V0+jnjlypWqxpZLDQoXLqy64gMi+FfsyWk2wgh7zFKJBwEOO3Lh9gcBDpenzb1BgG2OHsYOAvYRkPIQ+8gQ+RJgGydmwpilEg8CbEK0448BAmx2fCRHBwGWpI1ngQAISHmIjaQhwBqjJpV4EGCNQQyhawhwCBAd6QIC7EggMQ0QsISAlIdYgiNqmL4FmLc5mzBhAm3cuJGOHj2aaa68lRhaNAGpxIMAm515EGCz4yM5OgiwJG08CwRAQMpDbCTtS4B5p4dbb72V6tWrp7ZDa9y4MfHRw7wvL+8Qwfv2vv766zbOX+uYpRIPAqw1jIE7hwAHRuhMBxBgZ0KJiYCAFQSkPMQKGDGD9CXANWrUUC+68V64efLkoVWrVqmX4fgAjEaNGlH37t3VFmloWAFGDmQmAAFGVngEIMDIBRAAAUkCEOD4tH0JcNGiRdXJanXq1KHcuXPT4sWL1aEY3CZPnky9e/emH3/8UTKmVjxLKvGwAmx2OkCAzY6P5OggwJK08SwQAAEpD7GRtC8BLlmypDoGuH79+qrkoX///sTHE3ObPXu2Ogjjzz//tHH+WscslXgQYK1hDNw5BDgwQmc6gAA7E0pMBASsICDlIVbAiBmkLwFu0KAB3X777dS+fXt64IEH6Msvv6SXX35ZlUN069aNzjrrLFq+fLmN89c6ZqnEgwBrDWPgziHAgRE60wEE2JlQYiIgYAUBKQ+xAkYyAsynwP3nP/+hdu3aqSOQb7vttoyT33hF+MMPP6Rrr73WxvlrHbNU4kGAtYYxcOcQ4MAInekAAuxMKDERELCCgJSHWAEjGQGOndjp06dp06ZNaieI8uXLU968eW2cu/YxSyUeBFh7KAM9AAIcCJ9TN0OAnQonJgMCxhOQ8hDjQWQxQF8lEDZOzIQxSyUeBNiEaMcfAwTY7PhIjg4CLEkbzwIBEJDyEBtJxxXgdevWqbKGGTNmUNOmTbOcG5dG3HHHHaomuGrVqjbOX+uYpRIPAqw1jIE7hwAHRuhMBxBgZ0KJiYCAFQSkPMQKGDGDjCvArVu3Vjs7TJs2Ldt58Q4Q/DLcu+++a+P8tY5ZKvEgwFrDGLhzCHBghM50AAF2JpSYCAhYQUDKQ6yA4VeAL7zwQhoxYgTdc8892c5rypQp9MwzzxBDRosmIJV4EGCzMw8CbHZ8JEcHAZakjWeBAAhIeYiNpOOuAPOLbZ999pk6AS67tnTpUqpbty4dO3bMxvlrHbNU4kGAtYYxcOcQ4MAInekAAuxMKDERELCCgJSHWAHD7wpwqVKl1F6/LVq0yHZekyZNoqeffpq2b99u4/y1jlkq8SDAWsMYuHMIcGCEznQAAXYmlJgICFhBQMpDrIDhV4D/8Y9/0P79++nTTz/Ndl716tUjPir5TLXCNsIJOmapxIMAB42U3vshwHr52tQ7BNimaGGsIGA/ASkPsZFU3BKIr776im666SZq2bKlWgkuVqxY1Pz27dunan/55bclS5ZQjRo1bJy/1jFLJR4EWGsYA3cOAQ6M0JkOIMDOhBITAQErCEh5iBUw/K4A83UTJkygDh06UM6cOdU2ZxdddBHlyJGDtmzZQitXrqSTJ0/S2LFj6dFHH7Vx7trHLJV4EGDtoQz0AAhwIHxO3QwBdiqcmAwIGE9AykOMB5HFAM94EMa3335LI0eOpM8//1wdg8yNd4ioXbs2Pfnkk3TVVVfZOG+RMUslHgRYJJxJPwQCnDQ6526EADsXUkwIBIwmIOUhRkOIM7gzCrCNkzJlzFKJBwE2JeJZjwMCbHZ8JEcHAZakjWeBAAhIeYiNpCHAGqMmlXgQYI1BDKFrCHAIEB3pAgLsSCAxDRCwhICUh1iCI2qYEGCNUZNKPAiwxiCG0DUEOASIjnQBAXYkkJgGCFhCQMpDLMEBAZYKlFTiQYClIprccyDAyXFz8S4IsItRxZxAwFwCUh5iLoH4I8MKsMaoSSUeBFhjEEPoGgIcAkRHuoAAOxJITAMELCEg5SGW4PC3AtyxY0e1zy9vffbFF19QlSpVqFChQjbOMWVjlko8CHDKQuzrwRBgX5jS4iIIcFqEGZMEAWMISHmIMRNOYCBxV4Bz5cpFfBhGtWrVKPL3CfSd9pdKJR4E2OxUgwCbHR/J0UGAJWnjWSAAAlIeYiPpuAJ8wQUX0HPPPZdxEMaKFSvUYRho/glIJR4E2H9MUnElBDgV1M18JgTYzLhgVCDgKgEpD7GRX1wB7tKlCw0bNkyd/HamxtecOHHiTJel3d9LJR4E2OzUggCbHR/J0UGAJWnjWSAAAlIeYiPpbF+C++STT2jDhg3E9cB8JPLFF18cd46dOnWycf5axyyVeBBgrWEM3DkEODBCZzqAADsTSkwEBKwgIOUhVsCIGaSvXSD42ONXXnmFypcvb+McUzZmqcSDAKcsxL4eDAH2hSktLoIAp0WYMUkQMIaAlIcYM+EEBuJLgCP7O336NP3xxx9qRwg/5REJjMW5S6USDwJsdupAgM2Oj+ToIMCStPEsEAABKQ+xkbRvAf7888+pb9++9OWXX9Jff/1FefLkoZo1a1KfPn3opptusnHu2scslXgQYO2hDPQACHAgfE7dDAF2KpyYDAgYT0DKQ4wHkcUAfQnwggULqEmTJnT55ZdT8+bNqVSpUrRt2zaaOnUqbdy4kebMmUP16tWzcf5axyyVeBBgrWEM3DkEODBCZzqAADsTSkwEBKwgIOUhVsCIGaQvAa5evbqS3hkzZkSVPXA5xJ133kk7duyg5cuX2zh/rWOWSjwIsNYwBu4cAhwYoTMdQICdCSUmAgJWEJDyECtgJCPABQoUoOnTp1OjRo0yzXHevHnUrFkzOnz4sI3z1zpmqcSDAGsNY+DOIcCBETrTAQTYmVBiIiBgBQEpD7ECRjICXKJECRo0aBA9/PDDmeY4ceJEev7552nnzp02zl/rmKUSDwKsNYyBO4cAB0boTAcQYGdCiYmAgBUEpDzEChjJCPAjjzxCM2fOpHfeeYcaNmyY0QXvE3z//ffT7bffTq+99pqN89c6ZqnEgwBrDWPgziHAgRE60wEE2JlQYiIgYAUBKQ+xAkYyArxv3z5V/rBy5UoqUqQIlSxZUtX9Hjp0SB2PzGUQZ599to3z1zpmqcSDAGsNY+DOIcCBETrTAQTYmVBiIiBgBQEpD7ECRjICzPecOnWKPv74Y1q6dCmxEBcrVoxuvPFGuvXWWylnzpza5l6rVi3iLdiyau+//z7dd9991KZNG3rrrbcyXTJ37txMdct8vPOYMWNo+/btVKlSJXrxxReJnxHZWOw7d+6sdrk4duwY1alTh0aPHk1lypRJaJ5SiQcBTigs4hdDgMWRG/tACLCxocHAQMBJAlIeYiM8X7tApHJifBTzwYMHo4YwYsQImjZtmtqK7dxzz1UCvGTJEnr33XejrqtQoQIVLVo042ssv1yvPHDgQKpSpYoq2+CdLb7++mslw15r2rQprVmzhoYPH65WvHv16qXGsH79esqfP79vHFKJBwH2HZKUXAgBTgl2Ix8KATYyLBgUCDhLQMpDbARovABnBbVs2bLEcjt79mz11yzAq1atou+++y5uDHgll0s3HnvsMRo6dKi67uTJk0p8r776apo0aZL62ooVK6hGjRqqb977mNuWLVuoXLlyahW4bdu2vuMslXgQYN8hScmFEOCUYDfyoRBgI8OCQYGAswSkPMRGgNYJMJ9ExyfQ8WrvP//5T98CvGjRIlXKwCu7lStXzogVn27HK70HDhxQexz37t2bRo0aRXv37o3a87h27drq+OdZs2b5jrNU4kGAfYckJRdCgFOC3ciHQoCNDAsGBQLOEpDyEBsBWifA7du3pzfeeENtu1awYMEMAZ48eTKdddZZaj9iXtXt2bOnOqTDa+PGjaN27dqpv48sY5gyZYo63W7r1q1UunRp9Xte8Y092IPvnT9/Pm3atMl3nKUSDwLsOyQpuRACnBLsRj4UAmxkWDAoEHCWgJSH2AjQKgE+ceIEXXjhhVS3bl167733MniPHDmScufOTRUrVqT9+/fTK6+8QrxFG8vt3Xffra4bMGAA9evXj44ePRoVp4ULF1L9+vVp3bp1qhSCf58rVy61s0Vk69GjB7FE88pwvMZ1wpH1ylyjXK1atQy51pUgEGBdZMPpFwIcDkcXeoEAuxBFzAEE7CEAAY4fqzMKMAvjs88+q/b7ZZlLZeNdHbgul8sQ+EW1eI13rLjhhhuUjPJLdJ4A9+/fn44cORJ124IFC6hBgwbqBTdeOWYBZpnmZ0W27t270/jx42nPnj1xn9unTx/ikorY5q0u62IHAdZFNpx+IcDhcHShFwiwC1HEHEDAHgIQ4AACzLdy7Su/FHbLLbekNOos4SymvLKaJ0+ebMfC25t16dIlo+TBK4FgAc6XL1/GvWGWQGAFOKXpYezDIcDGhkZ8YBBgceR4IAikNQEIcEAB5hXSevXqKaFMVWNx5V0cWrZsqUocztR4p4euXbtmCDBegjsTMfy9LgIQYF1k7esXAmxfzDBiELCZAAQ4oADzC2GtWrWiJ554gho3bkwlSpSI2iGBu+eDMXQ2fsmND7344osv6Kabbsr2UVwCwVuZ8Qtv3tZo3jZovI3Z4MGD1f28DRrX/XLpQ+w2aJGHaHAJA2+9hm3QdEbY3b4hwO7GNtGZQYATJYbrQQAEghCAAAcU4MiT3nirsKway6TOdscdd9A333xDv/76a5R8b968We0D3KJFC7VXL59SxyvEvOLLh2XcddddGcPyDsIYNGiQOghj4sSJNH369CwPwli7dm3UQRi8TRoOwtAZYXf7hgC7G9tEZwYBTpQYrgcBEAhCAAIcUIDffPPNTCu+sV0+8MADQWKU7b0staVKlaKnn36ahgwZEnUt78rw4IMP0urVq2nXrl2UN29euu6666hbt27UsGHDqGtPnz5N3lHIO3bsUCu/XCrBe/xGNq7l9Y5CPn78OI5C1hbZ9OgYApwecfYzSwiwH0q4BgRAICwCEOCAAhxWINKtH6nEwy4QZmcWBNjs+EiODgIsSRvPAgEQkPIQG0mfcRu0yEnxSizX1HJNLNcCn3POOWpfXV51jSyTsBGEjjFLJR4EWEf0wusTAhweS9t7ggDbHkGMHwTsIiDlIXZR+d/R+hJgru/lk9X4iGB+sYzrgFeuXKnqaHlf3urVq6sjhNGiCUglHgTY7MyDAJsdH8nRQYAlaeNZIAACUh5iI2lfAsynoLH8cv0t18teeeWVtGrVKiXAfDgEv0zGf0aDACMHMhOAACMrPAIQYOQCCICAJAEIcHzavgS4dOnS6qWy9u3bq63D+BAKT4D5JLXmzZur3RfQIMDIAQgwciA+AQgwsgMEQECSAAQ4oADnz5+fPv74Y6pbt24mAZ4/fz794x//oD/++EMyplY8SyrxUAJhdjpgBdjs+EiODgIsSRvPAgEQkPIQG0n7WgG+5ppr1EtvfIBE7AowrwwvXryY+LAMNKwAIwewAowcwAowcgAEQMAMAhDggCvAvA/wo48+qsog7r77bqpcuTLNmDFD7Qbx7LPPEv89l0GgQYCRAxBg5AAEGDkAAiBgBgEIcEAB5ttfeukl6tOnD/3555/EB0pwK1CgAL3wwgvUsWNHMyJt2CikEg8lEIYFPmY4KIEwOz6So0MJhCRtPAsEQEDKQ2wk7asEwpsY1/kuW7aM9uzZQ8WKFaMbbriBihQpYuO8RcYslXgQYJFwJv0QCHDS6Jy7EQLsXEgxIRAwmoCUhxgNIc7gEhJgGyeYyjFLJR4EOJVRPvOzIcBnZpQuV0CA0yXSmCcImEFAykPMmG1io/AtwLt376YRI0aol922bdtG559/PtWoUYOeeuopOu+88xJ7appcLZV4EGCzEwoCbHZ8JEcHAZakjWeBAAhIeYiNpH0J8IoVK6hRo0ZqB4g6depQiRIlaOfOnfTZZ5+pU+E++eQTdRocWjQBqcSDAJudeRBgs+MjOToIsCRtPAsEQEDKQ2wk7UuAr7vuOsqXLx/Nnj2bihYtmjHPAwcOqO3R/vrrL3U0MhoEGDmQmQAEGFnhEYAAIxdAAAQkCUCA49P2JcB8EMaUKVOoadOmmXr66KOP6N5776UjR45IxtSKZ0klHlaAzU4HCLDZ8ZEcHQRYkjaeBQIgIOUhNpL2JcCVKlWirl27UqtWrTLN8e2331YHZHz//fc2zl/rmKUSDwKsNYyBO4cAB0boTAcQYGdCiYmAgBUEpDzEChgxg/QlwPPmzaN27drR66+/TrfccktGF3wC3MMPP0xjxoxRpRBo0QSkEg8CbHbmQYDNjo/k6CDAkrTxLBAAASkPsZF0XAHmVV9+wc1rv//+O+3bt0/VAPOuD7t27SKuAT7nnHPoggsuoPXr19s4f61jlko8CLDWMAbuHAIcGKEzHUCAnQklJgICVhCQ8hArYPhdAW7Tpk2UAJ9pcm+88caZLkm7v5dKPAiw2akFATY7PpKjgwBL0sazQAAEpDzERtK+SiBsnJgJY5ZKPAiwCdGOPwYIsNnxkRwdBFiSNp4FAiAg5SE2koYAa4yaVOJBgDUGMYSuIcAhQHSkCwiwI4HENEDAEgJSHmIJjqhh+hZgPgGOt0LbunUrHT16NLqTHDlo5syZNs5f65ilEg8CrDWMgTuHAAdG6EwHEGBnQomJgIAVBKQ8xAoYMYP0JcAjR46kZ555Rp0AV65cOcqbN2+muS5atMjG+Wsds1TiQYC1hjFw5xDgwAid6QAC7EwoMREQsIKAlIdYASMZAb7ooovorrvuohEjRlDOnDltnGdKxiyVeBDglITX90MhwL5ROX8hBNj5EGOCIGAUASkPMWrSPgfjawW4ePHi9MEHH1DdunV9dovLmIBU4kGAzc43CLDZ8ZEcHQRYkjaeBQIgIOUhNpL2JcCPP/44FSxYkIYNG2bjHFM2ZqnEgwCnLMS+HgwB9oUpLS6CAKdFmDFJEDCGgJSHGDPhBAbiS4CPHTumTnw7deoU1atXj84+++xMj2jWrFkCj02PS6USDwJsdj5BgM2Oj+ToIMCStPEsEAABKQ+xkbQvAV67dq2qAd6yZUuWc+QT406ePGnj/LWOWSrxIMBawxi4cwhwYITOdAABdiaUmAgIWEFAykOsgBEzSF8CXKVKFTpx4gQNGjSILr/88ix3gShTpoyN89c6ZqnEgwBrDWPgziHAgRE60wEE2JlQYiIgYAUBKQ+xAkYyAlygQAGaPn06NWrUyMY5pmzMUokHAU5ZiH09GALsC1NaXAQBToswY5IgYAwBKQ8xZsIJDMTXCnCNGjXoiSeeoNatWyfQNS6VSjwIsNm5BgE2Oz6So4MAS9LGs0AABKQ8xEbSvgR4zZo16iW4oUOHUu3atSl37tw2zlV8zFKJBwEWD21CD4QAJ4TL6YshwE6HF5MDAeMISHmIcRP3MSBfAly4cGH666+/1C8+CCN//vxRXfNLcAcOHPDxuPS6RCrxIMBm5xUE2Oz4SI4OAixJG88CARCQ8hAbSfsS4D59+hBLbnatd+/eNs5f65ilEg8CrDWMgTuHAAdG6EwHEGBnQomJgIAVBKQ8xAoYMYP0JcA2TsyEMUslHgTYhGjHHwME2Oz4SI4OAixJG88CARCQ8hAbSUOANUZNKvEgwBqDGELXEOAQIDrSBQTYkUBiGiBgCQEpD7EER9QwfQlwnTp1zji3zz777IzXpNsFUokHATY7syDAZsdHcnQQYEnaeBYIgICUh9hI2pcAN23aNFMN8N69e2n9+vXqWOTKlSvTRx99ZOP8tY5ZKvEgwFrDGLhzCHBghM50AAF2JpSYCAhYQUDKQ6yAETNIXwIcb2I7d+6k22+/nTp16kT33HOPjfPXOmapxIMAaw1j4M4hwIEROtMBBNiZUGIiIGAFASkPsQJGmALMfX344YfUrVs3+umnn2ycv9YxSyUeBFhrGAN3DgEOjNCZDiDAzoQSEwEBKwhIeYgVMMIW4GnTptGDDz5IBw8etHH+WscslXgQYK1hDNw5BDgwQmc6gAA7E0pMBASsICDlIVbASEaA+SS42Hb8+HH64YcfqG/fvvS3v/2NFi5cGPr833zzTSXXsa1r1640ePDgjC/PmTOHunfvrsZTunRp6tixozq6ObYNGzaMxowZQ9u3b6dKlSrRiy++SLVq1Yq67NChQ9S5c2eaOnUqHTt2jPgFwNGjR1OZMmUSnp9U4kGAEw6N6A0QYFHcRj8MAmx0eDA4EHCOgJSH2AjOVw0wn/4WexDG6dOn1XyrV69O7733Hl166aWhz98T4Hnz5lHRokUz+r/wwgvpoosuUn/+6quv6Oabb6bWrVtTq1ataNmyZcSHcrz66qv0yCOPZNzD8vv888/TwIEDqUqVKvTaa6/RjBkz6Ouvv1Yy7DV+4Y+Ff/jw4VSkSBHq1auXWt3mF/5iT8A704SlEg8CfKZIpPbvIcCp5W/S0yHAJkUDYwEB9wlIeYiNJH0J8Oeff55pbvny5VOrrSyjuponwLt27aJzzz03y8c0btyYeEeKFStWZPz9Y489Rh9//DFx4FneeSW3ZMmSxF8fOnSouu7kyZNKfK+++mqaNGmS+hr3UaNGDZo9ezY1adJEfW3Lli1Urlw5tQrctm3bhKYqlXgQ4ITCIn4xBFgcubEPhAAbGxoMDAScJCDlITbC8yXAqZrYmQSYxZZXabkc4plnnskYJgs7lzasWrWKrr32Wlq0aJEqZeCVXd6yzWtcvsErvQcOHFAr3LxyPGqMDfQ3AAAgAElEQVTUKCXUkSvetWvXpkKFCtGsWbMSQiGVeBDghMIifjEEWBy5sQ+EABsbGgwMBJwkIOUhNsKzQoBLlChBu3fvVnW4jz76KHXp0oVy5cpFGzZsoIoVK9LcuXOpUaNGGfx5xZjvefvtt1VZxLhx46hdu3Z0+PDhqDKGKVOmUPPmzWnr1q1qNZt/zyu+y5cvj4ol3zt//nzatGlTQjGWSjwIcEJhEb8YAiyO3NgHQoCNDQ0GBgJOEpDyEBvhxRXgwoULZ6r7jTdBXi3lVdSwG0snlyVwnTE/gw/beOWVV+jxxx9XL7Nxve+NN96o6oC5dMFrJ06coDx58tDIkSPpySefpAEDBlC/fv3o6NGjUUPkF/fq169P69atU6UQ/HsWa645jmw9evRQEs0rw9k1rhWO3A1j27ZtVK1atQzBDpuP1x8EWBfZcPqFAIfD0YVeIMAuRBFzAAF7CECA48cqrgD36dPnjAK8dOlS+vTTT9V1XFMr0Z599ll6+eWXlVT+8ssvSoB5xZYlOVaAuZyhQ4cOSoD79+9PR44ciRriggULqEGDBuoFN64HZgHOnTu3WlGObLzDxPjx42nPnj3ZTpGZcVlFbPNWmHXxgQDrIhtOvxDgcDi60AsE2IUoYg4gYA8BCHASApxdeHnllWWP5ZdXTnmnhGbNmolkxMqVK9WqKm99xiURiZRAsADzy3teC7sEAivAIilg3UMgwNaFTNuAIcDa0KJjEACBLAhAgEMS4CVLlqgVTn6p7JprrlHie+edd4omHW9bxqu9LMD8YhtegiPCCrBoCib8MAhwwsicvQEC7GxoMTEQMJIABDigAH/xxRdqxXfx4sVqD10W39tvvz0lwe7UqZOq7eWglipVingbtP3796s6YK/xdmVcLxy7DRp/3TtAg0s2ePWaSx9it0GLfKmOyxfKli2LbdBSEm03HgoBdiOOYcwCAhwGRfQBAiDglwAEOEkBZuHlFV/eVqxq1apKfG+99Va/3ANf17BhQ6pbty5dddVVqi+W2gkTJtBTTz2l6oC5eQdhtGnThlq2bKlejONxxjsIY9CgQUriJ06cSNOnT8/yIIy1a9dGHYTBL/jhIIzA4UzbDiDAaRv6TBOHACMXQAAEJAlAgJMQYN5Hl0seuNyAhTJymzGp4LHo8mosB/DUqVN0+eWXq9Pd+MW2yH16uRyCT3mLPAqZty6LbHxynXcU8o4dO9TKLx+KwXv8Rjau4/WOQubjnnEUslS03X0OBNjd2CY6MwhwosRwPQiAQBACEOAkBJhPUONWsGDBM+4GoWsbtCBBN+FeqcRDDbAJ0Y4/Bgiw2fGRHB0EWJI2ngUCICDlITaSjrsNWlbbeWU3QT5FDS2agFTiQYDNzjwIsNnxkRwdBFiSNp4FAiAg5SE2kjb6JDgbgUaOWSrxIMBmZwoE2Oz4SI4OAixJG88CARCQ8hAbSUOANUZNKvEgwBqDGELXEOAQIDrSBQTYkUBiGiBgCQEpD7EER9QwIcAaoyaVeBBgjUEMoWsIcAgQHekCAuxIIDENELCEgJSHWIIDAiwVKKnEgwBLRTS550CAk+Pm4l0QYBejijmBgLkEpDzEXALxR4YVYI1Rk0o8CLDGIIbQNQQ4BIiOdAEBdiSQmAYIWEJAykMswYEVYKlASSUeBFgqosk9BwKcHDcX74IAuxhVzAkEzCUg5SHmEsAKcEpiI5V4EOCUhNf3QyHAvlE5fyEE2PkQY4IgYBQBKQ8xatI+B4MSCJ+gkrlMKvEgwMlER+4eCLAca9OfBAE2PUIYHwi4RUDKQ2ykBgHWGDWpxIMAawxiCF1DgEOA6EgXEGBHAolpgIAlBKQ8xBIcUcOEAGuMmlTiQYA1BjGEriHAIUB0pAsIsCOBxDRAwBICUh5iCQ4IsFSgpBIPAiwV0eSeAwFOjpuLd0GAXYwq5gQC5hKQ8hBzCcQfGVaANUZNKvEgwBqDGELXEOAQIDrShZQAd/1xmSPE3JzGkPI13ZwYZmUcASkPMW7iPgYEAfYBKdlLpBIPApxshGTugwDLcLbhKRBgG6Kkf4wQYP2M8YT/JSDlITbyhgBrjJpU4kGANQYxhK4hwCFAdKQLCLAjgQw4DQhwQIC43TcBKQ/xPSCDLoQAawyGVOJBgDUGMYSuIcAhQHSkCwiwI4EMOA0IcECAuN03ASkP8T0ggy6EAGsMhlTiQYA1BjGEriHAIUB0pAsIsCOBDDgNCHBAgLjdNwEpD/E9IIMuhABrDIZU4kGANQYxhK4hwCFAdKQLCLAjgQw4DQhwQIC43TcBKQ/xPSCDLoQAawyGVOJBgDUGMYSuIcAhQHSkCwiwI4EMOA0IcECAuN03ASkP8T0ggy6EAGsMhlTiQYA1BjGEriHAIUB0pAsIsCOBDDgNCHBAgLjdNwEpD/E9IIMuhABrDIZU4kGANQYxhK4hwCFAdKQLCLAjgQw4DQhwQIC43TcBKQ/xPSCDLoQAawyGVOJBgDUGMYSuIcAhQHSkCwiwI4EMOA0IcECAuN03ASkP8T0ggy6EAGsMhlTiQYA1BjGEriHAIUB0pAsIsCOBDDgNCHBAgLjdNwEpD/E9IIMuhABrDIZU4kGANQYxhK4hwCFAdKQLCLAjgQw4DQhwQIC43TcBKQ/xPSCDLoQAawyGVOJBgDUGMYSuIcAhQHSkCwiwI4EMOA0IcECAuN03ASkP8T0ggy6EAGsMhlTiQYA1BjGEriHAIUB0pAsIsCOBDDgNCHBAgLjdNwEpD/E9IIMuhABrDIZU4kGANQYxhK4hwCFAdKQLCLAjgQw4DQhwQIC43TcBKQ/xPSCDLoQAawyGVOJBgDUGMYSuIcAhQHSkCwiwI4EMOA0IcECAuN03ASkP8T0ggy6EAGsMhlTiQYA1BjGEriHAIUB0pAsIsCOBDDgNCHBAgLjdNwEpD/E9IIMuhABrDIZU4kGANQYxhK4hwCFAdKQLCLAjgQw4DQhwQIC43TcBKQ/xPSCDLoQAawyGVOJBgDUGMYSuIcAhQHSkCwiwI4EMOA0IcECAuN03ASkP8T0ggy6EAGsMhlTiQYA1BjGEriHAIUB0pAsIsCOBDDgNCHBAgLjdNwEpD/E9IIMuhABrDIZU4kGANQYxhK4hwCFAdKQLCLAjgQw4DQhwQIC43TcBKQ/xPSCDLoQAawyGVOJBgDUGMYSuIcAhQHSkCwiwI4EMOA0IcECAuN03ASkP8T0ggy6EAGsMhlTiQYA1BjGEriHAIUB0pAsIsCOBDDgNCHBAgLjdNwEpD/E9IIMuhABrDIZU4kGANQYxhK4hwCFAdKQLCLAjgQw4DQhwQIC43TcBKQ/xPSCDLoQAawyGVOJBgDUGMYSuIcAhQHSkCwiwI4EMOA0IcECAuN03ASkP8T0ggy6EAGsMhlTiQYA1BjGEriHAIUB0pAsIsCOBDDgNCHBAgLjdNwEpD/E9IIMuhABrDIZU4kGANQYxhK4hwCFAdKQLCLAjgQw4DQhwQIC43TcBKQ/xPSCDLoQAawyGVOJBgDUGMYSuIcAhQHSkCwiwI4EMOA0IcECAuN03ASkP8T0ggy6EAGsMhlTiQYA1BjGEriHAIUB0pAsIsCOBDDgNCHBAgLjdNwEpD/E9IIMuNFqAp0yZQu+++y6tXr2a9u7dS+XKlaPHH3+c/vWvf1HOnDkVxjZt2tBbb72VCencuXOpUaNGUV8fNmwYjRkzhrZv306VKlWiF198kWrVqhV1zaFDh6hz5840depUOnbsGNWpU4dGjx5NZcqUSThsUokHAU44NKI3QIBFcRv9MAiw0eERGxwEWAx12j9IykNsBG20ANeoUUOJ51133UUlS5akRYsW0aBBg+jpp59W8uoJ8JIlS5QoR7YKFSpQ0aJFM77E8vv888/TwIEDqUqVKvTaa6/RjBkz6Ouvv1Yy7LWmTZvSmjVraPjw4VSkSBHq1asXHTx4kNavX0/58+dPKMZSiQcBTigs4hdDgMWRG/tACLCxoREdGARYFHdaP0zKQ2yEbLQA79q1i84777worh07dqRXXnmF9u/fT2eddZZaAV61ahV99913cfnzSi4L9GOPPUZDhw5V1508eVKJ79VXX02TJk1SX1uxYgWxdM+ePZuaNGmivrZlyxa18syrwG3btk0oxlKJBwFOKCziF0OAxZEb+0AIsLGhER0YBFgUd1o/TMpDbIRstABnBfTtt9+m1q1b0++//07nn3++LwHmlWMuZeCV3cqVK2d027dvX7XSe+DAAcqRIwf17t2bRo0apcot+M9eq127NhUqVIhmzZqVUIylEg8CnFBYxC+GAIsjN/aBEGBjQyM6MAiwKO60fpiUh9gI2ToB5lXcadOm0c6dOylXrlxKgCdPnqxWgw8fPqxWdXv27El33nlnRjzGjRtH7dq1U38fWcbANcbNmzenrVu3UunSpdXvecV3+fLlUbHke+fPn0+bNm1KKMZSiQcBTigs4hdDgMWRG/tACLCxoREdGARYFHdaP0zKQ2yEbJUAc6nD9ddfr1Zqe/TooXiPHDmScufOTRUrVlRlEVwe8cknnxDL7d13362uGTBgAPXr14+OHj0aFaOFCxdS/fr1ad26daoUgn/PUj1v3ryo6/hZLNG8Mpxd41ph/uW1bdu2UbVq1TIEW1eCQIB1kQ2nXwhwOBxd6AUC7EIUg88BAhycIXrwRwACHJ+TNQLMOzdUr15drdQuXryY8uTJk+WsTp06RTfccIMS0Q0bNmQIcP/+/enIkSNR9yxYsIAaNGigXnDjlWMWYJZp3kEisnXv3p3Gjx9Pe/bsyTbj+vTpQ1xWEdu8FWZ/6Zr4VRDgxJlJ3gEBlqRt9rMgwGbHR2p0EGAp0ngOBNhyAeYaXd6ujFdwly5dSsWLF882q3mHiC5dumSUPHglECzA+fLly7g37BIIrADjfzZZEYAAIy88AhBg5AITgAAjD6QIQIAtFmCW3oYNG9K///1v+uqrr3ztx8s7PXTt2jVDgPESnNS3Gp4DAUYOZEcAAoz8gAAjByQJQIAtFeATJ05Qs2bN6IsvvlC/uE73TI1LIHgrM37hzdsazdsGjbcxGzx4sOqCt0Hj/rj0IXYbtMhDNLh8oWzZstgG7Uzg8fdxCWAFGMmBFWDkQCQBrAAjH6QIQIAtFWA+8W3ChAlq796bbropahZXXnkl7du3T+0C0aJFC7VXL/+ZX4LjFV/eKYIP0PCadxAGH6TBB2FMnDiRpk+fnuVBGGvXro06CINLMHAQhtS3q3vPgQC7F9NkZ4QV4GTJuXUfBNiteJo8GwiwpQJ8ySWX0ObNm7McPUsur+A++OCD6qhkPjQjb968dN1111G3bt1U2URkO336NHlHIe/YsUOt/LJY8x6/kY3reL2jkI8fP46jkE3+zrZkbBBgSwIlMEwIsABkCx4BAbYgSI4MEQJsqQDbnn9SiYddIMzOFAiw2fGRHB0EWJK2uc+CAJsbG9dGJuUhNnKzZhs0G+FKJR4E2Ozs+H/tnQfUHUX5h19KKEJIiCGEZkApCQmgEKOEUKQIiBQFpQSUDgpGENHQpENQpEgTDB0JIqFXaUKCgASBAInUACoIhCIEDN3zzP/M999vc+9l73d3Z9tvzsnhkMy+O/O8c3d/8847sxLAxfZPyNZJAIekXdx7SQAX1zdVa1koHVJGbhLAGXot1MCTAM7QiSmYlgBOAWJFTEgAV8SRHXZDArhDgLo8MYFQOiRxgwpUUQI4Q2eEGngSwBk6MQXTEsApQKyICQngijiyw25IAHcIUJcnJhBKhyRuUIEqSgBn6IxQA08COEMnpmBaAjgFiBUxIQFcEUd22A0J4A4B6vLEBELpkMQNKlBFCeAMnRFq4EkAZ+jEFExLAKcAsSImJIAr4sgOuyEB3CFAXZ6YQCgdkrhBBaooAZyhM0INPAngDJ2YgmkJ4BQgVsSEBHBFHNlhNySAOwSoyxMTCKVDEjeoQBUlgDN0RqiBJwGcoRNTMC0BnALEipiQAK6IIzvshgRwhwB1eWICoXRI4gYVqKIEcIbOCDXwJIAzdGIKpiWAU4BYERMSwBVxZIfdkADuEKAuT0wglA5J3KACVZQAztAZoQaeBHCGTkzBtARwChArYkICuCKO7LAbEsAdAtTliQmE0iGJG1SgihLAGToj1MCTAM7QiSmYlgBOAWJFTEgAV8SRHXZDArhDgLo8MYFQOiRxgwpUUQI4Q2eEGngSwBk6MQXTEsApQKyICQngijiyw25IAHcIUJcnJhBKhyRuUIEqSgBn6IxQA08COEMnpmBaAjgFiBUxIQFcEUd22A0J4A4B6vLEBELpkMQNKlBFCeAMnRFq4EkAZ+jEFExLAKcAsSImJIAr4sgOuyEB3CFAXZ6YQCgdkrhBBaooAZyhM0INPAngDJ2YgmkJ4BQgVsSEBHBFHNlhNySAOwSoyxMTCKVDEjeoQBUlgDN0RqiBJwGcoRNTMC0BnALEipiQAK6IIzvshgRwhwB1eWICoXRI4gYVqKIEcIbOCDXwJIAzdGIKpiWAU4BYERMSwBVxZIfdkADuEKAuT0wglA5J3KACVZQAztAZoQaeBHCGTkzBtARwChArYkICuCKO7LAbEsAdAtTliQmE0iGJG1SgihLAGToj1MCTAM7QiSmYlgBOAWJFTEgAV8SRHXZDArhDgLo8MYFQOiRxgwpUUQI4Q2eEGngSwBk6MQXTEsApQKyICQngijiyw26EEsBT357ZYUt1edYEVu3dP9NbhNIhmXYiI+MSwBmBxWyogScBnKETUzAtAZwCxIqYkACuiCM77IYEcIcAK3S5BHB+zpQAzpC9BHCGcEtkWgK4RM7KuKkSwBkDLol5CeCSOCpAMyWAA0BucgsJ4AzZSwBnCLdEpiWAS+SsjJsqAZwx4JKYlwAuiaMCNFMCOABkCeDwkCWAwzMv4h0lgIvolXzaJAGcD/ei3VUCuGgeya89EsD5sVcEOEP2EsAZwi2RaQngEjkr46ZKAGcMuCTmJYBL4qgAzZQADgBZEeDwkCWAwzMv4h0lgIvolXzaJAGcD/ei3VUCuGgeya89EsD5sVcEOEP2EsAZwi2RaQngEjkr46ZKAGcMuCTmJYBL4qgAzZQADgBZEeDwkCWAwzMv4h0lgIvolXzaJAGcD/ei3VUCuGgeya89EsD5sVcEOEP2EsAZwi2RaQngEjkr46ZKAGcMuCTmJYBL4qgAzZQADgBZEeDwkCWAwzMv4h0lgIvolXzaJAGcD/ei3VUCuGgeya89EsD5sVcEOEP2EsAZwi2RaQngEjkr46ZKAGcMuCTmJYBL4qgAzZQADgBZEeDwkCWAwzMv4h0lgIvolXzaJAGcD/ei3VUCuGgeya89EsD5sVcEOEP2EsAZwi2RaQngEjkr46ZKAGcMuCTmJYBL4qgAzZQADgBZEeDwkCWAwzMv4h0lgIvolXzaJAGcD/ei3VUCuGgeya89EsD5sVcEOEP2EsAZwi2RaQngEjkr46ZKAGcMuCTmJYBL4qgAzZQADgBZEeDwkCWAwzMv4h0lgIvolXzaJAGcD/ei3VUCuGgeya89EsD5sVcEOEP2EsAZwi2RaQngEjkr46ZKAGcMuCTmJYBL4qgAzZQADgBZEeDwkCWAwzMv4h0lgIvolXzaJAGcD/ei3VUCuGgeya89EsD5sVcEOEP2EsAZwi2RaQngEjkr46ZKAGcMuCTmJYBL4qgAzZQADgBZEeDwkCWAwzMv4h0lgIvolXzaJAGcD/ei3VUCuGgeya89EsD5sVcEOEP2EsAZwi2RaQngEjkr46ZKAGcMuCTmJYBL4qgAzZQADgBZEeDwkCWAwzMv4h0lgIvolXzaJAGcD/ei3VUCuGgeya89EsD5sVcEuAn7J5980saMGWOTJk2yhRZayLbffnsbN26cLbjggom9JQGcGFWlK0oAV9q9bXVOArgtXJWtLAFcWde23TEJ4LaRpXaBBHADlG+++aYNGzbMBg0aZIcddpi98sor9pOf/MQ22WQTu+SSSxLDlwBOjKrSFSWAK+3etjonAdwWrspWlgCurGvb7pgEcNvIUrtAArgByhNOOMGOOuooe/75561///6uxqWXXmqjR4+2adOm2ZAhQxI5QAI4EabKV5IArryLE3dQAjgxqkpXlACutHvb6pwEcFu4Uq0sAdwA57rrrmt9+/a1a665putf33vvPevTp48de+yxdsABByRyggRwIkyVryQBXHkXJ+6gBHBiVJWuKAFcafe21TkJ4LZwpVpZArgBzgEDBtiuu+7qcn6jZejQobbmmmva+PHjEzlBAjgRpspXkgCuvIsTd1ACODGqSleUAK60e9vqnARwW7hSrSwB3ABnr1697Oijj7axY8d2+9dRo0YZ4vjKK69s6IS33nrL+OPLP/7xDxs5cqT99a9/tSWWWCJVx0WNrTr+uMxsy3DnBKbufnDnRhJYGD55QoJaqpIngSmjtg9y++OefiDIfXSTnhE4ePkv9+zCNq+aPuv1Nq9Q9dAEhizcL9NbvvTSSzZixAibMWOGLbvsspneq2zGJYCbCOBjjjnGfv7zn3f717XWWssGDhxoEydObOjnI444wo488siyjQG1VwREQAREQAREoMIECMR9+cthJl5lwSgB3MBTPU2BiEeAZ8+ebUSBl1tuOZt33nnLMiZybaefrWYdNc+1k7p5IgIaC4kwVb6SxkHlXZy4gxoLiVF1Vfzwww/t1VdftVVWWcUWWGCB9g1U+AoJ4AbOTWsTXIXHTWZdC5U3nVkHZDg1AhoLqaEstSGNg1K7L9XGayykirP2xiSAGwwBjkEjB5hj0D772c+6Gpdddpn7GEY7x6DVfnT1AIAecD2AVtFLNBYq6tg2u6Vx0CawClfXWKiwc3PomgRwA+j+QxgkjEc/hLHxxhu39SGMHPxZ+lvqAVd6F6bWAY2F1FCW2pDGQandl2rjNRZSxVl7YxLATYYAn0L+0Y9+ZJMnT7bPfOYzLvpLZLidTyHXfnT1AAB51CeddJL78t4iiyzSAwu6pCoENBaq4snO+qFx0Bm/Kl2tsVAlb+bfFwng/H2gFoiACIiACIiACIiACAQkIAEcELZuJQIiIAIiIAIiIAIikD8BCeD8faAWiIAIiIAIiIAIiIAIBCQgARwQtm4lAiIgAiIgAiIgAiKQPwEJ4Px9oBaIgAiIgAiIgAiIgAgEJCABHBB2HW+1+uqr20MPPWR33nmnrbfeet0Q8JW8ww8/3P0bX/hZdNFFbejQobbzzjvbjjvu6Or++c9/tq997Wv2wAMP2PDhw7td/9prr9kSSyxhvXr1sldeecUWWmihOiIO0udWn/nmzOxDDz3U5pprLvvVr35lP/3pT+do08ILL+z+HjsUfHzhhRd21Vt88cVt1VVXdZ8SX3PNNee4nvHB58mvv/56+/e//239+vWzjTbayH7xi1/Y8ssv360+xxdyhjdlnnnmsUGDBhlHGB511FHWv3//hvePGrj44ou7xl8QuAW8SavfLX6mnHXWWbb33nt3az1fcPzKV77i/i76m+W3f9dddzXs6aRJk2zUqFH23HPPua9m+sJXq/Dddttt5z5LHz2Bh3F04okn2qxZs+Z4Jvzyl7+0q6++2o2B+eabz40r2omd+Bc5OW3m5JNPds8hPzajBt999113H86Bp32cCEQbv/71r9uxxx5bQM/l36QkYyfeygkTJjj/+Oe9/3ee6fDefffdbd9993W/Z194hkyZMsUee+yxbuZeeOEFGzdunN1000324osvOp/xCWBOdfrmN7/pnlPR8u1vf9uuuuoqO//8891zSaU+BCSA6+Pr4D39+9//bkOGDHH35QH2u9/9rqsNb7zxhhO7CJkDDzzQveg44/GOO+6w999/v+u85VYC+Le//a394Ac/cDYvueQSGz16dPA+1uWGiAOEBf6Jl2WWWcaWWmqptgUwwuf3v/+9ffLJJzZjxgwnQP71r3/Z1KlT7Qtf+ELXbZ544gk3eUK8HHLIIW5MIUYQ20yibrnlFvvqV7/aVR8BzAvvgAMOsA8++MDuu+8+Z/uLX/yicc+5557bvej8/eP9QVB7oVwX/0b72ep3Sz0EBBOaL33pS3b33Xd3Q7TffvvZueee64RpXADzSVbEZLzwHOjdu3eXAD7uuOPcpPedd95xE55TTjnF9tprL+P37ksjAfzss8+669577z13jCJjgGcJwhuxjp3vf//7XTY+/vhjY+wikvD5U089NUfbNtlkE9ePgw8+2PWX5xb/f91119njjz9ex+HRss9Jxg5CdIcdduhmZ4UVVnAfnfLPe8To4MGD7T//+Y97tvPn+OOPt7Fjx3Zd10gA4xsmuwRTGAPDhg2zt99+2/70pz+598/NN99sfOnVF+wz+WbMbLjhhnbrrbfKpzUiIAFcI2eH7iofEeGhhXh58MEH7eWXX3YRGQoPoz333NNFaT73uc91axovJkQKpZUAXnvtte311183zobkO+c33nhj6C7W5n7NIm5RAO1GgOPRG4Qq0V8E0EEHHdRlGiGDuEEYI7R9we+sCvDy4tzu+eef3/0TAphIz+mnn95Vlyg10WIvyppFj2rj0BYdbfW75TL8zGTz0ksvdb9fRCSF3+3SSy9tG2ywgRMscQGMaEbQNis+AvzHP/7Rttlmm65qiFBELILYPxcajUfGDuOEceXb5I2wgsDkKrqKdPvttzvRg2BiEnX//ffbiBEjuu6LIF5xxRXdSsX3vve9ps8ojZn/J5Bk7DRbJWr2vGeCzCTpo48+MibDvsR/wzwHVlppJRfx/ctf/mJ9+/bt5hquZeziU1+YrBGcYQwgfhkjAwcOlEtrQkACuCaOzqObRPH4Q1Ros802c8tMW221lWsKD0Fm87zUWOpsVpoJYJa5EDosi/PlPpYxieQstthieXS18vcMIYD/+9//upcXy9VE7ChEaddZZ6BDYlkAABB8SURBVB2XGoGAjRfECS/C6ApAIwHM5IgxePnll9t3vvMdd02j5dPKOzJBB1v9brncT3T8kjErOJTbbrvNTTxIF/jWt76VmgAm/YHVB1JfiNZR4uORDxYxIT711FNtzJgxCXpptuuuu9oVV1zhRBVjhtUkosS+IOARxEQPSbdR+XQCScdOozQprDd73m+77bZ27bXXGs8IX+K/YZ4BO+20k11zzTW2xRZbfHpjzWz99dd3K4+kzCCyeY/wvlKpBwEJ4Hr4OXgvfTTvvPPOcw8lcnWJBBPdobCUTqSI/CsehkT54vl5rR6I5HgRJSTiwzIWy5NE/PbZZ5/gfa3DDb3gYLIRL+TlIYo6jQAjRFj2jEaIfOT2kUcecbmc8YLvifREU2waCeAzzjjD5RAilNZaa60uAfzwww/PYbPROKyDj+njp/1uowJ49uzZNnHiRJfjT0FQkiLw4x//eI68fX775HMiTuLF824WAeYrnExgWO3xOaBxAcxEmOgjUdt4Tngj3xEtRExvueWWLsLLxJy+EwH092CFgRUHclBZlaAPRLFVGhNIOnb4oirpCb7w3PDMmwlgovukMkTzfeMCmGfABRdc4Ool+WIrARNWCti/wASbFCn2kzDxUakHAQngevg5eC/J8yLNgbSHPn36OGGKGOb//SeOf/azn9mvf/1rt3TKA4uNMGx+QzD7jQrNHoikPPAyuvfee13fmL1zH5a+VNIn0GoTnN/g2BMBjABliRPxQwTumWeecZFZ8gEpRIPPPvtsF+XHv40KApgXJJteKAhgor1EA8kBZmmbJXtWGsjb5L/xTXhRu+QjY6OOJcnv1vuZySsRv2nTptnnP/95Jyj5zbMKE9+42moTHP6neAH8hz/8wU2M2YBGri2+ioumuABm7JAjjCj3qTCt/IdwJ82CnFCWv5mYf/e733WpEGxw84UVA4QVogqRttpqq7m2ESXUptvuhJOOnbhfGENPP/20+2v/vEdMr7HGGi69jQkK+fz4IpoaExfAm266qfE8Id0lSeHdQ/CFvGVSJ5h4805iIh5Nk0hiS3XKSUACuJx+K3SrydVacsklnaDlRUNBmBJ5i++0RWwQFWKpm5w8InqIYHbiRx+I0XzCRx991EUDf/Ob37idvRQiNGyQIiIc3UleaFAlapzfBBff9EQXeHmwialdARw9BQI7pD8wDthF7ktSATxy5MiuHPDoKRDeDisM55xzjovyUHh5Eg1muT5eGFs+V71ELuq4qUl/t1E/M/EgjxauRICZ4CJeGglg7LPEHC8+Lzd+CoSvx+kAnBIQLXEB7McJkd0kvkPE3nPPPS5tCmGLcEbAk7pBFDFaiGqTu8xEj2cU6VesVDBRkwj+P1LtjB1WCPwpP1zLhJTNatHnfXyMkC7HfpJoiQtgcsXZJ4BPkxSeM4xl9qdQSIVgPwqpVo1OBEliU3XKRUACuFz+KkVriaowG0fs+pxfGk7UlhdHs5227BwnP5Pr/ZJ3owgwD0Nm60SefE4gL0/SIFgKRQirpEsgSQ4wS9kcDUXOZrwQ4Wep0fsmKkB5eeJvoi+cvsBLDDFM+bQUCCJERIbjKRAcxUVuKkuaLHNy2kirl2e6tMppLenvNiqATzvtNBdpJzLKJAjx2Og369MHkmyCI9pLbiZRf1JXyM8kustJEL50kgLhd/4jwqKnUiCiSbVAxDdbQidazZFpjMt28o3LOSKSt7onY6eRdT92LrroInfaC8dbku7GZBXfIHJ9aZQCwaSaaH2rfSVc70+rIPUhmjP+jW98w1599dWGJ4Ikp6GaZSEgAVwWT5WonaQwsCGhUWEXd6udtix5soGByBwbH+IvU15ARPiIwjQqPDQRxirpEkgigMnzJloXj/IhZDiWiAjsHnvs4RrWaBMamySJzPHC8yLab4LzZw3He8VKATv0P20TXPw6bYKbc3wk/d1GBTAChdUefpekoJA+0KkAjp4CweSIjWj83pnk+ohrfDwSzWXFKboq1OwX4Hf+N/t3UjBIh2hWEFikcUU3a6b7ayuftZ6MnVYCOLriR2CEwAkTXXKAfXpc/DfMkYpMatgst/nmm7eESL44wZJmJX4iSPk8ohYnISABnISS6iQmQN4eUVmWRVnqihZm1rxYEEjkZBLtix9K7vOyeIlyXmP8ZcoSPH/PCzB6niP3IbJMKgSbcvxSd+KGq2JLAkkEMOL3b3/7m5uARDeS+ZMapk+f7l5kzQQwf4+IIR8QseOjOKQvkCpD6gsi2xdejOQJsnz9acegSQC3HuBJf7fkvsZTXViRwV8IENIJ0hTAtJrTJTiF4aSTTrL999/fdaTZMWi0g9SE6HF51Ceqy5nRpFsQXWY8sUIVLzyXGG9EnRG6jON4NJglc+zQBqLBdS+djJ04u2Z7PsaPH+8mz1deeaVLU2n0DPHHoLE3hJQ7v9fE34MNkkzUyO8l73jAgAFzpFWwZwDxzOQmeiJI3X1c1f5LAFfVszn1i8gtu7Y55YE8wHghmsNDiOgu0TsiB6Qu8HdEcVj+XHnlld3GpUYvUx5MRPs4Eim+I5tcPQQSecGkSKikR6DVhzDY9MQLhdQFUg/wMZseSTvAj6RFENmNrgo0i8AyiSGKGP3KmP8QBrmdfJCAKD/nz3I0Fv9l41L063GNToFoJICbfQiDs2z5U6eS9HdLZK5VrjfMmgngZh/CYOwwhpqdAuEnRviaHH/SWlp9CIOPX3DKACIVQcPyOakUCGiEdHTnf9zHpOGQ2sDzhQ2ZiCHGKhMznjdM4shFJY2CtB0+4FP3kvXYgS9+RLgSXCHHvJEA5u/4EiFpEmyiZbJEbjETZSZRbKYljYJNkjwv2JS9yy67zOE+gjQEWqIngtTdx1XtvwRwVT2bU794YSCEeJnFo7s0yR9HxcuDHeO8LFne5CQINiBsvfXW7uXlDzGPvkzJM+SQcvK0/Ca5eDfJIeZkCGz6Q/NzQlGp27Y6BYKva/mNQ0Tf2ERCBIbIEAKBZUmEK8LFl1YpCIgNBAjC1x+PxM5u0iBuuOEGt8s7+ilkviIVLUkFcHwTnrfR7LO4lXJorDNJf7f4xO+Yb+cs11anQPiNsa0EsI8C+7rNViRmzpzpJkZEcHkGMOZ4bjAGd9ttN5ciQbtZZYh+bdDj4JQQRBNiCSFEFJBzgIkeEhEmssy51OSyJzlurcpjxvct67Hj7+OjwP7UmVafQmaS4j+FTNoMkyH8T+CFnF/EL88Y8tbjhWcM51nHTwSpgy/r1kcJ4Lp5XP0VAREQAREQAREQgZoTkACu+QBQ90VABERABERABESgbgQkgOvmcfVXBERABERABERABGpOQAK45gNA3RcBERABERABERCBuhGQAK6bx9VfERABERABERABEag5AQngmg8AdV8EREAEREAEREAE6kZAArhuHld/RUAEREAEREAERKDmBCSAaz4A1H0REAEREAEREAERqBsBCeC6eVz9FQEREAEREAEREIGaE5AArvkAUPdFQAR6TiD+hTw+wTp48GD35Tu+WJh2afSZ4bTvIXsiIAIiUAcCEsB18LL6KAIikAkBBDCf3r3jjjuc/RdffNHGjRtnDz74oE2aNMlGjhyZ6n3feustmzZtmq2yyirGJ15VREAEREAEekZAArhn3HSVCIiACBgC+MQTT7RZs2Z10XjppZdsqaWWsj322MPOPvtsURIBERABESggAQngAjpFTRIBESgHgUYCmJYvvvjitvrqq9tNN93kOnLvvffaIYccYvfff7/NO++8ttlmm9kpp5xiAwYM6OroP//5T9t7773t9ttvt379+tl+++1nzz//vF1//fX23HPPuXqNUiBmz57tbF922WU2c+ZMW3HFFe2ggw6yHXbYocv2zjvvbFOmTLHTTz/d9t9/f3vyySdt6NChdtZZZ9kaa6xRDthqpQiIgAikSEACOEWYMiUCIlAvAo0EMNHgRRdd1Pbaay8nOBG/6623nssJ3m233eydd96xQw891MgXvu+++xywTz75xIYPH24vv/yyHX/88danTx+XWoEAnmeeeVoK4K233tpuvPFGO+aYY2zYsGFOCF9wwQV20UUX2U477eTsI4AR0ksuuaSNHTvWFllkEfdfUiqeeeYZ69WrV70cp96KgAjUnoAEcO2HgACIgAj0lIAXwG+++aYzQfoDwvLmm2924naFFVawdddd1z788EObPHmyzTXXXK7e448/7vJ4EaUIYwQsUeG7777b1l57bVcHcbr00ku7aHCzCPDUqVNttdVWszPOOMN++MMfdnVj4403tieeeKLrOgQwgvjRRx91kV/KbbfdZhtttJHLVR41alRPEeg6ERABESglAQngUrpNjRYBESgCgfgpELSJiO21117rhO27777roq3kCe+7777dmjxo0CDbc8897fDDD7cjjzzSpUS88cYb3epsueWW9sgjjzQVwAhf7JL6QETZFyLAu+yyi73wwgu2zDLLuAgwgpc0C1/YsEeu8oQJE2y77bYrAk61QQREQASCEZAADoZaNxIBEagaAX8KBJHbjz/+2J566ikXAUb4PvbYY+7viOI2K6REjB8/3uX+cpIEubnRwka6W2+9takAJu0B8fzBBx90u44I9KabbmoPP/ywixD7HGDa5AuiebHFFrPzzz/f/buKCIiACNSJgARwnbytvoqACKRKoFEOMEegjRgxwkV3ifz27t3bnQu81VZbzXHv/v3727LLLtvjCPCZZ55p++yzj7322msuVcKXRhFgNsFJAKfqfhkTAREoMQEJ4BI7T00XARHIl0CzUyB23HFHu+KKK1zklk1qAwcOtIkTJzZtrM8Bvuuuu2ydddZx9drJAeY0B6LIvhD9nT59erccYAngfMeK7i4CIlAsAhLAxfKHWiMCIlAiAs0EMBvQVl55ZTvwwANtiy22sPXXX9/I5yXXlhMiyMUltYE8XU6IiJ8C0bdvXzvhhBPcKRCc0PDss886Ko2OQdtmm226ToFgg9vll19u55133hynQEgAl2hgqakiIAKZE5AAzhyxbiACIlBVAs0EMP0lCnzddde5jWjkBrPZ7Z577rH333/f5QVvsMEG7vxenyOMKOboNHKBEcljxoxxp0WQtvDQQw81FcD+HGA2s0XPAR49enQXduUAV3UEql8iIAI9JSAB3FNyuk4EREAEMiSAUB48eLA7Ro2NaioiIAIiIALpEZAATo+lLImACIhAjwmcc8457tSIlVZayR2HRl7vnXfe6c4T5iMZKiIgAiIgAukRkABOj6UsiYAIiECPCVx88cU2btw4mzFjhrPB8WWkWPBRCxUREAEREIF0CUgAp8tT1kRABERABERABERABApOQAK44A5S80RABERABERABERABNIlIAGcLk9ZEwEREAEREAEREAERKDgBCeCCO0jNEwEREAEREAEREAERSJeABHC6PGVNBERABERABERABESg4AQkgAvuIDVPBERABERABERABEQgXQISwOnylDUREAEREAEREAEREIGCE5AALriD1DwREAEREAEREAEREIF0CUgAp8tT1kRABERABERABERABApOQAK44A5S80RABERABERABERABNIlIAGcLk9ZEwEREAEREAEREAERKDiB/wGQlNuf3GsEBgAAAABJRU5ErkJggg==\" width=\"639.9999861283738\">"
      ],
      "text/plain": [
       "<IPython.core.display.HTML object>"
      ]
     },
     "metadata": {},
     "output_type": "display_data"
    }
   ],
   "source": [
    "#create a bar chart of cases per region\n",
    "\n",
    "region_bar = [17992, 16144, 4136, 1365]\n",
    "x_axis = np.arange(len(region_bar))\n",
    "\n",
    "tick_locations = ['ASIA', 'EUROPE', 'AMERICAS', 'AFRICA']\n",
    "tick_locations = [value for value in x_axis]\n",
    "colors = ['#148F77', '#1ABC9C', '#76D7C4', '#D1F2EB']\n",
    "\n",
    "plt.title(\"Victim's Region of Citizenship\")\n",
    "plt.ylabel('Number of Cases Reported')\n",
    "plt.xlabel('Region')\n",
    "\n",
    "plt.bar(x_axis, region_bar, color=colors, align='center')\n",
    "plt.xticks(tick_locations, ['ASIA', 'EUROPE', 'AMERICAS', 'AFRICA']);\n",
    "\n",
    "plt.savefig(\"Images/citizen_region_bar.png\")"
   ]
  },
  {
   "cell_type": "code",
   "execution_count": 108,
   "metadata": {
    "scrolled": true
   },
   "outputs": [],
   "source": [
    "#create a pie chart of cases per region\n",
    "\n",
    "# labels = 'ASIA', 'EUROPE', 'AMERICAS', 'AFRICA',\n",
    "# sizes = [45.40, 40.73, 10.43, 3.44]\n",
    "# colors = ['darkolivegreen', 'olive', 'darkgoldenrod', 'goldenrod']\n",
    "# explode = (0.1, 0, 0, 0)\n",
    "\n",
    "# plt.pie(sizes, explode=explode, labels=labels, colors=colors,\n",
    "#         autopct=\"%1.1f%%\", shadow=True, startangle=45);"
   ]
  },
  {
   "cell_type": "code",
   "execution_count": 109,
   "metadata": {},
   "outputs": [
    {
     "data": {
      "image/png": "[encoded data removed]",
      "text/plain": [
       "<Figure size 432x288 with 1 Axes>"
      ]
     },
     "metadata": {},
     "output_type": "display_data"
    }
   ],
   "source": [
    "#citizenship region\n",
    "\n",
    "labels = 'ASIA', 'EUROPE', 'AMERICAS', 'AFRICA',\n",
    "sizes = [17992, 16144, 4136, 1365]\n",
    "#colors = ['darkolivegreen', 'olive', 'darkgoldenrod', 'goldenrod']\n",
    "colors= ['#0E6251', '#641E16', '#154360', '#7D6608']\n",
    "explode = (0.1, 0, 0, 0)\n",
    "\n",
    "plt.pie(sizes, explode=explode, labels=labels, colors=colors,\n",
    "        autopct=\"%1.1f%%\", shadow=True, startangle=45);"
   ]
  },
  {
   "cell_type": "code",
   "execution_count": 133,
   "metadata": {},
   "outputs": [
    {
     "data": {
      "image/png": "[encoded data removed]",
      "text/plain": [
       "<Figure size 432x288 with 1 Axes>"
      ]
     },
     "metadata": {},
     "output_type": "display_data"
    }
   ],
   "source": [
    "labels= 'South-eastern Asia', 'Central Asia', 'Southern Asia', 'Eastern Asia'\n",
    "#'Eastern Europe', 'Southern Europe', 'Northern America', 'Latin America and the Caribbean', 'Sub-Saharan Africa'\n",
    "\n",
    "sizes= [16916, 821, 220, 35,]\n",
    "#16122, 22, 3636, 500, 1365\n",
    "\n",
    "colors= ['#148F77', '#1ABC9C', '#76D7C4', '#D1F2EB']\n",
    "#'#922B21', '#E6B0AA', '#1F618D', '#A9CCE3', '#9A7D0A'\n",
    "#explode = (0.1, 0, 0, 0)\n",
    "\n",
    "plt.pie(sizes, labels=labels, colors=colors, autopct=\"%1.1f%%\", shadow=True, startangle=90);"
   ]
  },
  {
   "cell_type": "code",
   "execution_count": 131,
   "metadata": {},
   "outputs": [
    {
     "data": {
      "image/png": "[encoded data removed]",
      "text/plain": [
       "<Figure size 432x288 with 1 Axes>"
      ]
     },
     "metadata": {},
     "output_type": "display_data"
    }
   ],
   "source": [
    "labels= 'Eastern Europe', 'Southern Europe'\n",
    "#'South-eastern Asia', 'Central Asia', 'Southern Asia', 'Eastern Asia'\n",
    "#, 'Northern America', 'Latin America and the Caribbean', 'Sub-Saharan Africa'\n",
    "\n",
    "sizes= [16122, 22]\n",
    "#[16916, 821, 220, 35, 16122, 22, 3636, 500, 1365]\n",
    "colors= ['#922B21', '#E6B0AA']\n",
    "#['#148F77', '#1ABC9C', '#76D7C4', '#D1F2EB'#922B21', '#E6B0AA', '#1F618D', '#A9CCE3', '#9A7D0A']\n",
    "\n",
    "#explode = (0.1, 0, 0, 0)\n",
    "\n",
    "plt.pie(sizes, labels=labels, colors=colors, autopct=\"%1.1f%%\", shadow=True, startangle=45);"
   ]
  },
  {
   "cell_type": "code",
   "execution_count": 132,
   "metadata": {},
   "outputs": [
    {
     "data": {
      "image/png": "[encoded data removed]",
      "text/plain": [
       "<Figure size 432x288 with 1 Axes>"
      ]
     },
     "metadata": {},
     "output_type": "display_data"
    }
   ],
   "source": [
    "labels= 'Northern America', 'Latin America and the Caribbean'\n",
    "#'South-eastern Asia', 'Central Asia', 'Southern Asia', 'Eastern Asia'\n",
    "#, 'Northern America', 'Latin America and the Caribbean', 'Sub-Saharan Africa'\n",
    "\n",
    "sizes= [3636, 500]\n",
    "#[16916, 821, 220, 35, 16122, 22, 3636, 500, 1365]\n",
    "colors= ['#1F618D', '#A9CCE3']\n",
    "#['#148F77', '#1ABC9C', '#76D7C4', '#D1F2EB'#922B21', '#E6B0AA', '#1F618D', '#A9CCE3', '#922B21', '#E6B0AA' '#9A7D0A']\n",
    "\n",
    "#explode = (0.1, 0, 0, 0)\n",
    "\n",
    "plt.pie(sizes, labels=labels, colors=colors, autopct=\"%1.1f%%\", shadow=True, startangle=45);"
   ]
  },
  {
   "cell_type": "code",
   "execution_count": 111,
   "metadata": {},
   "outputs": [
    {
     "data": {
      "text/plain": [
       "<Figure size 504x504 with 0 Axes>"
      ]
     },
     "metadata": {},
     "output_type": "display_data"
    },
    {
     "data": {
      "image/png": "[encoded data removed]",
      "text/plain": [
       "<Figure size 504x504 with 1 Axes>"
      ]
     },
     "metadata": {},
     "output_type": "display_data"
    }
   ],
   "source": [
    "\n",
    "plt.figure(figsize=(7, 7))\n",
    "\n",
    "labels = 'ASIA', 'EUROPE', 'AMERICAS', 'AFRICA'\n",
    "\n",
    "sizes = [17992, 16144, 4136, 1365]\n",
    "\n",
    "colors= ['#0E6251', '#641E16', '#154360', '#7D6608']\n",
    "\n",
    "plt.figure(figsize=(7, 7))\n",
    "\n",
    "my_circle = plt.Circle((0, 0), 0.5, color='white')\n",
    "plt.pie\n",
    "d = plt.pie(sizes, labels=labels, colors=colors, autopct='%1.1f%%', startangle=90, labeldistance=1.05)\n",
    "plt.axis('equal')\n",
    "plt.gca().add_artist(my_circle)\n",
    "\n",
    "for i, (ASIA, EUROPE, AMERICAS, AFRICA) in enumerate(d):\n",
    "    if i > 0:\n",
    "        ASIA.set_fontsize(12)\n",
    "        EUROPE.set_fontsize(12)\n",
    "        AMERICAS.set_fontsize(12)\n",
    "        AFRICA.set_fontsize(12)\n",
    "                \n",
    "plt.show()"
   ]
  },
  {
   "cell_type": "code",
   "execution_count": 76,
   "metadata": {},
   "outputs": [
    {
     "data": {
      "image/png": "[encoded data removed]",
      "text/plain": [
       "<Figure size 432x288 with 1 Axes>"
      ]
     },
     "metadata": {},
     "output_type": "display_data"
    }
   ],
   "source": [
    "import matplotlib.pyplot as plt\n",
    "import numpy as np\n",
    "\n",
    "def make_pie(sizes, text,colors,labels, radius=1):\n",
    "    col = [[i/255 for i in c] for c in colors]\n",
    "\n",
    "    plt.axis('equal')\n",
    "    width = 0.35\n",
    "    kwargs = dict(colors=col, startangle=180)\n",
    "    outside, _ = plt.pie(sizes, radius=radius, pctdistance=1-width/2,labels=labels,**kwargs)\n",
    "    plt.setp( outside, width=width, edgecolor='white')\n",
    "\n",
    "    kwargs = dict(size=20, fontweight='bold', va='center')\n",
    "    plt.text(0, 0, text, ha='center', **kwargs)\n",
    "\n",
    "# Group colors\n",
    "c1 = (226, 33, 7)\n",
    "c2 = (60, 121, 189)\n",
    "\n",
    "# Subgroup colors\n",
    "d1 = (226, 33, 7)\n",
    "d2 = (60, 121, 189)\n",
    "d3 = (25, 25, 25)\n",
    "\n",
    "make_pie([100, 80, 90], \"\", [d1, d3, d2], ['M', 'N', 'F'], radius=1.2)\n",
    "make_pie([180, 90], \"\", [c1, c2], ['M', 'F'], radius=1)\n",
    "plt.show()"
   ]
  },
  {
   "cell_type": "code",
   "execution_count": 83,
   "metadata": {},
   "outputs": [],
   "source": [
    "labels = ['ASIA', 'EUROPE', 'AMERICAS', 'AFRICA']\n",
    "\n",
    "sizes = [17992, 16144, 4136, 1365]\n",
    "\n",
    "colors = ['#0E6251', '#641E16', '#154360', '#7D6608']\n",
    "\n",
    "sub_labels= ['South-eastern Asia','Central Asia', 'Southern Asia', 'Eastern Asia', 'Eastern Europe', 'Southern Europe', 'Northern America', 'Latin America and the Caribbean', 'Sub-Saharan Africa']\n",
    "\n",
    "sub_sizes= [16916, 821, 220, 35, 16122, 22, 3636, 500, 1365]\n",
    "\n",
    "sub_colors= ['#148F77', '#1ABC9C', '#76D7C4', '#D1F2EB', '#922B21', '#E6B0AA', '#1F618D', '#A9CCE3', '#9A7D0A']"
   ]
  },
  {
   "cell_type": "code",
   "execution_count": 124,
   "metadata": {},
   "outputs": [
    {
     "data": {
      "image/png": "[encoded data removed]",
      "text/plain": [
       "<Figure size 432x288 with 1 Axes>"
      ]
     },
     "metadata": {},
     "output_type": "display_data"
    }
   ],
   "source": [
    "# plt.figure(figsize=(8, 8))\n",
    "\n",
    "# labels = labels\n",
    "# sizes = sizes\n",
    "# sub_labels = sub_labels\n",
    "# sub_sizes = sub_sizes\n",
    "# colors_big = ['#0E6251', '#641E16', '#154360', '#7D6608']\n",
    "# colors_small = ['#148F77', '#1ABC9C', '#76D7C4', '#D1F2EB', '#922B21', '#E6B0AA', '#1F618D', '#A9CCE3', '#9A7D0A']\n",
    " \n",
    "\n",
    "#********************\n",
    "labels = ['ASIA', 'EUROPE', 'AMERICAS', 'AFRICA']\n",
    "sizes = [17992, 16144, 4136, 1365]\n",
    "colors = ['#0E6251', '#641E16', '#154360', '#7D6608'] \n",
    "\n",
    "sub_labels= ['South-eastern Asia','Central Asia', 'Southern Asia', 'Eastern Asia', 'Eastern Europe', \n",
    "             'Southern Europe', 'Northern America', 'Latin America and the Caribbean', 'Sub-Saharan Africa']\n",
    "sub_sizes= [16916, 821, 220, 35, 16122, 22, 3636, 500, 1365]\n",
    "sub_colors= ['#148F77', '#1ABC9C', '#76D7C4', '#D1F2EB', '#922B21', '#E6B0AA', '#1F618D', '#A9CCE3', '#9A7D0A']\n",
    "\n",
    "bigger = plt.pie(sizes, explode=(0.01, 0.01, 0.01, 0.01), labels=labels, colors=colors,\n",
    "                 startangle=90, frame=True)\n",
    "smaller = plt.pie(sub_sizes, explode=(0, 0, 0, 0, 0, 0, 0,0 ,0), labels=sub_labels,\n",
    "                  colors=sub_colors, radius=0.7,\n",
    "                  startangle=90, labeldistance=0.7)\n",
    "centre_circle = plt.Circle((0, 0), 0.4, color='white', linewidth=0)\n",
    "fig = plt.gcf()\n",
    "fig.gca().add_artist(centre_circle)\n",
    "        \n",
    "plt.axis('equal')\n",
    "plt.tight_layout()\n",
    "plt.set_title(\"Citizenship Region\")\n",
    "plt.show()     \n"
   ]
  },
  {
   "cell_type": "code",
   "execution_count": 41,
   "metadata": {
    "scrolled": true
   },
   "outputs": [],
   "source": [
    "#plt.bar(x_axis, region_bar, color = 'c', align = 'center')"
   ]
  },
  {
   "cell_type": "code",
   "execution_count": 58,
   "metadata": {},
   "outputs": [
    {
     "data": {
      "text/plain": [
       "[16916, 16122, 9136, 3636, 1365, 821, 500, 220, 35, 22]"
      ]
     },
     "execution_count": 58,
     "metadata": {},
     "output_type": "execute_result"
    }
   ],
   "source": [
    "sub_regions = clean_data['Citizenship Sub-Region'].value_counts()\n",
    "list(sub_regions)"
   ]
  },
  {
   "cell_type": "markdown",
   "metadata": {},
   "source": [
    "#### ASIA - data exploration - region and gender"
   ]
  },
  {
   "cell_type": "code",
   "execution_count": 43,
   "metadata": {},
   "outputs": [
    {
     "data": {
      "text/plain": [
       "Gender                     1\n",
       "Age Range                 10\n",
       "Citizenship Region         1\n",
       "Citizenship Sub-Region     4\n",
       "Citizenship Country       15\n",
       "dtype: int64"
      ]
     },
     "execution_count": 43,
     "metadata": {},
     "output_type": "execute_result"
    }
   ],
   "source": [
    "#create a data frame for each region, based on gender\n",
    "is_female = citizen_df_renamed['Gender'] == 'Female'\n",
    "is_male = citizen_df_renamed['Gender'] == 'Male'\n",
    "is_asia = citizen_df_renamed['Citizenship Region'] == 'Asia'\n",
    "\n",
    "female_asia = pd.DataFrame(citizen_df_renamed[is_female & is_asia])\n",
    "male_asia = pd.DataFrame(citizen_df_renamed[is_male & is_asia])\n",
    "\n",
    "female_asia.nunique()"
   ]
  },
  {
   "cell_type": "code",
   "execution_count": 44,
   "metadata": {},
   "outputs": [
    {
     "data": {
      "text/plain": [
       "Gender                     1\n",
       "Age Range                 10\n",
       "Citizenship Region         1\n",
       "Citizenship Sub-Region     3\n",
       "Citizenship Country       10\n",
       "dtype: int64"
      ]
     },
     "execution_count": 44,
     "metadata": {},
     "output_type": "execute_result"
    }
   ],
   "source": [
    "male_asia.nunique()"
   ]
  },
  {
   "cell_type": "code",
   "execution_count": 45,
   "metadata": {},
   "outputs": [
    {
     "data": {
      "text/html": [
       "<div>\n",
       "<style scoped>\n",
       "    .dataframe tbody tr th:only-of-type {\n",
       "        vertical-align: middle;\n",
       "    }\n",
       "\n",
       "    .dataframe tbody tr th {\n",
       "        vertical-align: top;\n",
       "    }\n",
       "\n",
       "    .dataframe thead th {\n",
       "        text-align: right;\n",
       "    }\n",
       "</style>\n",
       "<table border=\"1\" class=\"dataframe\">\n",
       "  <thead>\n",
       "    <tr style=\"text-align: right;\">\n",
       "      <th></th>\n",
       "      <th>Gender</th>\n",
       "      <th>Age Range</th>\n",
       "      <th>Citizenship Sub-Region</th>\n",
       "      <th>Citizenship Country</th>\n",
       "    </tr>\n",
       "  </thead>\n",
       "  <tbody>\n",
       "    <tr>\n",
       "      <th>1977</th>\n",
       "      <td>Female</td>\n",
       "      <td>18--20</td>\n",
       "      <td>Central Asia</td>\n",
       "      <td>Uzbekistan</td>\n",
       "    </tr>\n",
       "    <tr>\n",
       "      <th>1978</th>\n",
       "      <td>Female</td>\n",
       "      <td>18--20</td>\n",
       "      <td>Central Asia</td>\n",
       "      <td>Uzbekistan</td>\n",
       "    </tr>\n",
       "  </tbody>\n",
       "</table>\n",
       "</div>"
      ],
      "text/plain": [
       "      Gender Age Range Citizenship Sub-Region Citizenship Country\n",
       "1977  Female    18--20           Central Asia          Uzbekistan\n",
       "1978  Female    18--20           Central Asia          Uzbekistan"
      ]
     },
     "execution_count": 45,
     "metadata": {},
     "output_type": "execute_result"
    }
   ],
   "source": [
    "asia_df = citizen_df_renamed.loc[citizen_df_renamed['Citizenship Region'] == 'Asia', ['Gender', 'Age Range', 'Citizenship Sub-Region', 'Citizenship Country']]\n",
    "asia_df.head(2)"
   ]
  },
  {
   "cell_type": "code",
   "execution_count": 46,
   "metadata": {},
   "outputs": [],
   "source": [
    "# copy the df so we don't overwrite original asia_df data\n",
    "asia_df_copy = asia_df.copy()"
   ]
  },
  {
   "cell_type": "code",
   "execution_count": 1,
   "metadata": {
    "scrolled": true
   },
   "outputs": [
    {
     "ename": "NameError",
     "evalue": "name 'plt' is not defined",
     "output_type": "error",
     "traceback": [
      "\u001b[1;31m---------------------------------------------------------------------------\u001b[0m",
      "\u001b[1;31mNameError\u001b[0m                                 Traceback (most recent call last)",
      "\u001b[1;32m<ipython-input-1-0def2db72153>\u001b[0m in \u001b[0;36m<module>\u001b[1;34m\u001b[0m\n\u001b[0;32m      1\u001b[0m \u001b[1;31m#asia_df_copy.head()\u001b[0m\u001b[1;33m\u001b[0m\u001b[1;33m\u001b[0m\u001b[1;33m\u001b[0m\u001b[0m\n\u001b[0;32m      2\u001b[0m \u001b[1;31m#Top 5 countries in Asia\u001b[0m\u001b[1;33m\u001b[0m\u001b[1;33m\u001b[0m\u001b[1;33m\u001b[0m\u001b[0m\n\u001b[1;32m----> 3\u001b[1;33m \u001b[0mplt\u001b[0m\u001b[1;33m.\u001b[0m\u001b[0mfigure\u001b[0m\u001b[1;33m(\u001b[0m\u001b[0mfigsize\u001b[0m\u001b[1;33m=\u001b[0m\u001b[1;33m(\u001b[0m\u001b[1;36m10\u001b[0m\u001b[1;33m,\u001b[0m \u001b[1;36m10\u001b[0m\u001b[1;33m)\u001b[0m\u001b[1;33m)\u001b[0m\u001b[1;33m\u001b[0m\u001b[1;33m\u001b[0m\u001b[0m\n\u001b[0m\u001b[0;32m      4\u001b[0m \u001b[1;33m\u001b[0m\u001b[0m\n\u001b[0;32m      5\u001b[0m \u001b[0mlabels\u001b[0m \u001b[1;33m=\u001b[0m \u001b[1;34m'Philippines'\u001b[0m\u001b[1;33m,\u001b[0m \u001b[1;34m'Camobodia'\u001b[0m\u001b[1;33m,\u001b[0m \u001b[1;34m'Indonesia'\u001b[0m\u001b[1;33m,\u001b[0m \u001b[1;34m'Myanmar'\u001b[0m\u001b[1;33m,\u001b[0m \u001b[1;34m'Kyrgyzstan'\u001b[0m\u001b[1;33m,\u001b[0m \u001b[1;34m'Uzbekistan'\u001b[0m\u001b[1;33m\u001b[0m\u001b[1;33m\u001b[0m\u001b[0m\n",
      "\u001b[1;31mNameError\u001b[0m: name 'plt' is not defined"
     ]
    }
   ],
   "source": [
    "#asia_df_copy.head()\n",
    "#Top 5 countries in Asia\n",
    "plt.figure(figsize=(10, 10))\n",
    "\n",
    "labels = 'Philippines', 'Camobodia', 'Indonesia', 'Myanmar', 'Kyrgyzstan', 'Uzbekistan'\n",
    "\n",
    "sizes = [11365, 1979, 1971, 1250, 437, 261]\n",
    "\n",
    "colors= ['#D1F2EB', '#922B21', '#E6B0AA', '#1F618D', '#A9CCE3', '#9A7D0A'] \n",
    "\n",
    "plt.figure(figsize=(7, 7))\n",
    "\n",
    "my_circle = plt.Circle((0, 0), 0.5, color='white')\n",
    "plt.pie\n",
    "d = plt.pie(sizes, labels=labels, colors=colors, autopct='%1.1f%%', startangle=90, labeldistance=1.05)\n",
    "plt.axis('equal')\n",
    "plt.gca().add_artist(my_circle)\n",
    "\n",
    "# for i, (ASIA, EUROPE, AMERICAS, AFRICA) in enumerate(d):\n",
    "#     if i > 0:\n",
    "#         ASIA.set_fontsize(12)\n",
    "#         EUROPE.set_fontsize(12)\n",
    "#         AMERICAS.set_fontsize(12)\n",
    "#         AFRICA.set_fontsize(12)\n",
    "                \n",
    "plt.show();\n"
   ]
  },
  {
   "cell_type": "code",
   "execution_count": 153,
   "metadata": {},
   "outputs": [],
   "source": [
    "country_counts = asia_df_copy['Citizenship Country'].value_counts()\n"
   ]
  },
  {
   "cell_type": "code",
   "execution_count": 49,
   "metadata": {},
   "outputs": [
    {
     "data": {
      "text/plain": [
       "array(['Uzbekistan', 'Indonesia', 'Tajikistan', 'Kyrgyzstan', 'Cambodia',\n",
       "       \"Lao People's Democratic Republic\", 'Kazakhstan', 'Turkmenistan',\n",
       "       'Sri Lanka', 'Myanmar', 'Afghanistan', 'Nepal', 'Philippines',\n",
       "       'Bangladesh', 'Thailand', 'Republic of Korea', 'Viet Nam', 'China'],\n",
       "      dtype=object)"
      ]
     },
     "execution_count": 49,
     "metadata": {},
     "output_type": "execute_result"
    }
   ],
   "source": [
    "country_list = asia_df_copy['Citizenship Country'].unique()\n",
    "country_list"
   ]
  },
  {
   "cell_type": "code",
   "execution_count": 50,
   "metadata": {
    "scrolled": true
   },
   "outputs": [],
   "source": [
    "#asia_countries = ['Uzbekistan', 'Indonesia', 'Tajikistan', 'Kyrgyzstan', 'Cambodia',\n",
    "       #\"Lao People's Democratic Republic\", 'Kazakhstan', 'Turkmenistan',\n",
    "       #'Sri Lanka', 'Myanmar', 'Afghanistan', 'Nepal', 'Philippines',\n",
    "       #'Bangladesh', 'Thailand', 'Republic of Korea', 'Viet Nam', 'China']\n",
    "\n",
    "#x_axis = asia_countries\n",
    "\n",
    "#y_axis = np.arange(1, 12000, 100)\n",
    "#plt.bar(x_axis, y_axis, color = 'm')"
   ]
  },
  {
   "cell_type": "code",
   "execution_count": 51,
   "metadata": {},
   "outputs": [
    {
     "data": {
      "text/plain": [
       "Female    11725\n",
       "Male       6267\n",
       "Name: Gender, dtype: int64"
      ]
     },
     "execution_count": 51,
     "metadata": {},
     "output_type": "execute_result"
    }
   ],
   "source": [
    "asia_gender_counts = asia_df_copy['Gender'].value_counts()\n",
    "asia_gender_counts"
   ]
  },
  {
   "cell_type": "code",
   "execution_count": 141,
   "metadata": {},
   "outputs": [
    {
     "data": {
      "text/plain": [
       "South-eastern Asia    16916\n",
       "Central Asia            821\n",
       "Southern Asia           220\n",
       "Eastern Asia             35\n",
       "Name: Citizenship Sub-Region, dtype: int64"
      ]
     },
     "execution_count": 141,
     "metadata": {},
     "output_type": "execute_result"
    }
   ],
   "source": [
    "asia_sub_counts = asia_df_copy['Citizenship Sub-Region'].value_counts()\n",
    "asia_sub_counts"
   ]
  },
  {
   "cell_type": "code",
   "execution_count": 145,
   "metadata": {},
   "outputs": [
    {
     "name": "stdout",
     "output_type": "stream",
     "text": [
      "<pandas.core.groupby.generic.DataFrameGroupBy object at 0x000001929246C490>\n"
     ]
    },
    {
     "data": {
      "text/html": [
       "<div>\n",
       "<style scoped>\n",
       "    .dataframe tbody tr th:only-of-type {\n",
       "        vertical-align: middle;\n",
       "    }\n",
       "\n",
       "    .dataframe tbody tr th {\n",
       "        vertical-align: top;\n",
       "    }\n",
       "\n",
       "    .dataframe thead th {\n",
       "        text-align: right;\n",
       "    }\n",
       "</style>\n",
       "<table border=\"1\" class=\"dataframe\">\n",
       "  <thead>\n",
       "    <tr style=\"text-align: right;\">\n",
       "      <th></th>\n",
       "      <th></th>\n",
       "      <th>Age Range</th>\n",
       "      <th>Citizenship Country</th>\n",
       "    </tr>\n",
       "    <tr>\n",
       "      <th>Citizenship Sub-Region</th>\n",
       "      <th>Gender</th>\n",
       "      <th></th>\n",
       "      <th></th>\n",
       "    </tr>\n",
       "  </thead>\n",
       "  <tbody>\n",
       "    <tr>\n",
       "      <th rowspan=\"2\" valign=\"top\">Central Asia</th>\n",
       "      <th>Female</th>\n",
       "      <td>340</td>\n",
       "      <td>340</td>\n",
       "    </tr>\n",
       "    <tr>\n",
       "      <th>Male</th>\n",
       "      <td>481</td>\n",
       "      <td>481</td>\n",
       "    </tr>\n",
       "    <tr>\n",
       "      <th>Eastern Asia</th>\n",
       "      <th>Female</th>\n",
       "      <td>35</td>\n",
       "      <td>35</td>\n",
       "    </tr>\n",
       "    <tr>\n",
       "      <th rowspan=\"2\" valign=\"top\">South-eastern Asia</th>\n",
       "      <th>Female</th>\n",
       "      <td>11238</td>\n",
       "      <td>11238</td>\n",
       "    </tr>\n",
       "    <tr>\n",
       "      <th>Male</th>\n",
       "      <td>5678</td>\n",
       "      <td>5678</td>\n",
       "    </tr>\n",
       "    <tr>\n",
       "      <th rowspan=\"2\" valign=\"top\">Southern Asia</th>\n",
       "      <th>Female</th>\n",
       "      <td>112</td>\n",
       "      <td>112</td>\n",
       "    </tr>\n",
       "    <tr>\n",
       "      <th>Male</th>\n",
       "      <td>108</td>\n",
       "      <td>108</td>\n",
       "    </tr>\n",
       "  </tbody>\n",
       "</table>\n",
       "</div>"
      ],
      "text/plain": [
       "                               Age Range  Citizenship Country\n",
       "Citizenship Sub-Region Gender                                \n",
       "Central Asia           Female        340                  340\n",
       "                       Male          481                  481\n",
       "Eastern Asia           Female         35                   35\n",
       "South-eastern Asia     Female      11238                11238\n",
       "                       Male         5678                 5678\n",
       "Southern Asia          Female        112                  112\n",
       "                       Male          108                  108"
      ]
     },
     "execution_count": 145,
     "metadata": {},
     "output_type": "execute_result"
    }
   ],
   "source": [
    "# use groupby to separate the data into fields acoording to country\n",
    "grouped_asia_gender_df = asia_df_copy.groupby(['Citizenship Sub-Region', 'Gender'])\n",
    "\n",
    "#the object returned is a groupby object and cannot be returned normally\n",
    "print(grouped_asia_gender_df)\n",
    "\n",
    "#in order to be visualized, a data function must be used\n",
    "grouped_asia_gender_df.count()"
   ]
  },
  {
   "cell_type": "code",
   "execution_count": 53,
   "metadata": {},
   "outputs": [
    {
     "name": "stdout",
     "output_type": "stream",
     "text": [
      "<pandas.core.groupby.generic.DataFrameGroupBy object at 0x000001928EE67880>\n"
     ]
    },
    {
     "data": {
      "text/html": [
       "<div>\n",
       "<style scoped>\n",
       "    .dataframe tbody tr th:only-of-type {\n",
       "        vertical-align: middle;\n",
       "    }\n",
       "\n",
       "    .dataframe tbody tr th {\n",
       "        vertical-align: top;\n",
       "    }\n",
       "\n",
       "    .dataframe thead th {\n",
       "        text-align: right;\n",
       "    }\n",
       "</style>\n",
       "<table border=\"1\" class=\"dataframe\">\n",
       "  <thead>\n",
       "    <tr style=\"text-align: right;\">\n",
       "      <th></th>\n",
       "      <th></th>\n",
       "      <th></th>\n",
       "      <th>Citizenship Sub-Region</th>\n",
       "    </tr>\n",
       "    <tr>\n",
       "      <th>Citizenship Country</th>\n",
       "      <th>Gender</th>\n",
       "      <th>Age Range</th>\n",
       "      <th></th>\n",
       "    </tr>\n",
       "  </thead>\n",
       "  <tbody>\n",
       "    <tr>\n",
       "      <th>Afghanistan</th>\n",
       "      <th>Male</th>\n",
       "      <th>9--17</th>\n",
       "      <td>97</td>\n",
       "    </tr>\n",
       "    <tr>\n",
       "      <th>Bangladesh</th>\n",
       "      <th>Male</th>\n",
       "      <th>30--38</th>\n",
       "      <td>11</td>\n",
       "    </tr>\n",
       "    <tr>\n",
       "      <th rowspan=\"3\" valign=\"top\">Cambodia</th>\n",
       "      <th rowspan=\"3\" valign=\"top\">Female</th>\n",
       "      <th>0--8</th>\n",
       "      <td>30</td>\n",
       "    </tr>\n",
       "    <tr>\n",
       "      <th>18--20</th>\n",
       "      <td>60</td>\n",
       "    </tr>\n",
       "    <tr>\n",
       "      <th>21--23</th>\n",
       "      <td>53</td>\n",
       "    </tr>\n",
       "  </tbody>\n",
       "</table>\n",
       "</div>"
      ],
      "text/plain": [
       "                                      Citizenship Sub-Region\n",
       "Citizenship Country Gender Age Range                        \n",
       "Afghanistan         Male   9--17                          97\n",
       "Bangladesh          Male   30--38                         11\n",
       "Cambodia            Female 0--8                           30\n",
       "                           18--20                         60\n",
       "                           21--23                         53"
      ]
     },
     "execution_count": 53,
     "metadata": {},
     "output_type": "execute_result"
    }
   ],
   "source": [
    "# use groupby to separate the data into fields acoording to country\n",
    "grouped_asia_df = asia_df_copy.groupby(['Citizenship Country', 'Gender', 'Age Range'])\n",
    "\n",
    "#the object returned is a groupby object and cannot be returned normally\n",
    "print(grouped_asia_df)\n",
    "\n",
    "#in order to be visualized, a data function must be used\n",
    "grouped_asia_df.count().head()"
   ]
  },
  {
   "cell_type": "code",
   "execution_count": 54,
   "metadata": {},
   "outputs": [
    {
     "data": {
      "text/plain": [
       "['Central Asia', 'South-eastern Asia', 'Southern Asia', 'Eastern Asia']"
      ]
     },
     "execution_count": 54,
     "metadata": {},
     "output_type": "execute_result"
    }
   ],
   "source": [
    "asia_sub_list = asia_df_copy['Citizenship Sub-Region'].unique()\n",
    "list(asia_sub_list)"
   ]
  },
  {
   "cell_type": "code",
   "execution_count": null,
   "metadata": {},
   "outputs": [],
   "source": []
  },
  {
   "cell_type": "code",
   "execution_count": null,
   "metadata": {},
   "outputs": [],
   "source": []
  },
  {
   "cell_type": "markdown",
   "metadata": {},
   "source": [
    "#### EUROPE - data exploration  - region and gender"
   ]
  },
  {
   "cell_type": "code",
   "execution_count": 55,
   "metadata": {},
   "outputs": [
    {
     "data": {
      "text/plain": [
       "Gender                    1\n",
       "Age Range                 9\n",
       "Citizenship Region        1\n",
       "Citizenship Sub-Region    2\n",
       "Citizenship Country       6\n",
       "dtype: int64"
      ]
     },
     "execution_count": 55,
     "metadata": {},
     "output_type": "execute_result"
    }
   ],
   "source": [
    "#create a data frame for each region, based on gender\n",
    "is_female = citizen_df_renamed['Gender'] == 'Female'\n",
    "is_male = citizen_df_renamed['Gender'] == 'Male'\n",
    "is_europe = citizen_df_renamed['Citizenship Region'] == 'Europe'\n",
    "female_europe = pd.DataFrame(citizen_df_renamed[is_female & is_europe])\n",
    "male_europe = pd.DataFrame(citizen_df_renamed[is_male & is_europe])\n",
    "\n",
    "#show unique values in the series\n",
    "female_europe.nunique() "
   ]
  },
  {
   "cell_type": "code",
   "execution_count": 56,
   "metadata": {},
   "outputs": [
    {
     "data": {
      "text/plain": [
       "Gender                    1\n",
       "Age Range                 9\n",
       "Citizenship Region        1\n",
       "Citizenship Sub-Region    1\n",
       "Citizenship Country       4\n",
       "dtype: int64"
      ]
     },
     "execution_count": 56,
     "metadata": {},
     "output_type": "execute_result"
    }
   ],
   "source": [
    "male_europe.nunique()"
   ]
  },
  {
   "cell_type": "code",
   "execution_count": 57,
   "metadata": {},
   "outputs": [
    {
     "ename": "NameError",
     "evalue": "name 'europe_df' is not defined",
     "output_type": "error",
     "traceback": [
      "\u001b[1;31m---------------------------------------------------------------------------\u001b[0m",
      "\u001b[1;31mNameError\u001b[0m                                 Traceback (most recent call last)",
      "\u001b[1;32m<ipython-input-57-b7d0b78852ce>\u001b[0m in \u001b[0;36m<module>\u001b[1;34m\u001b[0m\n\u001b[1;32m----> 1\u001b[1;33m \u001b[0meurope_df_copy\u001b[0m \u001b[1;33m=\u001b[0m \u001b[0meurope_df\u001b[0m\u001b[1;33m.\u001b[0m\u001b[0mcopy\u001b[0m\u001b[1;33m(\u001b[0m\u001b[1;33m)\u001b[0m\u001b[1;33m\u001b[0m\u001b[1;33m\u001b[0m\u001b[0m\n\u001b[0m",
      "\u001b[1;31mNameError\u001b[0m: name 'europe_df' is not defined"
     ]
    }
   ],
   "source": [
    "europe_df_copy = europe_df.copy()"
   ]
  },
  {
   "cell_type": "code",
   "execution_count": null,
   "metadata": {},
   "outputs": [],
   "source": []
  },
  {
   "cell_type": "code",
   "execution_count": null,
   "metadata": {},
   "outputs": [],
   "source": [
    "europe_sub_counts = europe_df_copy['Citizenship Sub-Region'].value_counts()\n",
    "europe_sub_counts"
   ]
  },
  {
   "cell_type": "code",
   "execution_count": null,
   "metadata": {},
   "outputs": [],
   "source": [
    "europe_df = citizen_df_renamed.loc[citizen_df_renamed['Citizenship Region'] == 'Europe', ['Gender', 'Age Range', 'Citizenship Sub-Region', 'Citizenship Country']]\n",
    "europe_df.head()"
   ]
  },
  {
   "cell_type": "code",
   "execution_count": null,
   "metadata": {},
   "outputs": [],
   "source": [
    "# use groupby to separate the data into fields acoording to country\n",
    "europe_df_copy = europe_df.copy()\n",
    "grouped_europe_df = europe_df_copy.groupby(['Citizenship Country', 'Gender', 'Age Range'])\n",
    "\n",
    "#the object returned is a groupby object and cannot be returned normally\n",
    "print(grouped_europe_df)\n",
    "\n",
    "#in order to be visualized, a data function must be used\n",
    "grouped_europe_df.count().head()"
   ]
  },
  {
   "cell_type": "markdown",
   "metadata": {},
   "source": [
    "#### AMERICAS - data exploration  - region and gender"
   ]
  },
  {
   "cell_type": "code",
   "execution_count": null,
   "metadata": {},
   "outputs": [],
   "source": [
    "#create a data frame for each region, based on gender\n",
    "is_female = citizen_df_renamed['Gender'] == 'Female'\n",
    "is_male = citizen_df_renamed['Gender'] == 'Male'\n",
    "is_americas = citizen_df_renamed['Citizenship Region'] == 'Americas'\n",
    "\n",
    "female_americas = pd.DataFrame(citizen_df_renamed[is_female & is_americas])\n",
    "male_americas = pd.DataFrame(citizen_df_renamed[is_male & is_americas])\n",
    "\n",
    "female_americas.nunique()"
   ]
  },
  {
   "cell_type": "code",
   "execution_count": null,
   "metadata": {},
   "outputs": [],
   "source": [
    "male_americas.nunique()"
   ]
  },
  {
   "cell_type": "code",
   "execution_count": null,
   "metadata": {},
   "outputs": [],
   "source": [
    "americas_df = citizen_df_renamed.loc[citizen_df_renamed['Citizenship Region'] == 'Americas', ['Gender', 'Age Range', 'Citizenship Sub-Region', 'Citizenship Country']]\n",
    "americas_df"
   ]
  },
  {
   "cell_type": "markdown",
   "metadata": {},
   "source": [
    "#### AFRICA - data exploration  - region and gender"
   ]
  },
  {
   "cell_type": "code",
   "execution_count": null,
   "metadata": {},
   "outputs": [],
   "source": [
    "#create a data frame for each region, based on gender\n",
    "is_female = citizen_df_renamed['Gender'] == 'Female'\n",
    "is_male = citizen_df_renamed['Gender'] == 'Male'\n",
    "is_africa = citizen_df_renamed['Citizenship Region'] == 'Africa'\n",
    "\n",
    "female_africa = pd.DataFrame(citizen_df_renamed[is_female & is_africa])\n",
    "male_africa = pd.DataFrame(citizen_df_renamed[is_male & is_africa])\n",
    "\n",
    "female_africa.nunique()"
   ]
  },
  {
   "cell_type": "code",
   "execution_count": null,
   "metadata": {},
   "outputs": [],
   "source": [
    "male_africa.nunique()"
   ]
  },
  {
   "cell_type": "code",
   "execution_count": null,
   "metadata": {},
   "outputs": [],
   "source": [
    "africa_df = citizen_df_renamed.loc[citizen_df_renamed['Citizenship Region'] == 'Africa', ['Gender', 'Age Range', 'Citizenship Sub-Region', 'Citizenship Country']]\n",
    "africa_df"
   ]
  },
  {
   "cell_type": "markdown",
   "metadata": {},
   "source": [
    "#### UNKNOWN - data exploration  - region and gender"
   ]
  },
  {
   "cell_type": "code",
   "execution_count": null,
   "metadata": {},
   "outputs": [],
   "source": [
    "#create a data frame for each region, based on gender \n",
    "is_female = citizen_df_renamed['Gender'] == 'Female'\n",
    "is_male = citizen_df_renamed['Gender'] == 'Male'\n",
    "is_unknown = citizen_df_renamed['Citizenship Region'] == 'unknown'\n",
    "\n",
    "female_unknown = pd.DataFrame(citizen_df_renamed[is_female & is_unknown])\n",
    "male_unknown = pd.DataFrame(citizen_df_renamed[is_male & is_unknown])\n",
    "\n",
    "female_unknown.nunique()"
   ]
  },
  {
   "cell_type": "code",
   "execution_count": null,
   "metadata": {},
   "outputs": [],
   "source": [
    "male_unknown.nunique()"
   ]
  },
  {
   "cell_type": "code",
   "execution_count": null,
   "metadata": {},
   "outputs": [],
   "source": [
    "unknown_df = citizen_df_renamed.loc[citizen_df_renamed['Citizenship Region'] == 'unknown', ['Gender', 'Age Range', 'Citizenship Sub-Region', 'Citizenship Country']]\n",
    "unknown_df"
   ]
  },
  {
   "cell_type": "code",
   "execution_count": null,
   "metadata": {},
   "outputs": [],
   "source": [
    "unknown_df.nunique()  "
   ]
  },
  {
   "cell_type": "code",
   "execution_count": null,
   "metadata": {},
   "outputs": [],
   "source": []
  },
  {
   "cell_type": "code",
   "execution_count": null,
   "metadata": {},
   "outputs": [],
   "source": []
  },
  {
   "cell_type": "code",
   "execution_count": null,
   "metadata": {},
   "outputs": [],
   "source": []
  },
  {
   "cell_type": "code",
   "execution_count": null,
   "metadata": {},
   "outputs": [],
   "source": []
  },
  {
   "cell_type": "code",
   "execution_count": null,
   "metadata": {},
   "outputs": [],
   "source": []
  },
  {
   "cell_type": "code",
   "execution_count": null,
   "metadata": {},
   "outputs": [],
   "source": []
  },
  {
   "cell_type": "code",
   "execution_count": null,
   "metadata": {},
   "outputs": [],
   "source": []
  },
  {
   "cell_type": "code",
   "execution_count": null,
   "metadata": {},
   "outputs": [],
   "source": []
  },
  {
   "cell_type": "code",
   "execution_count": null,
   "metadata": {},
   "outputs": [],
   "source": []
  },
  {
   "cell_type": "code",
   "execution_count": null,
   "metadata": {},
   "outputs": [],
   "source": []
  },
  {
   "cell_type": "code",
   "execution_count": null,
   "metadata": {},
   "outputs": [],
   "source": []
  },
  {
   "cell_type": "code",
   "execution_count": null,
   "metadata": {},
   "outputs": [],
   "source": []
  },
  {
   "cell_type": "code",
   "execution_count": null,
   "metadata": {},
   "outputs": [],
   "source": []
  },
  {
   "cell_type": "code",
   "execution_count": null,
   "metadata": {},
   "outputs": [],
   "source": []
  },
  {
   "cell_type": "code",
   "execution_count": null,
   "metadata": {},
   "outputs": [],
   "source": []
  },
  {
   "cell_type": "code",
   "execution_count": null,
   "metadata": {},
   "outputs": [],
   "source": []
  },
  {
   "cell_type": "code",
   "execution_count": null,
   "metadata": {},
   "outputs": [],
   "source": []
  },
  {
   "cell_type": "code",
   "execution_count": null,
   "metadata": {},
   "outputs": [],
   "source": []
  },
  {
   "cell_type": "code",
   "execution_count": null,
   "metadata": {},
   "outputs": [],
   "source": [
    "pycountry.countries.lookup('CO')"
   ]
  }
 ],
 "metadata": {
  "kernelspec": {
   "display_name": "Python 3",
   "language": "python",
   "name": "python3"
  },
  "language_info": {
   "codemirror_mode": {
    "name": "ipython",
    "version": 3
   },
   "file_extension": ".py",
   "mimetype": "text/x-python",
   "name": "python",
   "nbconvert_exporter": "python",
   "pygments_lexer": "ipython3",
   "version": "3.8.3"
  }
 },
 "nbformat": 4,
 "nbformat_minor": 4
}
