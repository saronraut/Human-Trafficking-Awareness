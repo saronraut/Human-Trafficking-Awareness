{
 "cells": [
  {
   "cell_type": "code",
   "execution_count": null,
   "metadata": {},
   "outputs": [],
   "source": [
    "Test cases\n",
    "==========\n",
    "Your code should pass the following test cases.\n",
    "Note that it may also be run against hidden test cases not shown here.\n",
    "\n",
    "-- Python cases --\n",
    "Input: \n",
    "solution.solution(\"abcabcabcabc\")\n",
    "Output:\n",
    "    4\n",
    "\n",
    "Input:\n",
    "solution.solution(\"abccbaabccba\")\n",
    "Output:\n",
    "    2\n",
    "\n",
    "-- Java cases --\n",
    "Input:\n",
    "Solution.solution(\"abcabcabcabc\")\n",
    "Output:\n",
    "    4\n",
    "\n",
    "Input:\n",
    "Solution.solution(\"abccbaabccba\")\n",
    "Output:\n",
    "    2"
   ]
  }
 ],
 "metadata": {
  "kernelspec": {
   "display_name": "Python 3",
   "language": "python",
   "name": "python3"
  },
  "language_info": {
   "codemirror_mode": {
    "name": "ipython",
    "version": 3
   },
   "file_extension": ".py",
   "mimetype": "text/x-python",
   "name": "python",
   "nbconvert_exporter": "python",
   "pygments_lexer": "ipython3",
   "version": "3.8.3"
  }
 },
 "nbformat": 4,
 "nbformat_minor": 4
}
